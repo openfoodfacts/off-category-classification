{
 "cells": [
  {
   "cell_type": "markdown",
   "metadata": {},
   "source": [
    "### Make DataFrame and ocr_text_dict from jsonl"
   ]
  },
  {
   "cell_type": "code",
   "execution_count": 1,
   "metadata": {},
   "outputs": [],
   "source": [
    "import pandas as pd\n",
    "import numpy as np\n",
    "import os\n",
    "from utils.OCR_preprocessing import get_row_from_json_for_df, append_item_ocr_text_from_json_to_dict"
   ]
  },
  {
   "cell_type": "code",
   "execution_count": 3,
   "metadata": {},
   "outputs": [],
   "source": [
    "path_ocrs = os.path.abspath(\"INPUT_datasets/predict_categories_dataset_ocrs.jsonl.gz\")"
   ]
  },
  {
   "cell_type": "code",
   "execution_count": 4,
   "metadata": {},
   "outputs": [
    {
     "name": "stdout",
     "output_type": "stream",
     "text": [
      "(790383, 3)\n",
      "597242\n"
     ]
    }
   ],
   "source": [
    "\"\"\"approx time 15sec\n",
    "Iterating through the jsonl to extract elements for the dataframe and the ocr dictionary.\n",
    "\"\"\"\n",
    "from IPython.display import clear_output\n",
    "import gzip\n",
    "import json\n",
    "# make df from json\n",
    "rows = []\n",
    "ocr_text_dict = {}\n",
    "with gzip.open(path_ocrs) as f:\n",
    "    for i, line in enumerate(f):\n",
    "        #We take lines after 10 000 because those are potentially problematic.\n",
    "        if i > 10000: \n",
    "            json_line = json.loads(line)\n",
    "            if len(str(json_line['code'])) == 13:\n",
    "                #for df\n",
    "                row = get_row_from_json_for_df(json_line)\n",
    "                rows.append(row)\n",
    "                #for dict\n",
    "                append_item_ocr_text_from_json_to_dict(json_line, ocr_text_dict)\n",
    "\n",
    "df = pd.DataFrame(rows, columns = [\"code\", \"texts\", \"keys\"]).drop_duplicates(subset = \"code\")\n",
    "df['code'] = df['code'].astype(str)\n",
    "df['texts'] = df['texts'].astype(str)\n",
    "print(df.shape)\n",
    "print(len(ocr_text_dict))\n",
    "\n",
    "del rows"
   ]
  },
  {
   "cell_type": "code",
   "execution_count": 5,
   "metadata": {},
   "outputs": [
    {
     "name": "stdout",
     "output_type": "stream",
     "text": [
      "after removing non normalized codes (790383, 3)\n",
      "after removing short texts (596550, 3)\n"
     ]
    }
   ],
   "source": [
    "is_real_ean = df['code'].str.len() == 13\n",
    "df = df[is_real_ean]\n",
    "print(\"after removing non normalized codes\", df.shape)\n",
    "### Keep only texts > 10 char\n",
    "len_sup_10 = (df[\"texts\"].str.len()> 10)\n",
    "df = df[len_sup_10]\n",
    "print(\"after removing short texts\", df.shape)\n"
   ]
  },
  {
   "cell_type": "markdown",
   "metadata": {},
   "source": [
    "### Extract main language from text"
   ]
  },
  {
   "cell_type": "markdown",
   "metadata": {},
   "source": [
    "for each text associated with a barcode, there are potentially many languages used to describe the product.\n",
    "The aim of this section is to detect the main language and to extract its text."
   ]
  },
  {
   "cell_type": "code",
   "execution_count": 6,
   "metadata": {},
   "outputs": [],
   "source": [
    "PRETRAINED_MODEL_PATH = 'fasttext_weights/lid.176.bin'\n",
    "from utils.OCR_language_extraction import get_lang_items_from_pd_textlist"
   ]
  },
  {
   "cell_type": "code",
   "execution_count": 8,
   "metadata": {},
   "outputs": [
    {
     "name": "stderr",
     "output_type": "stream",
     "text": [
      "Warning : `load_model` does not return WordVectorModel or SupervisedModel any more, but a `FastText` object which is very similar.\n",
      "100%|██████████| 596550/596550 [02:09<00:00, 4597.32it/s]\n"
     ]
    },
    {
     "data": {
      "text/html": [
       "<div>\n",
       "<style scoped>\n",
       "    .dataframe tbody tr th:only-of-type {\n",
       "        vertical-align: middle;\n",
       "    }\n",
       "\n",
       "    .dataframe tbody tr th {\n",
       "        vertical-align: top;\n",
       "    }\n",
       "\n",
       "    .dataframe thead th {\n",
       "        text-align: right;\n",
       "    }\n",
       "</style>\n",
       "<table border=\"1\" class=\"dataframe\">\n",
       "  <thead>\n",
       "    <tr style=\"text-align: right;\">\n",
       "      <th></th>\n",
       "      <th>code</th>\n",
       "      <th>texts</th>\n",
       "      <th>keys</th>\n",
       "      <th>text_main_lang</th>\n",
       "      <th>main_lang</th>\n",
       "    </tr>\n",
       "  </thead>\n",
       "  <tbody>\n",
       "    <tr>\n",
       "      <th>0</th>\n",
       "      <td>0021065000071</td>\n",
       "      <td>Nutrition Facts\\n24 servings per container\\nSe...</td>\n",
       "      <td>[1]</td>\n",
       "      <td>Nutrition Facts 24 servings per container Serv...</td>\n",
       "      <td>en</td>\n",
       "    </tr>\n",
       "    <tr>\n",
       "      <th>1</th>\n",
       "      <td>0021065000101</td>\n",
       "      <td>Includes 0g Added Sugars 0%\\nNutrition Facts\\n...</td>\n",
       "      <td>[2, 1]</td>\n",
       "      <td>Includes 0g Added Sugars 0% Nutrition Facts 71...</td>\n",
       "      <td>en</td>\n",
       "    </tr>\n",
       "  </tbody>\n",
       "</table>\n",
       "</div>"
      ],
      "text/plain": [
       "            code                                              texts    keys  \\\n",
       "0  0021065000071  Nutrition Facts\\n24 servings per container\\nSe...     [1]   \n",
       "1  0021065000101  Includes 0g Added Sugars 0%\\nNutrition Facts\\n...  [2, 1]   \n",
       "\n",
       "                                      text_main_lang main_lang  \n",
       "0  Nutrition Facts 24 servings per container Serv...        en  \n",
       "1  Includes 0g Added Sugars 0% Nutrition Facts 71...        en  "
      ]
     },
     "execution_count": 8,
     "metadata": {},
     "output_type": "execute_result"
    }
   ],
   "source": [
    "\"\"\"approx time 2min15\"\"\"\n",
    "text_list, lang_dict_list, main_lang_list = get_lang_items_from_pd_textlist(df['texts'],PRETRAINED_MODEL_PATH)\n",
    "main_lang_dict = {code: dic for (code,dic) in zip(df[\"code\"], lang_dict_list)}\n",
    "#assign new items to df\n",
    "df[\"text_main_lang\"] = text_list\n",
    "df[\"main_lang\"] = main_lang_list\n",
    "df.head(2)"
   ]
  },
  {
   "cell_type": "markdown",
   "metadata": {},
   "source": [
    "### Clean the text"
   ]
  },
  {
   "cell_type": "code",
   "execution_count": 9,
   "metadata": {},
   "outputs": [],
   "source": [
    "from utils.OCR_preprocessing import text_cleaner, parallel_calc"
   ]
  },
  {
   "cell_type": "code",
   "execution_count": 10,
   "metadata": {},
   "outputs": [],
   "source": [
    "\"\"\" Non parallelized version - approx time 2m\"\"\"\n",
    "#df[\"text_cleaned\"] = df[\"text_main_lang\"].apply(lambda x: text_cleaner(x))\n",
    "#df = df.set_index(\"code\", drop = True)\n",
    "\n",
    "\"\"\" Parallelized version - approx time 30sec\"\"\"\n",
    "# simple wrapper code around text_cleaner to parallelize the work\n",
    "df[\"text_main_lang_cleaned\"] = parallel_calc(text_cleaner, df[\"text_main_lang\"])"
   ]
  },
  {
   "cell_type": "code",
   "execution_count": 11,
   "metadata": {},
   "outputs": [],
   "source": [
    "\"\"\"approx time 1min\"\"\"\n",
    "df[\"original_text_cleaned\"]  = parallel_calc(text_cleaner, df[\"texts\"])"
   ]
  },
  {
   "cell_type": "code",
   "execution_count": 12,
   "metadata": {},
   "outputs": [
    {
     "data": {
      "text/html": [
       "<div>\n",
       "<style scoped>\n",
       "    .dataframe tbody tr th:only-of-type {\n",
       "        vertical-align: middle;\n",
       "    }\n",
       "\n",
       "    .dataframe tbody tr th {\n",
       "        vertical-align: top;\n",
       "    }\n",
       "\n",
       "    .dataframe thead th {\n",
       "        text-align: right;\n",
       "    }\n",
       "</style>\n",
       "<table border=\"1\" class=\"dataframe\">\n",
       "  <thead>\n",
       "    <tr style=\"text-align: right;\">\n",
       "      <th></th>\n",
       "      <th>code</th>\n",
       "      <th>texts</th>\n",
       "      <th>keys</th>\n",
       "      <th>text_main_lang</th>\n",
       "      <th>main_lang</th>\n",
       "      <th>text_main_lang_cleaned</th>\n",
       "      <th>original_text_cleaned</th>\n",
       "    </tr>\n",
       "  </thead>\n",
       "  <tbody>\n",
       "    <tr>\n",
       "      <th>0</th>\n",
       "      <td>0021065000071</td>\n",
       "      <td>Nutrition Facts\\n24 servings per container\\nSe...</td>\n",
       "      <td>[1]</td>\n",
       "      <td>Nutrition Facts 24 servings per container Serv...</td>\n",
       "      <td>en</td>\n",
       "      <td>Nutrition Facts servings container Serving Siz...</td>\n",
       "      <td>Nutrition Facts servings container Serving Siz...</td>\n",
       "    </tr>\n",
       "    <tr>\n",
       "      <th>1</th>\n",
       "      <td>0021065000101</td>\n",
       "      <td>Includes 0g Added Sugars 0%\\nNutrition Facts\\n...</td>\n",
       "      <td>[2, 1]</td>\n",
       "      <td>Includes 0g Added Sugars 0% Nutrition Facts 71...</td>\n",
       "      <td>en</td>\n",
       "      <td>Includes Added Sugars Nutrition Facts servings...</td>\n",
       "      <td>Includes Added Sugars Nutrition Facts servings...</td>\n",
       "    </tr>\n",
       "    <tr>\n",
       "      <th>9</th>\n",
       "      <td>0021078019091</td>\n",
       "      <td>SOURCE NATURALS\\nDIETARY SUPPLEMENT\\nTRUE WHEY...</td>\n",
       "      <td>[1]</td>\n",
       "      <td>SOURCE NATURALS DIETARY SUPPLEMENT TRUE WHEY T...</td>\n",
       "      <td>en</td>\n",
       "      <td>SOURCE NATURALS DIETARY SUPPLEMENT TRUE WHEY T...</td>\n",
       "      <td>SOURCE NATURALS DIETARY SUPPLEMENT TRUE WHEY T...</td>\n",
       "    </tr>\n",
       "  </tbody>\n",
       "</table>\n",
       "</div>"
      ],
      "text/plain": [
       "            code                                              texts    keys  \\\n",
       "0  0021065000071  Nutrition Facts\\n24 servings per container\\nSe...     [1]   \n",
       "1  0021065000101  Includes 0g Added Sugars 0%\\nNutrition Facts\\n...  [2, 1]   \n",
       "9  0021078019091  SOURCE NATURALS\\nDIETARY SUPPLEMENT\\nTRUE WHEY...     [1]   \n",
       "\n",
       "                                      text_main_lang main_lang  \\\n",
       "0  Nutrition Facts 24 servings per container Serv...        en   \n",
       "1  Includes 0g Added Sugars 0% Nutrition Facts 71...        en   \n",
       "9  SOURCE NATURALS DIETARY SUPPLEMENT TRUE WHEY T...        en   \n",
       "\n",
       "                              text_main_lang_cleaned  \\\n",
       "0  Nutrition Facts servings container Serving Siz...   \n",
       "1  Includes Added Sugars Nutrition Facts servings...   \n",
       "9  SOURCE NATURALS DIETARY SUPPLEMENT TRUE WHEY T...   \n",
       "\n",
       "                               original_text_cleaned  \n",
       "0  Nutrition Facts servings container Serving Siz...  \n",
       "1  Includes Added Sugars Nutrition Facts servings...  \n",
       "9  SOURCE NATURALS DIETARY SUPPLEMENT TRUE WHEY T...  "
      ]
     },
     "execution_count": 12,
     "metadata": {},
     "output_type": "execute_result"
    }
   ],
   "source": [
    "df.head(3)"
   ]
  },
  {
   "cell_type": "code",
   "execution_count": 13,
   "metadata": {},
   "outputs": [
    {
     "data": {
      "image/png": "[encoded data removed]",
      "text/plain": [
       "<Figure size 432x288 with 1 Axes>"
      ]
     },
     "metadata": {
      "needs_background": "light"
     },
     "output_type": "display_data"
    }
   ],
   "source": [
    "#bump around 210 <-- investigate\n",
    "import matplotlib.pyplot as plt\n",
    "import seaborn as sns\n",
    "fig, ax = plt.subplots()\n",
    "word_count = df['text_main_lang_cleaned'].str.split().str.len()\n",
    "sns.histplot(word_count)\n",
    "plt.xlim([0,1000])\n",
    "plt.show()\n"
   ]
  },
  {
   "cell_type": "markdown",
   "metadata": {},
   "source": [
    "### TFIDF Trick"
   ]
  },
  {
   "cell_type": "code",
   "execution_count": 14,
   "metadata": {},
   "outputs": [],
   "source": [
    "from sklearn.feature_extraction.text import TfidfVectorizer\n",
    "from IPython.display import clear_output\n",
    "from utils.OCR_word_selection import get_freq_dict, get_best_tfidf_words_cleaned\n",
    "from tqdm import tqdm\n",
    "\n",
    "df[\"tfidf_selection\"] = \"\""
   ]
  },
  {
   "cell_type": "code",
   "execution_count": 20,
   "metadata": {},
   "outputs": [],
   "source": [
    "\"\"\"takes approx 3min30\"\"\"\n",
    "\n",
    "problematic_langs = []\n",
    "df = df.reset_index(drop = True)\n",
    "freq_dict = get_freq_dict(df[\"text_main_lang_cleaned\"])\n",
    "for lang in df[\"main_lang\"].unique():\n",
    "    print(\"lang:\", lang)\n",
    "    lang_filter = df[\"main_lang\"]== lang \n",
    "    sub_df_text_series = df.loc[lang_filter, \"text_main_lang_cleaned\"]\n",
    "    try:\n",
    "        vectorizer = TfidfVectorizer(max_df = 0.8)\n",
    "        tfidf_matrix = vectorizer.fit_transform(sub_df_text_series)\n",
    "        feature_names = vectorizer.get_feature_names_out()\n",
    "        params = {\n",
    "            \"feature_names\": feature_names,\n",
    "            \"text_series\": sub_df_text_series,\n",
    "            \"tfidf_matrix\": tfidf_matrix,\n",
    "            \"freq_dict\": freq_dict,\n",
    "            \"n_max_words_to_pick\": 120\n",
    "            }\n",
    "        text_selection_list = [get_best_tfidf_words_cleaned(i, **params) for i in tqdm(range(sub_df_text_series.shape[0]))]\n",
    "        df.loc[lang_filter, \"tfidf_selection\"] = text_selection_list\n",
    "    except:\n",
    "        problematic_langs.append(lang)\n",
    "    clear_output()"
   ]
  },
  {
   "cell_type": "code",
   "execution_count": 21,
   "metadata": {},
   "outputs": [
    {
     "data": {
      "text/plain": [
       "21"
      ]
     },
     "execution_count": 21,
     "metadata": {},
     "output_type": "execute_result"
    }
   ],
   "source": [
    "len(problematic_langs)"
   ]
  },
  {
   "cell_type": "code",
   "execution_count": 22,
   "metadata": {},
   "outputs": [
    {
     "name": "stderr",
     "output_type": "stream",
     "text": [
      "  0%|          | 0/129236 [13:46<?, ?it/s]\n"
     ]
    },
    {
     "data": {
      "text/plain": [
       "449888    120\n",
       "123275    120\n",
       "482053    120\n",
       "494627    120\n",
       "118633    120\n",
       "         ... \n",
       "316356      0\n",
       "315248      0\n",
       "314763      0\n",
       "314526      0\n",
       "528235      0\n",
       "Name: tfidf_selection, Length: 596550, dtype: int64"
      ]
     },
     "execution_count": 22,
     "metadata": {},
     "output_type": "execute_result"
    }
   ],
   "source": [
    "df[\"tfidf_selection\"].str.split().str.len().sort_values(ascending = False)"
   ]
  },
  {
   "cell_type": "markdown",
   "metadata": {},
   "source": [
    "### \"Intersection words trick\""
   ]
  },
  {
   "cell_type": "code",
   "execution_count": 23,
   "metadata": {},
   "outputs": [],
   "source": [
    "from utils.OCR_word_selection import get_intersect_words_lang, get_intersect_words_ocr"
   ]
  },
  {
   "cell_type": "code",
   "execution_count": 24,
   "metadata": {},
   "outputs": [
    {
     "name": "stdout",
     "output_type": "stream",
     "text": [
      "ratio: 0.14667169558293522\n"
     ]
    }
   ],
   "source": [
    "\"\"\"takes approx 1min30\"\"\"\n",
    "intersection_list_lang = parallel_calc(get_intersect_words_lang, lang_dict_list)\n",
    "print(\"ratio:\", len([item for item in intersection_list_lang if item != \"\"]) / len(intersection_list_lang))\n",
    "\n",
    "df[\"intersection_words_lang\"] = intersection_list_lang"
   ]
  },
  {
   "cell_type": "code",
   "execution_count": 25,
   "metadata": {},
   "outputs": [
    {
     "name": "stdout",
     "output_type": "stream",
     "text": [
      "ratio: 0.4644656776464672\n"
     ]
    }
   ],
   "source": [
    "\"\"\"takes approx 56sec\"\"\"\n",
    "sub_ocr_text_dict_list = [ocr_text_dict[code] for code in df[\"code\"]]\n",
    "intersection_list_ocr = parallel_calc(get_intersect_words_ocr, sub_ocr_text_dict_list)\n",
    "print(\"ratio:\", len([item for item in intersection_list_ocr if item != \"\"]) / len(intersection_list_ocr))\n",
    "\n",
    "df[\"intersection_words_ocr\"] = intersection_list_ocr"
   ]
  },
  {
   "cell_type": "code",
   "execution_count": 26,
   "metadata": {},
   "outputs": [
    {
     "data": {
      "text/plain": [
       "164374    30\n",
       "67550     30\n",
       "279678    30\n",
       "586477    30\n",
       "244112    30\n",
       "          ..\n",
       "261679     0\n",
       "261676     0\n",
       "261675     0\n",
       "261672     0\n",
       "596549     0\n",
       "Name: intersection_words_ocr, Length: 596550, dtype: int64"
      ]
     },
     "execution_count": 26,
     "metadata": {},
     "output_type": "execute_result"
    }
   ],
   "source": [
    "df[\"intersection_words_ocr\"].str.split().str.len().sort_values(ascending = False)"
   ]
  },
  {
   "cell_type": "markdown",
   "metadata": {},
   "source": [
    "### Fetch big words from images"
   ]
  },
  {
   "cell_type": "code",
   "execution_count": 27,
   "metadata": {},
   "outputs": [],
   "source": [
    "import gzip\n",
    "import json\n",
    "from utils.OCR_word_selection import get_big_words_from_txt_annotations"
   ]
  },
  {
   "cell_type": "code",
   "execution_count": 28,
   "metadata": {},
   "outputs": [],
   "source": [
    "from collections import defaultdict\n",
    "big_words_dict = defaultdict(str)\n",
    "i_last = -1"
   ]
  },
  {
   "cell_type": "code",
   "execution_count": 29,
   "metadata": {},
   "outputs": [
    {
     "name": "stdout",
     "output_type": "stream",
     "text": [
      "0\n",
      "250000\n",
      "500000\n",
      "750000\n",
      "1000000\n"
     ]
    }
   ],
   "source": [
    "\"\"\"takes approx 7m30\"\"\"\n",
    "txt_annotations_path = \"INPUT_datasets/txtannotations.jsonl.gzip\"\n",
    "\n",
    "with gzip.open(txt_annotations_path) as f:\n",
    "    for i, line in enumerate(f):\n",
    "        if i > i_last:\n",
    "            i_last +=1\n",
    "            json_str = line.decode('utf-8')\n",
    "            txt_annotations = json.loads(json_str)\n",
    "            barcode = list(txt_annotations.keys())[0]\n",
    "            sentences_list = [get_big_words_from_txt_annotations(txt_annotations[barcode][key]) for key in sorted(txt_annotations[barcode].keys())]\n",
    "            if len(big_words_dict[str(barcode)]) <= 500:\n",
    "                big_words_dict[str(barcode)] +=  \" \" + \" \".join(sentences_list)\n",
    "\n",
    "        if i %250000 == 0:\n",
    "            print(i)\n",
    "  "
   ]
  },
  {
   "cell_type": "code",
   "execution_count": 30,
   "metadata": {},
   "outputs": [
    {
     "data": {
      "text/plain": [
       "363547"
      ]
     },
     "execution_count": 30,
     "metadata": {},
     "output_type": "execute_result"
    }
   ],
   "source": [
    "len(big_words_dict)"
   ]
  },
  {
   "cell_type": "code",
   "execution_count": 31,
   "metadata": {},
   "outputs": [
    {
     "data": {
      "text/plain": [
       "375415"
      ]
     },
     "execution_count": 31,
     "metadata": {},
     "output_type": "execute_result"
    }
   ],
   "source": [
    "\"\"\"\n",
    "import pickle\n",
    "path = \"barcodes_dict_with_new_ones.pkl\"\n",
    "with open(path, 'rb') as file:\n",
    "    big_words_dict = pickle.load(file)\n",
    "len(big_words_dict)\n",
    "\"\"\""
   ]
  },
  {
   "cell_type": "code",
   "execution_count": 32,
   "metadata": {},
   "outputs": [],
   "source": [
    "df[\"big_words\"] = df[\"code\"].apply(lambda x: big_words_dict.get(str(x), ''))"
   ]
  },
  {
   "cell_type": "code",
   "execution_count": 33,
   "metadata": {},
   "outputs": [
    {
     "data": {
      "text/plain": [
       "142417    140\n",
       "141865    112\n",
       "85698     110\n",
       "157713    110\n",
       "190957    110\n",
       "         ... \n",
       "448646      0\n",
       "448647      0\n",
       "448648      0\n",
       "448650      0\n",
       "596549      0\n",
       "Name: big_words, Length: 596550, dtype: int64"
      ]
     },
     "execution_count": 33,
     "metadata": {},
     "output_type": "execute_result"
    }
   ],
   "source": [
    "df[\"big_words\"].str.split().str.len().sort_values(ascending = False)"
   ]
  },
  {
   "cell_type": "markdown",
   "metadata": {},
   "source": [
    "### Make output df"
   ]
  },
  {
   "cell_type": "code",
   "execution_count": 34,
   "metadata": {},
   "outputs": [],
   "source": [
    "from utils.OCR_preprocessing import remove_duplicates"
   ]
  },
  {
   "cell_type": "code",
   "execution_count": 35,
   "metadata": {},
   "outputs": [],
   "source": [
    "\"\"\"takes approx 15 sec\"\"\"\n",
    "\n",
    "df[\"word_selection\"] = (\n",
    "    df[\"big_words\"].astype(str) + \". \" +\n",
    "    df[\"intersection_words_ocr\"].fillna(\"\").astype(str) + \". \" +\n",
    "    df[\"intersection_words_lang\"].fillna(\"\").astype(str) + \". \" +\n",
    "    df.apply(\n",
    "        lambda x: x[\"original_text_cleaned\"] if len(x[\"original_text_cleaned\"]) < 500 \n",
    "        else x[\"text_main_lang_cleaned\"]if len(x[\"text_main_lang_cleaned\"]) < 500\n",
    "        else (remove_duplicates(x[\"text_main_lang_cleaned\"]) if len(remove_duplicates(x[\"text_main_lang_cleaned\"]).split()) < 80\n",
    "        else x[\"tfidf_selection\"]) ,axis = 1).astype(str)\n",
    "    )\n"
   ]
  },
  {
   "cell_type": "code",
   "execution_count": 36,
   "metadata": {},
   "outputs": [
    {
     "data": {
      "text/plain": [
       "(0, 12)"
      ]
     },
     "execution_count": 36,
     "metadata": {},
     "output_type": "execute_result"
    }
   ],
   "source": [
    "df[df[\"word_selection\"] == \"\"].shape"
   ]
  },
  {
   "cell_type": "code",
   "execution_count": 37,
   "metadata": {},
   "outputs": [
    {
     "data": {
      "image/png": "[encoded data removed]",
      "text/plain": [
       "<Figure size 432x288 with 1 Axes>"
      ]
     },
     "metadata": {
      "needs_background": "light"
     },
     "output_type": "display_data"
    }
   ],
   "source": [
    "import matplotlib.pyplot as plt\n",
    "import seaborn as sns\n",
    "fig, ax = plt.subplots()\n",
    "word_count = df['word_selection'].str.split().str.len()\n",
    "sns.histplot(word_count)\n",
    "plt.xlim([0,1000])\n",
    "plt.show()\n"
   ]
  },
  {
   "cell_type": "code",
   "execution_count": 38,
   "metadata": {},
   "outputs": [
    {
     "data": {
      "text/plain": [
       "169446    240\n",
       "22709     240\n",
       "169470    235\n",
       "169108    230\n",
       "41484     230\n",
       "         ... \n",
       "508168      3\n",
       "389528      3\n",
       "397106      3\n",
       "580967      3\n",
       "402608      3\n",
       "Name: word_selection, Length: 596550, dtype: int64"
      ]
     },
     "execution_count": 38,
     "metadata": {},
     "output_type": "execute_result"
    }
   ],
   "source": [
    "df['word_selection'].str.split().str.len().sort_values(ascending = False)"
   ]
  },
  {
   "cell_type": "code",
   "execution_count": 518,
   "metadata": {},
   "outputs": [],
   "source": [
    "#df.to_pickle(\"dataset/dataset.pkl\")"
   ]
  },
  {
   "cell_type": "markdown",
   "metadata": {},
   "source": [
    "### Check Results"
   ]
  },
  {
   "cell_type": "code",
   "execution_count": 3,
   "metadata": {},
   "outputs": [],
   "source": [
    "#df = pd.read_pickle(\"dataset/dataset.pkl\")\n",
    "#df[\"code\"] = df[\"code\"].astype(str)"
   ]
  },
  {
   "cell_type": "code",
   "execution_count": 39,
   "metadata": {},
   "outputs": [
    {
     "name": "stdout",
     "output_type": "stream",
     "text": [
      "noise or empty lines: 193\n",
      "(596357, 12)\n"
     ]
    }
   ],
   "source": [
    "empty_or_noise = df[\"word_selection\"].str.len() < 10\n",
    "print(\"noise or empty lines:\", empty_or_noise.sum())\n",
    "df = df[~empty_or_noise]\n",
    "print(df.shape)\n"
   ]
  },
  {
   "cell_type": "code",
   "execution_count": 40,
   "metadata": {},
   "outputs": [],
   "source": [
    "from  utils.OCR_word_selection import show_images_from_barcode, get_big_words_from_image_clean\n",
    "import re"
   ]
  },
  {
   "cell_type": "code",
   "execution_count": 41,
   "metadata": {},
   "outputs": [
    {
     "name": "stdout",
     "output_type": "stream",
     "text": [
      "151249\n",
      "Macaroni Everyday MET HAM EN KAAS JAMBON FROMAGE DEPYRIES à Voedingswaarden Valeurs nutritionnelles Zout Sel à RI en tomates Gemiddelde Voedingswaarden Ingrediënten Valeurs nutritionnelles à Macaroni met ham en kaas. à en jambon. . macaronis cuits eau semoule blé dur lait entier jambon viande porc Sel dextrose caséinate Contient du extrait plantes aromatiques épices fumée épaississant stabilisants antioxydant fromage emmental gouda huile tournesol amidon modifié farine bouillon légumes levure extraits céleri oignons poireaux tomates carottes en poudre ail gluten Peut contenir des traces crustacés ceufs poisson arachides soja fruits coque moutarde sésame mollusques Voedingswaarden Valeurs nutritionnelles pore romage toumesol léqumes celeri oufs polsson Gemiddelde voedings waarde nutritionnelle moyenne Fibres alimentaires Elwitten Protéines Zout volwassene Apport etérence un\n",
      "117\n",
      "5400141165043\n"
     ]
    }
   ],
   "source": [
    "#i = np.random.choice(range(df.shape[0]))\n",
    "#i = 10157 # maitre coq volaille 0215703025452\n",
    "#i = 20865 #knorr 3011360020178\n",
    "#i = 363851 #bolognese sauce - 5000354914829\n",
    "#i = 65210 # andouilettes - 3278910707327\n",
    "#i = 27073 # bonduelle conconmbre fromage blanc  -3083681008616\n",
    "i = 151249 # macaroni everyday - 5400141165043\n",
    "\n",
    "barcode = df[\"code\"].iloc[i]\n",
    "print(i)\n",
    "print(df[\"word_selection\"].iloc[i])\n",
    "print(len(df[\"word_selection\"].iloc[i].split()))\n",
    "print(barcode)\n",
    "show_images_from_barcode(barcode, df)"
   ]
  },
  {
   "cell_type": "code",
   "execution_count": 42,
   "metadata": {},
   "outputs": [
    {
     "data": {
      "text/plain": [
       "'Macaroni Everyday MET HAM EN KAAS JAMBON FROMAGE DEPYRIES à Voedingswaarden Valeurs nutritionnelles Zout Sel à RI en tomates Gemiddelde Voedingswaarden Ingrediënten Valeurs nutritionnelles à Macaroni met ham en kaas'"
      ]
     },
     "execution_count": 42,
     "metadata": {},
     "output_type": "execute_result"
    }
   ],
   "source": [
    "big_words_dict[barcode]"
   ]
  },
  {
   "cell_type": "code",
   "execution_count": 44,
   "metadata": {},
   "outputs": [
    {
     "name": "stdout",
     "output_type": "stream",
     "text": [
      "5400141165043\n",
      "Ingrediënten Ingredients Macaroni met ham en kaas 34% gekookte macaroni (water, griesmeel van harde tarwe), volle melk, water, 11 % ham [varkensvlees, water, zout, dextrose, caseinaat (bevat melk), kruidenextract, kruiden en specerijen, rookextract, vieesextract verdikkingsmiddel (E407a), stabilisatoren (E450, E451), antioxidant (E301), 9,8 % kaas (emmentaler, gouda), zonnebloemolie, gemodificeerd zetmeel, tarwebloem, groentebouillon (zout, gistextract, zetmeel, zonnebloemolie, groente-extracten (selderij, uien, prei, tomaten, wortelen), uienpoeder, knoflook, kruiden en specerijen), specerijen. Bevat gluten, melk en selderij. Kan sporen van schaaldieren, eieren, vis, pinda, soja, noten, mosterd, sesam en weekdieren bevatten. Macaroni jambon-fromage 34 % macaronis cuits (eau, semoule de blé dur), lait entier, eau, 11 % jambon (viande de porc, eau, sel, dextrose, caséinate (contient du lait), extrait de plantes aromatiques, plantes aromatiques et épices, extrait de fumée, extrait de viande, épaississant (E407a), stabilisants (E450, E451), antioxydant (E301), 9,8 % fromage (emmental, gouda), huile de tournesol, amidon modifié, farine de blé, bouillon de légumes [sel, extrait de levure, amidon, huile de tournesol, extraits de légumes (céleri, oignons, poireaux, tomates, carottes), oignons en poudre, ail, plantes aromatiques et épices), épices. Contient du gluten, du lait et du céleri. Peut contenir des traces de crustacés, d'ceufs, de poisson, d'arachides, de soja, de fruits à coque, de moutarde, de sésame et de mollusques Voedingswaarden Valeurs nutritionnelles  34 % macaronis cuits (eau, semoule de blé dur), lait entier, eau, 11 % jambon [viande de pore, eau, sel, dextrose, caséinate (contient du lait), extrait de plantes aromatiques, plantes aromatiques et épices, extrait de fumée, extrait de viande, épaississant (E407a), stabilisants E450, E451), antioxydant (E301), 9,8 % romage (emmental, gouda), huile de toumesol, amidon modifié, farine de blé, bouillon de léqumes [sel, extrait de levure, amidon, huile de tournesol, extraits de légumes (celeri, oignons, poireaux, tomates, carottes), oignons en poudre, ail, plantes aromatiques et épices), épices. Contient du gluten, du lait et du céleri, Peut contenir des traces de crustacés, d'oufs, de polsson, d'arachides, de de moutarde, de sésame et de mollusques. de fruits à coque, Voedingswaarden Valeurs nutritionnelles Gemiddelde voedings- waarde Valeur nutritionnelle moyenne 1 portie 1 portion 500 g RI Energie 582 kJ 35 % 2911 kJ 695 kcal 6,5 g 46 % 32,5 g 139 kçal Vetten Matières grasses waarvan dont Verzadigde vetzuren Acides gras saturés Koolhydraten Glucides Waanvan dont Suikers Sucres Vezels Fibres alimentaires Elwitten-Protéines Zout-Sel 2,8 g 70 % 14,0g 13,3 g 26 % 66,5g 1,9 g 11% 9,5g 0,0 g 0,0 g 6,8 g 68 % 34 ,0 g 0,58 g 48 % 2,90 g R Referentie-inname van een gemiddelde volwassene (8400 kJ/2000 kcal)-Apport de etérence pour un adulte-type (8400 kJ/2000 kcal)  Everyday Macaroni MET HAM EN KAAS JAMBON-FROMAGE 750 W 5 kcal 1 pers. |160 °C 500 g e DEPYRIES 10 à 12 min. 35 à 40 min. SURDELE \n",
      "\n",
      " ____ final selection ____\n",
      "Macaroni Everyday MET HAM EN KAAS JAMBON FROMAGE DEPYRIES à Voedingswaarden Valeurs nutritionnelles Zout Sel à RI en tomates Gemiddelde Voedingswaarden Ingrediënten Valeurs nutritionnelles à Macaroni met ham en kaas. à en jambon. . macaronis cuits eau semoule blé dur lait entier jambon viande porc Sel dextrose caséinate Contient du extrait plantes aromatiques épices fumée épaississant stabilisants antioxydant fromage emmental gouda huile tournesol amidon modifié farine bouillon légumes levure extraits céleri oignons poireaux tomates carottes en poudre ail gluten Peut contenir des traces crustacés ceufs poisson arachides soja fruits coque moutarde sésame mollusques Voedingswaarden Valeurs nutritionnelles pore romage toumesol léqumes celeri oufs polsson Gemiddelde voedings waarde nutritionnelle moyenne Fibres alimentaires Elwitten Protéines Zout volwassene Apport etérence un\n",
      "\n",
      " ____ text of main language after cleaning ____\n",
      "macaronis cuits eau semoule blé dur lait entier eau jambon viande porc eau sel dextrose caséinate contient du lait extrait plantes aromatiques plantes aromatiques épices extrait fumée extrait viande épaississant stabilisants antioxydant fromage emmental gouda huile tournesol amidon modifié farine blé bouillon légumes sel extrait levure amidon huile tournesol extraits légumes céleri oignons poireaux tomates carottes oignons en poudre ail plantes aromatiques épices Contient du gluten du lait du Peut contenir des traces crustacés ceufs poisson arachides soja fruits à coque moutarde sésame mollusques Voedingswaarden Valeurs nutritionnelles macaronis cuits eau semoule blé dur lait entier eau jambon viande pore eau sel dextrose caséinate contient du lait extrait plantes aromatiques plantes aromatiques épices extrait fumée extrait viande épaississant stabilisants antioxydant romage emmental gouda huile toumesol amidon modifié farine blé bouillon léqumes sel extrait levure amidon huile tournesol extraits légumes celeri oignons poireaux tomates carottes oignons en poudre ail plantes aromatiques épices Contient du gluten du lait du céleri Peut contenir des traces crustacés oufs polsson arachides moutarde sésame fruits à coque Voedingswaarden Valeurs nutritionnelles Gemiddelde voedings waarde nutritionnelle moyenne Fibres alimentaires Elwitten Protéines Zout Sel volwassene Apport etérence un à à SURDELE\n",
      "\n",
      " ____ text selection with tdidf score\n",
      "macaronis cuits eau semoule blé dur lait entier jambon viande porc Sel dextrose caséinate Contient du extrait plantes aromatiques épices fumée épaississant stabilisants antioxydant fromage emmental gouda huile tournesol amidon modifié farine bouillon légumes levure extraits céleri oignons poireaux tomates carottes en poudre ail gluten Peut contenir des traces crustacés ceufs poisson arachides soja fruits coque moutarde sésame mollusques Voedingswaarden Valeurs nutritionnelles pore romage toumesol léqumes celeri oufs polsson Gemiddelde voedings waarde nutritionnelle moyenne Fibres alimentaires Elwitten Protéines Zout volwassene Apport etérence un\n",
      "\n",
      " ____ text selection - intersection between languages ____\n",
      "\n",
      "\n",
      " ____ text selection - intersection between OCRs ____\n",
      "à en jambon\n",
      "\n",
      " ___ text selection - big words from image ____\n",
      "Macaroni Everyday MET HAM EN KAAS JAMBON FROMAGE DEPYRIES à Voedingswaarden Valeurs nutritionnelles Zout Sel à RI en tomates Gemiddelde Voedingswaarden Ingrediënten Valeurs nutritionnelles à Macaroni met ham en kaas\n"
     ]
    }
   ],
   "source": [
    "input_text = df[\"texts\"].iloc[i]\n",
    "final_selection = df[\"word_selection\"].iloc[i]\n",
    "text_clean = df[\"text_main_lang_cleaned\"].iloc[i]\n",
    "text_tf = df[\"tfidf_selection\"].iloc[i]\n",
    "text_insct_lang = df[\"intersection_words_lang\"].iloc[i]\n",
    "text_insct_ocr = df[\"intersection_words_ocr\"].iloc[i]\n",
    "barcode = df[\"code\"].iloc[i]\n",
    "\n",
    "\n",
    "print(barcode)\n",
    "print(re.sub(r\"\\n\", \" \", input_text))\n",
    "print(\"\\n ____ final selection ____\")\n",
    "print(final_selection)\n",
    "print(\"\\n ____ text of main language after cleaning ____\")\n",
    "print(text_clean)\n",
    "print(\"\\n ____ text selection with tdidf score\")\n",
    "print(text_tf)\n",
    "print(\"\\n ____ text selection - intersection between languages ____\")\n",
    "print(text_insct_lang)\n",
    "print(\"\\n ____ text selection - intersection between OCRs ____\")\n",
    "print(text_insct_ocr)\n",
    "print(\"\\n ___ text selection - big words from image ____\")\n",
    "if barcode in big_words_dict:\n",
    "    print(big_words_dict[barcode])"
   ]
  },
  {
   "cell_type": "code",
   "execution_count": 45,
   "metadata": {},
   "outputs": [
    {
     "data": {
      "text/plain": [
       "'ALM SAUMON ATLANTISCHE ATLANTIQUE Pavés BEVROREN CONGELÉ Moten Qualité sans arête peau Kwaliteit zonder graat ZALM SAUMON ATLANTIQUE ATLANTISCHE BEVROREN Moten Pavés CONGELÉ Nettogewicht Qualité FILIÈRE sans arête peau Kwaliteit'"
      ]
     },
     "execution_count": 45,
     "metadata": {},
     "output_type": "execute_result"
    }
   ],
   "source": [
    "barcode = \"3560070851003\"\n",
    "get_big_words_from_image_clean(barcode, df = df)"
   ]
  }
 ],
 "metadata": {
  "kernelspec": {
   "display_name": "Python 3.9.12 ('env_tf')",
   "language": "python",
   "name": "python3"
  },
  "language_info": {
   "codemirror_mode": {
    "name": "ipython",
    "version": 3
   },
   "file_extension": ".py",
   "mimetype": "text/x-python",
   "name": "python",
   "nbconvert_exporter": "python",
   "pygments_lexer": "ipython3",
   "version": "3.9.12"
  },
  "orig_nbformat": 4,
  "vscode": {
   "interpreter": {
    "hash": "7ba1f239449f425eb3a38518ae99d1f767aed482cc07821544aaa5748f4ec966"
   }
  }
 },
 "nbformat": 4,
 "nbformat_minor": 2
}
