{
 "cells": [
  {
   "cell_type": "markdown",
   "id": "064e2d60",
   "metadata": {},
   "source": [
    "# INDEX\n",
    "* [Imports and functions](#Imports-and-functions)\n",
    "* [Configuration](#Configuration)\n",
    "* [Prepare dataset](#Prepare-dataset)\n",
    "* [Build model](#Build-model)\n",
    "    * [Model inputs](#Model-inputs)\n",
    "    * [Model output](#Model-output)\n",
    "    * [Model](#Model)\n",
    "* [Train model](#Train-model)\n",
    "    * [Training stats](#Training-stats)\n",
    "* [Save model and resources](#Save-model-and-resources)\n",
    "* [Test model](#Test-model)"
   ]
  },
  {
   "cell_type": "code",
   "execution_count": null,
   "id": "1010d9ca",
   "metadata": {},
   "outputs": [],
   "source": [
    "try:\n",
    "  import google.colab\n",
    "  IN_COLAB = True\n",
    "except:\n",
    "  IN_COLAB = False\n",
    "# eventual initialization for colab notebooks\n",
    "if IN_COLAB:\n",
    "  # we try hard to be re-entrant,\n",
    "  # that is to be able to rerun this without cloning repository more than once\n",
    "  COLAB_BRANCH = \"master\"\n",
    "  !curl https://raw.githubusercontent.com/openfoodfacts/off-category-classification/$COLAB_BRANCH/lib/colab.py --output /content/colab.py\n",
    "  !cd /content && python /content/colab.py $COLAB_BRANCH\n",
    "  %cd /content/off-category-classification/experiments"
   ]
  },
  {
   "cell_type": "code",
   "execution_count": 1,
   "id": "9bcfaa2d",
   "metadata": {
    "scrolled": true
   },
   "outputs": [
    {
     "name": "stderr",
     "output_type": "stream",
     "text": [
      "[codecarbon ERROR @ 11:06:39] Unable to read Intel RAPL files for CPU power, we will use a constant for your CPU power. Please view https://github.com/mlco2/codecarbon/issues/244 for workarounds : [Errno 13] Permission denied: '/sys/class/powercap/intel-rapl/intel-rapl:1/energy_uj'\n",
      "[codecarbon ERROR @ 11:06:39] Unable to read Intel RAPL files for CPU power, we will use a constant for your CPU power. Please view https://github.com/mlco2/codecarbon/issues/244 for workarounds : [Errno 13] Permission denied: '/sys/class/powercap/intel-rapl/intel-rapl:0/energy_uj'\n",
      "[codecarbon ERROR @ 11:06:39] Unable to read Intel RAPL files for CPU power, we will use a constant for your CPU power. Please view https://github.com/mlco2/codecarbon/issues/244 for workarounds : [Errno 13] Permission denied: '/sys/class/powercap/intel-rapl/intel-rapl:1/energy_uj'\n",
      "[codecarbon ERROR @ 11:06:39] Unable to read Intel RAPL files for CPU power, we will use a constant for your CPU power. Please view https://github.com/mlco2/codecarbon/issues/244 for workarounds : [Errno 13] Permission denied: '/sys/class/powercap/intel-rapl/intel-rapl:0/energy_uj'\n"
     ]
    }
   ],
   "source": [
    "# codecarbon - start tracking\n",
    "from codecarbon import EmissionsTracker\n",
    "\n",
    "tracker = EmissionsTracker(log_level = \"WARNING\", save_to_api = True, experiment_id = \"6d2c8401-afba-42de-9600-6e95bea5fd80\")\n",
    "tracker.start()"
   ]
  },
  {
   "cell_type": "markdown",
   "id": "d481d404",
   "metadata": {},
   "source": [
    "# Imports"
   ]
  },
  {
   "cell_type": "code",
   "execution_count": 2,
   "id": "80c4f3c2",
   "metadata": {},
   "outputs": [],
   "source": [
    "import sys\n",
    "sys.path.append('../') #append a relative path to the top package to the search path"
   ]
  },
  {
   "cell_type": "code",
   "execution_count": 3,
   "id": "fda92a68",
   "metadata": {},
   "outputs": [
    {
     "name": "stderr",
     "output_type": "stream",
     "text": [
      "2022-06-13 11:06:46.610761: W tensorflow/stream_executor/platform/default/dso_loader.cc:64] Could not load dynamic library 'libcudart.so.11.0'; dlerror: libcudart.so.11.0: cannot open shared object file: No such file or directory\n",
      "2022-06-13 11:06:46.610781: I tensorflow/stream_executor/cuda/cudart_stub.cc:29] Ignore above cudart dlerror if you do not have a GPU set up on your machine.\n",
      "/home/gabriel/.pyenv/versions/3.8.13/envs/venv-off-tf28/lib/python3.8/site-packages/tqdm/auto.py:22: TqdmWarning: IProgress not found. Please update jupyter and ipywidgets. See https://ipywidgets.readthedocs.io/en/stable/user_install.html\n",
      "  from .autonotebook import tqdm as notebook_tqdm\n"
     ]
    }
   ],
   "source": [
    "import pathlib\n",
    "\n",
    "import matplotlib.pyplot as plt\n",
    "import pandas as pd\n",
    "import tensorflow as tf\n",
    "import tensorflow_datasets as tfds\n",
    "from tensorflow.keras import callbacks, layers\n",
    "from tensorflow.keras.utils import plot_model\n",
    "\n",
    "from lib.dataset import *\n",
    "from lib.directories import init_cache_dir, init_model_dir\n",
    "from lib.io import load_model, save_model\n",
    "from lib.model import top_labeled_predictions, top_predictions_table\n",
    "from lib.plot import plot_training_stat"
   ]
  },
  {
   "cell_type": "markdown",
   "id": "b1bfc7ed",
   "metadata": {},
   "source": [
    "# Configuration"
   ]
  },
  {
   "cell_type": "code",
   "execution_count": 4,
   "id": "a92c3dd7",
   "metadata": {
    "scrolled": true
   },
   "outputs": [],
   "source": [
    "MODEL_BASE_DIR = pathlib.Path('../model')\n",
    "CACHE_DIR = pathlib.Path('../tensorflow_cache')\n",
    "\n",
    "PREPROC_BATCH_SIZE = 10_000  # some large value, only affects execution time\n",
    "\n",
    "# splits are handled by `tfds.load`, see doc for more elaborate ways to sample\n",
    "TRAIN_SPLIT = 'train[:80%]'\n",
    "VAL_SPLIT = 'train[80%:90%]'\n",
    "TEST_SPLIT = 'train[90%:]'"
   ]
  },
  {
   "cell_type": "markdown",
   "id": "24785109",
   "metadata": {},
   "source": [
    "# Prepare dataset\n",
    "\n",
    "Run this once to fetch, build and cache the dataset.\n",
    "Further runs will be no-ops, unless you force operations (see TFDS doc).\n",
    "\n",
    "Once this is done, `load_dataset('off_categories', ...)` to access the dataset."
   ]
  },
  {
   "cell_type": "code",
   "execution_count": 5,
   "id": "cda1dad4",
   "metadata": {},
   "outputs": [],
   "source": [
    "import datasets.off_categories\n",
    "\n",
    "builder = tfds.builder('off_categories')\n",
    "builder.download_and_prepare()\n",
    "\n",
    "# Or run via command line (if `tfds` is in the path):\n",
    "# !cd ../datasets && tfds build off_categories"
   ]
  },
  {
   "cell_type": "markdown",
   "id": "eb92b58e",
   "metadata": {},
   "source": [
    "# Build model"
   ]
  },
  {
   "cell_type": "code",
   "execution_count": 6,
   "id": "2ee58091",
   "metadata": {},
   "outputs": [],
   "source": [
    "tf.random.set_seed(42)"
   ]
  },
  {
   "cell_type": "markdown",
   "id": "993bb1d8",
   "metadata": {},
   "source": [
    "## Model inputs"
   ]
  },
  {
   "cell_type": "code",
   "execution_count": 7,
   "id": "531185de",
   "metadata": {},
   "outputs": [],
   "source": [
    "# we use dicts so rerunning individual model cells is idempotent\n",
    "inputs = {}\n",
    "input_graphs = {}"
   ]
  },
  {
   "cell_type": "code",
   "execution_count": 8,
   "id": "8353a5f1",
   "metadata": {},
   "outputs": [
    {
     "name": "stderr",
     "output_type": "stream",
     "text": [
      "2022-06-10 11:38:35.480805: W tensorflow/stream_executor/platform/default/dso_loader.cc:64] Could not load dynamic library 'libcuda.so.1'; dlerror: libcuda.so.1: cannot open shared object file: No such file or directory\n",
      "2022-06-10 11:38:35.480833: W tensorflow/stream_executor/cuda/cuda_driver.cc:269] failed call to cuInit: UNKNOWN ERROR (303)\n",
      "2022-06-10 11:38:35.480847: I tensorflow/stream_executor/cuda/cuda_diagnostics.cc:156] kernel driver does not appear to be running on this host (alba): /proc/driver/nvidia/version does not exist\n",
      "2022-06-10 11:38:35.481044: I tensorflow/core/platform/cpu_feature_guard.cc:151] This TensorFlow binary is optimized with oneAPI Deep Neural Network Library (oneDNN) to use the following CPU instructions in performance-critical operations:  AVX2 AVX512F FMA\n",
      "To enable them in other operations, rebuild TensorFlow with the appropriate compiler flags.\n"
     ]
    }
   ],
   "source": [
    "ds = load_dataset('off_categories', split=TRAIN_SPLIT)"
   ]
  },
  {
   "cell_type": "code",
   "execution_count": 9,
   "id": "c61fec40",
   "metadata": {},
   "outputs": [
    {
     "name": "stdout",
     "output_type": "stream",
     "text": [
      "CPU times: user 26.5 s, sys: 13.6 s, total: 40.1 s\n",
      "Wall time: 7.13 s\n"
     ]
    },
    {
     "data": {
      "text/plain": [
       "93000"
      ]
     },
     "execution_count": 9,
     "metadata": {},
     "output_type": "execute_result"
    }
   ],
   "source": [
    "%%time\n",
    "\n",
    "feature_name = 'product_name'\n",
    "\n",
    "product_name_input = tf.keras.Input(shape=(1,), dtype=tf.string, name=feature_name)\n",
    "\n",
    "product_name_vectorizer = layers.TextVectorization(\n",
    "    split = 'whitespace',\n",
    "    max_tokens = 93_000,\n",
    "    output_sequence_length = 30)\n",
    "\n",
    "product_name_vectorizer.adapt(\n",
    "    select_feature(ds, feature_name).batch(PREPROC_BATCH_SIZE))\n",
    "\n",
    "x = product_name_vectorizer(product_name_input)\n",
    "\n",
    "x = layers.Embedding(\n",
    "    input_dim = product_name_vectorizer.vocabulary_size(),\n",
    "    output_dim = 64,\n",
    "    mask_zero = False)(x)\n",
    "\n",
    "product_name_graph = layers.Bidirectional(layers.LSTM(\n",
    "    units = 64,\n",
    "    recurrent_dropout = 0.2,\n",
    "    dropout = 0.0))(x)\n",
    "\n",
    "inputs[feature_name] = product_name_input\n",
    "input_graphs[feature_name] = product_name_graph\n",
    "\n",
    "len(product_name_vectorizer.get_vocabulary())"
   ]
  },
  {
   "cell_type": "code",
   "execution_count": 10,
   "id": "bdb0a17d",
   "metadata": {},
   "outputs": [
    {
     "name": "stdout",
     "output_type": "stream",
     "text": [
      "CPU times: user 37.2 s, sys: 16.5 s, total: 53.7 s\n",
      "Wall time: 8.34 s\n"
     ]
    },
    {
     "data": {
      "text/plain": [
       "5000"
      ]
     },
     "execution_count": 10,
     "metadata": {},
     "output_type": "execute_result"
    }
   ],
   "source": [
    "%%time\n",
    "\n",
    "feature_name = 'ingredients_tags'\n",
    "\n",
    "ingredients_input = tf.keras.Input(shape=(None,), dtype=tf.string, name=feature_name)\n",
    "\n",
    "ingredients_vocab = get_vocabulary(\n",
    "    flat_batch(select_feature(ds, feature_name), batch_size=PREPROC_BATCH_SIZE),\n",
    "    min_freq = 3,\n",
    "    max_tokens = 5_000)\n",
    "\n",
    "ingredients_graph = layers.StringLookup(\n",
    "    vocabulary = ingredients_vocab,\n",
    "    output_mode = 'multi_hot')(ingredients_input)\n",
    "\n",
    "inputs[feature_name] = ingredients_input\n",
    "input_graphs[feature_name] = ingredients_graph\n",
    "\n",
    "len(ingredients_vocab)"
   ]
  },
  {
   "cell_type": "markdown",
   "id": "db8a30f1",
   "metadata": {},
   "source": [
    "## Model output"
   ]
  },
  {
   "cell_type": "code",
   "execution_count": 11,
   "id": "1d3426e3",
   "metadata": {},
   "outputs": [
    {
     "name": "stdout",
     "output_type": "stream",
     "text": [
      "CPU times: user 35.1 s, sys: 16.1 s, total: 51.2 s\n",
      "Wall time: 7.93 s\n"
     ]
    },
    {
     "data": {
      "text/plain": [
       "5205"
      ]
     },
     "execution_count": 11,
     "metadata": {},
     "output_type": "execute_result"
    }
   ],
   "source": [
    "%%time\n",
    "\n",
    "labels = 'categories_tags'\n",
    "\n",
    "categories_vocab = get_vocabulary(\n",
    "    flat_batch(select_feature(ds, labels), batch_size=PREPROC_BATCH_SIZE),\n",
    "    min_freq = 10)\n",
    "\n",
    "# StringLookup(output_mode='multi_hot') mode requires num_oov_indices >= 1.\n",
    "# We don't want OOVs in the categories_tags output layer, since it wouldn't make\n",
    "# sense to predict OOV. So we'll drop the OOV in _transform below.\n",
    "# Be careful when using StringLookup methods, some of them will return values\n",
    "# based on a vocabulary with OOV (e.g. vocabulary_size()). Keep this in mind when\n",
    "# mapping predictions back to the original vocabulary.\n",
    "categories_multihot = layers.StringLookup(\n",
    "    vocabulary = categories_vocab,\n",
    "    output_mode = 'multi_hot',\n",
    "    num_oov_indices = 1)\n",
    "\n",
    "def categories_encode(ds: tf.data.Dataset):\n",
    "    @tf.function\n",
    "    @tf.autograph.experimental.do_not_convert\n",
    "    def _transform(x, y):\n",
    "        y = categories_multihot(y)\n",
    "        y = y[1:]  # drop OOV\n",
    "        return (x, y)\n",
    "\n",
    "    # applies to non-batched dataset\n",
    "    return (\n",
    "        ds\n",
    "        .map(_transform, num_parallel_calls=tf.data.AUTOTUNE, deterministic=True)\n",
    "        .apply(filter_empty_labels)\n",
    "    )\n",
    "\n",
    "len(categories_vocab)"
   ]
  },
  {
   "cell_type": "markdown",
   "id": "5d3c2786",
   "metadata": {},
   "source": [
    "## Model"
   ]
  },
  {
   "cell_type": "code",
   "execution_count": 12,
   "id": "8b498ee3",
   "metadata": {},
   "outputs": [],
   "source": [
    "# ensure final order is independent of cell execution/insertion order\n",
    "features = sorted(inputs.keys())\n",
    "\n",
    "x = layers.Concatenate()([input_graphs[k] for k in features])\n",
    "x = layers.Dropout(0.2)(x)\n",
    "x = layers.Dense(64)(x)\n",
    "x = layers.Dropout(0.2)(x)\n",
    "x = layers.Activation('relu')(x)\n",
    "output = layers.Dense(len(categories_vocab), activation='sigmoid')(x)\n",
    "\n",
    "model = tf.keras.Model(inputs=[inputs[k] for k in features], outputs=[output])\n",
    "\n",
    "model.compile(\n",
    "    optimizer = tf.keras.optimizers.Adam(learning_rate=0.001),\n",
    "    loss = tf.keras.losses.BinaryCrossentropy(label_smoothing=0.0),\n",
    "    metrics = ['binary_accuracy', 'Precision', 'Recall']\n",
    ")"
   ]
  },
  {
   "cell_type": "code",
   "execution_count": 13,
   "id": "a5df8ca2",
   "metadata": {},
   "outputs": [
    {
     "name": "stdout",
     "output_type": "stream",
     "text": [
      "Model: \"model\"\n",
      "__________________________________________________________________________________________________\n",
      " Layer (type)                   Output Shape         Param #     Connected to                     \n",
      "==================================================================================================\n",
      " product_name (InputLayer)      [(None, 1)]          0           []                               \n",
      "                                                                                                  \n",
      " text_vectorization (TextVector  (None, 30)          0           ['product_name[0][0]']           \n",
      " ization)                                                                                         \n",
      "                                                                                                  \n",
      " ingredients_tags (InputLayer)  [(None, None)]       0           []                               \n",
      "                                                                                                  \n",
      " embedding (Embedding)          (None, 30, 64)       5952000     ['text_vectorization[0][0]']     \n",
      "                                                                                                  \n",
      " string_lookup_1 (StringLookup)  (None, 5001)        0           ['ingredients_tags[0][0]']       \n",
      "                                                                                                  \n",
      " bidirectional (Bidirectional)  (None, 128)          66048       ['embedding[0][0]']              \n",
      "                                                                                                  \n",
      " concatenate (Concatenate)      (None, 5129)         0           ['string_lookup_1[0][0]',        \n",
      "                                                                  'bidirectional[0][0]']          \n",
      "                                                                                                  \n",
      " dropout (Dropout)              (None, 5129)         0           ['concatenate[0][0]']            \n",
      "                                                                                                  \n",
      " dense (Dense)                  (None, 64)           328320      ['dropout[0][0]']                \n",
      "                                                                                                  \n",
      " dropout_1 (Dropout)            (None, 64)           0           ['dense[0][0]']                  \n",
      "                                                                                                  \n",
      " activation (Activation)        (None, 64)           0           ['dropout_1[0][0]']              \n",
      "                                                                                                  \n",
      " dense_1 (Dense)                (None, 5205)         338325      ['activation[0][0]']             \n",
      "                                                                                                  \n",
      "==================================================================================================\n",
      "Total params: 6,684,693\n",
      "Trainable params: 6,684,693\n",
      "Non-trainable params: 0\n",
      "__________________________________________________________________________________________________\n"
     ]
    }
   ],
   "source": [
    "model.summary()"
   ]
  },
  {
   "cell_type": "code",
   "execution_count": 14,
   "id": "cec2d376",
   "metadata": {},
   "outputs": [
    {
     "data": {
      "image/png": "[encoded data removed]",
      "text/plain": [
       "<IPython.core.display.Image object>"
      ]
     },
     "execution_count": 14,
     "metadata": {},
     "output_type": "execute_result"
    }
   ],
   "source": [
    "plot_model(model, show_shapes=True, show_layer_names=True)"
   ]
  },
  {
   "cell_type": "markdown",
   "id": "1d3f44b0",
   "metadata": {},
   "source": [
    "# Train model"
   ]
  },
  {
   "cell_type": "code",
   "execution_count": 15,
   "id": "53441242",
   "metadata": {},
   "outputs": [
    {
     "name": "stdout",
     "output_type": "stream",
     "text": [
      "Model directory: ../model.20220610-113859\n",
      "Cache directory: ../tensorflow_cache\n",
      "Epoch 1/50\n"
     ]
    },
    {
     "name": "stderr",
     "output_type": "stream",
     "text": [
      "2022-06-10 11:38:59.510859: W tensorflow/core/kernels/data/cache_dataset_ops.cc:233] The calling iterator did not fully read the dataset being cached. In order to avoid unexpected truncation of the dataset, the partially cached contents of the dataset  will be discarded. This can happen if you have an input pipeline similar to `dataset.cache().take(k).repeat()`. You should use `dataset.take(k).cache().repeat()` instead.\n"
     ]
    },
    {
     "name": "stdout",
     "output_type": "stream",
     "text": [
      "   5250/Unknown - 443s 84ms/step - loss: 0.0072 - binary_accuracy: 0.9987 - precision: 0.1066 - recall: 0.0438"
     ]
    },
    {
     "name": "stderr",
     "output_type": "stream",
     "text": [
      "2022-06-10 11:46:23.344715: W tensorflow/core/kernels/data/cache_dataset_ops.cc:233] The calling iterator did not fully read the dataset being cached. In order to avoid unexpected truncation of the dataset, the partially cached contents of the dataset  will be discarded. This can happen if you have an input pipeline similar to `dataset.cache().take(k).repeat()`. You should use `dataset.take(k).cache().repeat()` instead.\n",
      "2022-06-10 11:46:39.139519: W tensorflow/core/kernels/data/cache_dataset_ops.cc:233] The calling iterator did not fully read the dataset being cached. In order to avoid unexpected truncation of the dataset, the partially cached contents of the dataset  will be discarded. This can happen if you have an input pipeline similar to `dataset.cache().take(k).repeat()`. You should use `dataset.take(k).cache().repeat()` instead.\n",
      "2022-06-10 11:46:40.755399: W tensorflow/python/util/util.cc:368] Sets are not currently considered sequences, but this may change in the future, so consider avoiding using them.\n"
     ]
    },
    {
     "name": "stdout",
     "output_type": "stream",
     "text": [
      "INFO:tensorflow:Assets written to: ../model.20220610-113859/weights.01-0.0036/assets\n"
     ]
    },
    {
     "name": "stderr",
     "output_type": "stream",
     "text": [
      "INFO:tensorflow:Assets written to: ../model.20220610-113859/weights.01-0.0036/assets\n",
      "WARNING:absl:<keras.layers.recurrent.LSTMCell object at 0x7f4f7487d430> has the same name 'LSTMCell' as a built-in Keras object. Consider renaming <class 'keras.layers.recurrent.LSTMCell'> to avoid naming conflicts when loading with `tf.keras.models.load_model`. If renaming is not possible, pass the object in the `custom_objects` parameter of the load function.\n",
      "WARNING:absl:<keras.layers.recurrent.LSTMCell object at 0x7f4f7487de50> has the same name 'LSTMCell' as a built-in Keras object. Consider renaming <class 'keras.layers.recurrent.LSTMCell'> to avoid naming conflicts when loading with `tf.keras.models.load_model`. If renaming is not possible, pass the object in the `custom_objects` parameter of the load function.\n"
     ]
    },
    {
     "name": "stdout",
     "output_type": "stream",
     "text": [
      "5250/5250 [==============================] - 464s 88ms/step - loss: 0.0072 - binary_accuracy: 0.9987 - precision: 0.1066 - recall: 0.0438 - val_loss: 0.0036 - val_binary_accuracy: 0.9992 - val_precision: 0.7909 - val_recall: 0.1629\n",
      "Epoch 2/50\n"
     ]
    },
    {
     "name": "stderr",
     "output_type": "stream",
     "text": [
      "2022-06-10 11:46:43.784951: W tensorflow/core/kernels/data/cache_dataset_ops.cc:233] The calling iterator did not fully read the dataset being cached. In order to avoid unexpected truncation of the dataset, the partially cached contents of the dataset  will be discarded. This can happen if you have an input pipeline similar to `dataset.cache().take(k).repeat()`. You should use `dataset.take(k).cache().repeat()` instead.\n"
     ]
    },
    {
     "name": "stdout",
     "output_type": "stream",
     "text": [
      "5250/5250 [==============================] - ETA: 0s - loss: 0.0029 - binary_accuracy: 0.9993 - precision: 0.7912 - recall: 0.3224INFO:tensorflow:Assets written to: ../model.20220610-113859/weights.02-0.0020/assets\n"
     ]
    },
    {
     "name": "stderr",
     "output_type": "stream",
     "text": [
      "INFO:tensorflow:Assets written to: ../model.20220610-113859/weights.02-0.0020/assets\n",
      "WARNING:absl:<keras.layers.recurrent.LSTMCell object at 0x7f4f7487d430> has the same name 'LSTMCell' as a built-in Keras object. Consider renaming <class 'keras.layers.recurrent.LSTMCell'> to avoid naming conflicts when loading with `tf.keras.models.load_model`. If renaming is not possible, pass the object in the `custom_objects` parameter of the load function.\n",
      "WARNING:absl:<keras.layers.recurrent.LSTMCell object at 0x7f4f7487de50> has the same name 'LSTMCell' as a built-in Keras object. Consider renaming <class 'keras.layers.recurrent.LSTMCell'> to avoid naming conflicts when loading with `tf.keras.models.load_model`. If renaming is not possible, pass the object in the `custom_objects` parameter of the load function.\n"
     ]
    },
    {
     "name": "stdout",
     "output_type": "stream",
     "text": [
      "5250/5250 [==============================] - 403s 77ms/step - loss: 0.0029 - binary_accuracy: 0.9993 - precision: 0.7912 - recall: 0.3224 - val_loss: 0.0020 - val_binary_accuracy: 0.9995 - val_precision: 0.8689 - val_recall: 0.4782\n",
      "Epoch 3/50\n",
      "5250/5250 [==============================] - ETA: 0s - loss: 0.0020 - binary_accuracy: 0.9995 - precision: 0.8288 - recall: 0.5291INFO:tensorflow:Assets written to: ../model.20220610-113859/weights.03-0.0016/assets\n"
     ]
    },
    {
     "name": "stderr",
     "output_type": "stream",
     "text": [
      "INFO:tensorflow:Assets written to: ../model.20220610-113859/weights.03-0.0016/assets\n",
      "WARNING:absl:<keras.layers.recurrent.LSTMCell object at 0x7f4f7487d430> has the same name 'LSTMCell' as a built-in Keras object. Consider renaming <class 'keras.layers.recurrent.LSTMCell'> to avoid naming conflicts when loading with `tf.keras.models.load_model`. If renaming is not possible, pass the object in the `custom_objects` parameter of the load function.\n",
      "WARNING:absl:<keras.layers.recurrent.LSTMCell object at 0x7f4f7487de50> has the same name 'LSTMCell' as a built-in Keras object. Consider renaming <class 'keras.layers.recurrent.LSTMCell'> to avoid naming conflicts when loading with `tf.keras.models.load_model`. If renaming is not possible, pass the object in the `custom_objects` parameter of the load function.\n"
     ]
    },
    {
     "name": "stdout",
     "output_type": "stream",
     "text": [
      "5250/5250 [==============================] - 403s 77ms/step - loss: 0.0020 - binary_accuracy: 0.9995 - precision: 0.8288 - recall: 0.5291 - val_loss: 0.0016 - val_binary_accuracy: 0.9996 - val_precision: 0.8758 - val_recall: 0.6004\n",
      "Epoch 4/50\n",
      "5250/5250 [==============================] - ETA: 0s - loss: 0.0017 - binary_accuracy: 0.9995 - precision: 0.8422 - recall: 0.6076INFO:tensorflow:Assets written to: ../model.20220610-113859/weights.04-0.0014/assets\n"
     ]
    },
    {
     "name": "stderr",
     "output_type": "stream",
     "text": [
      "INFO:tensorflow:Assets written to: ../model.20220610-113859/weights.04-0.0014/assets\n",
      "WARNING:absl:<keras.layers.recurrent.LSTMCell object at 0x7f4f7487d430> has the same name 'LSTMCell' as a built-in Keras object. Consider renaming <class 'keras.layers.recurrent.LSTMCell'> to avoid naming conflicts when loading with `tf.keras.models.load_model`. If renaming is not possible, pass the object in the `custom_objects` parameter of the load function.\n",
      "WARNING:absl:<keras.layers.recurrent.LSTMCell object at 0x7f4f7487de50> has the same name 'LSTMCell' as a built-in Keras object. Consider renaming <class 'keras.layers.recurrent.LSTMCell'> to avoid naming conflicts when loading with `tf.keras.models.load_model`. If renaming is not possible, pass the object in the `custom_objects` parameter of the load function.\n"
     ]
    },
    {
     "name": "stdout",
     "output_type": "stream",
     "text": [
      "5250/5250 [==============================] - 396s 75ms/step - loss: 0.0017 - binary_accuracy: 0.9995 - precision: 0.8422 - recall: 0.6076 - val_loss: 0.0014 - val_binary_accuracy: 0.9996 - val_precision: 0.8762 - val_recall: 0.6547\n",
      "Epoch 5/50\n",
      "5250/5250 [==============================] - ETA: 0s - loss: 0.0015 - binary_accuracy: 0.9995 - precision: 0.8496 - recall: 0.6480INFO:tensorflow:Assets written to: ../model.20220610-113859/weights.05-0.0013/assets\n"
     ]
    },
    {
     "name": "stderr",
     "output_type": "stream",
     "text": [
      "INFO:tensorflow:Assets written to: ../model.20220610-113859/weights.05-0.0013/assets\n",
      "WARNING:absl:<keras.layers.recurrent.LSTMCell object at 0x7f4f7487d430> has the same name 'LSTMCell' as a built-in Keras object. Consider renaming <class 'keras.layers.recurrent.LSTMCell'> to avoid naming conflicts when loading with `tf.keras.models.load_model`. If renaming is not possible, pass the object in the `custom_objects` parameter of the load function.\n",
      "WARNING:absl:<keras.layers.recurrent.LSTMCell object at 0x7f4f7487de50> has the same name 'LSTMCell' as a built-in Keras object. Consider renaming <class 'keras.layers.recurrent.LSTMCell'> to avoid naming conflicts when loading with `tf.keras.models.load_model`. If renaming is not possible, pass the object in the `custom_objects` parameter of the load function.\n"
     ]
    },
    {
     "name": "stdout",
     "output_type": "stream",
     "text": [
      "5250/5250 [==============================] - 394s 75ms/step - loss: 0.0015 - binary_accuracy: 0.9995 - precision: 0.8496 - recall: 0.6480 - val_loss: 0.0013 - val_binary_accuracy: 0.9996 - val_precision: 0.8783 - val_recall: 0.6823\n",
      "Epoch 6/50\n",
      "5250/5250 [==============================] - ETA: 0s - loss: 0.0014 - binary_accuracy: 0.9996 - precision: 0.8541 - recall: 0.6737INFO:tensorflow:Assets written to: ../model.20220610-113859/weights.06-0.0013/assets\n"
     ]
    },
    {
     "name": "stderr",
     "output_type": "stream",
     "text": [
      "INFO:tensorflow:Assets written to: ../model.20220610-113859/weights.06-0.0013/assets\n",
      "WARNING:absl:<keras.layers.recurrent.LSTMCell object at 0x7f4f7487d430> has the same name 'LSTMCell' as a built-in Keras object. Consider renaming <class 'keras.layers.recurrent.LSTMCell'> to avoid naming conflicts when loading with `tf.keras.models.load_model`. If renaming is not possible, pass the object in the `custom_objects` parameter of the load function.\n",
      "WARNING:absl:<keras.layers.recurrent.LSTMCell object at 0x7f4f7487de50> has the same name 'LSTMCell' as a built-in Keras object. Consider renaming <class 'keras.layers.recurrent.LSTMCell'> to avoid naming conflicts when loading with `tf.keras.models.load_model`. If renaming is not possible, pass the object in the `custom_objects` parameter of the load function.\n"
     ]
    },
    {
     "name": "stdout",
     "output_type": "stream",
     "text": [
      "5250/5250 [==============================] - 397s 76ms/step - loss: 0.0014 - binary_accuracy: 0.9996 - precision: 0.8541 - recall: 0.6737 - val_loss: 0.0013 - val_binary_accuracy: 0.9996 - val_precision: 0.8789 - val_recall: 0.7013\n",
      "Epoch 7/50\n",
      "5250/5250 [==============================] - ETA: 0s - loss: 0.0013 - binary_accuracy: 0.9996 - precision: 0.8584 - recall: 0.6924INFO:tensorflow:Assets written to: ../model.20220610-113859/weights.07-0.0012/assets\n"
     ]
    },
    {
     "name": "stderr",
     "output_type": "stream",
     "text": [
      "INFO:tensorflow:Assets written to: ../model.20220610-113859/weights.07-0.0012/assets\n",
      "WARNING:absl:<keras.layers.recurrent.LSTMCell object at 0x7f4f7487d430> has the same name 'LSTMCell' as a built-in Keras object. Consider renaming <class 'keras.layers.recurrent.LSTMCell'> to avoid naming conflicts when loading with `tf.keras.models.load_model`. If renaming is not possible, pass the object in the `custom_objects` parameter of the load function.\n",
      "WARNING:absl:<keras.layers.recurrent.LSTMCell object at 0x7f4f7487de50> has the same name 'LSTMCell' as a built-in Keras object. Consider renaming <class 'keras.layers.recurrent.LSTMCell'> to avoid naming conflicts when loading with `tf.keras.models.load_model`. If renaming is not possible, pass the object in the `custom_objects` parameter of the load function.\n"
     ]
    },
    {
     "name": "stdout",
     "output_type": "stream",
     "text": [
      "5250/5250 [==============================] - 398s 76ms/step - loss: 0.0013 - binary_accuracy: 0.9996 - precision: 0.8584 - recall: 0.6924 - val_loss: 0.0012 - val_binary_accuracy: 0.9996 - val_precision: 0.8772 - val_recall: 0.7169\n",
      "Epoch 8/50\n",
      "5250/5250 [==============================] - ETA: 0s - loss: 0.0013 - binary_accuracy: 0.9996 - precision: 0.8617 - recall: 0.7068INFO:tensorflow:Assets written to: ../model.20220610-113859/weights.08-0.0012/assets\n"
     ]
    },
    {
     "name": "stderr",
     "output_type": "stream",
     "text": [
      "INFO:tensorflow:Assets written to: ../model.20220610-113859/weights.08-0.0012/assets\n",
      "WARNING:absl:<keras.layers.recurrent.LSTMCell object at 0x7f4f7487d430> has the same name 'LSTMCell' as a built-in Keras object. Consider renaming <class 'keras.layers.recurrent.LSTMCell'> to avoid naming conflicts when loading with `tf.keras.models.load_model`. If renaming is not possible, pass the object in the `custom_objects` parameter of the load function.\n",
      "WARNING:absl:<keras.layers.recurrent.LSTMCell object at 0x7f4f7487de50> has the same name 'LSTMCell' as a built-in Keras object. Consider renaming <class 'keras.layers.recurrent.LSTMCell'> to avoid naming conflicts when loading with `tf.keras.models.load_model`. If renaming is not possible, pass the object in the `custom_objects` parameter of the load function.\n"
     ]
    },
    {
     "name": "stdout",
     "output_type": "stream",
     "text": [
      "5250/5250 [==============================] - 397s 76ms/step - loss: 0.0013 - binary_accuracy: 0.9996 - precision: 0.8617 - recall: 0.7068 - val_loss: 0.0012 - val_binary_accuracy: 0.9997 - val_precision: 0.8775 - val_recall: 0.7257\n",
      "Epoch 9/50\n",
      "5250/5250 [==============================] - ETA: 0s - loss: 0.0012 - binary_accuracy: 0.9996 - precision: 0.8640 - recall: 0.7175INFO:tensorflow:Assets written to: ../model.20220610-113859/weights.09-0.0012/assets\n"
     ]
    },
    {
     "name": "stderr",
     "output_type": "stream",
     "text": [
      "INFO:tensorflow:Assets written to: ../model.20220610-113859/weights.09-0.0012/assets\n",
      "WARNING:absl:<keras.layers.recurrent.LSTMCell object at 0x7f4f7487d430> has the same name 'LSTMCell' as a built-in Keras object. Consider renaming <class 'keras.layers.recurrent.LSTMCell'> to avoid naming conflicts when loading with `tf.keras.models.load_model`. If renaming is not possible, pass the object in the `custom_objects` parameter of the load function.\n",
      "WARNING:absl:<keras.layers.recurrent.LSTMCell object at 0x7f4f7487de50> has the same name 'LSTMCell' as a built-in Keras object. Consider renaming <class 'keras.layers.recurrent.LSTMCell'> to avoid naming conflicts when loading with `tf.keras.models.load_model`. If renaming is not possible, pass the object in the `custom_objects` parameter of the load function.\n"
     ]
    },
    {
     "name": "stdout",
     "output_type": "stream",
     "text": [
      "5250/5250 [==============================] - 396s 75ms/step - loss: 0.0012 - binary_accuracy: 0.9996 - precision: 0.8640 - recall: 0.7175 - val_loss: 0.0012 - val_binary_accuracy: 0.9997 - val_precision: 0.8766 - val_recall: 0.7335\n",
      "Epoch 10/50\n",
      "5250/5250 [==============================] - ETA: 0s - loss: 0.0012 - binary_accuracy: 0.9996 - precision: 0.8662 - recall: 0.7261INFO:tensorflow:Assets written to: ../model.20220610-113859/weights.10-0.0012/assets\n"
     ]
    },
    {
     "name": "stderr",
     "output_type": "stream",
     "text": [
      "INFO:tensorflow:Assets written to: ../model.20220610-113859/weights.10-0.0012/assets\n",
      "WARNING:absl:<keras.layers.recurrent.LSTMCell object at 0x7f4f7487d430> has the same name 'LSTMCell' as a built-in Keras object. Consider renaming <class 'keras.layers.recurrent.LSTMCell'> to avoid naming conflicts when loading with `tf.keras.models.load_model`. If renaming is not possible, pass the object in the `custom_objects` parameter of the load function.\n",
      "WARNING:absl:<keras.layers.recurrent.LSTMCell object at 0x7f4f7487de50> has the same name 'LSTMCell' as a built-in Keras object. Consider renaming <class 'keras.layers.recurrent.LSTMCell'> to avoid naming conflicts when loading with `tf.keras.models.load_model`. If renaming is not possible, pass the object in the `custom_objects` parameter of the load function.\n"
     ]
    },
    {
     "name": "stdout",
     "output_type": "stream",
     "text": [
      "5250/5250 [==============================] - 397s 76ms/step - loss: 0.0012 - binary_accuracy: 0.9996 - precision: 0.8662 - recall: 0.7261 - val_loss: 0.0012 - val_binary_accuracy: 0.9997 - val_precision: 0.8774 - val_recall: 0.7378\n",
      "Epoch 11/50\n",
      "5250/5250 [==============================] - ETA: 0s - loss: 0.0012 - binary_accuracy: 0.9996 - precision: 0.8684 - recall: 0.7336INFO:tensorflow:Assets written to: ../model.20220610-113859/weights.11-0.0012/assets\n"
     ]
    },
    {
     "name": "stderr",
     "output_type": "stream",
     "text": [
      "INFO:tensorflow:Assets written to: ../model.20220610-113859/weights.11-0.0012/assets\n",
      "WARNING:absl:<keras.layers.recurrent.LSTMCell object at 0x7f4f7487d430> has the same name 'LSTMCell' as a built-in Keras object. Consider renaming <class 'keras.layers.recurrent.LSTMCell'> to avoid naming conflicts when loading with `tf.keras.models.load_model`. If renaming is not possible, pass the object in the `custom_objects` parameter of the load function.\n",
      "WARNING:absl:<keras.layers.recurrent.LSTMCell object at 0x7f4f7487de50> has the same name 'LSTMCell' as a built-in Keras object. Consider renaming <class 'keras.layers.recurrent.LSTMCell'> to avoid naming conflicts when loading with `tf.keras.models.load_model`. If renaming is not possible, pass the object in the `custom_objects` parameter of the load function.\n"
     ]
    },
    {
     "name": "stdout",
     "output_type": "stream",
     "text": [
      "5250/5250 [==============================] - 393s 75ms/step - loss: 0.0012 - binary_accuracy: 0.9996 - precision: 0.8684 - recall: 0.7336 - val_loss: 0.0012 - val_binary_accuracy: 0.9997 - val_precision: 0.8744 - val_recall: 0.7460\n",
      "Epoch 12/50\n",
      "5250/5250 [==============================] - ETA: 0s - loss: 0.0011 - binary_accuracy: 0.9996 - precision: 0.8697 - recall: 0.7398INFO:tensorflow:Assets written to: ../model.20220610-113859/weights.12-0.0012/assets\n"
     ]
    },
    {
     "name": "stderr",
     "output_type": "stream",
     "text": [
      "INFO:tensorflow:Assets written to: ../model.20220610-113859/weights.12-0.0012/assets\n",
      "WARNING:absl:<keras.layers.recurrent.LSTMCell object at 0x7f4f7487d430> has the same name 'LSTMCell' as a built-in Keras object. Consider renaming <class 'keras.layers.recurrent.LSTMCell'> to avoid naming conflicts when loading with `tf.keras.models.load_model`. If renaming is not possible, pass the object in the `custom_objects` parameter of the load function.\n",
      "WARNING:absl:<keras.layers.recurrent.LSTMCell object at 0x7f4f7487de50> has the same name 'LSTMCell' as a built-in Keras object. Consider renaming <class 'keras.layers.recurrent.LSTMCell'> to avoid naming conflicts when loading with `tf.keras.models.load_model`. If renaming is not possible, pass the object in the `custom_objects` parameter of the load function.\n"
     ]
    },
    {
     "name": "stdout",
     "output_type": "stream",
     "text": [
      "5250/5250 [==============================] - 393s 75ms/step - loss: 0.0011 - binary_accuracy: 0.9996 - precision: 0.8697 - recall: 0.7398 - val_loss: 0.0012 - val_binary_accuracy: 0.9997 - val_precision: 0.8771 - val_recall: 0.7456\n",
      "Epoch 13/50\n",
      "5250/5250 [==============================] - ETA: 0s - loss: 0.0011 - binary_accuracy: 0.9996 - precision: 0.8711 - recall: 0.7452INFO:tensorflow:Assets written to: ../model.20220610-113859/weights.13-0.0012/assets\n"
     ]
    },
    {
     "name": "stderr",
     "output_type": "stream",
     "text": [
      "INFO:tensorflow:Assets written to: ../model.20220610-113859/weights.13-0.0012/assets\n",
      "WARNING:absl:<keras.layers.recurrent.LSTMCell object at 0x7f4f7487d430> has the same name 'LSTMCell' as a built-in Keras object. Consider renaming <class 'keras.layers.recurrent.LSTMCell'> to avoid naming conflicts when loading with `tf.keras.models.load_model`. If renaming is not possible, pass the object in the `custom_objects` parameter of the load function.\n",
      "WARNING:absl:<keras.layers.recurrent.LSTMCell object at 0x7f4f7487de50> has the same name 'LSTMCell' as a built-in Keras object. Consider renaming <class 'keras.layers.recurrent.LSTMCell'> to avoid naming conflicts when loading with `tf.keras.models.load_model`. If renaming is not possible, pass the object in the `custom_objects` parameter of the load function.\n"
     ]
    },
    {
     "name": "stdout",
     "output_type": "stream",
     "text": [
      "5250/5250 [==============================] - 393s 75ms/step - loss: 0.0011 - binary_accuracy: 0.9996 - precision: 0.8711 - recall: 0.7452 - val_loss: 0.0012 - val_binary_accuracy: 0.9997 - val_precision: 0.8757 - val_recall: 0.7492\n",
      "Epoch 14/50\n",
      "5250/5250 [==============================] - ETA: 0s - loss: 0.0011 - binary_accuracy: 0.9996 - precision: 0.8721 - recall: 0.7497INFO:tensorflow:Assets written to: ../model.20220610-113859/weights.14-0.0012/assets\n"
     ]
    },
    {
     "name": "stderr",
     "output_type": "stream",
     "text": [
      "INFO:tensorflow:Assets written to: ../model.20220610-113859/weights.14-0.0012/assets\n",
      "WARNING:absl:<keras.layers.recurrent.LSTMCell object at 0x7f4f7487d430> has the same name 'LSTMCell' as a built-in Keras object. Consider renaming <class 'keras.layers.recurrent.LSTMCell'> to avoid naming conflicts when loading with `tf.keras.models.load_model`. If renaming is not possible, pass the object in the `custom_objects` parameter of the load function.\n",
      "WARNING:absl:<keras.layers.recurrent.LSTMCell object at 0x7f4f7487de50> has the same name 'LSTMCell' as a built-in Keras object. Consider renaming <class 'keras.layers.recurrent.LSTMCell'> to avoid naming conflicts when loading with `tf.keras.models.load_model`. If renaming is not possible, pass the object in the `custom_objects` parameter of the load function.\n"
     ]
    },
    {
     "name": "stdout",
     "output_type": "stream",
     "text": [
      "5250/5250 [==============================] - 393s 75ms/step - loss: 0.0011 - binary_accuracy: 0.9996 - precision: 0.8721 - recall: 0.7497 - val_loss: 0.0012 - val_binary_accuracy: 0.9997 - val_precision: 0.8760 - val_recall: 0.7510\n",
      "Epoch 15/50\n",
      "5250/5250 [==============================] - 390s 74ms/step - loss: 0.0011 - binary_accuracy: 0.9997 - precision: 0.8736 - recall: 0.7540 - val_loss: 0.0012 - val_binary_accuracy: 0.9997 - val_precision: 0.8767 - val_recall: 0.7519\n",
      "Epoch 16/50\n",
      "5250/5250 [==============================] - 391s 74ms/step - loss: 0.0011 - binary_accuracy: 0.9997 - precision: 0.8745 - recall: 0.7577 - val_loss: 0.0012 - val_binary_accuracy: 0.9997 - val_precision: 0.8753 - val_recall: 0.7551\n",
      "Epoch 17/50\n",
      "5250/5250 [==============================] - 389s 74ms/step - loss: 0.0010 - binary_accuracy: 0.9997 - precision: 0.8753 - recall: 0.7607 - val_loss: 0.0012 - val_binary_accuracy: 0.9997 - val_precision: 0.8738 - val_recall: 0.7581\n",
      "Epoch 18/50\n",
      "5250/5250 [==============================] - 390s 74ms/step - loss: 0.0010 - binary_accuracy: 0.9997 - precision: 0.8762 - recall: 0.7635 - val_loss: 0.0012 - val_binary_accuracy: 0.9997 - val_precision: 0.8754 - val_recall: 0.7581\n",
      "CPU times: user 11h 15min 3s, sys: 48min 33s, total: 12h 3min 36s\n",
      "Wall time: 1h 59min 38s\n"
     ]
    }
   ],
   "source": [
    "%%time\n",
    "\n",
    "# Remember to clean obsolete dirs once in a while\n",
    "MODEL_DIR = init_model_dir(MODEL_BASE_DIR)\n",
    "CACHE_DIR = init_cache_dir(CACHE_DIR)\n",
    "\n",
    "batch_size = 128\n",
    "\n",
    "ds_train = (\n",
    "    load_dataset('off_categories', split=TRAIN_SPLIT, features=features, as_supervised=True)\n",
    "    .apply(categories_encode)\n",
    "    .padded_batch(batch_size)\n",
    "    .cache(str(CACHE_DIR / 'train'))\n",
    ")\n",
    "\n",
    "ds_val = (\n",
    "    load_dataset('off_categories', split=VAL_SPLIT, features=features, as_supervised=True)\n",
    "    .apply(categories_encode)\n",
    "    .padded_batch(batch_size)\n",
    "    .cache(str(CACHE_DIR / 'val'))\n",
    ")\n",
    "\n",
    "history = model.fit(\n",
    "    ds_train,\n",
    "    epochs = 50,\n",
    "    validation_data = ds_val,\n",
    "    callbacks = [\n",
    "        callbacks.TerminateOnNaN(),\n",
    "        callbacks.ModelCheckpoint(\n",
    "            filepath = str(MODEL_DIR / \"weights.{epoch:02d}-{val_loss:.4f}\"),\n",
    "            monitor = 'val_loss',\n",
    "            save_best_only = True,\n",
    "            save_format = 'tf',\n",
    "        ),\n",
    "        callbacks.EarlyStopping(monitor='val_loss', patience=4),\n",
    "        callbacks.CSVLogger(str(MODEL_DIR / 'training.log')),\n",
    "        callbacks.History()\n",
    "    ]\n",
    ")"
   ]
  },
  {
   "cell_type": "markdown",
   "id": "6ebb0214",
   "metadata": {},
   "source": [
    "## Training stats"
   ]
  },
  {
   "cell_type": "code",
   "execution_count": 16,
   "id": "ab63d125",
   "metadata": {},
   "outputs": [
    {
     "data": {
      "text/html": [
       "<div>\n",
       "<style scoped>\n",
       "    .dataframe tbody tr th:only-of-type {\n",
       "        vertical-align: middle;\n",
       "    }\n",
       "\n",
       "    .dataframe tbody tr th {\n",
       "        vertical-align: top;\n",
       "    }\n",
       "\n",
       "    .dataframe thead th {\n",
       "        text-align: right;\n",
       "    }\n",
       "</style>\n",
       "<table border=\"1\" class=\"dataframe\">\n",
       "  <thead>\n",
       "    <tr style=\"text-align: right;\">\n",
       "      <th></th>\n",
       "      <th>epoch</th>\n",
       "      <th>binary_accuracy</th>\n",
       "      <th>loss</th>\n",
       "      <th>precision</th>\n",
       "      <th>recall</th>\n",
       "      <th>val_binary_accuracy</th>\n",
       "      <th>val_loss</th>\n",
       "      <th>val_precision</th>\n",
       "      <th>val_recall</th>\n",
       "    </tr>\n",
       "  </thead>\n",
       "  <tbody>\n",
       "    <tr>\n",
       "      <th>0</th>\n",
       "      <td>0</td>\n",
       "      <td>0.998731</td>\n",
       "      <td>0.007167</td>\n",
       "      <td>0.106605</td>\n",
       "      <td>0.043838</td>\n",
       "      <td>0.999185</td>\n",
       "      <td>0.003561</td>\n",
       "      <td>0.790913</td>\n",
       "      <td>0.162885</td>\n",
       "    </tr>\n",
       "    <tr>\n",
       "      <th>1</th>\n",
       "      <td>1</td>\n",
       "      <td>0.999308</td>\n",
       "      <td>0.002938</td>\n",
       "      <td>0.791225</td>\n",
       "      <td>0.322417</td>\n",
       "      <td>0.999450</td>\n",
       "      <td>0.002039</td>\n",
       "      <td>0.868896</td>\n",
       "      <td>0.478164</td>\n",
       "    </tr>\n",
       "    <tr>\n",
       "      <th>2</th>\n",
       "      <td>2</td>\n",
       "      <td>0.999478</td>\n",
       "      <td>0.001997</td>\n",
       "      <td>0.828776</td>\n",
       "      <td>0.529051</td>\n",
       "      <td>0.999551</td>\n",
       "      <td>0.001606</td>\n",
       "      <td>0.875782</td>\n",
       "      <td>0.600384</td>\n",
       "    </tr>\n",
       "    <tr>\n",
       "      <th>3</th>\n",
       "      <td>3</td>\n",
       "      <td>0.999513</td>\n",
       "      <td>0.001667</td>\n",
       "      <td>0.842227</td>\n",
       "      <td>0.607580</td>\n",
       "      <td>0.999595</td>\n",
       "      <td>0.001422</td>\n",
       "      <td>0.876189</td>\n",
       "      <td>0.654686</td>\n",
       "    </tr>\n",
       "    <tr>\n",
       "      <th>4</th>\n",
       "      <td>4</td>\n",
       "      <td>0.999534</td>\n",
       "      <td>0.001498</td>\n",
       "      <td>0.849599</td>\n",
       "      <td>0.648020</td>\n",
       "      <td>0.999618</td>\n",
       "      <td>0.001324</td>\n",
       "      <td>0.878287</td>\n",
       "      <td>0.682285</td>\n",
       "    </tr>\n",
       "    <tr>\n",
       "      <th>5</th>\n",
       "      <td>5</td>\n",
       "      <td>0.999554</td>\n",
       "      <td>0.001393</td>\n",
       "      <td>0.854053</td>\n",
       "      <td>0.673676</td>\n",
       "      <td>0.999634</td>\n",
       "      <td>0.001271</td>\n",
       "      <td>0.878943</td>\n",
       "      <td>0.701318</td>\n",
       "    </tr>\n",
       "    <tr>\n",
       "      <th>6</th>\n",
       "      <td>6</td>\n",
       "      <td>0.999573</td>\n",
       "      <td>0.001318</td>\n",
       "      <td>0.858360</td>\n",
       "      <td>0.692392</td>\n",
       "      <td>0.999645</td>\n",
       "      <td>0.001233</td>\n",
       "      <td>0.877227</td>\n",
       "      <td>0.716873</td>\n",
       "    </tr>\n",
       "    <tr>\n",
       "      <th>7</th>\n",
       "      <td>7</td>\n",
       "      <td>0.999592</td>\n",
       "      <td>0.001262</td>\n",
       "      <td>0.861749</td>\n",
       "      <td>0.706768</td>\n",
       "      <td>0.999653</td>\n",
       "      <td>0.001211</td>\n",
       "      <td>0.877463</td>\n",
       "      <td>0.725726</td>\n",
       "    </tr>\n",
       "    <tr>\n",
       "      <th>8</th>\n",
       "      <td>8</td>\n",
       "      <td>0.999606</td>\n",
       "      <td>0.001217</td>\n",
       "      <td>0.863979</td>\n",
       "      <td>0.717510</td>\n",
       "      <td>0.999657</td>\n",
       "      <td>0.001194</td>\n",
       "      <td>0.876640</td>\n",
       "      <td>0.733526</td>\n",
       "    </tr>\n",
       "    <tr>\n",
       "      <th>9</th>\n",
       "      <td>9</td>\n",
       "      <td>0.999617</td>\n",
       "      <td>0.001184</td>\n",
       "      <td>0.866158</td>\n",
       "      <td>0.726066</td>\n",
       "      <td>0.999661</td>\n",
       "      <td>0.001184</td>\n",
       "      <td>0.877389</td>\n",
       "      <td>0.737842</td>\n",
       "    </tr>\n",
       "    <tr>\n",
       "      <th>10</th>\n",
       "      <td>10</td>\n",
       "      <td>0.999629</td>\n",
       "      <td>0.001153</td>\n",
       "      <td>0.868401</td>\n",
       "      <td>0.733606</td>\n",
       "      <td>0.999665</td>\n",
       "      <td>0.001177</td>\n",
       "      <td>0.874387</td>\n",
       "      <td>0.746018</td>\n",
       "    </tr>\n",
       "    <tr>\n",
       "      <th>11</th>\n",
       "      <td>11</td>\n",
       "      <td>0.999636</td>\n",
       "      <td>0.001128</td>\n",
       "      <td>0.869707</td>\n",
       "      <td>0.739800</td>\n",
       "      <td>0.999667</td>\n",
       "      <td>0.001175</td>\n",
       "      <td>0.877078</td>\n",
       "      <td>0.745558</td>\n",
       "    </tr>\n",
       "    <tr>\n",
       "      <th>12</th>\n",
       "      <td>12</td>\n",
       "      <td>0.999643</td>\n",
       "      <td>0.001107</td>\n",
       "      <td>0.871051</td>\n",
       "      <td>0.745220</td>\n",
       "      <td>0.999668</td>\n",
       "      <td>0.001171</td>\n",
       "      <td>0.875736</td>\n",
       "      <td>0.749219</td>\n",
       "    </tr>\n",
       "    <tr>\n",
       "      <th>13</th>\n",
       "      <td>13</td>\n",
       "      <td>0.999649</td>\n",
       "      <td>0.001089</td>\n",
       "      <td>0.872144</td>\n",
       "      <td>0.749668</td>\n",
       "      <td>0.999670</td>\n",
       "      <td>0.001170</td>\n",
       "      <td>0.876005</td>\n",
       "      <td>0.751002</td>\n",
       "    </tr>\n",
       "    <tr>\n",
       "      <th>14</th>\n",
       "      <td>14</td>\n",
       "      <td>0.999653</td>\n",
       "      <td>0.001069</td>\n",
       "      <td>0.873569</td>\n",
       "      <td>0.753996</td>\n",
       "      <td>0.999672</td>\n",
       "      <td>0.001172</td>\n",
       "      <td>0.876703</td>\n",
       "      <td>0.751862</td>\n",
       "    </tr>\n",
       "    <tr>\n",
       "      <th>15</th>\n",
       "      <td>15</td>\n",
       "      <td>0.999657</td>\n",
       "      <td>0.001056</td>\n",
       "      <td>0.874545</td>\n",
       "      <td>0.757731</td>\n",
       "      <td>0.999673</td>\n",
       "      <td>0.001172</td>\n",
       "      <td>0.875259</td>\n",
       "      <td>0.755054</td>\n",
       "    </tr>\n",
       "    <tr>\n",
       "      <th>16</th>\n",
       "      <td>16</td>\n",
       "      <td>0.999660</td>\n",
       "      <td>0.001043</td>\n",
       "      <td>0.875333</td>\n",
       "      <td>0.760705</td>\n",
       "      <td>0.999674</td>\n",
       "      <td>0.001171</td>\n",
       "      <td>0.873752</td>\n",
       "      <td>0.758134</td>\n",
       "    </tr>\n",
       "    <tr>\n",
       "      <th>17</th>\n",
       "      <td>17</td>\n",
       "      <td>0.999664</td>\n",
       "      <td>0.001032</td>\n",
       "      <td>0.876158</td>\n",
       "      <td>0.763479</td>\n",
       "      <td>0.999675</td>\n",
       "      <td>0.001171</td>\n",
       "      <td>0.875386</td>\n",
       "      <td>0.758070</td>\n",
       "    </tr>\n",
       "  </tbody>\n",
       "</table>\n",
       "</div>"
      ],
      "text/plain": [
       "    epoch  binary_accuracy      loss  precision    recall  \\\n",
       "0       0         0.998731  0.007167   0.106605  0.043838   \n",
       "1       1         0.999308  0.002938   0.791225  0.322417   \n",
       "2       2         0.999478  0.001997   0.828776  0.529051   \n",
       "3       3         0.999513  0.001667   0.842227  0.607580   \n",
       "4       4         0.999534  0.001498   0.849599  0.648020   \n",
       "5       5         0.999554  0.001393   0.854053  0.673676   \n",
       "6       6         0.999573  0.001318   0.858360  0.692392   \n",
       "7       7         0.999592  0.001262   0.861749  0.706768   \n",
       "8       8         0.999606  0.001217   0.863979  0.717510   \n",
       "9       9         0.999617  0.001184   0.866158  0.726066   \n",
       "10     10         0.999629  0.001153   0.868401  0.733606   \n",
       "11     11         0.999636  0.001128   0.869707  0.739800   \n",
       "12     12         0.999643  0.001107   0.871051  0.745220   \n",
       "13     13         0.999649  0.001089   0.872144  0.749668   \n",
       "14     14         0.999653  0.001069   0.873569  0.753996   \n",
       "15     15         0.999657  0.001056   0.874545  0.757731   \n",
       "16     16         0.999660  0.001043   0.875333  0.760705   \n",
       "17     17         0.999664  0.001032   0.876158  0.763479   \n",
       "\n",
       "    val_binary_accuracy  val_loss  val_precision  val_recall  \n",
       "0              0.999185  0.003561       0.790913    0.162885  \n",
       "1              0.999450  0.002039       0.868896    0.478164  \n",
       "2              0.999551  0.001606       0.875782    0.600384  \n",
       "3              0.999595  0.001422       0.876189    0.654686  \n",
       "4              0.999618  0.001324       0.878287    0.682285  \n",
       "5              0.999634  0.001271       0.878943    0.701318  \n",
       "6              0.999645  0.001233       0.877227    0.716873  \n",
       "7              0.999653  0.001211       0.877463    0.725726  \n",
       "8              0.999657  0.001194       0.876640    0.733526  \n",
       "9              0.999661  0.001184       0.877389    0.737842  \n",
       "10             0.999665  0.001177       0.874387    0.746018  \n",
       "11             0.999667  0.001175       0.877078    0.745558  \n",
       "12             0.999668  0.001171       0.875736    0.749219  \n",
       "13             0.999670  0.001170       0.876005    0.751002  \n",
       "14             0.999672  0.001172       0.876703    0.751862  \n",
       "15             0.999673  0.001172       0.875259    0.755054  \n",
       "16             0.999674  0.001171       0.873752    0.758134  \n",
       "17             0.999675  0.001171       0.875386    0.758070  "
      ]
     },
     "execution_count": 16,
     "metadata": {},
     "output_type": "execute_result"
    }
   ],
   "source": [
    "stats = pd.read_csv(MODEL_DIR / 'training.log')\n",
    "stats"
   ]
  },
  {
   "cell_type": "code",
   "execution_count": 17,
   "id": "c6244c7a",
   "metadata": {},
   "outputs": [
    {
     "data": {
      "image/png": "[encoded data removed]",
      "text/plain": [
       "<Figure size 936x288 with 2 Axes>"
      ]
     },
     "metadata": {
      "needs_background": "light"
     },
     "output_type": "display_data"
    }
   ],
   "source": [
    "_, (ax1, ax2) = plt.subplots(1, 2, figsize=(13,4))\n",
    "\n",
    "plot_training_stat(stats, 'loss', ax1)\n",
    "plot_training_stat(stats, 'binary_accuracy', ax2)"
   ]
  },
  {
   "cell_type": "markdown",
   "id": "2d157d84",
   "metadata": {},
   "source": [
    "# Save model and resources"
   ]
  },
  {
   "cell_type": "code",
   "execution_count": 18,
   "id": "441077ff",
   "metadata": {},
   "outputs": [
    {
     "name": "stdout",
     "output_type": "stream",
     "text": [
      "INFO:tensorflow:Assets written to: ../model.20220610-113859/saved_model/assets\n"
     ]
    },
    {
     "name": "stderr",
     "output_type": "stream",
     "text": [
      "INFO:tensorflow:Assets written to: ../model.20220610-113859/saved_model/assets\n",
      "WARNING:absl:<keras.layers.recurrent.LSTMCell object at 0x7f4f7487d430> has the same name 'LSTMCell' as a built-in Keras object. Consider renaming <class 'keras.layers.recurrent.LSTMCell'> to avoid naming conflicts when loading with `tf.keras.models.load_model`. If renaming is not possible, pass the object in the `custom_objects` parameter of the load function.\n",
      "WARNING:absl:<keras.layers.recurrent.LSTMCell object at 0x7f4f7487de50> has the same name 'LSTMCell' as a built-in Keras object. Consider renaming <class 'keras.layers.recurrent.LSTMCell'> to avoid naming conflicts when loading with `tf.keras.models.load_model`. If renaming is not possible, pass the object in the `custom_objects` parameter of the load function.\n"
     ]
    }
   ],
   "source": [
    "SAVED_MODEL_DIR = MODEL_DIR / 'saved_model'\n",
    "\n",
    "@tf.function\n",
    "def serving_func(*args, **kwargs):\n",
    "    preds = model(*args, **kwargs)\n",
    "    return top_labeled_predictions(preds, categories_vocab, k=50)\n",
    "\n",
    "save_model(SAVED_MODEL_DIR, model, categories_vocab, serving_func)"
   ]
  },
  {
   "cell_type": "markdown",
   "id": "38a29603",
   "metadata": {},
   "source": [
    "# Test model"
   ]
  },
  {
   "cell_type": "code",
   "execution_count": 19,
   "id": "cdba60dc",
   "metadata": {},
   "outputs": [
    {
     "name": "stderr",
     "output_type": "stream",
     "text": [
      "2022-06-13 11:07:22.181977: W tensorflow/stream_executor/platform/default/dso_loader.cc:64] Could not load dynamic library 'libcuda.so.1'; dlerror: libcuda.so.1: cannot open shared object file: No such file or directory\n",
      "2022-06-13 11:07:22.181998: W tensorflow/stream_executor/cuda/cuda_driver.cc:269] failed call to cuInit: UNKNOWN ERROR (303)\n",
      "2022-06-13 11:07:22.182026: I tensorflow/stream_executor/cuda/cuda_diagnostics.cc:156] kernel driver does not appear to be running on this host (alba): /proc/driver/nvidia/version does not exist\n",
      "2022-06-13 11:07:22.182182: I tensorflow/core/platform/cpu_feature_guard.cc:151] This TensorFlow binary is optimized with oneAPI Deep Neural Network Library (oneDNN) to use the following CPU instructions in performance-critical operations:  AVX2 AVX512F FMA\n",
      "To enable them in other operations, rebuild TensorFlow with the appropriate compiler flags.\n"
     ]
    }
   ],
   "source": [
    "m, labels = load_model(SAVED_MODEL_DIR)"
   ]
  },
  {
   "cell_type": "code",
   "execution_count": 20,
   "id": "cff4364b",
   "metadata": {},
   "outputs": [],
   "source": [
    "ds_test = load_dataset('off_categories', split=TEST_SPLIT)"
   ]
  },
  {
   "cell_type": "code",
   "execution_count": 21,
   "id": "2df9fcc3",
   "metadata": {},
   "outputs": [
    {
     "name": "stderr",
     "output_type": "stream",
     "text": [
      "/home/gabriel/.pyenv/versions/3.8.13/envs/venv-off-tf28/lib/python3.8/site-packages/keras/engine/functional.py:559: UserWarning: Input dict contained keys ['categories_tags', 'code'] which did not match any model input. They will be ignored by the model.\n",
      "  inputs = self._flatten_to_reference_inputs(inputs)\n"
     ]
    },
    {
     "name": "stdout",
     "output_type": "stream",
     "text": [
      "CPU times: user 29.1 s, sys: 3.9 s, total: 33 s\n",
      "Wall time: 6.19 s\n"
     ]
    },
    {
     "data": {
      "text/plain": [
       "array([[9.2338169e-01, 9.1812074e-01, 1.1689961e-03, ..., 2.3601480e-08,\n",
       "        2.7538024e-07, 3.2840742e-08],\n",
       "       [8.8147974e-01, 8.7351203e-01, 2.8353930e-04, ..., 7.5147000e-11,\n",
       "        3.8100993e-09, 6.3007155e-07],\n",
       "       [9.7078896e-01, 9.7021067e-01, 1.7446170e-07, ..., 6.8437152e-14,\n",
       "        1.2844977e-12, 3.3839781e-10],\n",
       "       ...,\n",
       "       [2.1886206e-01, 2.0773542e-01, 1.7316398e-01, ..., 6.1721825e-05,\n",
       "        7.0206559e-05, 6.2197316e-05],\n",
       "       [4.1987896e-03, 7.6553226e-04, 6.0066777e-05, ..., 5.4362738e-12,\n",
       "        3.2658498e-10, 2.5570373e-06],\n",
       "       [2.3281223e-06, 2.7602388e-07, 9.1620833e-01, ..., 2.8868532e-08,\n",
       "        4.4399904e-11, 1.9896805e-13]], dtype=float32)"
      ]
     },
     "execution_count": 21,
     "metadata": {},
     "output_type": "execute_result"
    }
   ],
   "source": [
    "%%time\n",
    "\n",
    "preds_test = m.predict(ds_test.padded_batch(128))\n",
    "preds_test"
   ]
  },
  {
   "cell_type": "code",
   "execution_count": 22,
   "id": "bad3cac1",
   "metadata": {},
   "outputs": [
    {
     "data": {
      "text/plain": [
       "(<tf.Tensor: shape=(85760, 3), dtype=float32, numpy=\n",
       " array([[0.9491619 , 0.9342787 , 0.9293441 ],\n",
       "        [0.91675323, 0.8837776 , 0.88147974],\n",
       "        [0.97430325, 0.97078896, 0.9702107 ],\n",
       "        ...,\n",
       "        [0.23283073, 0.21886206, 0.20773542],\n",
       "        [0.956066  , 0.94531786, 0.94348717],\n",
       "        [0.9699911 , 0.9192833 , 0.9162083 ]], dtype=float32)>,\n",
       " <tf.Tensor: shape=(85760, 3), dtype=string, numpy=\n",
       " array([[b'en:spreads', b'en:fruit-and-vegetable-preserves',\n",
       "         b'en:plant-based-spreads'],\n",
       "        [b'en:fruits-and-vegetables-based-foods', b'en:compotes',\n",
       "         b'en:plant-based-foods-and-beverages'],\n",
       "        [b'en:fruits-and-vegetables-based-foods',\n",
       "         b'en:plant-based-foods-and-beverages', b'en:plant-based-foods'],\n",
       "        ...,\n",
       "        [b'en:beverages', b'en:plant-based-foods-and-beverages',\n",
       "         b'en:plant-based-foods'],\n",
       "        [b'en:dairies', b'en:fermented-foods',\n",
       "         b'en:fermented-milk-products'],\n",
       "        [b'en:cocoa-and-its-products', b'en:sweet-snacks', b'en:snacks']],\n",
       "       dtype=object)>)"
      ]
     },
     "execution_count": 22,
     "metadata": {},
     "output_type": "execute_result"
    }
   ],
   "source": [
    "# This is the function exported as the default serving function in our saved model\n",
    "top_preds_test = top_labeled_predictions(preds_test, labels, k=3)\n",
    "top_preds_test"
   ]
  },
  {
   "cell_type": "code",
   "execution_count": 23,
   "id": "b0f3aad7",
   "metadata": {},
   "outputs": [
    {
     "data": {
      "text/html": [
       "<div>\n",
       "<style scoped>\n",
       "    .dataframe tbody tr th:only-of-type {\n",
       "        vertical-align: middle;\n",
       "    }\n",
       "\n",
       "    .dataframe tbody tr th {\n",
       "        vertical-align: top;\n",
       "    }\n",
       "\n",
       "    .dataframe thead th {\n",
       "        text-align: right;\n",
       "    }\n",
       "</style>\n",
       "<table border=\"1\" class=\"dataframe\">\n",
       "  <thead>\n",
       "    <tr style=\"text-align: right;\">\n",
       "      <th></th>\n",
       "      <th>code</th>\n",
       "      <th>product_name</th>\n",
       "      <th>top prediction 1</th>\n",
       "      <th>top prediction 2</th>\n",
       "      <th>top prediction 3</th>\n",
       "    </tr>\n",
       "  </thead>\n",
       "  <tbody>\n",
       "    <tr>\n",
       "      <th>0</th>\n",
       "      <td>0637793029422</td>\n",
       "      <td>Blueberry preserve</td>\n",
       "      <td>en:spreads: 94.92%</td>\n",
       "      <td>en:fruit-and-vegetable-preserves: 93.43%</td>\n",
       "      <td>en:plant-based-spreads: 92.93%</td>\n",
       "    </tr>\n",
       "    <tr>\n",
       "      <th>1</th>\n",
       "      <td>5400141381191</td>\n",
       "      <td>Mousseline de pommes</td>\n",
       "      <td>en:fruits-and-vegetables-based-foods: 91.68%</td>\n",
       "      <td>en:compotes: 88.38%</td>\n",
       "      <td>en:plant-based-foods-and-beverages: 88.15%</td>\n",
       "    </tr>\n",
       "    <tr>\n",
       "      <th>2</th>\n",
       "      <td>3250392084080</td>\n",
       "      <td>Choux-Fleurs Bio</td>\n",
       "      <td>en:fruits-and-vegetables-based-foods: 97.43%</td>\n",
       "      <td>en:plant-based-foods-and-beverages: 97.08%</td>\n",
       "      <td>en:plant-based-foods: 97.02%</td>\n",
       "    </tr>\n",
       "    <tr>\n",
       "      <th>3</th>\n",
       "      <td>8425275510085</td>\n",
       "      <td>Aceite de oliva virgen extra</td>\n",
       "      <td>en:fats: 99.91%</td>\n",
       "      <td>en:plant-based-foods-and-beverages: 99.90%</td>\n",
       "      <td>en:plant-based-foods: 99.89%</td>\n",
       "    </tr>\n",
       "    <tr>\n",
       "      <th>4</th>\n",
       "      <td>4260193516047</td>\n",
       "      <td>Yörem Ayran</td>\n",
       "      <td>en:beverages: 93.01%</td>\n",
       "      <td>en:fermented-foods: 78.44%</td>\n",
       "      <td>en:fermented-milk-products: 76.72%</td>\n",
       "    </tr>\n",
       "    <tr>\n",
       "      <th>...</th>\n",
       "      <td>...</td>\n",
       "      <td>...</td>\n",
       "      <td>...</td>\n",
       "      <td>...</td>\n",
       "      <td>...</td>\n",
       "    </tr>\n",
       "    <tr>\n",
       "      <th>85755</th>\n",
       "      <td>8410500021757</td>\n",
       "      <td>Oikos tentaciones tarta de arándanos</td>\n",
       "      <td>en:fermented-foods: 96.50%</td>\n",
       "      <td>en:dairies: 95.54%</td>\n",
       "      <td>en:fermented-milk-products: 94.57%</td>\n",
       "    </tr>\n",
       "    <tr>\n",
       "      <th>85756</th>\n",
       "      <td>0810176020524</td>\n",
       "      <td>Beef jerky</td>\n",
       "      <td>en:snacks: 65.96%</td>\n",
       "      <td>en:beef-jerkies: 55.97%</td>\n",
       "      <td>en:meats: 55.51%</td>\n",
       "    </tr>\n",
       "    <tr>\n",
       "      <th>85757</th>\n",
       "      <td>4820003487471</td>\n",
       "      <td>ідеаль немолоко вівсяне</td>\n",
       "      <td>en:beverages: 23.28%</td>\n",
       "      <td>en:plant-based-foods-and-beverages: 21.89%</td>\n",
       "      <td>en:plant-based-foods: 20.77%</td>\n",
       "    </tr>\n",
       "    <tr>\n",
       "      <th>85758</th>\n",
       "      <td>7613269520931</td>\n",
       "      <td>Mozzarella</td>\n",
       "      <td>en:dairies: 95.61%</td>\n",
       "      <td>en:fermented-foods: 94.53%</td>\n",
       "      <td>en:fermented-milk-products: 94.35%</td>\n",
       "    </tr>\n",
       "    <tr>\n",
       "      <th>85759</th>\n",
       "      <td>3770012174200</td>\n",
       "      <td>Coffret Verres en Chocolat</td>\n",
       "      <td>en:cocoa-and-its-products: 97.00%</td>\n",
       "      <td>en:sweet-snacks: 91.93%</td>\n",
       "      <td>en:snacks: 91.62%</td>\n",
       "    </tr>\n",
       "  </tbody>\n",
       "</table>\n",
       "<p>85760 rows × 5 columns</p>\n",
       "</div>"
      ],
      "text/plain": [
       "                code                          product_name  \\\n",
       "0      0637793029422                    Blueberry preserve   \n",
       "1      5400141381191                  Mousseline de pommes   \n",
       "2      3250392084080                      Choux-Fleurs Bio   \n",
       "3      8425275510085          Aceite de oliva virgen extra   \n",
       "4      4260193516047                           Yörem Ayran   \n",
       "...              ...                                   ...   \n",
       "85755  8410500021757  Oikos tentaciones tarta de arándanos   \n",
       "85756  0810176020524                            Beef jerky   \n",
       "85757  4820003487471               ідеаль немолоко вівсяне   \n",
       "85758  7613269520931                            Mozzarella   \n",
       "85759  3770012174200            Coffret Verres en Chocolat   \n",
       "\n",
       "                                   top prediction 1  \\\n",
       "0                                en:spreads: 94.92%   \n",
       "1      en:fruits-and-vegetables-based-foods: 91.68%   \n",
       "2      en:fruits-and-vegetables-based-foods: 97.43%   \n",
       "3                                   en:fats: 99.91%   \n",
       "4                              en:beverages: 93.01%   \n",
       "...                                             ...   \n",
       "85755                    en:fermented-foods: 96.50%   \n",
       "85756                             en:snacks: 65.96%   \n",
       "85757                          en:beverages: 23.28%   \n",
       "85758                            en:dairies: 95.61%   \n",
       "85759             en:cocoa-and-its-products: 97.00%   \n",
       "\n",
       "                                 top prediction 2  \\\n",
       "0        en:fruit-and-vegetable-preserves: 93.43%   \n",
       "1                             en:compotes: 88.38%   \n",
       "2      en:plant-based-foods-and-beverages: 97.08%   \n",
       "3      en:plant-based-foods-and-beverages: 99.90%   \n",
       "4                      en:fermented-foods: 78.44%   \n",
       "...                                           ...   \n",
       "85755                          en:dairies: 95.54%   \n",
       "85756                     en:beef-jerkies: 55.97%   \n",
       "85757  en:plant-based-foods-and-beverages: 21.89%   \n",
       "85758                  en:fermented-foods: 94.53%   \n",
       "85759                     en:sweet-snacks: 91.93%   \n",
       "\n",
       "                                 top prediction 3  \n",
       "0                  en:plant-based-spreads: 92.93%  \n",
       "1      en:plant-based-foods-and-beverages: 88.15%  \n",
       "2                    en:plant-based-foods: 97.02%  \n",
       "3                    en:plant-based-foods: 99.89%  \n",
       "4              en:fermented-milk-products: 76.72%  \n",
       "...                                           ...  \n",
       "85755          en:fermented-milk-products: 94.57%  \n",
       "85756                            en:meats: 55.51%  \n",
       "85757                en:plant-based-foods: 20.77%  \n",
       "85758          en:fermented-milk-products: 94.35%  \n",
       "85759                           en:snacks: 91.62%  \n",
       "\n",
       "[85760 rows x 5 columns]"
      ]
     },
     "execution_count": 23,
     "metadata": {},
     "output_type": "execute_result"
    }
   ],
   "source": [
    "# Same data, but pretty\n",
    "pred_table_test = top_predictions_table(top_preds_test)\n",
    "\n",
    "# Add some interpretable features to the final table\n",
    "# Table must be row-aligned with predictions above (= taken from same data sample)\n",
    "extra_cols_test = as_dataframe(select_features(ds_test, ['code', 'product_name']))\n",
    "\n",
    "pd.concat([extra_cols_test, pred_table_test], axis=1)"
   ]
  },
  {
   "cell_type": "code",
   "execution_count": 24,
   "id": "fb2d9a2d",
   "metadata": {},
   "outputs": [
    {
     "data": {
      "text/plain": [
       "1.0960182832484406e-05"
      ]
     },
     "execution_count": 24,
     "metadata": {},
     "output_type": "execute_result"
    }
   ],
   "source": [
    "# codecarbon - stop tracking\n",
    "tracker.stop()"
   ]
  }
 ],
 "metadata": {
  "kernelspec": {
   "display_name": "Python 3",
   "language": "python",
   "name": "python3"
  },
  "language_info": {
   "codemirror_mode": {
    "name": "ipython",
    "version": 3
   },
   "file_extension": ".py",
   "mimetype": "text/x-python",
   "name": "python",
   "nbconvert_exporter": "python",
   "pygments_lexer": "ipython3",
   "version": "3.8.10"
  },
  "toc": {
   "base_numbering": 1,
   "nav_menu": {},
   "number_sections": false,
   "sideBar": true,
   "skip_h1_title": false,
   "title_cell": "Table of Contents",
   "title_sidebar": "Contents",
   "toc_cell": false,
   "toc_position": {},
   "toc_section_display": true,
   "toc_window_display": true
  }
 },
 "nbformat": 4,
 "nbformat_minor": 5
}
