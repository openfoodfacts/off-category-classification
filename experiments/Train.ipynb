{
 "cells": [
  {
   "cell_type": "markdown",
   "id": "064e2d60",
   "metadata": {},
   "source": [
    "# INDEX\n",
    "* [Imports and functions](#Imports-and-functions)\n",
    "* [Configuration](#Configuration)\n",
    "* [Prepare dataset](#Prepare-dataset)\n",
    "* [Build model](#Build-model)\n",
    "    * [Model inputs](#Model-inputs)\n",
    "    * [Model output](#Model-output)\n",
    "    * [Model](#Model)\n",
    "* [Train model](#Train-model)\n",
    "    * [Training stats](#Training-stats)\n",
    "* [Save model and resources](#Save-model-and-resources)\n",
    "* [Test model](#Test-model)"
   ]
  },
  {
   "cell_type": "code",
   "execution_count": 1,
   "id": "9bcfaa2d",
   "metadata": {
    "scrolled": true
   },
   "outputs": [],
   "source": [
    "# # codecarbon - start tracking\n",
    "# from codecarbon import EmissionsTracker\n",
    "\n",
    "# tracker = EmissionsTracker(log_level = \"WARNING\", save_to_api = True, experiment_id = \"6d2c8401-afba-42de-9600-6e95bea5fd80\")\n",
    "# tracker.start()"
   ]
  },
  {
   "cell_type": "markdown",
   "id": "d481d404",
   "metadata": {},
   "source": [
    "# Imports"
   ]
  },
  {
   "cell_type": "code",
   "execution_count": 2,
   "id": "80c4f3c2",
   "metadata": {},
   "outputs": [],
   "source": [
    "import sys\n",
    "sys.path.append('../') #append a relative path to the top package to the search path"
   ]
  },
  {
   "cell_type": "code",
   "execution_count": 3,
   "id": "fda92a68",
   "metadata": {},
   "outputs": [
    {
     "name": "stderr",
     "output_type": "stream",
     "text": [
      "2022-06-08 18:30:57.457218: W tensorflow/stream_executor/platform/default/dso_loader.cc:64] Could not load dynamic library 'libcudart.so.11.0'; dlerror: libcudart.so.11.0: cannot open shared object file: No such file or directory\n",
      "2022-06-08 18:30:57.457286: I tensorflow/stream_executor/cuda/cudart_stub.cc:29] Ignore above cudart dlerror if you do not have a GPU set up on your machine.\n",
      "/home/gabriel/.pyenv/versions/3.8.13/envs/venv-off-tf28/lib/python3.8/site-packages/tqdm/auto.py:22: TqdmWarning: IProgress not found. Please update jupyter and ipywidgets. See https://ipywidgets.readthedocs.io/en/stable/user_install.html\n",
      "  from .autonotebook import tqdm as notebook_tqdm\n"
     ]
    }
   ],
   "source": [
    "import pathlib\n",
    "\n",
    "import matplotlib.pyplot as plt\n",
    "import pandas as pd\n",
    "import tensorflow as tf\n",
    "import tensorflow_datasets as tfds\n",
    "from tensorflow.keras import callbacks, layers\n",
    "from tensorflow.keras.utils import plot_model\n",
    "\n",
    "from lib.dataset import *\n",
    "from lib.directories import init_cache_dir, init_model_dir\n",
    "from lib.io import export_model\n",
    "from lib.model import top_labeled_predictions, top_predictions_table\n",
    "from lib.plot import plot_training_stat"
   ]
  },
  {
   "cell_type": "markdown",
   "id": "b1bfc7ed",
   "metadata": {},
   "source": [
    "# Configuration"
   ]
  },
  {
   "cell_type": "code",
   "execution_count": 4,
   "id": "a92c3dd7",
   "metadata": {
    "scrolled": true
   },
   "outputs": [],
   "source": [
    "MODEL_BASE_DIR = pathlib.Path('../model')\n",
    "CACHE_DIR = pathlib.Path('../tensorflow_cache')\n",
    "\n",
    "PREPROC_BATCH_SIZE = 10_000  # some large value, only affects execution time\n",
    "\n",
    "# splits are handled by `tfds.load`, see doc for more elaborate ways to sample\n",
    "TRAIN_SPLIT = 'train[:5%]'\n",
    "VAL_SPLIT = 'train[5%:6%]'\n",
    "TEST_SPLIT = 'train[6%:7%]'"
   ]
  },
  {
   "cell_type": "markdown",
   "id": "24785109",
   "metadata": {},
   "source": [
    "# Prepare dataset\n",
    "\n",
    "Run this once to fetch, build and cache the dataset.\n",
    "Further runs will be no-ops, unless you force operations (see TFDS doc).\n",
    "\n",
    "Once this is done, `load_dataset('off_categories', ...)` to access the dataset."
   ]
  },
  {
   "cell_type": "code",
   "execution_count": 5,
   "id": "cda1dad4",
   "metadata": {},
   "outputs": [],
   "source": [
    "import datasets.off_categories\n",
    "\n",
    "builder = tfds.builder('off_categories')\n",
    "builder.download_and_prepare()\n",
    "\n",
    "# Or run via command line (if `tfds` is in the path):\n",
    "# !cd ../datasets && tfds build off_categories"
   ]
  },
  {
   "cell_type": "markdown",
   "id": "eb92b58e",
   "metadata": {},
   "source": [
    "# Build model"
   ]
  },
  {
   "cell_type": "code",
   "execution_count": 6,
   "id": "2ee58091",
   "metadata": {},
   "outputs": [],
   "source": [
    "tf.random.set_seed(42)"
   ]
  },
  {
   "cell_type": "markdown",
   "id": "993bb1d8",
   "metadata": {},
   "source": [
    "## Model inputs"
   ]
  },
  {
   "cell_type": "code",
   "execution_count": 7,
   "id": "531185de",
   "metadata": {},
   "outputs": [],
   "source": [
    "# we use dicts so rerunning individual model cells is idempotent\n",
    "inputs = {}\n",
    "input_graphs = {}"
   ]
  },
  {
   "cell_type": "code",
   "execution_count": 8,
   "id": "8353a5f1",
   "metadata": {},
   "outputs": [
    {
     "name": "stderr",
     "output_type": "stream",
     "text": [
      "2022-06-08 18:30:58.584101: W tensorflow/stream_executor/platform/default/dso_loader.cc:64] Could not load dynamic library 'libcuda.so.1'; dlerror: libcuda.so.1: cannot open shared object file: No such file or directory\n",
      "2022-06-08 18:30:58.584128: W tensorflow/stream_executor/cuda/cuda_driver.cc:269] failed call to cuInit: UNKNOWN ERROR (303)\n",
      "2022-06-08 18:30:58.584139: I tensorflow/stream_executor/cuda/cuda_diagnostics.cc:156] kernel driver does not appear to be running on this host (alba): /proc/driver/nvidia/version does not exist\n",
      "2022-06-08 18:30:58.584326: I tensorflow/core/platform/cpu_feature_guard.cc:151] This TensorFlow binary is optimized with oneAPI Deep Neural Network Library (oneDNN) to use the following CPU instructions in performance-critical operations:  AVX2 AVX512F FMA\n",
      "To enable them in other operations, rebuild TensorFlow with the appropriate compiler flags.\n"
     ]
    }
   ],
   "source": [
    "ds = load_dataset('off_categories', split=TRAIN_SPLIT)"
   ]
  },
  {
   "cell_type": "code",
   "execution_count": 9,
   "id": "c61fec40",
   "metadata": {},
   "outputs": [
    {
     "name": "stdout",
     "output_type": "stream",
     "text": [
      "CPU times: user 2 s, sys: 913 ms, total: 2.91 s\n",
      "Wall time: 753 ms\n"
     ]
    },
    {
     "data": {
      "text/plain": [
       "21947"
      ]
     },
     "execution_count": 9,
     "metadata": {},
     "output_type": "execute_result"
    }
   ],
   "source": [
    "%%time\n",
    "\n",
    "feature_name = 'product_name'\n",
    "\n",
    "product_name_input = tf.keras.Input(shape=(1,), dtype=tf.string, name=feature_name)\n",
    "\n",
    "product_name_vectorizer = layers.TextVectorization(\n",
    "    split = 'whitespace',\n",
    "    max_tokens = 93_000,\n",
    "    output_sequence_length = 30)\n",
    "\n",
    "product_name_vectorizer.adapt(\n",
    "    select_feature(ds, feature_name).batch(PREPROC_BATCH_SIZE))\n",
    "\n",
    "x = product_name_vectorizer(product_name_input)\n",
    "\n",
    "x = layers.Embedding(\n",
    "    input_dim = product_name_vectorizer.vocabulary_size(),\n",
    "    output_dim = 64,\n",
    "    mask_zero = False)(x)\n",
    "\n",
    "product_name_graph = layers.Bidirectional(layers.LSTM(\n",
    "    units = 64,\n",
    "    recurrent_dropout = 0.2,\n",
    "    dropout = 0.0))(x)\n",
    "\n",
    "inputs[feature_name] = product_name_input\n",
    "input_graphs[feature_name] = product_name_graph\n",
    "\n",
    "len(product_name_vectorizer.get_vocabulary())"
   ]
  },
  {
   "cell_type": "code",
   "execution_count": 10,
   "id": "bdb0a17d",
   "metadata": {},
   "outputs": [
    {
     "name": "stdout",
     "output_type": "stream",
     "text": [
      "CPU times: user 2.46 s, sys: 1.26 s, total: 3.71 s\n",
      "Wall time: 711 ms\n"
     ]
    },
    {
     "data": {
      "text/plain": [
       "5000"
      ]
     },
     "execution_count": 10,
     "metadata": {},
     "output_type": "execute_result"
    }
   ],
   "source": [
    "%%time\n",
    "\n",
    "feature_name = 'ingredients_tags'\n",
    "\n",
    "ingredients_input = tf.keras.Input(shape=(None,), dtype=tf.string, name=feature_name)\n",
    "\n",
    "ingredients_vocab = get_vocabulary(\n",
    "    flat_batch(select_feature(ds, feature_name), batch_size=PREPROC_BATCH_SIZE),\n",
    "    min_freq = 3,\n",
    "    max_tokens = 5_000)\n",
    "\n",
    "ingredients_graph = layers.StringLookup(\n",
    "    vocabulary = ingredients_vocab,\n",
    "    output_mode = 'multi_hot')(ingredients_input)\n",
    "\n",
    "inputs[feature_name] = ingredients_input\n",
    "input_graphs[feature_name] = ingredients_graph\n",
    "\n",
    "len(ingredients_vocab)"
   ]
  },
  {
   "cell_type": "markdown",
   "id": "db8a30f1",
   "metadata": {},
   "source": [
    "## Model output"
   ]
  },
  {
   "cell_type": "code",
   "execution_count": 11,
   "id": "1d3426e3",
   "metadata": {},
   "outputs": [
    {
     "name": "stdout",
     "output_type": "stream",
     "text": [
      "CPU times: user 2.31 s, sys: 1.23 s, total: 3.54 s\n",
      "Wall time: 649 ms\n"
     ]
    },
    {
     "data": {
      "text/plain": [
       "1238"
      ]
     },
     "execution_count": 11,
     "metadata": {},
     "output_type": "execute_result"
    }
   ],
   "source": [
    "%%time\n",
    "\n",
    "labels = 'categories_tags'\n",
    "\n",
    "categories_vocab = get_vocabulary(\n",
    "    flat_batch(select_feature(ds, labels), batch_size=PREPROC_BATCH_SIZE),\n",
    "    min_freq = 10)\n",
    "\n",
    "# StringLookup(output_mode='multi_hot') mode requires num_oov_indices >= 1.\n",
    "# We don't want OOVs in the categories_tags output layer, since it wouldn't make\n",
    "# sense to predict OOV. So we'll drop the OOV in _transform below.\n",
    "# Be careful when using StringLookup methods, some of them will return values\n",
    "# based on a vocabulary with OOV (e.g. vocabulary_size()). Keep this in mind when\n",
    "# mapping predictions back to the original vocabulary.\n",
    "categories_multihot = layers.StringLookup(\n",
    "    vocabulary = categories_vocab,\n",
    "    output_mode = 'multi_hot',\n",
    "    num_oov_indices = 1)\n",
    "\n",
    "def categories_encode(ds: tf.data.Dataset):\n",
    "    @tf.function\n",
    "    @tf.autograph.experimental.do_not_convert\n",
    "    def _transform(x, y):\n",
    "        y = categories_multihot(y)\n",
    "        y = y[1:]  # drop OOV\n",
    "        return (x, y)\n",
    "\n",
    "    # applies to non-batched dataset\n",
    "    return (\n",
    "        ds\n",
    "        .map(_transform, num_parallel_calls=tf.data.AUTOTUNE, deterministic=True)\n",
    "        .apply(filter_empty_labels)\n",
    "    )\n",
    "\n",
    "len(categories_vocab)"
   ]
  },
  {
   "cell_type": "markdown",
   "id": "5d3c2786",
   "metadata": {},
   "source": [
    "## Model"
   ]
  },
  {
   "cell_type": "code",
   "execution_count": 12,
   "id": "8b498ee3",
   "metadata": {},
   "outputs": [],
   "source": [
    "# ensure final order is independent of cell execution/insertion order\n",
    "features = sorted(inputs.keys())\n",
    "\n",
    "x = layers.Concatenate()([input_graphs[k] for k in features])\n",
    "x = layers.Dropout(0.2)(x)\n",
    "x = layers.Dense(64)(x)\n",
    "x = layers.Dropout(0.2)(x)\n",
    "x = layers.Activation('relu')(x)\n",
    "output = layers.Dense(len(categories_vocab), activation='sigmoid')(x)\n",
    "\n",
    "model = tf.keras.Model(inputs=[inputs[k] for k in features], outputs=[output])\n",
    "\n",
    "model.compile(\n",
    "    optimizer = tf.keras.optimizers.Adam(learning_rate=0.001),\n",
    "    loss = tf.keras.losses.BinaryCrossentropy(label_smoothing=0.0),\n",
    "    metrics = ['binary_accuracy', 'Precision', 'Recall']\n",
    ")"
   ]
  },
  {
   "cell_type": "code",
   "execution_count": 13,
   "id": "a5df8ca2",
   "metadata": {},
   "outputs": [
    {
     "name": "stdout",
     "output_type": "stream",
     "text": [
      "Model: \"model\"\n",
      "__________________________________________________________________________________________________\n",
      " Layer (type)                   Output Shape         Param #     Connected to                     \n",
      "==================================================================================================\n",
      " product_name (InputLayer)      [(None, 1)]          0           []                               \n",
      "                                                                                                  \n",
      " text_vectorization (TextVector  (None, 30)          0           ['product_name[0][0]']           \n",
      " ization)                                                                                         \n",
      "                                                                                                  \n",
      " ingredients_tags (InputLayer)  [(None, None)]       0           []                               \n",
      "                                                                                                  \n",
      " embedding (Embedding)          (None, 30, 64)       1404608     ['text_vectorization[0][0]']     \n",
      "                                                                                                  \n",
      " string_lookup_1 (StringLookup)  (None, 5001)        0           ['ingredients_tags[0][0]']       \n",
      "                                                                                                  \n",
      " bidirectional (Bidirectional)  (None, 128)          66048       ['embedding[0][0]']              \n",
      "                                                                                                  \n",
      " concatenate (Concatenate)      (None, 5129)         0           ['string_lookup_1[0][0]',        \n",
      "                                                                  'bidirectional[0][0]']          \n",
      "                                                                                                  \n",
      " dropout (Dropout)              (None, 5129)         0           ['concatenate[0][0]']            \n",
      "                                                                                                  \n",
      " dense (Dense)                  (None, 64)           328320      ['dropout[0][0]']                \n",
      "                                                                                                  \n",
      " dropout_1 (Dropout)            (None, 64)           0           ['dense[0][0]']                  \n",
      "                                                                                                  \n",
      " activation (Activation)        (None, 64)           0           ['dropout_1[0][0]']              \n",
      "                                                                                                  \n",
      " dense_1 (Dense)                (None, 1238)         80470       ['activation[0][0]']             \n",
      "                                                                                                  \n",
      "==================================================================================================\n",
      "Total params: 1,879,446\n",
      "Trainable params: 1,879,446\n",
      "Non-trainable params: 0\n",
      "__________________________________________________________________________________________________\n"
     ]
    }
   ],
   "source": [
    "model.summary()"
   ]
  },
  {
   "cell_type": "code",
   "execution_count": 14,
   "id": "cec2d376",
   "metadata": {},
   "outputs": [
    {
     "data": {
      "image/png": "[encoded data removed]",
      "text/plain": [
       "<IPython.core.display.Image object>"
      ]
     },
     "execution_count": 14,
     "metadata": {},
     "output_type": "execute_result"
    }
   ],
   "source": [
    "plot_model(model, show_shapes=True, show_layer_names=True)"
   ]
  },
  {
   "cell_type": "markdown",
   "id": "1d3f44b0",
   "metadata": {},
   "source": [
    "# Train model"
   ]
  },
  {
   "cell_type": "code",
   "execution_count": 15,
   "id": "53441242",
   "metadata": {},
   "outputs": [
    {
     "name": "stdout",
     "output_type": "stream",
     "text": [
      "Model directory: ../model.20220608-183100\n",
      "Cache directory: ../tensorflow_cache\n",
      "Epoch 1/3\n"
     ]
    },
    {
     "name": "stderr",
     "output_type": "stream",
     "text": [
      "2022-06-08 18:31:01.281343: W tensorflow/core/kernels/data/cache_dataset_ops.cc:233] The calling iterator did not fully read the dataset being cached. In order to avoid unexpected truncation of the dataset, the partially cached contents of the dataset  will be discarded. This can happen if you have an input pipeline similar to `dataset.cache().take(k).repeat()`. You should use `dataset.take(k).cache().repeat()` instead.\n"
     ]
    },
    {
     "name": "stdout",
     "output_type": "stream",
     "text": [
      "    325/Unknown - 17s 43ms/step - loss: 0.0607 - binary_accuracy: 0.9884 - precision: 0.0043 - recall: 0.0091"
     ]
    },
    {
     "name": "stderr",
     "output_type": "stream",
     "text": [
      "2022-06-08 18:31:18.200896: W tensorflow/core/kernels/data/cache_dataset_ops.cc:233] The calling iterator did not fully read the dataset being cached. In order to avoid unexpected truncation of the dataset, the partially cached contents of the dataset  will be discarded. This can happen if you have an input pipeline similar to `dataset.cache().take(k).repeat()`. You should use `dataset.take(k).cache().repeat()` instead.\n",
      "2022-06-08 18:31:19.432428: W tensorflow/core/kernels/data/cache_dataset_ops.cc:233] The calling iterator did not fully read the dataset being cached. In order to avoid unexpected truncation of the dataset, the partially cached contents of the dataset  will be discarded. This can happen if you have an input pipeline similar to `dataset.cache().take(k).repeat()`. You should use `dataset.take(k).cache().repeat()` instead.\n",
      "2022-06-08 18:31:20.996229: W tensorflow/python/util/util.cc:368] Sets are not currently considered sequences, but this may change in the future, so consider avoiding using them.\n"
     ]
    },
    {
     "name": "stdout",
     "output_type": "stream",
     "text": [
      "INFO:tensorflow:Assets written to: ../model.20220608-183100/weights.01-0.0179/assets\n"
     ]
    },
    {
     "name": "stderr",
     "output_type": "stream",
     "text": [
      "INFO:tensorflow:Assets written to: ../model.20220608-183100/weights.01-0.0179/assets\n",
      "WARNING:absl:<keras.layers.recurrent.LSTMCell object at 0x7fd482f182b0> has the same name 'LSTMCell' as a built-in Keras object. Consider renaming <class 'keras.layers.recurrent.LSTMCell'> to avoid naming conflicts when loading with `tf.keras.models.load_model`. If renaming is not possible, pass the object in the `custom_objects` parameter of the load function.\n",
      "WARNING:absl:<keras.layers.recurrent.LSTMCell object at 0x7fd482f0b730> has the same name 'LSTMCell' as a built-in Keras object. Consider renaming <class 'keras.layers.recurrent.LSTMCell'> to avoid naming conflicts when loading with `tf.keras.models.load_model`. If renaming is not possible, pass the object in the `custom_objects` parameter of the load function.\n"
     ]
    },
    {
     "name": "stdout",
     "output_type": "stream",
     "text": [
      "325/325 [==============================] - 23s 61ms/step - loss: 0.0607 - binary_accuracy: 0.9884 - precision: 0.0043 - recall: 0.0091 - val_loss: 0.0179 - val_binary_accuracy: 0.9963 - val_precision: 0.0000e+00 - val_recall: 0.0000e+00\n",
      "Epoch 2/3\n"
     ]
    },
    {
     "name": "stderr",
     "output_type": "stream",
     "text": [
      "2022-06-08 18:31:23.934788: W tensorflow/core/kernels/data/cache_dataset_ops.cc:233] The calling iterator did not fully read the dataset being cached. In order to avoid unexpected truncation of the dataset, the partially cached contents of the dataset  will be discarded. This can happen if you have an input pipeline similar to `dataset.cache().take(k).repeat()`. You should use `dataset.take(k).cache().repeat()` instead.\n"
     ]
    },
    {
     "name": "stdout",
     "output_type": "stream",
     "text": [
      "324/325 [============================>.] - ETA: 0s - loss: 0.0182 - binary_accuracy: 0.9963 - precision: 0.5455 - recall: 1.2521e-04INFO:tensorflow:Assets written to: ../model.20220608-183100/weights.02-0.0175/assets\n"
     ]
    },
    {
     "name": "stderr",
     "output_type": "stream",
     "text": [
      "INFO:tensorflow:Assets written to: ../model.20220608-183100/weights.02-0.0175/assets\n",
      "WARNING:absl:<keras.layers.recurrent.LSTMCell object at 0x7fd482f182b0> has the same name 'LSTMCell' as a built-in Keras object. Consider renaming <class 'keras.layers.recurrent.LSTMCell'> to avoid naming conflicts when loading with `tf.keras.models.load_model`. If renaming is not possible, pass the object in the `custom_objects` parameter of the load function.\n",
      "WARNING:absl:<keras.layers.recurrent.LSTMCell object at 0x7fd482f0b730> has the same name 'LSTMCell' as a built-in Keras object. Consider renaming <class 'keras.layers.recurrent.LSTMCell'> to avoid naming conflicts when loading with `tf.keras.models.load_model`. If renaming is not possible, pass the object in the `custom_objects` parameter of the load function.\n"
     ]
    },
    {
     "name": "stdout",
     "output_type": "stream",
     "text": [
      "325/325 [==============================] - 18s 55ms/step - loss: 0.0182 - binary_accuracy: 0.9963 - precision: 0.5455 - recall: 1.2512e-04 - val_loss: 0.0175 - val_binary_accuracy: 0.9963 - val_precision: 0.6957 - val_recall: 4.1536e-04\n",
      "Epoch 3/3\n",
      "324/325 [============================>.] - ETA: 0s - loss: 0.0176 - binary_accuracy: 0.9963 - precision: 0.6451 - recall: 0.0088INFO:tensorflow:Assets written to: ../model.20220608-183100/weights.03-0.0168/assets\n"
     ]
    },
    {
     "name": "stderr",
     "output_type": "stream",
     "text": [
      "INFO:tensorflow:Assets written to: ../model.20220608-183100/weights.03-0.0168/assets\n",
      "WARNING:absl:<keras.layers.recurrent.LSTMCell object at 0x7fd482f182b0> has the same name 'LSTMCell' as a built-in Keras object. Consider renaming <class 'keras.layers.recurrent.LSTMCell'> to avoid naming conflicts when loading with `tf.keras.models.load_model`. If renaming is not possible, pass the object in the `custom_objects` parameter of the load function.\n",
      "WARNING:absl:<keras.layers.recurrent.LSTMCell object at 0x7fd482f0b730> has the same name 'LSTMCell' as a built-in Keras object. Consider renaming <class 'keras.layers.recurrent.LSTMCell'> to avoid naming conflicts when loading with `tf.keras.models.load_model`. If renaming is not possible, pass the object in the `custom_objects` parameter of the load function.\n"
     ]
    },
    {
     "name": "stdout",
     "output_type": "stream",
     "text": [
      "325/325 [==============================] - 22s 67ms/step - loss: 0.0176 - binary_accuracy: 0.9963 - precision: 0.6454 - recall: 0.0088 - val_loss: 0.0168 - val_binary_accuracy: 0.9963 - val_precision: 0.7251 - val_recall: 0.0176\n",
      "CPU times: user 4min 7s, sys: 23.6 s, total: 4min 30s\n",
      "Wall time: 1min 2s\n"
     ]
    }
   ],
   "source": [
    "%%time\n",
    "\n",
    "# Remember to clean obsolete dirs once in a while\n",
    "MODEL_DIR = init_model_dir(MODEL_BASE_DIR)\n",
    "CACHE_DIR = init_cache_dir(CACHE_DIR)\n",
    "\n",
    "batch_size = 128\n",
    "\n",
    "ds_train = (\n",
    "    load_dataset('off_categories', split=TRAIN_SPLIT, features=features, as_supervised=True)\n",
    "    .apply(categories_encode)\n",
    "    .padded_batch(batch_size)\n",
    "    .cache(str(CACHE_DIR / 'train'))\n",
    ")\n",
    "\n",
    "ds_val = (\n",
    "    load_dataset('off_categories', split=VAL_SPLIT, features=features, as_supervised=True)\n",
    "    .apply(categories_encode)\n",
    "    .padded_batch(batch_size)\n",
    "    .cache(str(CACHE_DIR / 'val'))\n",
    ")\n",
    "\n",
    "history = model.fit(\n",
    "    ds_train,\n",
    "    epochs = 3,\n",
    "    validation_data = ds_val,\n",
    "    callbacks = [\n",
    "        callbacks.TerminateOnNaN(),\n",
    "        callbacks.ModelCheckpoint(\n",
    "            filepath = str(MODEL_DIR / \"weights.{epoch:02d}-{val_loss:.4f}\"),\n",
    "            monitor = 'val_loss',\n",
    "            save_best_only = True,\n",
    "            save_format = 'tf',\n",
    "        ),\n",
    "        callbacks.EarlyStopping(monitor='val_loss', patience=4),\n",
    "        callbacks.CSVLogger(str(MODEL_DIR / 'training.log')),\n",
    "        callbacks.History()\n",
    "    ]\n",
    ")"
   ]
  },
  {
   "cell_type": "markdown",
   "id": "6ebb0214",
   "metadata": {},
   "source": [
    "## Training stats"
   ]
  },
  {
   "cell_type": "code",
   "execution_count": 16,
   "id": "ab63d125",
   "metadata": {},
   "outputs": [
    {
     "data": {
      "text/html": [
       "<div>\n",
       "<style scoped>\n",
       "    .dataframe tbody tr th:only-of-type {\n",
       "        vertical-align: middle;\n",
       "    }\n",
       "\n",
       "    .dataframe tbody tr th {\n",
       "        vertical-align: top;\n",
       "    }\n",
       "\n",
       "    .dataframe thead th {\n",
       "        text-align: right;\n",
       "    }\n",
       "</style>\n",
       "<table border=\"1\" class=\"dataframe\">\n",
       "  <thead>\n",
       "    <tr style=\"text-align: right;\">\n",
       "      <th></th>\n",
       "      <th>epoch</th>\n",
       "      <th>binary_accuracy</th>\n",
       "      <th>loss</th>\n",
       "      <th>precision</th>\n",
       "      <th>recall</th>\n",
       "      <th>val_binary_accuracy</th>\n",
       "      <th>val_loss</th>\n",
       "      <th>val_precision</th>\n",
       "      <th>val_recall</th>\n",
       "    </tr>\n",
       "  </thead>\n",
       "  <tbody>\n",
       "    <tr>\n",
       "      <th>0</th>\n",
       "      <td>0</td>\n",
       "      <td>0.988432</td>\n",
       "      <td>0.060728</td>\n",
       "      <td>0.004288</td>\n",
       "      <td>0.009077</td>\n",
       "      <td>0.996263</td>\n",
       "      <td>0.017941</td>\n",
       "      <td>0.000000</td>\n",
       "      <td>0.000000</td>\n",
       "    </tr>\n",
       "    <tr>\n",
       "      <th>1</th>\n",
       "      <td>1</td>\n",
       "      <td>0.996267</td>\n",
       "      <td>0.018200</td>\n",
       "      <td>0.545455</td>\n",
       "      <td>0.000125</td>\n",
       "      <td>0.996264</td>\n",
       "      <td>0.017476</td>\n",
       "      <td>0.695652</td>\n",
       "      <td>0.000415</td>\n",
       "    </tr>\n",
       "    <tr>\n",
       "      <th>2</th>\n",
       "      <td>2</td>\n",
       "      <td>0.996282</td>\n",
       "      <td>0.017586</td>\n",
       "      <td>0.645358</td>\n",
       "      <td>0.008842</td>\n",
       "      <td>0.996304</td>\n",
       "      <td>0.016839</td>\n",
       "      <td>0.725134</td>\n",
       "      <td>0.017601</td>\n",
       "    </tr>\n",
       "  </tbody>\n",
       "</table>\n",
       "</div>"
      ],
      "text/plain": [
       "   epoch  binary_accuracy      loss  precision    recall  val_binary_accuracy  \\\n",
       "0      0         0.988432  0.060728   0.004288  0.009077             0.996263   \n",
       "1      1         0.996267  0.018200   0.545455  0.000125             0.996264   \n",
       "2      2         0.996282  0.017586   0.645358  0.008842             0.996304   \n",
       "\n",
       "   val_loss  val_precision  val_recall  \n",
       "0  0.017941       0.000000    0.000000  \n",
       "1  0.017476       0.695652    0.000415  \n",
       "2  0.016839       0.725134    0.017601  "
      ]
     },
     "execution_count": 16,
     "metadata": {},
     "output_type": "execute_result"
    }
   ],
   "source": [
    "stats = pd.read_csv(MODEL_DIR / 'training.log')\n",
    "stats"
   ]
  },
  {
   "cell_type": "code",
   "execution_count": 17,
   "id": "c6244c7a",
   "metadata": {},
   "outputs": [
    {
     "data": {
      "image/png": "[encoded data removed]",
      "text/plain": [
       "<Figure size 936x288 with 2 Axes>"
      ]
     },
     "metadata": {
      "needs_background": "light"
     },
     "output_type": "display_data"
    }
   ],
   "source": [
    "_, (ax1, ax2) = plt.subplots(1, 2, figsize=(13,4))\n",
    "\n",
    "plot_training_stat(stats, 'loss', ax1)\n",
    "plot_training_stat(stats, 'binary_accuracy', ax2)"
   ]
  },
  {
   "cell_type": "markdown",
   "id": "2d157d84",
   "metadata": {},
   "source": [
    "# Save model and resources"
   ]
  },
  {
   "cell_type": "code",
   "execution_count": 18,
   "id": "441077ff",
   "metadata": {},
   "outputs": [
    {
     "name": "stdout",
     "output_type": "stream",
     "text": [
      "INFO:tensorflow:Assets written to: ../model.20220608-183100/saved_model/assets\n"
     ]
    },
    {
     "name": "stderr",
     "output_type": "stream",
     "text": [
      "INFO:tensorflow:Assets written to: ../model.20220608-183100/saved_model/assets\n",
      "WARNING:absl:<keras.layers.recurrent.LSTMCell object at 0x7fd482f182b0> has the same name 'LSTMCell' as a built-in Keras object. Consider renaming <class 'keras.layers.recurrent.LSTMCell'> to avoid naming conflicts when loading with `tf.keras.models.load_model`. If renaming is not possible, pass the object in the `custom_objects` parameter of the load function.\n",
      "WARNING:absl:<keras.layers.recurrent.LSTMCell object at 0x7fd482f0b730> has the same name 'LSTMCell' as a built-in Keras object. Consider renaming <class 'keras.layers.recurrent.LSTMCell'> to avoid naming conflicts when loading with `tf.keras.models.load_model`. If renaming is not possible, pass the object in the `custom_objects` parameter of the load function.\n"
     ]
    }
   ],
   "source": [
    "@tf.function\n",
    "def serving_func(*args, **kwargs):\n",
    "    preds = model(*args, **kwargs)\n",
    "    return top_labeled_predictions(preds, categories_vocab, k=50)\n",
    "\n",
    "export_model(model, MODEL_DIR/'saved_model', serving_func)"
   ]
  },
  {
   "cell_type": "markdown",
   "id": "38a29603",
   "metadata": {},
   "source": [
    "# Test model"
   ]
  },
  {
   "cell_type": "code",
   "execution_count": 19,
   "id": "cdba60dc",
   "metadata": {},
   "outputs": [],
   "source": [
    "m = tf.keras.models.load_model(MODEL_DIR/'saved_model')"
   ]
  },
  {
   "cell_type": "code",
   "execution_count": 20,
   "id": "cff4364b",
   "metadata": {},
   "outputs": [],
   "source": [
    "ds_test = load_dataset('off_categories', split=TEST_SPLIT)"
   ]
  },
  {
   "cell_type": "code",
   "execution_count": 21,
   "id": "2df9fcc3",
   "metadata": {},
   "outputs": [
    {
     "name": "stderr",
     "output_type": "stream",
     "text": [
      "/home/gabriel/.pyenv/versions/3.8.13/envs/venv-off-tf28/lib/python3.8/site-packages/keras/engine/functional.py:559: UserWarning: Input dict contained keys ['categories_tags', 'code'] which did not match any model input. They will be ignored by the model.\n",
      "  inputs = self._flatten_to_reference_inputs(inputs)\n"
     ]
    },
    {
     "name": "stdout",
     "output_type": "stream",
     "text": [
      "CPU times: user 3.52 s, sys: 331 ms, total: 3.85 s\n",
      "Wall time: 953 ms\n"
     ]
    },
    {
     "data": {
      "text/plain": [
       "array([[3.5351348e-01, 2.8579676e-01, 1.3108164e-01, ..., 3.0219555e-04,\n",
       "        3.8042665e-04, 3.1426549e-04],\n",
       "       [3.4899420e-01, 2.8012705e-01, 1.2621081e-01, ..., 2.4080276e-04,\n",
       "        3.0526519e-04, 2.5054812e-04],\n",
       "       [1.2648547e-01, 1.1779645e-01, 6.4248723e-01, ..., 5.5976754e-05,\n",
       "        7.7357909e-05, 7.5006254e-05],\n",
       "       ...,\n",
       "       [2.9263401e-01, 2.2844997e-01, 1.5597159e-01, ..., 1.2734532e-04,\n",
       "        1.5076995e-04, 1.2045219e-04],\n",
       "       [3.5273394e-01, 2.8485849e-01, 1.3031837e-01, ..., 2.9155612e-04,\n",
       "        3.6758184e-04, 3.0329823e-04],\n",
       "       [3.5371846e-01, 2.8606802e-01, 1.3144541e-01, ..., 3.0612946e-04,\n",
       "        3.8516521e-04, 3.1828880e-04]], dtype=float32)"
      ]
     },
     "execution_count": 21,
     "metadata": {},
     "output_type": "execute_result"
    }
   ],
   "source": [
    "%%time\n",
    "\n",
    "preds_test = m.predict(ds_test.padded_batch(128))\n",
    "preds_test"
   ]
  },
  {
   "cell_type": "code",
   "execution_count": 22,
   "id": "b0f3aad7",
   "metadata": {},
   "outputs": [
    {
     "data": {
      "text/html": [
       "<div>\n",
       "<style scoped>\n",
       "    .dataframe tbody tr th:only-of-type {\n",
       "        vertical-align: middle;\n",
       "    }\n",
       "\n",
       "    .dataframe tbody tr th {\n",
       "        vertical-align: top;\n",
       "    }\n",
       "\n",
       "    .dataframe thead th {\n",
       "        text-align: right;\n",
       "    }\n",
       "</style>\n",
       "<table border=\"1\" class=\"dataframe\">\n",
       "  <thead>\n",
       "    <tr style=\"text-align: right;\">\n",
       "      <th></th>\n",
       "      <th>code</th>\n",
       "      <th>product_name</th>\n",
       "      <th>top prediction 1</th>\n",
       "      <th>top prediction 2</th>\n",
       "      <th>top prediction 3</th>\n",
       "    </tr>\n",
       "  </thead>\n",
       "  <tbody>\n",
       "    <tr>\n",
       "      <th>0</th>\n",
       "      <td>4018905525166</td>\n",
       "      <td>Apfelmus</td>\n",
       "      <td>en:plant-based-foods-and-beverages: 35.35%</td>\n",
       "      <td>en:plant-based-foods: 28.58%</td>\n",
       "      <td>en:beverages: 15.36%</td>\n",
       "    </tr>\n",
       "    <tr>\n",
       "      <th>1</th>\n",
       "      <td>8715700111421</td>\n",
       "      <td>BBQ SAUCE ORIGIL</td>\n",
       "      <td>en:plant-based-foods-and-beverages: 34.9%</td>\n",
       "      <td>en:plant-based-foods: 28.01%</td>\n",
       "      <td>en:beverages: 14.72%</td>\n",
       "    </tr>\n",
       "    <tr>\n",
       "      <th>2</th>\n",
       "      <td>0076410400013</td>\n",
       "      <td>Choc-o lunch cookies</td>\n",
       "      <td>en:snacks: 64.25%</td>\n",
       "      <td>en:sweet-snacks: 50.02%</td>\n",
       "      <td>en:biscuits-and-cakes: 41.55%</td>\n",
       "    </tr>\n",
       "    <tr>\n",
       "      <th>3</th>\n",
       "      <td>0030243670159</td>\n",
       "      <td>Onion petals</td>\n",
       "      <td>en:plant-based-foods-and-beverages: 19.81%</td>\n",
       "      <td>en:plant-based-foods: 17.7%</td>\n",
       "      <td>en:snacks: 16.16%</td>\n",
       "    </tr>\n",
       "    <tr>\n",
       "      <th>4</th>\n",
       "      <td>6935630302436</td>\n",
       "      <td>Flowery Age</td>\n",
       "      <td>en:plant-based-foods-and-beverages: 35.25%</td>\n",
       "      <td>en:plant-based-foods: 28.45%</td>\n",
       "      <td>en:beverages: 15.22%</td>\n",
       "    </tr>\n",
       "    <tr>\n",
       "      <th>...</th>\n",
       "      <td>...</td>\n",
       "      <td>...</td>\n",
       "      <td>...</td>\n",
       "      <td>...</td>\n",
       "      <td>...</td>\n",
       "    </tr>\n",
       "    <tr>\n",
       "      <th>8571</th>\n",
       "      <td>3547130084359</td>\n",
       "      <td>Huile olive &amp; piment</td>\n",
       "      <td>en:plant-based-foods-and-beverages: 36.36%</td>\n",
       "      <td>en:plant-based-foods: 29.85%</td>\n",
       "      <td>en:beverages: 16.81%</td>\n",
       "    </tr>\n",
       "    <tr>\n",
       "      <th>8572</th>\n",
       "      <td>0030223040873</td>\n",
       "      <td>Power Greens Fresh Collard Greens</td>\n",
       "      <td>en:plant-based-foods-and-beverages: 35.23%</td>\n",
       "      <td>en:plant-based-foods: 28.26%</td>\n",
       "      <td>en:beverages: 14.84%</td>\n",
       "    </tr>\n",
       "    <tr>\n",
       "      <th>8573</th>\n",
       "      <td>0041512155543</td>\n",
       "      <td>Pink lemonade drink mix, pink lemonade</td>\n",
       "      <td>en:plant-based-foods-and-beverages: 29.26%</td>\n",
       "      <td>en:plant-based-foods: 22.84%</td>\n",
       "      <td>en:snacks: 15.6%</td>\n",
       "    </tr>\n",
       "    <tr>\n",
       "      <th>8574</th>\n",
       "      <td>8000879350154</td>\n",
       "      <td>Mandorle sgusciate</td>\n",
       "      <td>en:plant-based-foods-and-beverages: 35.27%</td>\n",
       "      <td>en:plant-based-foods: 28.49%</td>\n",
       "      <td>en:beverages: 15.25%</td>\n",
       "    </tr>\n",
       "    <tr>\n",
       "      <th>8575</th>\n",
       "      <td>4015000970044</td>\n",
       "      <td>Weiss &amp; Faser Perwoll</td>\n",
       "      <td>en:plant-based-foods-and-beverages: 35.37%</td>\n",
       "      <td>en:plant-based-foods: 28.61%</td>\n",
       "      <td>en:beverages: 15.39%</td>\n",
       "    </tr>\n",
       "  </tbody>\n",
       "</table>\n",
       "<p>8576 rows × 5 columns</p>\n",
       "</div>"
      ],
      "text/plain": [
       "               code                            product_name  \\\n",
       "0     4018905525166                                Apfelmus   \n",
       "1     8715700111421                        BBQ SAUCE ORIGIL   \n",
       "2     0076410400013                    Choc-o lunch cookies   \n",
       "3     0030243670159                            Onion petals   \n",
       "4     6935630302436                             Flowery Age   \n",
       "...             ...                                     ...   \n",
       "8571  3547130084359                    Huile olive & piment   \n",
       "8572  0030223040873       Power Greens Fresh Collard Greens   \n",
       "8573  0041512155543  Pink lemonade drink mix, pink lemonade   \n",
       "8574  8000879350154                      Mandorle sgusciate   \n",
       "8575  4015000970044                   Weiss & Faser Perwoll   \n",
       "\n",
       "                                top prediction 1  \\\n",
       "0     en:plant-based-foods-and-beverages: 35.35%   \n",
       "1      en:plant-based-foods-and-beverages: 34.9%   \n",
       "2                              en:snacks: 64.25%   \n",
       "3     en:plant-based-foods-and-beverages: 19.81%   \n",
       "4     en:plant-based-foods-and-beverages: 35.25%   \n",
       "...                                          ...   \n",
       "8571  en:plant-based-foods-and-beverages: 36.36%   \n",
       "8572  en:plant-based-foods-and-beverages: 35.23%   \n",
       "8573  en:plant-based-foods-and-beverages: 29.26%   \n",
       "8574  en:plant-based-foods-and-beverages: 35.27%   \n",
       "8575  en:plant-based-foods-and-beverages: 35.37%   \n",
       "\n",
       "                  top prediction 2               top prediction 3  \n",
       "0     en:plant-based-foods: 28.58%           en:beverages: 15.36%  \n",
       "1     en:plant-based-foods: 28.01%           en:beverages: 14.72%  \n",
       "2          en:sweet-snacks: 50.02%  en:biscuits-and-cakes: 41.55%  \n",
       "3      en:plant-based-foods: 17.7%              en:snacks: 16.16%  \n",
       "4     en:plant-based-foods: 28.45%           en:beverages: 15.22%  \n",
       "...                            ...                            ...  \n",
       "8571  en:plant-based-foods: 29.85%           en:beverages: 16.81%  \n",
       "8572  en:plant-based-foods: 28.26%           en:beverages: 14.84%  \n",
       "8573  en:plant-based-foods: 22.84%               en:snacks: 15.6%  \n",
       "8574  en:plant-based-foods: 28.49%           en:beverages: 15.25%  \n",
       "8575  en:plant-based-foods: 28.61%           en:beverages: 15.39%  \n",
       "\n",
       "[8576 rows x 5 columns]"
      ]
     },
     "execution_count": 22,
     "metadata": {},
     "output_type": "execute_result"
    }
   ],
   "source": [
    "# This is the function exported as the default serving function in our saved model\n",
    "top_preds_test = top_labeled_predictions(preds_test, categories_vocab, k=3)\n",
    "\n",
    "# Same data, but pretty\n",
    "pred_table_test = top_predictions_table(top_preds_test)\n",
    "\n",
    "# Add some interpretable features to the final table\n",
    "extra_cols_test = as_dataframe(select_features(ds_test, ['code', 'product_name']))\n",
    "\n",
    "pd.concat([extra_cols_test, pred_table_test], axis=1)"
   ]
  },
  {
   "cell_type": "code",
   "execution_count": 23,
   "id": "fb2d9a2d",
   "metadata": {},
   "outputs": [],
   "source": [
    "# # codecarbon - stop tracking\n",
    "# tracker.stop()"
   ]
  }
 ],
 "metadata": {
  "kernelspec": {
   "display_name": "Python 3 (ipykernel)",
   "language": "python",
   "name": "python3"
  },
  "language_info": {
   "codemirror_mode": {
    "name": "ipython",
    "version": 3
   },
   "file_extension": ".py",
   "mimetype": "text/x-python",
   "name": "python",
   "nbconvert_exporter": "python",
   "pygments_lexer": "ipython3",
   "version": "3.8.13"
  },
  "toc": {
   "base_numbering": 1,
   "nav_menu": {},
   "number_sections": false,
   "sideBar": true,
   "skip_h1_title": false,
   "title_cell": "Table of Contents",
   "title_sidebar": "Contents",
   "toc_cell": false,
   "toc_position": {},
   "toc_section_display": true,
   "toc_window_display": true
  }
 },
 "nbformat": 4,
 "nbformat_minor": 5
}
