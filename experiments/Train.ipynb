{
 "cells": [
  {
   "cell_type": "markdown",
   "id": "064e2d60",
   "metadata": {},
   "source": [
    "# INDEX\n",
    "* [Functions](#Functions)\n",
    "* [Load datasets](#Load-datasets)\n",
    "* [Configuration](#Configuration)\n",
    "* [Preprocess training data](#Preprocess-training-data)\n",
    "* [Train model](#Train-model)\n",
    "* [Test model](#Test-model)\n",
    "    * [Predict](#Predict)\n",
    "    * [Translate predictions](#Translate-predictions)"
   ]
  },
  {
   "cell_type": "markdown",
   "id": "24785109",
   "metadata": {},
   "source": [
    "# Prerequisites"
   ]
  },
  {
   "cell_type": "markdown",
   "id": "5b41132d",
   "metadata": {},
   "source": [
    "* go to parent root folder of off-category-classification\n",
    "* execute download.sh"
   ]
  },
  {
   "cell_type": "markdown",
   "id": "d481d404",
   "metadata": {},
   "source": [
    "# Functions"
   ]
  },
  {
   "cell_type": "code",
   "execution_count": 1,
   "id": "80c4f3c2",
   "metadata": {},
   "outputs": [],
   "source": [
    "import sys\n",
    "sys.path.append('../') #append a relative path to the top package to the search path"
   ]
  },
  {
   "cell_type": "code",
   "execution_count": 2,
   "id": "fda92a68",
   "metadata": {},
   "outputs": [],
   "source": [
    "# %load libtrain.py\n",
    "import datetime\n",
    "import functools\n",
    "import json\n",
    "import pathlib\n",
    "import shutil\n",
    "import tempfile\n",
    "from typing import Dict, List\n",
    "\n",
    "import dacite\n",
    "import pandas as pd\n",
    "import tensorflow as tf\n",
    "from robotoff.taxonomy import Taxonomy\n",
    "from tensorflow import keras\n",
    "from tensorflow.data import Dataset\n",
    "from tensorflow.keras import callbacks\n",
    "from tensorflow.python.ops import summary_ops_v2\n",
    "\n",
    "import settings\n",
    "from category_classification.data_utils import (\n",
    "    create_tf_dataset\n",
    ")\n",
    "from category_classification.models import (\n",
    "    KerasPreprocessing,\n",
    "    build_model,\n",
    "    construct_preprocessing,\n",
    "    to_serving_model,\n",
    ")\n",
    "\n",
    "from category_classification.config import Config\n",
    "\n",
    "from utils.io import (\n",
    "    copy_category_taxonomy,\n",
    "    save_category_vocabulary,\n",
    "    save_config,\n",
    "    save_json,\n",
    ")\n",
    "from utils.metrics import evaluation_report\n",
    "\n",
    "def create_model(config: Config, preprocess: KerasPreprocessing) -> keras.Model:\n",
    "    model = build_model(config.model_config, preprocess)\n",
    "    loss_fn = keras.losses.BinaryCrossentropy(\n",
    "        label_smoothing=config.train_config.label_smoothing\n",
    "    )\n",
    "    optimizer = keras.optimizers.Adam(learning_rate=config.train_config.lr)\n",
    "    model.compile(\n",
    "        optimizer=optimizer,\n",
    "        loss=loss_fn,\n",
    "        metrics=[\"binary_accuracy\", \"Precision\", \"Recall\"],\n",
    "    )\n",
    "    return model\n",
    "\n",
    "\n",
    "class TBCallback(callbacks.TensorBoard):\n",
    "    \"\"\"Get around a bug where you cannot use the TensorBoard callback with the StringLookup layers\n",
    "    - https://github.com/tensorflow/tensorboard/issues/4530#issuecomment-783318292\"\"\"\n",
    "\n",
    "    def _log_weights(self, epoch):\n",
    "        with self._train_writer.as_default():\n",
    "            with summary_ops_v2.always_record_summaries():\n",
    "                for layer in self.model.layers:\n",
    "                    for weight in layer.weights:\n",
    "                        if hasattr(weight, \"name\"):\n",
    "                            weight_name = weight.name.replace(\":\", \"_\")\n",
    "                            summary_ops_v2.histogram(weight_name, weight, step=epoch)\n",
    "                            if self.write_images:\n",
    "                                self._log_weight_as_image(weight, weight_name, epoch)\n",
    "                self._train_writer.flush()\n",
    "\n",
    "\n",
    "def train(\n",
    "    model: keras.Model,\n",
    "    save_dir: pathlib.Path,\n",
    "    config: Config,\n",
    "    category_vocab: List[str]\n",
    "):\n",
    "    print(\"Starting training...\")\n",
    "    temporary_log_dir = pathlib.Path(tempfile.mkdtemp())\n",
    "    print(\"Temporary log directory: {}\".format(temporary_log_dir))\n",
    "\n",
    "    # for now, clear cache on each call to train(), to be safe\n",
    "    cache_dir = pathlib.Path(\"tf_cache\")\n",
    "    shutil.rmtree(cache_dir, ignore_errors=True)\n",
    "    cache_dir.mkdir()\n",
    "    print(\"Cache directory: {}\".format(cache_dir))\n",
    "\n",
    "    train = (\n",
    "        create_tf_dataset(\"train\", category_vocab, config.train_config.batch_size)\n",
    "        .cache(str(cache_dir / \"train\"))\n",
    "    )\n",
    "    val = (\n",
    "        create_tf_dataset(\"val\", category_vocab, config.train_config.batch_size)\n",
    "        .cache(str(cache_dir / \"val\"))\n",
    "    )\n",
    "\n",
    "\n",
    "    history=model.fit(\n",
    "        train,\n",
    "        epochs= config.train_config.epochs,\n",
    "        validation_data=val,\n",
    "        callbacks=[\n",
    "            callbacks.TerminateOnNaN(),\n",
    "            callbacks.ModelCheckpoint(\n",
    "                filepath=str(save_dir / \"weights.{epoch:02d}-{val_loss:.4f}\"),\n",
    "                monitor=\"val_loss\",\n",
    "                save_best_only=True,\n",
    "                save_format='tf',\n",
    "            ),\n",
    "            #TBCallback(log_dir=str(temporary_log_dir), histogram_freq=1),\n",
    "            callbacks.EarlyStopping(monitor=\"val_loss\", patience=4),\n",
    "            callbacks.CSVLogger(str(save_dir / \"training.log\")),\n",
    "            callbacks.History()\n",
    "        ],\n",
    "    )\n",
    "    print(\"Training ended\")\n",
    "    return history"
   ]
  },
  {
   "cell_type": "markdown",
   "id": "8f9964ea",
   "metadata": {},
   "source": [
    "# Load datasets"
   ]
  },
  {
   "cell_type": "code",
   "execution_count": 3,
   "id": "475c7c74",
   "metadata": {},
   "outputs": [],
   "source": [
    "import pandas as pd\n",
    "from robotoff.utils import gzip_jsonl_iter\n",
    "import pathlib\n",
    "\n",
    "import settings\n",
    "from typing import Any, Callable, Dict, Iterable, Optional, List\n",
    "\n",
    "def create_dataframe(split: str, lang: str) -> pd.DataFrame:\n",
    "    if split not in (\"train\", \"test\", \"val\"):\n",
    "        raise ValueError(\"split must be either 'train', 'test' or 'val'\")\n",
    "\n",
    "    file_name = \"category_{}.{}.jsonl.gz\".format(lang, split)\n",
    "    full_path = settings.DATA_DIR / file_name\n",
    "    return pd.DataFrame(iter_product(full_path))\n",
    "\n",
    "def iter_product(data_path: pathlib.Path):\n",
    "    for product in gzip_jsonl_iter(data_path):\n",
    "        product.pop(\"images\", None)\n",
    "\n",
    "        if \"nutriments\" in product:\n",
    "            nutriments = product[\"nutriments\"] or {}\n",
    "\n",
    "        yield product"
   ]
  },
  {
   "cell_type": "code",
   "execution_count": 4,
   "id": "ac13d56e",
   "metadata": {},
   "outputs": [],
   "source": [
    "training_ds = create_dataframe(\"train\", \"xx\")\n",
    "test_ds = create_dataframe(\"test\", \"xx\")\n",
    "val_ds = create_dataframe(\"val\", \"xx\")"
   ]
  },
  {
   "cell_type": "markdown",
   "id": "b1bfc7ed",
   "metadata": {},
   "source": [
    "# Configuration"
   ]
  },
  {
   "cell_type": "code",
   "execution_count": 5,
   "id": "a92c3dd7",
   "metadata": {
    "scrolled": true
   },
   "outputs": [],
   "source": [
    "# load config json\n",
    "import json\n",
    " \n",
    "# Opening JSON file\n",
    "with open('../config.json') as json_file:\n",
    "    json_config = json.load(json_file)\n",
    "json_config \n",
    "\n",
    "config=dacite.from_dict(Config, json_config)\n",
    "model_config=config.model_config\n",
    "\n",
    "output_dir:pathlib.Path = pathlib.Path(\"../models\")\n",
    "replicates = 1\n",
    "\n",
    "output_dir.mkdir(parents=True, exist_ok=True)"
   ]
  },
  {
   "cell_type": "markdown",
   "id": "eb92b58e",
   "metadata": {},
   "source": [
    "# Preprocess training data"
   ]
  },
  {
   "cell_type": "code",
   "execution_count": 7,
   "id": "8c68cf1a",
   "metadata": {
    "scrolled": false
   },
   "outputs": [
    {
     "name": "stdout",
     "output_type": "stream",
     "text": [
      "Pre-processed training data\n",
      "CPU times: user 2.2 s, sys: 39.5 ms, total: 2.24 s\n",
      "Wall time: 2.06 s\n"
     ]
    }
   ],
   "source": [
    "%%time\n",
    "keras_preprocess = construct_preprocessing(\n",
    "    model_config.category_min_count,\n",
    "    model_config.ingredient_min_count,\n",
    "    model_config.product_name_max_tokens,\n",
    "    model_config.product_name_max_length,\n",
    "    training_ds,\n",
    ")\n",
    "print(\"Pre-processed training data\")"
   ]
  },
  {
   "cell_type": "markdown",
   "id": "5d3c2786",
   "metadata": {},
   "source": [
    "# Train model"
   ]
  },
  {
   "cell_type": "code",
   "execution_count": 8,
   "id": "bdb0c0a0",
   "metadata": {
    "scrolled": false
   },
   "outputs": [
    {
     "name": "stdout",
     "output_type": "stream",
     "text": [
      "Starting training repeat 0\n",
      "Starting training...\n",
      "Temporary log directory: /tmp/tmplbjfe0f6\n",
      "Cache directory: tf_cache\n"
     ]
    },
    {
     "name": "stderr",
     "output_type": "stream",
     "text": [
      "2022-04-19 20:29:11.318172: W tensorflow/core/kernels/data/cache_dataset_ops.cc:233] The calling iterator did not fully read the dataset being cached. In order to avoid unexpected truncation of the dataset, the partially cached contents of the dataset  will be discarded. This can happen if you have an input pipeline similar to `dataset.cache().take(k).repeat()`. You should use `dataset.take(k).cache().repeat()` instead.\n"
     ]
    },
    {
     "name": "stdout",
     "output_type": "stream",
     "text": [
      "Epoch 1/50\n",
      "   5465/Unknown - 555s 101ms/step - loss: 0.0081 - binary_accuracy: 0.9985 - precision: 0.2406 - recall: 0.0965"
     ]
    },
    {
     "name": "stderr",
     "output_type": "stream",
     "text": [
      "2022-04-19 20:38:26.365969: W tensorflow/core/kernels/data/cache_dataset_ops.cc:233] The calling iterator did not fully read the dataset being cached. In order to avoid unexpected truncation of the dataset, the partially cached contents of the dataset  will be discarded. This can happen if you have an input pipeline similar to `dataset.cache().take(k).repeat()`. You should use `dataset.take(k).cache().repeat()` instead.\n"
     ]
    },
    {
     "name": "stdout",
     "output_type": "stream",
     "text": [
      "\b\b\b\b\b\b\b\b\b\b\b\b\b\b\b\b\b\b\b\b\b\b\b\b\b\b\b\b\b\b\b\b\b\b\b\b\b\b\b\b\b\b\b\b\b\b\b\b\b\b\b\b\b\b\b\b\b\b\b\b\b\b\b\b\b\b\b\b\b\b\b\b\b\b\b\b\b\b\b\b\b\b\b\b\b\b\b\b\b\b\b\b\b\b\b\b\b\b\b\b\b\b\b\b\b\b\b\b\b\b\b\r",
      "5465/5465 [==============================] - 581s 106ms/step - loss: 0.0081 - binary_accuracy: 0.9985 - precision: 0.2406 - recall: 0.0965 - val_loss: 0.0039 - val_binary_accuracy: 0.9990 - val_precision: 0.8566 - val_recall: 0.2743\n"
     ]
    },
    {
     "name": "stderr",
     "output_type": "stream",
     "text": [
      "2022-04-19 20:38:51.943791: W tensorflow/core/kernels/data/cache_dataset_ops.cc:233] The calling iterator did not fully read the dataset being cached. In order to avoid unexpected truncation of the dataset, the partially cached contents of the dataset  will be discarded. This can happen if you have an input pipeline similar to `dataset.cache().take(k).repeat()`. You should use `dataset.take(k).cache().repeat()` instead.\n",
      "2022-04-19 20:38:53.605218: W tensorflow/python/util/util.cc:348] Sets are not currently considered sequences, but this may change in the future, so consider avoiding using them.\n"
     ]
    },
    {
     "name": "stdout",
     "output_type": "stream",
     "text": [
      "INFO:tensorflow:Assets written to: ../models/weights.01-0.0039/assets\n",
      "Epoch 2/50\n",
      "   2/5465 [..............................] - ETA: 5:54 - loss: 0.0040 - binary_accuracy: 0.9990 - precision: 0.8004 - recall: 0.3099"
     ]
    },
    {
     "name": "stderr",
     "output_type": "stream",
     "text": [
      "2022-04-19 20:38:56.651883: W tensorflow/core/kernels/data/cache_dataset_ops.cc:233] The calling iterator did not fully read the dataset being cached. In order to avoid unexpected truncation of the dataset, the partially cached contents of the dataset  will be discarded. This can happen if you have an input pipeline similar to `dataset.cache().take(k).repeat()`. You should use `dataset.take(k).cache().repeat()` instead.\n"
     ]
    },
    {
     "name": "stdout",
     "output_type": "stream",
     "text": [
      "5465/5465 [==============================] - 420s 77ms/step - loss: 0.0032 - binary_accuracy: 0.9992 - precision: 0.8170 - recall: 0.4231 - val_loss: 0.0023 - val_binary_accuracy: 0.9994 - val_precision: 0.8846 - val_recall: 0.5564\n",
      "INFO:tensorflow:Assets written to: ../models/weights.02-0.0023/assets\n",
      "Epoch 3/50\n",
      "5465/5465 [==============================] - 412s 75ms/step - loss: 0.0022 - binary_accuracy: 0.9994 - precision: 0.8472 - recall: 0.5982 - val_loss: 0.0018 - val_binary_accuracy: 0.9995 - val_precision: 0.8854 - val_recall: 0.6749\n",
      "INFO:tensorflow:Assets written to: ../models/weights.03-0.0018/assets\n",
      "Epoch 4/50\n",
      "5465/5465 [==============================] - 404s 74ms/step - loss: 0.0019 - binary_accuracy: 0.9995 - precision: 0.8588 - recall: 0.6674 - val_loss: 0.0016 - val_binary_accuracy: 0.9995 - val_precision: 0.8908 - val_recall: 0.7117\n",
      "INFO:tensorflow:Assets written to: ../models/weights.04-0.0016/assets\n",
      "Epoch 5/50\n",
      "5465/5465 [==============================] - 404s 74ms/step - loss: 0.0017 - binary_accuracy: 0.9995 - precision: 0.8651 - recall: 0.7011 - val_loss: 0.0015 - val_binary_accuracy: 0.9996 - val_precision: 0.8889 - val_recall: 0.7371\n",
      "INFO:tensorflow:Assets written to: ../models/weights.05-0.0015/assets\n",
      "Epoch 6/50\n",
      "5465/5465 [==============================] - 385s 70ms/step - loss: 0.0016 - binary_accuracy: 0.9995 - precision: 0.8694 - recall: 0.7224 - val_loss: 0.0015 - val_binary_accuracy: 0.9996 - val_precision: 0.8913 - val_recall: 0.7484\n",
      "INFO:tensorflow:Assets written to: ../models/weights.06-0.0015/assets\n",
      "Epoch 7/50\n",
      "5465/5465 [==============================] - 379s 69ms/step - loss: 0.0015 - binary_accuracy: 0.9995 - precision: 0.8729 - recall: 0.7378 - val_loss: 0.0014 - val_binary_accuracy: 0.9996 - val_precision: 0.8892 - val_recall: 0.7598\n",
      "INFO:tensorflow:Assets written to: ../models/weights.07-0.0014/assets\n",
      "Epoch 8/50\n",
      "5465/5465 [==============================] - 386s 71ms/step - loss: 0.0014 - binary_accuracy: 0.9995 - precision: 0.8758 - recall: 0.7496 - val_loss: 0.0014 - val_binary_accuracy: 0.9996 - val_precision: 0.8908 - val_recall: 0.7655\n",
      "INFO:tensorflow:Assets written to: ../models/weights.08-0.0014/assets\n",
      "Epoch 9/50\n",
      "5465/5465 [==============================] - 381s 70ms/step - loss: 0.0014 - binary_accuracy: 0.9995 - precision: 0.8779 - recall: 0.7581 - val_loss: 0.0014 - val_binary_accuracy: 0.9996 - val_precision: 0.8890 - val_recall: 0.7732\n",
      "INFO:tensorflow:Assets written to: ../models/weights.09-0.0014/assets\n",
      "Epoch 10/50\n",
      "5465/5465 [==============================] - 387s 71ms/step - loss: 0.0013 - binary_accuracy: 0.9995 - precision: 0.8799 - recall: 0.7657 - val_loss: 0.0014 - val_binary_accuracy: 0.9996 - val_precision: 0.8891 - val_recall: 0.7767\n",
      "INFO:tensorflow:Assets written to: ../models/weights.10-0.0014/assets\n",
      "Epoch 11/50\n",
      "5465/5465 [==============================] - 387s 71ms/step - loss: 0.0013 - binary_accuracy: 0.9996 - precision: 0.8816 - recall: 0.7721 - val_loss: 0.0014 - val_binary_accuracy: 0.9996 - val_precision: 0.8892 - val_recall: 0.7792\n",
      "INFO:tensorflow:Assets written to: ../models/weights.11-0.0014/assets\n",
      "Epoch 12/50\n",
      "5465/5465 [==============================] - 393s 72ms/step - loss: 0.0013 - binary_accuracy: 0.9996 - precision: 0.8825 - recall: 0.7770 - val_loss: 0.0014 - val_binary_accuracy: 0.9996 - val_precision: 0.8899 - val_recall: 0.7810\n",
      "Epoch 13/50\n",
      "5465/5465 [==============================] - 400s 73ms/step - loss: 0.0013 - binary_accuracy: 0.9996 - precision: 0.8836 - recall: 0.7811 - val_loss: 0.0014 - val_binary_accuracy: 0.9996 - val_precision: 0.8898 - val_recall: 0.7834\n",
      "Epoch 14/50\n",
      "5465/5465 [==============================] - 392s 72ms/step - loss: 0.0012 - binary_accuracy: 0.9996 - precision: 0.8849 - recall: 0.7847 - val_loss: 0.0014 - val_binary_accuracy: 0.9996 - val_precision: 0.8882 - val_recall: 0.7870\n",
      "INFO:tensorflow:Assets written to: ../models/weights.14-0.0014/assets\n",
      "Epoch 15/50\n",
      "5465/5465 [==============================] - 408s 75ms/step - loss: 0.0012 - binary_accuracy: 0.9996 - precision: 0.8859 - recall: 0.7883 - val_loss: 0.0014 - val_binary_accuracy: 0.9996 - val_precision: 0.8884 - val_recall: 0.7885\n",
      "Epoch 16/50\n",
      "5465/5465 [==============================] - 400s 73ms/step - loss: 0.0012 - binary_accuracy: 0.9996 - precision: 0.8870 - recall: 0.7917 - val_loss: 0.0014 - val_binary_accuracy: 0.9996 - val_precision: 0.8883 - val_recall: 0.7898\n",
      "Epoch 17/50\n",
      "5465/5465 [==============================] - 393s 72ms/step - loss: 0.0012 - binary_accuracy: 0.9996 - precision: 0.8874 - recall: 0.7944 - val_loss: 0.0014 - val_binary_accuracy: 0.9996 - val_precision: 0.8866 - val_recall: 0.7922\n",
      "Epoch 18/50\n",
      "5465/5465 [==============================] - 386s 71ms/step - loss: 0.0012 - binary_accuracy: 0.9996 - precision: 0.8881 - recall: 0.7966 - val_loss: 0.0014 - val_binary_accuracy: 0.9996 - val_precision: 0.8887 - val_recall: 0.7910\n",
      "Training ended\n",
      "CPU times: user 11h 9min 56s, sys: 52min 36s, total: 12h 2min 33s\n",
      "Wall time: 2h 2min 48s\n"
     ]
    }
   ],
   "source": [
    "%%time\n",
    "import json\n",
    "\n",
    "if replicates == 1:\n",
    "    save_dirs = [output_dir]\n",
    "else:\n",
    "    save_dirs = [output_dir / str(i) for i in range(replicates)]\n",
    "\n",
    "for i, save_dir in enumerate(save_dirs):\n",
    "    model = create_model(config, keras_preprocess)\n",
    "    save_dir.mkdir(exist_ok=True)\n",
    "    config.train_config.start_datetime = str(datetime.datetime.utcnow())\n",
    "    print(f\"Starting training repeat {i}\")\n",
    "\n",
    "    save_config(config, save_dir)\n",
    "    copy_category_taxonomy(settings.CATEGORY_TAXONOMY_PATH, save_dir)\n",
    "    save_category_vocabulary(keras_preprocess.category_vocab, save_dir)\n",
    "    # Get the dictionary containing each metric and the loss for each epoch\n",
    "    history=train(\n",
    "        model,\n",
    "        save_dir,\n",
    "        config,\n",
    "        keras_preprocess.category_vocab,\n",
    "    )\n",
    "\n",
    "    config.train_config.end_datetime = str(datetime.datetime.utcnow())\n",
    "    save_config(config, save_dir)\n",
    "    config.train_config.start_datetime = None\n",
    "    config.train_config.end_datetime = None"
   ]
  },
  {
   "cell_type": "code",
   "execution_count": 9,
   "id": "ab63d125",
   "metadata": {},
   "outputs": [
    {
     "data": {
      "text/html": [
       "<div>\n",
       "<style scoped>\n",
       "    .dataframe tbody tr th:only-of-type {\n",
       "        vertical-align: middle;\n",
       "    }\n",
       "\n",
       "    .dataframe tbody tr th {\n",
       "        vertical-align: top;\n",
       "    }\n",
       "\n",
       "    .dataframe thead th {\n",
       "        text-align: right;\n",
       "    }\n",
       "</style>\n",
       "<table border=\"1\" class=\"dataframe\">\n",
       "  <thead>\n",
       "    <tr style=\"text-align: right;\">\n",
       "      <th></th>\n",
       "      <th>epoch</th>\n",
       "      <th>binary_accuracy</th>\n",
       "      <th>loss</th>\n",
       "      <th>precision</th>\n",
       "      <th>recall</th>\n",
       "      <th>val_binary_accuracy</th>\n",
       "      <th>val_loss</th>\n",
       "      <th>val_precision</th>\n",
       "      <th>val_recall</th>\n",
       "    </tr>\n",
       "  </thead>\n",
       "  <tbody>\n",
       "    <tr>\n",
       "      <th>0</th>\n",
       "      <td>0</td>\n",
       "      <td>0.998507</td>\n",
       "      <td>0.008054</td>\n",
       "      <td>0.240607</td>\n",
       "      <td>0.096496</td>\n",
       "      <td>0.999038</td>\n",
       "      <td>0.003913</td>\n",
       "      <td>0.856629</td>\n",
       "      <td>0.274321</td>\n",
       "    </tr>\n",
       "    <tr>\n",
       "      <th>1</th>\n",
       "      <td>1</td>\n",
       "      <td>0.999174</td>\n",
       "      <td>0.003237</td>\n",
       "      <td>0.817032</td>\n",
       "      <td>0.423091</td>\n",
       "      <td>0.999356</td>\n",
       "      <td>0.002264</td>\n",
       "      <td>0.884558</td>\n",
       "      <td>0.556374</td>\n",
       "    </tr>\n",
       "    <tr>\n",
       "      <th>2</th>\n",
       "      <td>2</td>\n",
       "      <td>0.999389</td>\n",
       "      <td>0.002223</td>\n",
       "      <td>0.847214</td>\n",
       "      <td>0.598250</td>\n",
       "      <td>0.999486</td>\n",
       "      <td>0.001766</td>\n",
       "      <td>0.885372</td>\n",
       "      <td>0.674948</td>\n",
       "    </tr>\n",
       "    <tr>\n",
       "      <th>3</th>\n",
       "      <td>3</td>\n",
       "      <td>0.999472</td>\n",
       "      <td>0.001857</td>\n",
       "      <td>0.858805</td>\n",
       "      <td>0.667424</td>\n",
       "      <td>0.999531</td>\n",
       "      <td>0.001599</td>\n",
       "      <td>0.890849</td>\n",
       "      <td>0.711706</td>\n",
       "    </tr>\n",
       "    <tr>\n",
       "      <th>4</th>\n",
       "      <td>4</td>\n",
       "      <td>0.999499</td>\n",
       "      <td>0.001684</td>\n",
       "      <td>0.865141</td>\n",
       "      <td>0.701060</td>\n",
       "      <td>0.999558</td>\n",
       "      <td>0.001512</td>\n",
       "      <td>0.888878</td>\n",
       "      <td>0.737102</td>\n",
       "    </tr>\n",
       "    <tr>\n",
       "      <th>5</th>\n",
       "      <td>5</td>\n",
       "      <td>0.999512</td>\n",
       "      <td>0.001574</td>\n",
       "      <td>0.869422</td>\n",
       "      <td>0.722408</td>\n",
       "      <td>0.999573</td>\n",
       "      <td>0.001466</td>\n",
       "      <td>0.891282</td>\n",
       "      <td>0.748443</td>\n",
       "    </tr>\n",
       "    <tr>\n",
       "      <th>6</th>\n",
       "      <td>6</td>\n",
       "      <td>0.999522</td>\n",
       "      <td>0.001494</td>\n",
       "      <td>0.872929</td>\n",
       "      <td>0.737751</td>\n",
       "      <td>0.999582</td>\n",
       "      <td>0.001434</td>\n",
       "      <td>0.889208</td>\n",
       "      <td>0.759799</td>\n",
       "    </tr>\n",
       "    <tr>\n",
       "      <th>7</th>\n",
       "      <td>7</td>\n",
       "      <td>0.999531</td>\n",
       "      <td>0.001433</td>\n",
       "      <td>0.875791</td>\n",
       "      <td>0.749582</td>\n",
       "      <td>0.999591</td>\n",
       "      <td>0.001415</td>\n",
       "      <td>0.890777</td>\n",
       "      <td>0.765475</td>\n",
       "    </tr>\n",
       "    <tr>\n",
       "      <th>8</th>\n",
       "      <td>8</td>\n",
       "      <td>0.999539</td>\n",
       "      <td>0.001388</td>\n",
       "      <td>0.877920</td>\n",
       "      <td>0.758054</td>\n",
       "      <td>0.999597</td>\n",
       "      <td>0.001398</td>\n",
       "      <td>0.889000</td>\n",
       "      <td>0.773217</td>\n",
       "    </tr>\n",
       "    <tr>\n",
       "      <th>9</th>\n",
       "      <td>9</td>\n",
       "      <td>0.999547</td>\n",
       "      <td>0.001348</td>\n",
       "      <td>0.879948</td>\n",
       "      <td>0.765666</td>\n",
       "      <td>0.999600</td>\n",
       "      <td>0.001392</td>\n",
       "      <td>0.889078</td>\n",
       "      <td>0.776664</td>\n",
       "    </tr>\n",
       "    <tr>\n",
       "      <th>10</th>\n",
       "      <td>10</td>\n",
       "      <td>0.999554</td>\n",
       "      <td>0.001315</td>\n",
       "      <td>0.881642</td>\n",
       "      <td>0.772079</td>\n",
       "      <td>0.999604</td>\n",
       "      <td>0.001382</td>\n",
       "      <td>0.889226</td>\n",
       "      <td>0.779222</td>\n",
       "    </tr>\n",
       "    <tr>\n",
       "      <th>11</th>\n",
       "      <td>11</td>\n",
       "      <td>0.999560</td>\n",
       "      <td>0.001289</td>\n",
       "      <td>0.882489</td>\n",
       "      <td>0.776986</td>\n",
       "      <td>0.999606</td>\n",
       "      <td>0.001382</td>\n",
       "      <td>0.889870</td>\n",
       "      <td>0.781037</td>\n",
       "    </tr>\n",
       "    <tr>\n",
       "      <th>12</th>\n",
       "      <td>12</td>\n",
       "      <td>0.999567</td>\n",
       "      <td>0.001268</td>\n",
       "      <td>0.883602</td>\n",
       "      <td>0.781082</td>\n",
       "      <td>0.999609</td>\n",
       "      <td>0.001383</td>\n",
       "      <td>0.889830</td>\n",
       "      <td>0.783448</td>\n",
       "    </tr>\n",
       "    <tr>\n",
       "      <th>13</th>\n",
       "      <td>13</td>\n",
       "      <td>0.999572</td>\n",
       "      <td>0.001247</td>\n",
       "      <td>0.884941</td>\n",
       "      <td>0.784713</td>\n",
       "      <td>0.999611</td>\n",
       "      <td>0.001377</td>\n",
       "      <td>0.888201</td>\n",
       "      <td>0.786951</td>\n",
       "    </tr>\n",
       "    <tr>\n",
       "      <th>14</th>\n",
       "      <td>14</td>\n",
       "      <td>0.999578</td>\n",
       "      <td>0.001228</td>\n",
       "      <td>0.885928</td>\n",
       "      <td>0.788262</td>\n",
       "      <td>0.999613</td>\n",
       "      <td>0.001382</td>\n",
       "      <td>0.888354</td>\n",
       "      <td>0.788517</td>\n",
       "    </tr>\n",
       "    <tr>\n",
       "      <th>15</th>\n",
       "      <td>15</td>\n",
       "      <td>0.999582</td>\n",
       "      <td>0.001210</td>\n",
       "      <td>0.886987</td>\n",
       "      <td>0.791666</td>\n",
       "      <td>0.999615</td>\n",
       "      <td>0.001386</td>\n",
       "      <td>0.888343</td>\n",
       "      <td>0.789846</td>\n",
       "    </tr>\n",
       "    <tr>\n",
       "      <th>16</th>\n",
       "      <td>16</td>\n",
       "      <td>0.999587</td>\n",
       "      <td>0.001196</td>\n",
       "      <td>0.887441</td>\n",
       "      <td>0.794371</td>\n",
       "      <td>0.999615</td>\n",
       "      <td>0.001385</td>\n",
       "      <td>0.886595</td>\n",
       "      <td>0.792175</td>\n",
       "    </tr>\n",
       "    <tr>\n",
       "      <th>17</th>\n",
       "      <td>17</td>\n",
       "      <td>0.999591</td>\n",
       "      <td>0.001184</td>\n",
       "      <td>0.888089</td>\n",
       "      <td>0.796554</td>\n",
       "      <td>0.999616</td>\n",
       "      <td>0.001388</td>\n",
       "      <td>0.888667</td>\n",
       "      <td>0.790975</td>\n",
       "    </tr>\n",
       "  </tbody>\n",
       "</table>\n",
       "</div>"
      ],
      "text/plain": [
       "    epoch  binary_accuracy      loss  precision    recall  \\\n",
       "0       0         0.998507  0.008054   0.240607  0.096496   \n",
       "1       1         0.999174  0.003237   0.817032  0.423091   \n",
       "2       2         0.999389  0.002223   0.847214  0.598250   \n",
       "3       3         0.999472  0.001857   0.858805  0.667424   \n",
       "4       4         0.999499  0.001684   0.865141  0.701060   \n",
       "5       5         0.999512  0.001574   0.869422  0.722408   \n",
       "6       6         0.999522  0.001494   0.872929  0.737751   \n",
       "7       7         0.999531  0.001433   0.875791  0.749582   \n",
       "8       8         0.999539  0.001388   0.877920  0.758054   \n",
       "9       9         0.999547  0.001348   0.879948  0.765666   \n",
       "10     10         0.999554  0.001315   0.881642  0.772079   \n",
       "11     11         0.999560  0.001289   0.882489  0.776986   \n",
       "12     12         0.999567  0.001268   0.883602  0.781082   \n",
       "13     13         0.999572  0.001247   0.884941  0.784713   \n",
       "14     14         0.999578  0.001228   0.885928  0.788262   \n",
       "15     15         0.999582  0.001210   0.886987  0.791666   \n",
       "16     16         0.999587  0.001196   0.887441  0.794371   \n",
       "17     17         0.999591  0.001184   0.888089  0.796554   \n",
       "\n",
       "    val_binary_accuracy  val_loss  val_precision  val_recall  \n",
       "0              0.999038  0.003913       0.856629    0.274321  \n",
       "1              0.999356  0.002264       0.884558    0.556374  \n",
       "2              0.999486  0.001766       0.885372    0.674948  \n",
       "3              0.999531  0.001599       0.890849    0.711706  \n",
       "4              0.999558  0.001512       0.888878    0.737102  \n",
       "5              0.999573  0.001466       0.891282    0.748443  \n",
       "6              0.999582  0.001434       0.889208    0.759799  \n",
       "7              0.999591  0.001415       0.890777    0.765475  \n",
       "8              0.999597  0.001398       0.889000    0.773217  \n",
       "9              0.999600  0.001392       0.889078    0.776664  \n",
       "10             0.999604  0.001382       0.889226    0.779222  \n",
       "11             0.999606  0.001382       0.889870    0.781037  \n",
       "12             0.999609  0.001383       0.889830    0.783448  \n",
       "13             0.999611  0.001377       0.888201    0.786951  \n",
       "14             0.999613  0.001382       0.888354    0.788517  \n",
       "15             0.999615  0.001386       0.888343    0.789846  \n",
       "16             0.999615  0.001385       0.886595    0.792175  \n",
       "17             0.999616  0.001388       0.888667    0.790975  "
      ]
     },
     "execution_count": 9,
     "metadata": {},
     "output_type": "execute_result"
    }
   ],
   "source": [
    "log_data = pd.read_csv('../models/training.log', sep=',', engine='python')\n",
    "log_data"
   ]
  },
  {
   "cell_type": "code",
   "execution_count": 10,
   "id": "c6244c7a",
   "metadata": {},
   "outputs": [
    {
     "data": {
      "image/png": "[encoded data removed]",
      "text/plain": [
       "<Figure size 432x288 with 1 Axes>"
      ]
     },
     "metadata": {
      "needs_background": "light"
     },
     "output_type": "display_data"
    }
   ],
   "source": [
    "import matplotlib.pyplot as plt\n",
    "\n",
    "plt.plot(log_data['epoch'],log_data['loss'])\n",
    "plt.plot(log_data['epoch'],log_data['val_loss'])\n",
    "plt.title('Model categories_tags~product_name+ingredient_tags')\n",
    "plt.ylabel('Loss')\n",
    "plt.xlabel('Epoch')\n",
    "plt.legend(['train' , 'validation'] , loc = 'upper right')\n",
    "plt.show()"
   ]
  },
  {
   "cell_type": "code",
   "execution_count": 11,
   "id": "351ba593",
   "metadata": {
    "scrolled": true
   },
   "outputs": [
    {
     "data": {
      "image/png": "[encoded data removed]",
      "text/plain": [
       "<Figure size 432x288 with 1 Axes>"
      ]
     },
     "metadata": {
      "needs_background": "light"
     },
     "output_type": "display_data"
    }
   ],
   "source": [
    "import matplotlib.pyplot as plt\n",
    "\n",
    "plt.plot(log_data['epoch'],log_data['binary_accuracy'])\n",
    "plt.plot(log_data['epoch'],log_data['val_binary_accuracy'])\n",
    "plt.title('Model categories_tags~product_name+ingredient_tags')\n",
    "plt.ylabel('Binary Accuracy')\n",
    "plt.xlabel('Epoch')\n",
    "plt.legend(['train' , 'validation'] , loc = 'upper right')\n",
    "plt.show()"
   ]
  },
  {
   "cell_type": "markdown",
   "id": "38a29603",
   "metadata": {},
   "source": [
    "# Test model"
   ]
  },
  {
   "cell_type": "code",
   "execution_count": 10,
   "id": "cdba60dc",
   "metadata": {},
   "outputs": [],
   "source": [
    "# load saved model\n",
    "model=keras.models.load_model('../models/base/saved_model')"
   ]
  },
  {
   "cell_type": "code",
   "execution_count": 11,
   "id": "cff4364b",
   "metadata": {},
   "outputs": [],
   "source": [
    "# create train, validation, test datasets\n",
    "category_vocab = keras_preprocess.category_vocab\n",
    "batch_size = config.train_config.batch_size\n",
    "\n",
    "# Train & validation Dataset => investigate on characteristics of the source\n",
    "valdata = create_tf_dataset(\"val\", category_vocab, batch_size)\n",
    "testdata = create_tf_dataset(\"test\", category_vocab, batch_size)"
   ]
  },
  {
   "cell_type": "code",
   "execution_count": 12,
   "id": "264c8b91",
   "metadata": {},
   "outputs": [
    {
     "data": {
      "text/plain": [
       "3969"
      ]
     },
     "execution_count": 12,
     "metadata": {},
     "output_type": "execute_result"
    }
   ],
   "source": [
    "# categories count\n",
    "len(category_vocab)"
   ]
  },
  {
   "cell_type": "markdown",
   "id": "7ee83647",
   "metadata": {},
   "source": [
    "## Predict"
   ]
  },
  {
   "cell_type": "code",
   "execution_count": 13,
   "id": "fcb0f069",
   "metadata": {},
   "outputs": [
    {
     "name": "stdout",
     "output_type": "stream",
     "text": [
      "CPU times: user 1min 33s, sys: 19.8 s, total: 1min 52s\n",
      "Wall time: 1min 19s\n"
     ]
    }
   ],
   "source": [
    "%%time\n",
    "y_pred_val = model.predict(valdata)"
   ]
  },
  {
   "cell_type": "code",
   "execution_count": 14,
   "id": "c76368ed",
   "metadata": {},
   "outputs": [
    {
     "name": "stdout",
     "output_type": "stream",
     "text": [
      "CPU times: user 1min 33s, sys: 17.2 s, total: 1min 50s\n",
      "Wall time: 1min 19s\n"
     ]
    }
   ],
   "source": [
    "%%time\n",
    "y_pred_test=model.predict(testdata)"
   ]
  },
  {
   "cell_type": "code",
   "execution_count": 15,
   "id": "2a90553a",
   "metadata": {
    "scrolled": false
   },
   "outputs": [
    {
     "data": {
      "text/plain": [
       "((87433, 3969), (87433, 3969))"
      ]
     },
     "execution_count": 15,
     "metadata": {},
     "output_type": "execute_result"
    }
   ],
   "source": [
    "y_pred_val.shape, y_pred_test.shape"
   ]
  },
  {
   "cell_type": "code",
   "execution_count": 16,
   "id": "78c7d888",
   "metadata": {
    "scrolled": false
   },
   "outputs": [
    {
     "data": {
      "text/plain": [
       "array([[1.2839634e-05, 2.3829339e-10, 1.6613468e-09, ..., 1.5564917e-11,\n",
       "        3.6129602e-10, 2.1100532e-12],\n",
       "       [1.0495579e-01, 2.0508166e-09, 2.3943665e-09, ..., 1.3911613e-08,\n",
       "        1.0217517e-08, 3.8321792e-07],\n",
       "       [1.9471225e-05, 6.9090309e-14, 3.4578873e-15, ..., 1.7461139e-10,\n",
       "        1.5341870e-09, 3.1657670e-11],\n",
       "       ...,\n",
       "       [3.8076937e-03, 1.6157297e-06, 6.6229441e-06, ..., 1.5495658e-06,\n",
       "        8.5407564e-06, 3.0552114e-06],\n",
       "       [1.3194382e-03, 1.6692168e-10, 3.1451508e-09, ..., 4.1883496e-14,\n",
       "        4.0008695e-17, 5.4479357e-14],\n",
       "       [1.3995171e-04, 4.6972501e-09, 6.7628605e-07, ..., 2.1551737e-16,\n",
       "        4.0634079e-10, 5.0259212e-15]], dtype=float32)"
      ]
     },
     "execution_count": 16,
     "metadata": {},
     "output_type": "execute_result"
    }
   ],
   "source": [
    "y_pred_val"
   ]
  },
  {
   "cell_type": "markdown",
   "id": "d0dffed5",
   "metadata": {},
   "source": [
    "## Translate predictions"
   ]
  },
  {
   "cell_type": "code",
   "execution_count": 17,
   "id": "3269450e",
   "metadata": {},
   "outputs": [],
   "source": [
    "import numpy as np\n",
    "\n",
    "data=y_pred_val\n",
    "NUMBER_OF_CATEGORIES = 4\n",
    "\n",
    "values=np.partition(data,-NUMBER_OF_CATEGORIES) #top n probability values for each row\n",
    "indices=np.argpartition(data,-NUMBER_OF_CATEGORIES) #top n probability values indices for each row"
   ]
  },
  {
   "cell_type": "code",
   "execution_count": 18,
   "id": "d8b2f658",
   "metadata": {},
   "outputs": [],
   "source": [
    "val=values[:,-NUMBER_OF_CATEGORIES:] # filter n first values for each row\n",
    "ind=indices[:,-NUMBER_OF_CATEGORIES:] # filter n first values indices for each row"
   ]
  },
  {
   "cell_type": "code",
   "execution_count": 19,
   "id": "46a7bea9",
   "metadata": {},
   "outputs": [],
   "source": [
    "dfPredictions=(pd.DataFrame(ind).applymap(lambda x:category_vocab[x])+\": \"+pd.DataFrame(np.round(val*100,2)).astype(str)+\" %\").reset_index()"
   ]
  },
  {
   "cell_type": "code",
   "execution_count": 20,
   "id": "90cd9496",
   "metadata": {},
   "outputs": [],
   "source": [
    "# make dictionary from validation dataframe to get code ande product_name\n",
    "dict_val=val_ds[['code','product_name']].to_dict()"
   ]
  },
  {
   "cell_type": "code",
   "execution_count": 21,
   "id": "0128801c",
   "metadata": {
    "scrolled": true
   },
   "outputs": [],
   "source": [
    "dfPredictions['product_name']=dfPredictions['index'].apply(lambda x:dict_val['product_name'][x])\n",
    "dfPredictions['code']=dfPredictions['index'].apply(lambda x:dict_val['code'][x])\n",
    "dfPredictions=dfPredictions.drop(columns=[\"index\"])"
   ]
  },
  {
   "cell_type": "code",
   "execution_count": 22,
   "id": "c603f80d",
   "metadata": {
    "scrolled": true
   },
   "outputs": [
    {
     "data": {
      "text/html": [
       "<div>\n",
       "<style scoped>\n",
       "    .dataframe tbody tr th:only-of-type {\n",
       "        vertical-align: middle;\n",
       "    }\n",
       "\n",
       "    .dataframe tbody tr th {\n",
       "        vertical-align: top;\n",
       "    }\n",
       "\n",
       "    .dataframe thead th {\n",
       "        text-align: right;\n",
       "    }\n",
       "</style>\n",
       "<table border=\"1\" class=\"dataframe\">\n",
       "  <thead>\n",
       "    <tr style=\"text-align: right;\">\n",
       "      <th></th>\n",
       "      <th>0</th>\n",
       "      <th>1</th>\n",
       "      <th>2</th>\n",
       "      <th>3</th>\n",
       "      <th>product_name</th>\n",
       "      <th>code</th>\n",
       "    </tr>\n",
       "  </thead>\n",
       "  <tbody>\n",
       "    <tr>\n",
       "      <th>0</th>\n",
       "      <td>en:groceries: 96.52 %</td>\n",
       "      <td>en:salts: 98.63 %</td>\n",
       "      <td>en:fleurs-de-sel: 97.92 %</td>\n",
       "      <td>en:unrefined-salts: 97.0 %</td>\n",
       "      <td>Fleur de sel</td>\n",
       "      <td>3183280018259</td>\n",
       "    </tr>\n",
       "    <tr>\n",
       "      <th>1</th>\n",
       "      <td>en:cereals-and-potatoes: 65.28 %</td>\n",
       "      <td>en:breakfast-cereals: 71.68 %</td>\n",
       "      <td>en:plant-based-foods: 85.16 %</td>\n",
       "      <td>en:plant-based-foods-and-beverages: 85.63 %</td>\n",
       "      <td>coco pops</td>\n",
       "      <td>8690504270591</td>\n",
       "    </tr>\n",
       "    <tr>\n",
       "      <th>2</th>\n",
       "      <td>en:plant-based-foods-and-beverages: 74.35 %</td>\n",
       "      <td>en:plant-based-beverages: 75.87 %</td>\n",
       "      <td>en:hot-beverages: 87.98 %</td>\n",
       "      <td>en:beverages: 97.96 %</td>\n",
       "      <td>Thé épicé Dreaming camomille, lavande &amp; valériane</td>\n",
       "      <td>8719179003652</td>\n",
       "    </tr>\n",
       "    <tr>\n",
       "      <th>3</th>\n",
       "      <td>en:plant-milks: 78.42 %</td>\n",
       "      <td>en:milk-substitute: 80.89 %</td>\n",
       "      <td>en:soy-milks: 86.2 %</td>\n",
       "      <td>en:legume-milks: 86.33 %</td>\n",
       "      <td>Soja Vanille Drink</td>\n",
       "      <td>4316268502504</td>\n",
       "    </tr>\n",
       "    <tr>\n",
       "      <th>4</th>\n",
       "      <td>en:confectioneries: 59.83 %</td>\n",
       "      <td>en:snacks: 94.23 %</td>\n",
       "      <td>en:sweet-snacks: 94.86 %</td>\n",
       "      <td>en:nougats: 97.1 %</td>\n",
       "      <td>Nougat au miel de Bretagne</td>\n",
       "      <td>3770011407224</td>\n",
       "    </tr>\n",
       "    <tr>\n",
       "      <th>...</th>\n",
       "      <td>...</td>\n",
       "      <td>...</td>\n",
       "      <td>...</td>\n",
       "      <td>...</td>\n",
       "      <td>...</td>\n",
       "      <td>...</td>\n",
       "    </tr>\n",
       "    <tr>\n",
       "      <th>87428</th>\n",
       "      <td>en:fermented-milk-products: 95.78 %</td>\n",
       "      <td>en:yogurts: 96.79 %</td>\n",
       "      <td>en:dairies: 98.91 %</td>\n",
       "      <td>en:fermented-foods: 97.39 %</td>\n",
       "      <td>Milk chocolate</td>\n",
       "      <td>0072431253607</td>\n",
       "    </tr>\n",
       "    <tr>\n",
       "      <th>87429</th>\n",
       "      <td>en:poultries: 91.34 %</td>\n",
       "      <td>en:duck-breasts: 95.89 %</td>\n",
       "      <td>en:ducks: 95.94 %</td>\n",
       "      <td>en:meats: 97.83 %</td>\n",
       "      <td>Yaourt framboise</td>\n",
       "      <td>3175241413616</td>\n",
       "    </tr>\n",
       "    <tr>\n",
       "      <th>87430</th>\n",
       "      <td>fr:charcuteries-diverses: 11.99 %</td>\n",
       "      <td>en:prepared-meats: 78.72 %</td>\n",
       "      <td>en:meats: 80.52 %</td>\n",
       "      <td>en:cured-sausages: 29.25 %</td>\n",
       "      <td>Magret de canard</td>\n",
       "      <td>2685323047758</td>\n",
       "    </tr>\n",
       "    <tr>\n",
       "      <th>87431</th>\n",
       "      <td>en:cheeses: 99.26 %</td>\n",
       "      <td>en:fermented-milk-products: 99.66 %</td>\n",
       "      <td>en:fermented-foods: 99.69 %</td>\n",
       "      <td>en:dairies: 99.88 %</td>\n",
       "      <td>La fine douce et équilibrée</td>\n",
       "      <td>3700133913709</td>\n",
       "    </tr>\n",
       "    <tr>\n",
       "      <th>87432</th>\n",
       "      <td>en:plant-based-foods-and-beverages: 95.01 %</td>\n",
       "      <td>en:peanuts: 95.5 %</td>\n",
       "      <td>en:nuts: 96.49 %</td>\n",
       "      <td>en:plant-based-foods: 97.94 %</td>\n",
       "      <td>Harzer Käse</td>\n",
       "      <td>4337256088275</td>\n",
       "    </tr>\n",
       "  </tbody>\n",
       "</table>\n",
       "<p>87433 rows × 6 columns</p>\n",
       "</div>"
      ],
      "text/plain": [
       "                                                 0  \\\n",
       "0                            en:groceries: 96.52 %   \n",
       "1                 en:cereals-and-potatoes: 65.28 %   \n",
       "2      en:plant-based-foods-and-beverages: 74.35 %   \n",
       "3                          en:plant-milks: 78.42 %   \n",
       "4                      en:confectioneries: 59.83 %   \n",
       "...                                            ...   \n",
       "87428          en:fermented-milk-products: 95.78 %   \n",
       "87429                        en:poultries: 91.34 %   \n",
       "87430            fr:charcuteries-diverses: 11.99 %   \n",
       "87431                          en:cheeses: 99.26 %   \n",
       "87432  en:plant-based-foods-and-beverages: 95.01 %   \n",
       "\n",
       "                                         1                              2  \\\n",
       "0                        en:salts: 98.63 %      en:fleurs-de-sel: 97.92 %   \n",
       "1            en:breakfast-cereals: 71.68 %  en:plant-based-foods: 85.16 %   \n",
       "2        en:plant-based-beverages: 75.87 %      en:hot-beverages: 87.98 %   \n",
       "3              en:milk-substitute: 80.89 %           en:soy-milks: 86.2 %   \n",
       "4                       en:snacks: 94.23 %       en:sweet-snacks: 94.86 %   \n",
       "...                                    ...                            ...   \n",
       "87428                  en:yogurts: 96.79 %            en:dairies: 98.91 %   \n",
       "87429             en:duck-breasts: 95.89 %              en:ducks: 95.94 %   \n",
       "87430           en:prepared-meats: 78.72 %              en:meats: 80.52 %   \n",
       "87431  en:fermented-milk-products: 99.66 %    en:fermented-foods: 99.69 %   \n",
       "87432                   en:peanuts: 95.5 %               en:nuts: 96.49 %   \n",
       "\n",
       "                                                 3  \\\n",
       "0                       en:unrefined-salts: 97.0 %   \n",
       "1      en:plant-based-foods-and-beverages: 85.63 %   \n",
       "2                            en:beverages: 97.96 %   \n",
       "3                         en:legume-milks: 86.33 %   \n",
       "4                               en:nougats: 97.1 %   \n",
       "...                                            ...   \n",
       "87428                  en:fermented-foods: 97.39 %   \n",
       "87429                            en:meats: 97.83 %   \n",
       "87430                   en:cured-sausages: 29.25 %   \n",
       "87431                          en:dairies: 99.88 %   \n",
       "87432                en:plant-based-foods: 97.94 %   \n",
       "\n",
       "                                            product_name           code  \n",
       "0                                           Fleur de sel  3183280018259  \n",
       "1                                              coco pops  8690504270591  \n",
       "2      Thé épicé Dreaming camomille, lavande & valériane  8719179003652  \n",
       "3                                     Soja Vanille Drink  4316268502504  \n",
       "4                             Nougat au miel de Bretagne  3770011407224  \n",
       "...                                                  ...            ...  \n",
       "87428                                     Milk chocolate  0072431253607  \n",
       "87429                                   Yaourt framboise  3175241413616  \n",
       "87430                                   Magret de canard  2685323047758  \n",
       "87431                        La fine douce et équilibrée  3700133913709  \n",
       "87432                                        Harzer Käse  4337256088275  \n",
       "\n",
       "[87433 rows x 6 columns]"
      ]
     },
     "execution_count": 22,
     "metadata": {},
     "output_type": "execute_result"
    }
   ],
   "source": [
    "dfPredictions"
   ]
  }
 ],
 "metadata": {
  "kernelspec": {
   "display_name": "Python 3 (ipykernel)",
   "language": "python",
   "name": "python3"
  },
  "language_info": {
   "codemirror_mode": {
    "name": "ipython",
    "version": 3
   },
   "file_extension": ".py",
   "mimetype": "text/x-python",
   "name": "python",
   "nbconvert_exporter": "python",
   "pygments_lexer": "ipython3",
   "version": "3.8.12"
  }
 },
 "nbformat": 4,
 "nbformat_minor": 5
}
