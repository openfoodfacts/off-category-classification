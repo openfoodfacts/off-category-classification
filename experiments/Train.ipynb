{
 "cells": [
  {
   "cell_type": "markdown",
   "id": "064e2d60",
   "metadata": {},
   "source": [
    "# INDEX\n",
    "* [Imports and functions](#Imports-and-functions)\n",
    "* [Configuration](#Configuration)\n",
    "* [Prepare dataset](#Prepare-dataset)\n",
    "* [Build model](#Build-model)\n",
    "    * [Model inputs](#Model-inputs)\n",
    "    * [Model output](#Model-output)\n",
    "    * [Model](#Model)\n",
    "* [Train model](#Train-model)\n",
    "    * [Save model and resources](#Save-model-and-resources)\n",
    "    * [Training stats](#Training-stats)\n",
    "* [Test model](#Test-model)\n",
    "    * [Predict with training model](#Predict-with-training-model)\n",
    "    * [Predict with serving model](#Predict-with-serving-model)"
   ]
  },
  {
   "cell_type": "markdown",
   "id": "d481d404",
   "metadata": {},
   "source": [
    "# Imports and functions"
   ]
  },
  {
   "cell_type": "code",
   "execution_count": 1,
   "id": "80c4f3c2",
   "metadata": {},
   "outputs": [],
   "source": [
    "import sys\n",
    "sys.path.append('../') #append a relative path to the top package to the search path"
   ]
  },
  {
   "cell_type": "code",
   "execution_count": 2,
   "id": "fda92a68",
   "metadata": {},
   "outputs": [
    {
     "name": "stderr",
     "output_type": "stream",
     "text": [
      "2022-05-16 18:43:49.304767: W tensorflow/stream_executor/platform/default/dso_loader.cc:64] Could not load dynamic library 'libcudart.so.11.0'; dlerror: libcudart.so.11.0: cannot open shared object file: No such file or directory\n",
      "2022-05-16 18:43:49.304787: I tensorflow/stream_executor/cuda/cudart_stub.cc:29] Ignore above cudart dlerror if you do not have a GPU set up on your machine.\n",
      "/home/gabriel/.pyenv/versions/3.8.13/envs/venv-off-tf28/lib/python3.8/site-packages/tqdm/auto.py:22: TqdmWarning: IProgress not found. Please update jupyter and ipywidgets. See https://ipywidgets.readthedocs.io/en/stable/user_install.html\n",
      "  from .autonotebook import tqdm as notebook_tqdm\n"
     ]
    }
   ],
   "source": [
    "import dacite\n",
    "import json\n",
    "import pathlib\n",
    "import shutil\n",
    "from typing import List\n",
    "\n",
    "import matplotlib.pyplot as plt\n",
    "import pandas as pd\n",
    "\n",
    "import tensorflow as tf\n",
    "from tensorflow.data.experimental import dense_to_ragged_batch\n",
    "from tensorflow.keras import callbacks, layers\n",
    "from tensorflow.keras.utils import plot_model\n",
    "from tensorflow.python.ops import summary_ops_v2\n",
    "import tensorflow_datasets as tfds\n",
    "\n",
    "import settings\n",
    "\n",
    "from category_classification.config import Config\n",
    "from category_classification.data_utils import *\n",
    "from category_classification.models import to_serving_model\n",
    "\n",
    "from utils.io import (\n",
    "    copy_category_taxonomy,\n",
    "    save_category_vocabulary,\n",
    "    save_config\n",
    ")\n",
    "\n",
    "# TODO\n",
    "# from utils.metrics import evaluation_report\n",
    "\n",
    "\n",
    "# TODO: move to lib\n",
    "class TBCallback(callbacks.TensorBoard):\n",
    "    \"\"\"Get around a bug where you cannot use the TensorBoard callback with the StringLookup layers\n",
    "    - https://github.com/tensorflow/tensorboard/issues/4530#issuecomment-783318292\"\"\"\n",
    "\n",
    "    def _log_weights(self, epoch):\n",
    "        with self._train_writer.as_default():\n",
    "            with summary_ops_v2.always_record_summaries():\n",
    "                for layer in self.model.layers:\n",
    "                    for weight in layer.weights:\n",
    "                        if hasattr(weight, \"name\"):\n",
    "                            weight_name = weight.name.replace(\":\", \"_\")\n",
    "                            summary_ops_v2.histogram(weight_name, weight, step=epoch)\n",
    "                            if self.write_images:\n",
    "                                self._log_weight_as_image(weight, weight_name, epoch)\n",
    "                self._train_writer.flush()"
   ]
  },
  {
   "cell_type": "markdown",
   "id": "b1bfc7ed",
   "metadata": {},
   "source": [
    "# Configuration"
   ]
  },
  {
   "cell_type": "code",
   "execution_count": 3,
   "id": "a92c3dd7",
   "metadata": {
    "scrolled": true
   },
   "outputs": [],
   "source": [
    "with open('../config.json') as json_file:\n",
    "    json_config = json.load(json_file)\n",
    "    config = dacite.from_dict(Config, json_config)\n",
    "\n",
    "model_config = config.model_config\n",
    "train_config = config.train_config\n",
    "\n",
    "CACHE_DIR = pathlib.Path('../cache')\n",
    "CACHE_DIR.mkdir(parents=True, exist_ok=True)\n",
    "\n",
    "OUTPUT_DIR = pathlib.Path('../models')\n",
    "OUTPUT_DIR.mkdir(parents=True, exist_ok=True)\n",
    "\n",
    "PREPROC_BATCH_SIZE = 10_000  # some large value\n",
    "PREDICT_BATCH_SIZE = 128\n",
    "\n",
    "TRAIN_SPLIT = 'train'\n",
    "VAL_SPLIT = 'val'\n",
    "TEST_SPLIT = 'test'\n",
    "\n",
    "# ONLY FOR DEMO PURPOSE, so training goes faster\n",
    "#TRAIN_SPLIT = 'train[:10%]'\n",
    "#VAL_SPLIT = 'val[:10%]'\n",
    "#train_config.epochs = 2"
   ]
  },
  {
   "cell_type": "markdown",
   "id": "24785109",
   "metadata": {},
   "source": [
    "# Prepare dataset\n",
    "\n",
    "Run this once to fetch, build and cache the dataset.\n",
    "Further runs will be no-ops, unless you force operations (see TFDS doc).\n",
    "\n",
    "Once this is done, `tdfs.load('off_categories', ...)` to access the dataset."
   ]
  },
  {
   "cell_type": "code",
   "execution_count": 4,
   "id": "cda1dad4",
   "metadata": {},
   "outputs": [],
   "source": [
    "import datasets.off_categories\n",
    "\n",
    "builder = tfds.builder('off_categories')\n",
    "builder.download_and_prepare()\n",
    "\n",
    "# Or run via command line (if `tfds` is in the path):\n",
    "# !cd ../datasets && tfds build off_categories"
   ]
  },
  {
   "cell_type": "markdown",
   "id": "eb92b58e",
   "metadata": {},
   "source": [
    "# Build model"
   ]
  },
  {
   "cell_type": "code",
   "execution_count": 5,
   "id": "2ee58091",
   "metadata": {},
   "outputs": [],
   "source": [
    "tf.random.set_seed(42)"
   ]
  },
  {
   "cell_type": "markdown",
   "id": "993bb1d8",
   "metadata": {},
   "source": [
    "## Model inputs"
   ]
  },
  {
   "cell_type": "code",
   "execution_count": 6,
   "id": "531185de",
   "metadata": {},
   "outputs": [],
   "source": [
    "# we use dicts so rerunning individual model cells is idempotent\n",
    "inputs = {}\n",
    "input_graphs = {}"
   ]
  },
  {
   "cell_type": "code",
   "execution_count": 7,
   "id": "8353a5f1",
   "metadata": {},
   "outputs": [
    {
     "name": "stderr",
     "output_type": "stream",
     "text": [
      "2022-05-16 18:43:50.627701: W tensorflow/stream_executor/platform/default/dso_loader.cc:64] Could not load dynamic library 'libcuda.so.1'; dlerror: libcuda.so.1: cannot open shared object file: No such file or directory\n",
      "2022-05-16 18:43:50.627723: W tensorflow/stream_executor/cuda/cuda_driver.cc:269] failed call to cuInit: UNKNOWN ERROR (303)\n",
      "2022-05-16 18:43:50.627750: I tensorflow/stream_executor/cuda/cuda_diagnostics.cc:156] kernel driver does not appear to be running on this host (alba): /proc/driver/nvidia/version does not exist\n",
      "2022-05-16 18:43:50.627929: I tensorflow/core/platform/cpu_feature_guard.cc:151] This TensorFlow binary is optimized with oneAPI Deep Neural Network Library (oneDNN) to use the following CPU instructions in performance-critical operations:  AVX2 AVX512F FMA\n",
      "To enable them in other operations, rebuild TensorFlow with the appropriate compiler flags.\n"
     ]
    }
   ],
   "source": [
    "ds = tfds.load('off_categories', split=TRAIN_SPLIT)"
   ]
  },
  {
   "cell_type": "code",
   "execution_count": 8,
   "id": "c61fec40",
   "metadata": {},
   "outputs": [
    {
     "name": "stdout",
     "output_type": "stream",
     "text": [
      "93000\n",
      "CPU times: user 29 s, sys: 14.1 s, total: 43.1 s\n",
      "Wall time: 8 s\n"
     ]
    }
   ],
   "source": [
    "%%time\n",
    "\n",
    "feature_name = 'product_name'\n",
    "\n",
    "product_name_input = tf.keras.Input(shape=(1,), dtype=tf.string, name=feature_name)\n",
    "\n",
    "product_name_vectorizer = layers.TextVectorization(\n",
    "    split = 'whitespace',\n",
    "    max_tokens = model_config.product_name_max_tokens,\n",
    "    output_sequence_length = model_config.product_name_max_length)\n",
    "\n",
    "product_name_vectorizer.adapt(\n",
    "    get_feature(ds, feature_name).batch(PREPROC_BATCH_SIZE))\n",
    "\n",
    "x = product_name_vectorizer(product_name_input)\n",
    "\n",
    "x = layers.Embedding(\n",
    "    input_dim = product_name_vectorizer.vocabulary_size(),\n",
    "    output_dim = model_config.product_name_embedding_size,\n",
    "    mask_zero = False)(x)\n",
    "\n",
    "product_name_graph = layers.Bidirectional(layers.LSTM(\n",
    "    units = model_config.product_name_lstm_units,\n",
    "    recurrent_dropout = model_config.product_name_lstm_recurrent_dropout,\n",
    "    dropout = model_config.product_name_lstm_dropout))(x)\n",
    "\n",
    "inputs[feature_name] = product_name_input\n",
    "input_graphs[feature_name] = product_name_graph\n",
    "\n",
    "# expected: 93000\n",
    "print(len(product_name_vectorizer.get_vocabulary()))"
   ]
  },
  {
   "cell_type": "code",
   "execution_count": 9,
   "id": "bdb0a17d",
   "metadata": {},
   "outputs": [
    {
     "name": "stdout",
     "output_type": "stream",
     "text": [
      "4222\n",
      "CPU times: user 58.7 s, sys: 29.1 s, total: 1min 27s\n",
      "Wall time: 14.1 s\n"
     ]
    }
   ],
   "source": [
    "%%time\n",
    "\n",
    "feature_name = 'ingredients_tags'\n",
    "\n",
    "ingredients_input = tf.keras.Input(shape=(None,), dtype=tf.string, name=feature_name)\n",
    "\n",
    "ingredients_vocab = get_vocabulary(\n",
    "    flat_batch(get_feature(ds, feature_name), batch_size=PREPROC_BATCH_SIZE),\n",
    "    min_freq = model_config.ingredient_min_count)\n",
    "\n",
    "ingredients_graph = layers.StringLookup(\n",
    "    vocabulary = ingredients_vocab,\n",
    "    output_mode = 'multi_hot')(ingredients_input)\n",
    "\n",
    "inputs[feature_name] = ingredients_input\n",
    "input_graphs[feature_name] = ingredients_graph\n",
    "\n",
    "# expected: 4223\n",
    "print(len(ingredients_vocab))  # 4222 vs 4223 -> no b'' because no padded_batch"
   ]
  },
  {
   "cell_type": "markdown",
   "id": "db8a30f1",
   "metadata": {},
   "source": [
    "## Model output"
   ]
  },
  {
   "cell_type": "code",
   "execution_count": 10,
   "id": "1d3426e3",
   "metadata": {},
   "outputs": [
    {
     "name": "stdout",
     "output_type": "stream",
     "text": [
      "3969\n",
      "CPU times: user 57.1 s, sys: 28.8 s, total: 1min 25s\n",
      "Wall time: 14.2 s\n"
     ]
    }
   ],
   "source": [
    "%%time\n",
    "\n",
    "labels = 'categories_tags'\n",
    "\n",
    "categories_vocab = get_vocabulary(\n",
    "    flat_batch(get_feature(ds, labels), batch_size=PREPROC_BATCH_SIZE),\n",
    "    min_freq = model_config.category_min_count)\n",
    "\n",
    "# StringLookup(output_mode='multi_hot') mode requires num_oov_indices >= 1.\n",
    "# We don't want OOVs in the categories_tags output layer, since it wouldn't make\n",
    "# sense to predict OOV. So we'll drop the OOV in _transform below.\n",
    "# Be careful when using StringLookup methods, some of them will return values\n",
    "# based on a vocabulary with OOV (e.g. vocabulary_size()). Keep this in mind when\n",
    "# mapping predictions back to the original vocabulary.\n",
    "categories_multihot = layers.StringLookup(\n",
    "    vocabulary = categories_vocab,\n",
    "    output_mode = 'multi_hot',\n",
    "    num_oov_indices = 1)  \n",
    "\n",
    "def categories_encode(ds: tf.data.Dataset):\n",
    "    @tf.function\n",
    "    @tf.autograph.experimental.do_not_convert\n",
    "    def _transform(x, y):\n",
    "        y = categories_multihot(y)\n",
    "        y = y[1:]  # drop OOV\n",
    "        return (x, y)\n",
    "\n",
    "    @tf.function\n",
    "    @tf.autograph.experimental.do_not_convert\n",
    "    def _not_empty(x, y):\n",
    "        return tf.math.reduce_max(y, 0) > 0\n",
    "\n",
    "    return (\n",
    "        ds\n",
    "        .map(_transform, num_parallel_calls=tf.data.AUTOTUNE, deterministic=True)\n",
    "        .filter(_not_empty)\n",
    "    )\n",
    "\n",
    "# expected: 3969\n",
    "print(len(categories_vocab))"
   ]
  },
  {
   "cell_type": "markdown",
   "id": "5d3c2786",
   "metadata": {},
   "source": [
    "## Model"
   ]
  },
  {
   "cell_type": "code",
   "execution_count": 11,
   "id": "8b498ee3",
   "metadata": {},
   "outputs": [],
   "source": [
    "# ensure final order is independent of cell execution/insertion order\n",
    "features = sorted(inputs.keys())\n",
    "\n",
    "x = layers.Concatenate()([input_graphs[k] for k in features])\n",
    "x = layers.Dropout(model_config.hidden_dropout)(x)\n",
    "x = layers.Dense(model_config.hidden_dim)(x)\n",
    "x = layers.Dropout(model_config.hidden_dropout)(x)\n",
    "x = layers.Activation('relu')(x)\n",
    "output = layers.Dense(len(categories_vocab), activation='sigmoid')(x)\n",
    "\n",
    "model = tf.keras.Model(inputs=[inputs[k] for k in features], outputs=[output])\n",
    "\n",
    "model.compile(\n",
    "    optimizer = tf.keras.optimizers.Adam(learning_rate=train_config.lr),\n",
    "    loss = tf.keras.losses.BinaryCrossentropy(label_smoothing=train_config.label_smoothing),\n",
    "    metrics = ['binary_accuracy', 'Precision', 'Recall']\n",
    ")"
   ]
  },
  {
   "cell_type": "code",
   "execution_count": 12,
   "id": "a5df8ca2",
   "metadata": {},
   "outputs": [
    {
     "name": "stdout",
     "output_type": "stream",
     "text": [
      "Model: \"model\"\n",
      "__________________________________________________________________________________________________\n",
      " Layer (type)                   Output Shape         Param #     Connected to                     \n",
      "==================================================================================================\n",
      " product_name (InputLayer)      [(None, 1)]          0           []                               \n",
      "                                                                                                  \n",
      " text_vectorization (TextVector  (None, 30)          0           ['product_name[0][0]']           \n",
      " ization)                                                                                         \n",
      "                                                                                                  \n",
      " ingredients_tags (InputLayer)  [(None, None)]       0           []                               \n",
      "                                                                                                  \n",
      " embedding (Embedding)          (None, 30, 64)       5952000     ['text_vectorization[0][0]']     \n",
      "                                                                                                  \n",
      " string_lookup_1 (StringLookup)  (None, 4223)        0           ['ingredients_tags[0][0]']       \n",
      "                                                                                                  \n",
      " bidirectional (Bidirectional)  (None, 128)          66048       ['embedding[0][0]']              \n",
      "                                                                                                  \n",
      " concatenate (Concatenate)      (None, 4351)         0           ['string_lookup_1[0][0]',        \n",
      "                                                                  'bidirectional[0][0]']          \n",
      "                                                                                                  \n",
      " dropout (Dropout)              (None, 4351)         0           ['concatenate[0][0]']            \n",
      "                                                                                                  \n",
      " dense (Dense)                  (None, 64)           278528      ['dropout[0][0]']                \n",
      "                                                                                                  \n",
      " dropout_1 (Dropout)            (None, 64)           0           ['dense[0][0]']                  \n",
      "                                                                                                  \n",
      " activation (Activation)        (None, 64)           0           ['dropout_1[0][0]']              \n",
      "                                                                                                  \n",
      " dense_1 (Dense)                (None, 3969)         257985      ['activation[0][0]']             \n",
      "                                                                                                  \n",
      "==================================================================================================\n",
      "Total params: 6,554,561\n",
      "Trainable params: 6,554,561\n",
      "Non-trainable params: 0\n",
      "__________________________________________________________________________________________________\n"
     ]
    }
   ],
   "source": [
    "model.summary()\n",
    "\n",
    "# Model: \"model\"\n",
    "# __________________________________________________________________________________________________\n",
    "#  Layer (type)                   Output Shape         Param #     Connected to                     \n",
    "# ==================================================================================================\n",
    "#  product_name (InputLayer)      [(None, 1)]          0           []                               \n",
    "                                                                                                  \n",
    "#  text_vectorization (TextVector  (None, 30)          0           ['product_name[0][0]']           \n",
    "#  ization)                                                                                         \n",
    "                                                                                                  \n",
    "#  ingredients_tags (InputLayer)  [(None, None)]       0           []                               \n",
    "                                                                                                  \n",
    "#  embedding (Embedding)          (None, 30, 64)       5952000     ['text_vectorization[0][0]']     \n",
    "                                                                                                  \n",
    "#  string_lookup_1 (StringLookup)  (None, 4223)        0           ['ingredients_tags[0][0]']       \n",
    "                                                                                                  \n",
    "#  bidirectional (Bidirectional)  (None, 128)          66048       ['embedding[0][0]']              \n",
    "                                                                                                  \n",
    "#  concatenate (Concatenate)      (None, 4351)         0           ['string_lookup_1[0][0]',        \n",
    "#                                                                   'bidirectional[0][0]']          \n",
    "                                                                                                  \n",
    "#  dropout (Dropout)              (None, 4351)         0           ['concatenate[0][0]']            \n",
    "                                                                                                  \n",
    "#  dense (Dense)                  (None, 64)           278528      ['dropout[0][0]']                \n",
    "                                                                                                  \n",
    "#  dropout_1 (Dropout)            (None, 64)           0           ['dense[0][0]']                  \n",
    "                                                                                                  \n",
    "#  activation (Activation)        (None, 64)           0           ['dropout_1[0][0]']              \n",
    "                                                                                                  \n",
    "#  dense_1 (Dense)                (None, 3969)         257985      ['activation[0][0]']             \n",
    "                                                                                                  \n",
    "# ==================================================================================================\n",
    "# Total params: 6,554,561\n",
    "# Trainable params: 6,554,561\n",
    "# Non-trainable params: 0"
   ]
  },
  {
   "cell_type": "code",
   "execution_count": 13,
   "id": "cec2d376",
   "metadata": {},
   "outputs": [
    {
     "data": {
      "image/png": "[encoded data removed]",
      "text/plain": [
       "<IPython.core.display.Image object>"
      ]
     },
     "execution_count": 13,
     "metadata": {},
     "output_type": "execute_result"
    }
   ],
   "source": [
    "plot_model(model, show_shapes=True, show_layer_names=True)"
   ]
  },
  {
   "cell_type": "markdown",
   "id": "1d3f44b0",
   "metadata": {},
   "source": [
    "# Train model"
   ]
  },
  {
   "cell_type": "code",
   "execution_count": 14,
   "id": "53441242",
   "metadata": {},
   "outputs": [
    {
     "name": "stdout",
     "output_type": "stream",
     "text": [
      "Cache directory: ../cache\n",
      "Output directory: ../models\n",
      "Epoch 1/50\n"
     ]
    },
    {
     "name": "stderr",
     "output_type": "stream",
     "text": [
      "2022-05-17 00:05:05.159672: W tensorflow/core/kernels/data/cache_dataset_ops.cc:233] The calling iterator did not fully read the dataset being cached. In order to avoid unexpected truncation of the dataset, the partially cached contents of the dataset  will be discarded. This can happen if you have an input pipeline similar to `dataset.cache().take(k).repeat()`. You should use `dataset.take(k).cache().repeat()` instead.\n",
      "/home/gabriel/.pyenv/versions/3.8.13/envs/venv-off-tf28/lib/python3.8/site-packages/keras/engine/functional.py:559: UserWarning: Input dict contained keys ['code'] which did not match any model input. They will be ignored by the model.\n",
      "  inputs = self._flatten_to_reference_inputs(inputs)\n"
     ]
    },
    {
     "name": "stdout",
     "output_type": "stream",
     "text": [
      "   5465/Unknown - 467s 85ms/step - loss: 0.0082 - binary_accuracy: 0.9985 - precision: 0.2367 - recall: 0.0810"
     ]
    },
    {
     "name": "stderr",
     "output_type": "stream",
     "text": [
      "2022-05-17 00:12:52.976384: W tensorflow/core/kernels/data/cache_dataset_ops.cc:233] The calling iterator did not fully read the dataset being cached. In order to avoid unexpected truncation of the dataset, the partially cached contents of the dataset  will be discarded. This can happen if you have an input pipeline similar to `dataset.cache().take(k).repeat()`. You should use `dataset.take(k).cache().repeat()` instead.\n",
      "2022-05-17 00:13:06.482942: W tensorflow/core/kernels/data/cache_dataset_ops.cc:233] The calling iterator did not fully read the dataset being cached. In order to avoid unexpected truncation of the dataset, the partially cached contents of the dataset  will be discarded. This can happen if you have an input pipeline similar to `dataset.cache().take(k).repeat()`. You should use `dataset.take(k).cache().repeat()` instead.\n",
      "2022-05-17 00:13:09.083539: W tensorflow/python/util/util.cc:368] Sets are not currently considered sequences, but this may change in the future, so consider avoiding using them.\n"
     ]
    },
    {
     "name": "stdout",
     "output_type": "stream",
     "text": [
      "INFO:tensorflow:Assets written to: ../models/weights.01-0.0041/assets\n"
     ]
    },
    {
     "name": "stderr",
     "output_type": "stream",
     "text": [
      "INFO:tensorflow:Assets written to: ../models/weights.01-0.0041/assets\n",
      "WARNING:absl:<keras.layers.recurrent.LSTMCell object at 0x7f477474ac10> has the same name 'LSTMCell' as a built-in Keras object. Consider renaming <class 'keras.layers.recurrent.LSTMCell'> to avoid naming conflicts when loading with `tf.keras.models.load_model`. If renaming is not possible, pass the object in the `custom_objects` parameter of the load function.\n",
      "WARNING:absl:<keras.layers.recurrent.LSTMCell object at 0x7f477474a280> has the same name 'LSTMCell' as a built-in Keras object. Consider renaming <class 'keras.layers.recurrent.LSTMCell'> to avoid naming conflicts when loading with `tf.keras.models.load_model`. If renaming is not possible, pass the object in the `custom_objects` parameter of the load function.\n"
     ]
    },
    {
     "name": "stdout",
     "output_type": "stream",
     "text": [
      "5465/5465 [==============================] - 487s 89ms/step - loss: 0.0082 - binary_accuracy: 0.9985 - precision: 0.2367 - recall: 0.0810 - val_loss: 0.0041 - val_binary_accuracy: 0.9990 - val_precision: 0.8445 - val_recall: 0.2502\n",
      "Epoch 2/50\n"
     ]
    },
    {
     "name": "stderr",
     "output_type": "stream",
     "text": [
      "2022-05-17 00:13:12.477611: W tensorflow/core/kernels/data/cache_dataset_ops.cc:233] The calling iterator did not fully read the dataset being cached. In order to avoid unexpected truncation of the dataset, the partially cached contents of the dataset  will be discarded. This can happen if you have an input pipeline similar to `dataset.cache().take(k).repeat()`. You should use `dataset.take(k).cache().repeat()` instead.\n"
     ]
    },
    {
     "name": "stdout",
     "output_type": "stream",
     "text": [
      "5465/5465 [==============================] - ETA: 0s - loss: 0.0033 - binary_accuracy: 0.9992 - precision: 0.8168 - recall: 0.4147INFO:tensorflow:Assets written to: ../models/weights.02-0.0023/assets\n"
     ]
    },
    {
     "name": "stderr",
     "output_type": "stream",
     "text": [
      "INFO:tensorflow:Assets written to: ../models/weights.02-0.0023/assets\n",
      "WARNING:absl:<keras.layers.recurrent.LSTMCell object at 0x7f477474ac10> has the same name 'LSTMCell' as a built-in Keras object. Consider renaming <class 'keras.layers.recurrent.LSTMCell'> to avoid naming conflicts when loading with `tf.keras.models.load_model`. If renaming is not possible, pass the object in the `custom_objects` parameter of the load function.\n",
      "WARNING:absl:<keras.layers.recurrent.LSTMCell object at 0x7f477474a280> has the same name 'LSTMCell' as a built-in Keras object. Consider renaming <class 'keras.layers.recurrent.LSTMCell'> to avoid naming conflicts when loading with `tf.keras.models.load_model`. If renaming is not possible, pass the object in the `custom_objects` parameter of the load function.\n"
     ]
    },
    {
     "name": "stdout",
     "output_type": "stream",
     "text": [
      "5465/5465 [==============================] - 426s 78ms/step - loss: 0.0033 - binary_accuracy: 0.9992 - precision: 0.8168 - recall: 0.4147 - val_loss: 0.0023 - val_binary_accuracy: 0.9994 - val_precision: 0.8864 - val_recall: 0.5579\n",
      "Epoch 3/50\n",
      "5465/5465 [==============================] - ETA: 0s - loss: 0.0022 - binary_accuracy: 0.9994 - precision: 0.8467 - recall: 0.5971INFO:tensorflow:Assets written to: ../models/weights.03-0.0018/assets\n"
     ]
    },
    {
     "name": "stderr",
     "output_type": "stream",
     "text": [
      "INFO:tensorflow:Assets written to: ../models/weights.03-0.0018/assets\n",
      "WARNING:absl:<keras.layers.recurrent.LSTMCell object at 0x7f477474ac10> has the same name 'LSTMCell' as a built-in Keras object. Consider renaming <class 'keras.layers.recurrent.LSTMCell'> to avoid naming conflicts when loading with `tf.keras.models.load_model`. If renaming is not possible, pass the object in the `custom_objects` parameter of the load function.\n",
      "WARNING:absl:<keras.layers.recurrent.LSTMCell object at 0x7f477474a280> has the same name 'LSTMCell' as a built-in Keras object. Consider renaming <class 'keras.layers.recurrent.LSTMCell'> to avoid naming conflicts when loading with `tf.keras.models.load_model`. If renaming is not possible, pass the object in the `custom_objects` parameter of the load function.\n"
     ]
    },
    {
     "name": "stdout",
     "output_type": "stream",
     "text": [
      "5465/5465 [==============================] - 417s 76ms/step - loss: 0.0022 - binary_accuracy: 0.9994 - precision: 0.8467 - recall: 0.5971 - val_loss: 0.0018 - val_binary_accuracy: 0.9995 - val_precision: 0.8900 - val_recall: 0.6694\n",
      "Epoch 4/50\n",
      "5465/5465 [==============================] - ETA: 0s - loss: 0.0019 - binary_accuracy: 0.9995 - precision: 0.8583 - recall: 0.6665INFO:tensorflow:Assets written to: ../models/weights.04-0.0016/assets\n"
     ]
    },
    {
     "name": "stderr",
     "output_type": "stream",
     "text": [
      "INFO:tensorflow:Assets written to: ../models/weights.04-0.0016/assets\n",
      "WARNING:absl:<keras.layers.recurrent.LSTMCell object at 0x7f477474ac10> has the same name 'LSTMCell' as a built-in Keras object. Consider renaming <class 'keras.layers.recurrent.LSTMCell'> to avoid naming conflicts when loading with `tf.keras.models.load_model`. If renaming is not possible, pass the object in the `custom_objects` parameter of the load function.\n",
      "WARNING:absl:<keras.layers.recurrent.LSTMCell object at 0x7f477474a280> has the same name 'LSTMCell' as a built-in Keras object. Consider renaming <class 'keras.layers.recurrent.LSTMCell'> to avoid naming conflicts when loading with `tf.keras.models.load_model`. If renaming is not possible, pass the object in the `custom_objects` parameter of the load function.\n"
     ]
    },
    {
     "name": "stdout",
     "output_type": "stream",
     "text": [
      "5465/5465 [==============================] - 418s 77ms/step - loss: 0.0019 - binary_accuracy: 0.9995 - precision: 0.8583 - recall: 0.6665 - val_loss: 0.0016 - val_binary_accuracy: 0.9995 - val_precision: 0.8911 - val_recall: 0.7108\n",
      "Epoch 5/50\n",
      "5465/5465 [==============================] - ETA: 0s - loss: 0.0017 - binary_accuracy: 0.9995 - precision: 0.8653 - recall: 0.7011INFO:tensorflow:Assets written to: ../models/weights.05-0.0015/assets\n"
     ]
    },
    {
     "name": "stderr",
     "output_type": "stream",
     "text": [
      "INFO:tensorflow:Assets written to: ../models/weights.05-0.0015/assets\n",
      "WARNING:absl:<keras.layers.recurrent.LSTMCell object at 0x7f477474ac10> has the same name 'LSTMCell' as a built-in Keras object. Consider renaming <class 'keras.layers.recurrent.LSTMCell'> to avoid naming conflicts when loading with `tf.keras.models.load_model`. If renaming is not possible, pass the object in the `custom_objects` parameter of the load function.\n",
      "WARNING:absl:<keras.layers.recurrent.LSTMCell object at 0x7f477474a280> has the same name 'LSTMCell' as a built-in Keras object. Consider renaming <class 'keras.layers.recurrent.LSTMCell'> to avoid naming conflicts when loading with `tf.keras.models.load_model`. If renaming is not possible, pass the object in the `custom_objects` parameter of the load function.\n"
     ]
    },
    {
     "name": "stdout",
     "output_type": "stream",
     "text": [
      "5465/5465 [==============================] - 422s 77ms/step - loss: 0.0017 - binary_accuracy: 0.9995 - precision: 0.8653 - recall: 0.7011 - val_loss: 0.0015 - val_binary_accuracy: 0.9996 - val_precision: 0.8904 - val_recall: 0.7360\n",
      "Epoch 6/50\n",
      "5465/5465 [==============================] - ETA: 0s - loss: 0.0016 - binary_accuracy: 0.9995 - precision: 0.8700 - recall: 0.7229INFO:tensorflow:Assets written to: ../models/weights.06-0.0015/assets\n"
     ]
    },
    {
     "name": "stderr",
     "output_type": "stream",
     "text": [
      "INFO:tensorflow:Assets written to: ../models/weights.06-0.0015/assets\n",
      "WARNING:absl:<keras.layers.recurrent.LSTMCell object at 0x7f477474ac10> has the same name 'LSTMCell' as a built-in Keras object. Consider renaming <class 'keras.layers.recurrent.LSTMCell'> to avoid naming conflicts when loading with `tf.keras.models.load_model`. If renaming is not possible, pass the object in the `custom_objects` parameter of the load function.\n",
      "WARNING:absl:<keras.layers.recurrent.LSTMCell object at 0x7f477474a280> has the same name 'LSTMCell' as a built-in Keras object. Consider renaming <class 'keras.layers.recurrent.LSTMCell'> to avoid naming conflicts when loading with `tf.keras.models.load_model`. If renaming is not possible, pass the object in the `custom_objects` parameter of the load function.\n"
     ]
    },
    {
     "name": "stdout",
     "output_type": "stream",
     "text": [
      "5465/5465 [==============================] - 411s 75ms/step - loss: 0.0016 - binary_accuracy: 0.9995 - precision: 0.8700 - recall: 0.7229 - val_loss: 0.0015 - val_binary_accuracy: 0.9996 - val_precision: 0.8906 - val_recall: 0.7483\n",
      "Epoch 7/50\n",
      "5465/5465 [==============================] - ETA: 0s - loss: 0.0015 - binary_accuracy: 0.9995 - precision: 0.8737 - recall: 0.7381INFO:tensorflow:Assets written to: ../models/weights.07-0.0014/assets\n"
     ]
    },
    {
     "name": "stderr",
     "output_type": "stream",
     "text": [
      "INFO:tensorflow:Assets written to: ../models/weights.07-0.0014/assets\n",
      "WARNING:absl:<keras.layers.recurrent.LSTMCell object at 0x7f477474ac10> has the same name 'LSTMCell' as a built-in Keras object. Consider renaming <class 'keras.layers.recurrent.LSTMCell'> to avoid naming conflicts when loading with `tf.keras.models.load_model`. If renaming is not possible, pass the object in the `custom_objects` parameter of the load function.\n",
      "WARNING:absl:<keras.layers.recurrent.LSTMCell object at 0x7f477474a280> has the same name 'LSTMCell' as a built-in Keras object. Consider renaming <class 'keras.layers.recurrent.LSTMCell'> to avoid naming conflicts when loading with `tf.keras.models.load_model`. If renaming is not possible, pass the object in the `custom_objects` parameter of the load function.\n"
     ]
    },
    {
     "name": "stdout",
     "output_type": "stream",
     "text": [
      "5465/5465 [==============================] - 398s 73ms/step - loss: 0.0015 - binary_accuracy: 0.9995 - precision: 0.8737 - recall: 0.7381 - val_loss: 0.0014 - val_binary_accuracy: 0.9996 - val_precision: 0.8896 - val_recall: 0.7597\n",
      "Epoch 8/50\n",
      "5465/5465 [==============================] - ETA: 0s - loss: 0.0014 - binary_accuracy: 0.9995 - precision: 0.8762 - recall: 0.7496INFO:tensorflow:Assets written to: ../models/weights.08-0.0014/assets\n"
     ]
    },
    {
     "name": "stderr",
     "output_type": "stream",
     "text": [
      "INFO:tensorflow:Assets written to: ../models/weights.08-0.0014/assets\n",
      "WARNING:absl:<keras.layers.recurrent.LSTMCell object at 0x7f477474ac10> has the same name 'LSTMCell' as a built-in Keras object. Consider renaming <class 'keras.layers.recurrent.LSTMCell'> to avoid naming conflicts when loading with `tf.keras.models.load_model`. If renaming is not possible, pass the object in the `custom_objects` parameter of the load function.\n",
      "WARNING:absl:<keras.layers.recurrent.LSTMCell object at 0x7f477474a280> has the same name 'LSTMCell' as a built-in Keras object. Consider renaming <class 'keras.layers.recurrent.LSTMCell'> to avoid naming conflicts when loading with `tf.keras.models.load_model`. If renaming is not possible, pass the object in the `custom_objects` parameter of the load function.\n"
     ]
    },
    {
     "name": "stdout",
     "output_type": "stream",
     "text": [
      "5465/5465 [==============================] - 390s 71ms/step - loss: 0.0014 - binary_accuracy: 0.9995 - precision: 0.8762 - recall: 0.7496 - val_loss: 0.0014 - val_binary_accuracy: 0.9996 - val_precision: 0.8891 - val_recall: 0.7679\n",
      "Epoch 9/50\n",
      "5465/5465 [==============================] - ETA: 0s - loss: 0.0014 - binary_accuracy: 0.9995 - precision: 0.8786 - recall: 0.7589INFO:tensorflow:Assets written to: ../models/weights.09-0.0014/assets\n"
     ]
    },
    {
     "name": "stderr",
     "output_type": "stream",
     "text": [
      "INFO:tensorflow:Assets written to: ../models/weights.09-0.0014/assets\n",
      "WARNING:absl:<keras.layers.recurrent.LSTMCell object at 0x7f477474ac10> has the same name 'LSTMCell' as a built-in Keras object. Consider renaming <class 'keras.layers.recurrent.LSTMCell'> to avoid naming conflicts when loading with `tf.keras.models.load_model`. If renaming is not possible, pass the object in the `custom_objects` parameter of the load function.\n",
      "WARNING:absl:<keras.layers.recurrent.LSTMCell object at 0x7f477474a280> has the same name 'LSTMCell' as a built-in Keras object. Consider renaming <class 'keras.layers.recurrent.LSTMCell'> to avoid naming conflicts when loading with `tf.keras.models.load_model`. If renaming is not possible, pass the object in the `custom_objects` parameter of the load function.\n"
     ]
    },
    {
     "name": "stdout",
     "output_type": "stream",
     "text": [
      "5465/5465 [==============================] - 389s 71ms/step - loss: 0.0014 - binary_accuracy: 0.9995 - precision: 0.8786 - recall: 0.7589 - val_loss: 0.0014 - val_binary_accuracy: 0.9996 - val_precision: 0.8902 - val_recall: 0.7716\n",
      "Epoch 10/50\n",
      "5465/5465 [==============================] - ETA: 0s - loss: 0.0013 - binary_accuracy: 0.9995 - precision: 0.8805 - recall: 0.7661INFO:tensorflow:Assets written to: ../models/weights.10-0.0014/assets\n"
     ]
    },
    {
     "name": "stderr",
     "output_type": "stream",
     "text": [
      "INFO:tensorflow:Assets written to: ../models/weights.10-0.0014/assets\n",
      "WARNING:absl:<keras.layers.recurrent.LSTMCell object at 0x7f477474ac10> has the same name 'LSTMCell' as a built-in Keras object. Consider renaming <class 'keras.layers.recurrent.LSTMCell'> to avoid naming conflicts when loading with `tf.keras.models.load_model`. If renaming is not possible, pass the object in the `custom_objects` parameter of the load function.\n",
      "WARNING:absl:<keras.layers.recurrent.LSTMCell object at 0x7f477474a280> has the same name 'LSTMCell' as a built-in Keras object. Consider renaming <class 'keras.layers.recurrent.LSTMCell'> to avoid naming conflicts when loading with `tf.keras.models.load_model`. If renaming is not possible, pass the object in the `custom_objects` parameter of the load function.\n"
     ]
    },
    {
     "name": "stdout",
     "output_type": "stream",
     "text": [
      "5465/5465 [==============================] - 390s 71ms/step - loss: 0.0013 - binary_accuracy: 0.9995 - precision: 0.8805 - recall: 0.7661 - val_loss: 0.0014 - val_binary_accuracy: 0.9996 - val_precision: 0.8896 - val_recall: 0.7760\n",
      "Epoch 11/50\n",
      "5465/5465 [==============================] - ETA: 0s - loss: 0.0013 - binary_accuracy: 0.9996 - precision: 0.8818 - recall: 0.7720INFO:tensorflow:Assets written to: ../models/weights.11-0.0014/assets\n"
     ]
    },
    {
     "name": "stderr",
     "output_type": "stream",
     "text": [
      "INFO:tensorflow:Assets written to: ../models/weights.11-0.0014/assets\n",
      "WARNING:absl:<keras.layers.recurrent.LSTMCell object at 0x7f477474ac10> has the same name 'LSTMCell' as a built-in Keras object. Consider renaming <class 'keras.layers.recurrent.LSTMCell'> to avoid naming conflicts when loading with `tf.keras.models.load_model`. If renaming is not possible, pass the object in the `custom_objects` parameter of the load function.\n",
      "WARNING:absl:<keras.layers.recurrent.LSTMCell object at 0x7f477474a280> has the same name 'LSTMCell' as a built-in Keras object. Consider renaming <class 'keras.layers.recurrent.LSTMCell'> to avoid naming conflicts when loading with `tf.keras.models.load_model`. If renaming is not possible, pass the object in the `custom_objects` parameter of the load function.\n"
     ]
    },
    {
     "name": "stdout",
     "output_type": "stream",
     "text": [
      "5465/5465 [==============================] - 389s 71ms/step - loss: 0.0013 - binary_accuracy: 0.9996 - precision: 0.8818 - recall: 0.7720 - val_loss: 0.0014 - val_binary_accuracy: 0.9996 - val_precision: 0.8903 - val_recall: 0.7790\n",
      "Epoch 12/50\n",
      "5464/5465 [============================>.] - ETA: 0s - loss: 0.0013 - binary_accuracy: 0.9996 - precision: 0.8833 - recall: 0.7771INFO:tensorflow:Assets written to: ../models/weights.12-0.0014/assets\n"
     ]
    },
    {
     "name": "stderr",
     "output_type": "stream",
     "text": [
      "INFO:tensorflow:Assets written to: ../models/weights.12-0.0014/assets\n",
      "WARNING:absl:<keras.layers.recurrent.LSTMCell object at 0x7f477474ac10> has the same name 'LSTMCell' as a built-in Keras object. Consider renaming <class 'keras.layers.recurrent.LSTMCell'> to avoid naming conflicts when loading with `tf.keras.models.load_model`. If renaming is not possible, pass the object in the `custom_objects` parameter of the load function.\n",
      "WARNING:absl:<keras.layers.recurrent.LSTMCell object at 0x7f477474a280> has the same name 'LSTMCell' as a built-in Keras object. Consider renaming <class 'keras.layers.recurrent.LSTMCell'> to avoid naming conflicts when loading with `tf.keras.models.load_model`. If renaming is not possible, pass the object in the `custom_objects` parameter of the load function.\n"
     ]
    },
    {
     "name": "stdout",
     "output_type": "stream",
     "text": [
      "5465/5465 [==============================] - 389s 71ms/step - loss: 0.0013 - binary_accuracy: 0.9996 - precision: 0.8833 - recall: 0.7771 - val_loss: 0.0014 - val_binary_accuracy: 0.9996 - val_precision: 0.8902 - val_recall: 0.7816\n",
      "Epoch 13/50\n",
      "5465/5465 [==============================] - 385s 70ms/step - loss: 0.0013 - binary_accuracy: 0.9996 - precision: 0.8845 - recall: 0.7813 - val_loss: 0.0014 - val_binary_accuracy: 0.9996 - val_precision: 0.8899 - val_recall: 0.7842\n",
      "Epoch 14/50\n",
      "5465/5465 [==============================] - 386s 71ms/step - loss: 0.0012 - binary_accuracy: 0.9996 - precision: 0.8853 - recall: 0.7850 - val_loss: 0.0014 - val_binary_accuracy: 0.9996 - val_precision: 0.8889 - val_recall: 0.7868\n",
      "Epoch 15/50\n",
      "5465/5465 [==============================] - 384s 70ms/step - loss: 0.0012 - binary_accuracy: 0.9996 - precision: 0.8862 - recall: 0.7883 - val_loss: 0.0014 - val_binary_accuracy: 0.9996 - val_precision: 0.8893 - val_recall: 0.7886\n",
      "Epoch 16/50\n",
      "5465/5465 [==============================] - 386s 71ms/step - loss: 0.0012 - binary_accuracy: 0.9996 - precision: 0.8873 - recall: 0.7915 - val_loss: 0.0014 - val_binary_accuracy: 0.9996 - val_precision: 0.8902 - val_recall: 0.7882\n",
      "CPU times: user 9h 44min 59s, sys: 49min 20s, total: 10h 34min 20s\n",
      "Wall time: 1h 47min 49s\n"
     ]
    }
   ],
   "source": [
    "%%time\n",
    "\n",
    "# for now, clear cache on each call to fit(), to be safe\n",
    "shutil.rmtree(CACHE_DIR, ignore_errors=True)\n",
    "CACHE_DIR.mkdir()\n",
    "\n",
    "# FIXME: clean OUTPUT_DIR?\n",
    "\n",
    "print(f\"Cache directory: {CACHE_DIR}\")\n",
    "print(f\"Output directory: {OUTPUT_DIR}\")\n",
    "\n",
    "# FIXME: drop unused features (cause slower training?)\n",
    "\n",
    "ds_train = (\n",
    "    tfds.load('off_categories', split=TRAIN_SPLIT, as_supervised=True)\n",
    "    .apply(categories_encode)\n",
    "    .apply(dense_to_ragged_batch(train_config.batch_size))\n",
    "    .cache(str(CACHE_DIR / 'train'))\n",
    ")\n",
    "\n",
    "ds_val = (\n",
    "    tfds.load('off_categories', split=VAL_SPLIT, as_supervised=True)\n",
    "    .apply(categories_encode)\n",
    "    .apply(dense_to_ragged_batch(train_config.batch_size))\n",
    "    .cache(str(CACHE_DIR / 'val'))\n",
    ")\n",
    "\n",
    "history = model.fit(\n",
    "    ds_train,\n",
    "    epochs = train_config.epochs,\n",
    "    validation_data = ds_val,\n",
    "    callbacks = [\n",
    "        callbacks.TerminateOnNaN(),\n",
    "        callbacks.ModelCheckpoint(\n",
    "            filepath = str(OUTPUT_DIR / \"weights.{epoch:02d}-{val_loss:.4f}\"),\n",
    "            monitor = 'val_loss',\n",
    "            save_best_only = True,\n",
    "            save_format = 'tf',\n",
    "        ),\n",
    "        callbacks.EarlyStopping(monitor='val_loss', patience=4),\n",
    "        callbacks.CSVLogger(str(OUTPUT_DIR / 'training.log')),\n",
    "        callbacks.History()\n",
    "    ]\n",
    ")\n",
    "\n",
    "# Epoch 1/50\n",
    "# 5465/5465 [==============================] - 451s 82ms/step - loss: 0.0082 - binary_accuracy: 0.9985 - precision: 0.2248 - recall: 0.0864 - val_loss: 0.0041 - val_binary_accuracy: 0.9990 - val_precision: 0.8444 - val_recall: 0.2421\n",
    "# Epoch 18/50\n",
    "# 5465/5465 [==============================] - 390s 71ms/step - loss: 0.0012 - binary_accuracy: 0.9996 - precision: 0.8880 - recall: 0.7968 - val_loss: 0.0014 - val_binary_accuracy: 0.9996 - val_precision: 0.8886 - val_recall: 0.7911\n",
    "# Training ended\n",
    "# CPU times: user 10h 56min 3s, sys: 49min 56s, total: 11h 45min 59s\n",
    "# Wall time: 2h 3min 54s"
   ]
  },
  {
   "cell_type": "markdown",
   "id": "2d157d84",
   "metadata": {},
   "source": [
    "## Save model and resources"
   ]
  },
  {
   "cell_type": "code",
   "execution_count": 15,
   "id": "57749e9c",
   "metadata": {},
   "outputs": [
    {
     "name": "stdout",
     "output_type": "stream",
     "text": [
      "INFO:tensorflow:Assets written to: ../models/training/assets\n"
     ]
    },
    {
     "name": "stderr",
     "output_type": "stream",
     "text": [
      "INFO:tensorflow:Assets written to: ../models/training/assets\n",
      "WARNING:absl:<keras.layers.recurrent.LSTMCell object at 0x7f477474ac10> has the same name 'LSTMCell' as a built-in Keras object. Consider renaming <class 'keras.layers.recurrent.LSTMCell'> to avoid naming conflicts when loading with `tf.keras.models.load_model`. If renaming is not possible, pass the object in the `custom_objects` parameter of the load function.\n",
      "WARNING:absl:<keras.layers.recurrent.LSTMCell object at 0x7f477474a280> has the same name 'LSTMCell' as a built-in Keras object. Consider renaming <class 'keras.layers.recurrent.LSTMCell'> to avoid naming conflicts when loading with `tf.keras.models.load_model`. If renaming is not possible, pass the object in the `custom_objects` parameter of the load function.\n"
     ]
    },
    {
     "name": "stdout",
     "output_type": "stream",
     "text": [
      "WARNING:tensorflow:Compiled the loaded model, but the compiled metrics have yet to be built. `model.compile_metrics` will be empty until you train or evaluate the model.\n"
     ]
    },
    {
     "name": "stderr",
     "output_type": "stream",
     "text": [
      "WARNING:tensorflow:Compiled the loaded model, but the compiled metrics have yet to be built. `model.compile_metrics` will be empty until you train or evaluate the model.\n"
     ]
    },
    {
     "name": "stdout",
     "output_type": "stream",
     "text": [
      "INFO:tensorflow:Assets written to: ../models/serving/assets\n"
     ]
    },
    {
     "name": "stderr",
     "output_type": "stream",
     "text": [
      "INFO:tensorflow:Assets written to: ../models/serving/assets\n",
      "WARNING:absl:<keras.layers.recurrent.LSTMCell object at 0x7f477474ac10> has the same name 'LSTMCell' as a built-in Keras object. Consider renaming <class 'keras.layers.recurrent.LSTMCell'> to avoid naming conflicts when loading with `tf.keras.models.load_model`. If renaming is not possible, pass the object in the `custom_objects` parameter of the load function.\n",
      "WARNING:absl:<keras.layers.recurrent.LSTMCell object at 0x7f477474a280> has the same name 'LSTMCell' as a built-in Keras object. Consider renaming <class 'keras.layers.recurrent.LSTMCell'> to avoid naming conflicts when loading with `tf.keras.models.load_model`. If renaming is not possible, pass the object in the `custom_objects` parameter of the load function.\n"
     ]
    }
   ],
   "source": [
    "save_config(config, OUTPUT_DIR)\n",
    "copy_category_taxonomy(settings.CATEGORY_TAXONOMY_PATH, OUTPUT_DIR)\n",
    "save_category_vocabulary(categories_vocab, OUTPUT_DIR)\n",
    "model.save(str(OUTPUT_DIR / 'training'))\n",
    "to_serving_model(model, categories_vocab).save(str(OUTPUT_DIR / \"serving\"))"
   ]
  },
  {
   "cell_type": "markdown",
   "id": "6ebb0214",
   "metadata": {},
   "source": [
    "## Training stats"
   ]
  },
  {
   "cell_type": "code",
   "execution_count": 16,
   "id": "ab63d125",
   "metadata": {},
   "outputs": [
    {
     "data": {
      "text/html": [
       "<div>\n",
       "<style scoped>\n",
       "    .dataframe tbody tr th:only-of-type {\n",
       "        vertical-align: middle;\n",
       "    }\n",
       "\n",
       "    .dataframe tbody tr th {\n",
       "        vertical-align: top;\n",
       "    }\n",
       "\n",
       "    .dataframe thead th {\n",
       "        text-align: right;\n",
       "    }\n",
       "</style>\n",
       "<table border=\"1\" class=\"dataframe\">\n",
       "  <thead>\n",
       "    <tr style=\"text-align: right;\">\n",
       "      <th></th>\n",
       "      <th>epoch</th>\n",
       "      <th>binary_accuracy</th>\n",
       "      <th>loss</th>\n",
       "      <th>precision</th>\n",
       "      <th>recall</th>\n",
       "      <th>val_binary_accuracy</th>\n",
       "      <th>val_loss</th>\n",
       "      <th>val_precision</th>\n",
       "      <th>val_recall</th>\n",
       "    </tr>\n",
       "  </thead>\n",
       "  <tbody>\n",
       "    <tr>\n",
       "      <th>0</th>\n",
       "      <td>0</td>\n",
       "      <td>0.998548</td>\n",
       "      <td>0.008191</td>\n",
       "      <td>0.236659</td>\n",
       "      <td>0.080992</td>\n",
       "      <td>0.999008</td>\n",
       "      <td>0.004126</td>\n",
       "      <td>0.844516</td>\n",
       "      <td>0.250176</td>\n",
       "    </tr>\n",
       "    <tr>\n",
       "      <th>1</th>\n",
       "      <td>1</td>\n",
       "      <td>0.999159</td>\n",
       "      <td>0.003292</td>\n",
       "      <td>0.816761</td>\n",
       "      <td>0.414748</td>\n",
       "      <td>0.999360</td>\n",
       "      <td>0.002261</td>\n",
       "      <td>0.886445</td>\n",
       "      <td>0.557895</td>\n",
       "    </tr>\n",
       "    <tr>\n",
       "      <th>2</th>\n",
       "      <td>2</td>\n",
       "      <td>0.999386</td>\n",
       "      <td>0.002230</td>\n",
       "      <td>0.846676</td>\n",
       "      <td>0.597125</td>\n",
       "      <td>0.999484</td>\n",
       "      <td>0.001767</td>\n",
       "      <td>0.889998</td>\n",
       "      <td>0.669385</td>\n",
       "    </tr>\n",
       "    <tr>\n",
       "      <th>3</th>\n",
       "      <td>3</td>\n",
       "      <td>0.999471</td>\n",
       "      <td>0.001859</td>\n",
       "      <td>0.858280</td>\n",
       "      <td>0.666476</td>\n",
       "      <td>0.999531</td>\n",
       "      <td>0.001597</td>\n",
       "      <td>0.891123</td>\n",
       "      <td>0.710841</td>\n",
       "    </tr>\n",
       "    <tr>\n",
       "      <th>4</th>\n",
       "      <td>4</td>\n",
       "      <td>0.999498</td>\n",
       "      <td>0.001681</td>\n",
       "      <td>0.865261</td>\n",
       "      <td>0.701106</td>\n",
       "      <td>0.999559</td>\n",
       "      <td>0.001514</td>\n",
       "      <td>0.890430</td>\n",
       "      <td>0.736033</td>\n",
       "    </tr>\n",
       "    <tr>\n",
       "      <th>5</th>\n",
       "      <td>5</td>\n",
       "      <td>0.999512</td>\n",
       "      <td>0.001570</td>\n",
       "      <td>0.869952</td>\n",
       "      <td>0.722920</td>\n",
       "      <td>0.999572</td>\n",
       "      <td>0.001468</td>\n",
       "      <td>0.890619</td>\n",
       "      <td>0.748268</td>\n",
       "    </tr>\n",
       "    <tr>\n",
       "      <th>6</th>\n",
       "      <td>6</td>\n",
       "      <td>0.999523</td>\n",
       "      <td>0.001491</td>\n",
       "      <td>0.873653</td>\n",
       "      <td>0.738133</td>\n",
       "      <td>0.999584</td>\n",
       "      <td>0.001435</td>\n",
       "      <td>0.889637</td>\n",
       "      <td>0.759746</td>\n",
       "    </tr>\n",
       "    <tr>\n",
       "      <th>7</th>\n",
       "      <td>7</td>\n",
       "      <td>0.999532</td>\n",
       "      <td>0.001431</td>\n",
       "      <td>0.876205</td>\n",
       "      <td>0.749594</td>\n",
       "      <td>0.999591</td>\n",
       "      <td>0.001410</td>\n",
       "      <td>0.889075</td>\n",
       "      <td>0.767929</td>\n",
       "    </tr>\n",
       "    <tr>\n",
       "      <th>8</th>\n",
       "      <td>8</td>\n",
       "      <td>0.999541</td>\n",
       "      <td>0.001384</td>\n",
       "      <td>0.878609</td>\n",
       "      <td>0.758895</td>\n",
       "      <td>0.999598</td>\n",
       "      <td>0.001399</td>\n",
       "      <td>0.890201</td>\n",
       "      <td>0.771596</td>\n",
       "    </tr>\n",
       "    <tr>\n",
       "      <th>9</th>\n",
       "      <td>9</td>\n",
       "      <td>0.999548</td>\n",
       "      <td>0.001347</td>\n",
       "      <td>0.880536</td>\n",
       "      <td>0.766081</td>\n",
       "      <td>0.999601</td>\n",
       "      <td>0.001393</td>\n",
       "      <td>0.889618</td>\n",
       "      <td>0.775978</td>\n",
       "    </tr>\n",
       "    <tr>\n",
       "      <th>10</th>\n",
       "      <td>10</td>\n",
       "      <td>0.999554</td>\n",
       "      <td>0.001314</td>\n",
       "      <td>0.881842</td>\n",
       "      <td>0.772011</td>\n",
       "      <td>0.999605</td>\n",
       "      <td>0.001382</td>\n",
       "      <td>0.890306</td>\n",
       "      <td>0.779016</td>\n",
       "    </tr>\n",
       "    <tr>\n",
       "      <th>11</th>\n",
       "      <td>11</td>\n",
       "      <td>0.999562</td>\n",
       "      <td>0.001286</td>\n",
       "      <td>0.883274</td>\n",
       "      <td>0.777062</td>\n",
       "      <td>0.999607</td>\n",
       "      <td>0.001375</td>\n",
       "      <td>0.890244</td>\n",
       "      <td>0.781571</td>\n",
       "    </tr>\n",
       "    <tr>\n",
       "      <th>12</th>\n",
       "      <td>12</td>\n",
       "      <td>0.999568</td>\n",
       "      <td>0.001264</td>\n",
       "      <td>0.884459</td>\n",
       "      <td>0.781308</td>\n",
       "      <td>0.999610</td>\n",
       "      <td>0.001382</td>\n",
       "      <td>0.889930</td>\n",
       "      <td>0.784191</td>\n",
       "    </tr>\n",
       "    <tr>\n",
       "      <th>13</th>\n",
       "      <td>13</td>\n",
       "      <td>0.999572</td>\n",
       "      <td>0.001244</td>\n",
       "      <td>0.885278</td>\n",
       "      <td>0.785041</td>\n",
       "      <td>0.999611</td>\n",
       "      <td>0.001381</td>\n",
       "      <td>0.888860</td>\n",
       "      <td>0.786753</td>\n",
       "    </tr>\n",
       "    <tr>\n",
       "      <th>14</th>\n",
       "      <td>14</td>\n",
       "      <td>0.999578</td>\n",
       "      <td>0.001226</td>\n",
       "      <td>0.886174</td>\n",
       "      <td>0.788341</td>\n",
       "      <td>0.999614</td>\n",
       "      <td>0.001381</td>\n",
       "      <td>0.889264</td>\n",
       "      <td>0.788582</td>\n",
       "    </tr>\n",
       "    <tr>\n",
       "      <th>15</th>\n",
       "      <td>15</td>\n",
       "      <td>0.999583</td>\n",
       "      <td>0.001209</td>\n",
       "      <td>0.887267</td>\n",
       "      <td>0.791529</td>\n",
       "      <td>0.999615</td>\n",
       "      <td>0.001383</td>\n",
       "      <td>0.890166</td>\n",
       "      <td>0.788219</td>\n",
       "    </tr>\n",
       "  </tbody>\n",
       "</table>\n",
       "</div>"
      ],
      "text/plain": [
       "    epoch  binary_accuracy      loss  precision    recall  \\\n",
       "0       0         0.998548  0.008191   0.236659  0.080992   \n",
       "1       1         0.999159  0.003292   0.816761  0.414748   \n",
       "2       2         0.999386  0.002230   0.846676  0.597125   \n",
       "3       3         0.999471  0.001859   0.858280  0.666476   \n",
       "4       4         0.999498  0.001681   0.865261  0.701106   \n",
       "5       5         0.999512  0.001570   0.869952  0.722920   \n",
       "6       6         0.999523  0.001491   0.873653  0.738133   \n",
       "7       7         0.999532  0.001431   0.876205  0.749594   \n",
       "8       8         0.999541  0.001384   0.878609  0.758895   \n",
       "9       9         0.999548  0.001347   0.880536  0.766081   \n",
       "10     10         0.999554  0.001314   0.881842  0.772011   \n",
       "11     11         0.999562  0.001286   0.883274  0.777062   \n",
       "12     12         0.999568  0.001264   0.884459  0.781308   \n",
       "13     13         0.999572  0.001244   0.885278  0.785041   \n",
       "14     14         0.999578  0.001226   0.886174  0.788341   \n",
       "15     15         0.999583  0.001209   0.887267  0.791529   \n",
       "\n",
       "    val_binary_accuracy  val_loss  val_precision  val_recall  \n",
       "0              0.999008  0.004126       0.844516    0.250176  \n",
       "1              0.999360  0.002261       0.886445    0.557895  \n",
       "2              0.999484  0.001767       0.889998    0.669385  \n",
       "3              0.999531  0.001597       0.891123    0.710841  \n",
       "4              0.999559  0.001514       0.890430    0.736033  \n",
       "5              0.999572  0.001468       0.890619    0.748268  \n",
       "6              0.999584  0.001435       0.889637    0.759746  \n",
       "7              0.999591  0.001410       0.889075    0.767929  \n",
       "8              0.999598  0.001399       0.890201    0.771596  \n",
       "9              0.999601  0.001393       0.889618    0.775978  \n",
       "10             0.999605  0.001382       0.890306    0.779016  \n",
       "11             0.999607  0.001375       0.890244    0.781571  \n",
       "12             0.999610  0.001382       0.889930    0.784191  \n",
       "13             0.999611  0.001381       0.888860    0.786753  \n",
       "14             0.999614  0.001381       0.889264    0.788582  \n",
       "15             0.999615  0.001383       0.890166    0.788219  "
      ]
     },
     "execution_count": 16,
     "metadata": {},
     "output_type": "execute_result"
    }
   ],
   "source": [
    "log_data = pd.read_csv(OUTPUT_DIR / 'training.log')\n",
    "log_data"
   ]
  },
  {
   "cell_type": "code",
   "execution_count": 17,
   "id": "c6244c7a",
   "metadata": {},
   "outputs": [
    {
     "data": {
      "image/png": "[encoded data removed]",
      "text/plain": [
       "<Figure size 432x288 with 1 Axes>"
      ]
     },
     "metadata": {
      "needs_background": "light"
     },
     "output_type": "display_data"
    }
   ],
   "source": [
    "plt.plot(log_data['epoch'],log_data['loss'])\n",
    "plt.plot(log_data['epoch'],log_data['val_loss'])\n",
    "plt.title(f\"Model {labels}~{'+'.join(inputs.keys())}\")\n",
    "plt.ylabel('Loss')\n",
    "plt.xlabel('Epoch')\n",
    "plt.legend(['train' , 'validation'] , loc = 'upper right')\n",
    "plt.show()"
   ]
  },
  {
   "cell_type": "code",
   "execution_count": 18,
   "id": "351ba593",
   "metadata": {
    "scrolled": true
   },
   "outputs": [
    {
     "data": {
      "image/png": "[encoded data removed]",
      "text/plain": [
       "<Figure size 432x288 with 1 Axes>"
      ]
     },
     "metadata": {
      "needs_background": "light"
     },
     "output_type": "display_data"
    }
   ],
   "source": [
    "plt.plot(log_data['epoch'],log_data['binary_accuracy'])\n",
    "plt.plot(log_data['epoch'],log_data['val_binary_accuracy'])\n",
    "plt.title(f\"Model {labels}~{'+'.join(inputs.keys())}\")\n",
    "plt.ylabel('Binary Accuracy')\n",
    "plt.xlabel('Epoch')\n",
    "plt.legend(['train' , 'validation'] , loc = 'upper right')\n",
    "plt.show()"
   ]
  },
  {
   "cell_type": "markdown",
   "id": "38a29603",
   "metadata": {},
   "source": [
    "# Test model"
   ]
  },
  {
   "cell_type": "code",
   "execution_count": 19,
   "id": "cdba60dc",
   "metadata": {},
   "outputs": [
    {
     "name": "stdout",
     "output_type": "stream",
     "text": [
      "WARNING:tensorflow:No training configuration found in save file, so the model was *not* compiled. Compile it manually.\n"
     ]
    },
    {
     "name": "stderr",
     "output_type": "stream",
     "text": [
      "WARNING:tensorflow:No training configuration found in save file, so the model was *not* compiled. Compile it manually.\n"
     ]
    }
   ],
   "source": [
    "training_model = tf.keras.models.load_model(OUTPUT_DIR / 'training')\n",
    "serving_model = tf.keras.models.load_model(OUTPUT_DIR / 'serving')\n",
    "\n",
    "# TODO: load from saved resources\n",
    "# categories_vocab = ...\n",
    "# len(categories_vocab)"
   ]
  },
  {
   "cell_type": "code",
   "execution_count": 20,
   "id": "cff4364b",
   "metadata": {},
   "outputs": [],
   "source": [
    "ds_test = tfds.load('off_categories', split=TEST_SPLIT)"
   ]
  },
  {
   "cell_type": "markdown",
   "id": "7ee83647",
   "metadata": {},
   "source": [
    "## Predict with training model"
   ]
  },
  {
   "cell_type": "code",
   "execution_count": 21,
   "id": "fcb0f069",
   "metadata": {},
   "outputs": [
    {
     "name": "stderr",
     "output_type": "stream",
     "text": [
      "/home/gabriel/.pyenv/versions/3.8.13/envs/venv-off-tf28/lib/python3.8/site-packages/keras/engine/functional.py:559: UserWarning: Input dict contained keys ['categories_tags', 'code'] which did not match any model input. They will be ignored by the model.\n",
      "  inputs = self._flatten_to_reference_inputs(inputs)\n"
     ]
    },
    {
     "name": "stdout",
     "output_type": "stream",
     "text": [
      "(87434, 3969)\n",
      "CPU times: user 27.7 s, sys: 5.43 s, total: 33.2 s\n",
      "Wall time: 7.08 s\n"
     ]
    },
    {
     "data": {
      "text/plain": [
       "array([[1.2479916e-01, 2.3162210e-01, 1.2780547e-02, ..., 5.0021164e-08,\n",
       "        8.6454288e-10, 5.5262770e-08],\n",
       "       [1.2578666e-03, 4.7382712e-04, 7.9527335e-06, ..., 4.8370048e-19,\n",
       "        2.8506045e-15, 5.1067359e-14],\n",
       "       [8.3121657e-04, 5.3051114e-04, 9.8273432e-01, ..., 9.3933331e-14,\n",
       "        2.6979217e-14, 2.7250306e-11],\n",
       "       ...,\n",
       "       [6.1965256e-06, 1.5089888e-06, 7.3560864e-02, ..., 6.1548781e-16,\n",
       "        1.3743637e-12, 6.1197694e-13],\n",
       "       [2.0599736e-10, 9.2724751e-12, 1.5891012e-05, ..., 3.6298204e-14,\n",
       "        8.1071217e-15, 8.1081257e-19],\n",
       "       [3.8863331e-05, 1.3905764e-04, 1.7367591e-06, ..., 1.2206899e-13,\n",
       "        6.5481739e-12, 3.2655463e-09]], dtype=float32)"
      ]
     },
     "execution_count": 21,
     "metadata": {},
     "output_type": "execute_result"
    }
   ],
   "source": [
    "%%time\n",
    "\n",
    "training_pred_test = training_model.predict(ds_test.padded_batch(PREDICT_BATCH_SIZE))\n",
    "\n",
    "print(training_pred_test.shape)\n",
    "training_pred_test"
   ]
  },
  {
   "cell_type": "code",
   "execution_count": 22,
   "id": "f0d7afe7",
   "metadata": {},
   "outputs": [],
   "source": [
    "# TODO: keep previous Train.ipynb manual mapping to categories to verify against serving model?"
   ]
  },
  {
   "cell_type": "markdown",
   "id": "061aa1a7",
   "metadata": {},
   "source": [
    "## Predict with serving model"
   ]
  },
  {
   "cell_type": "code",
   "execution_count": 23,
   "id": "219a496a",
   "metadata": {},
   "outputs": [
    {
     "name": "stdout",
     "output_type": "stream",
     "text": [
      "CPU times: user 42.9 s, sys: 2.67 s, total: 45.6 s\n",
      "Wall time: 9.97 s\n"
     ]
    },
    {
     "data": {
      "text/plain": [
       "[array([[5.41940868e-01, 3.30821455e-01, 2.70857453e-01, ...,\n",
       "         5.75512648e-04, 5.60998917e-04, 5.54233789e-04],\n",
       "        [9.96575236e-01, 9.93273735e-01, 8.53364348e-01, ...,\n",
       "         2.74772560e-06, 2.30797673e-06, 2.19849267e-06],\n",
       "        [9.82734323e-01, 1.89536840e-01, 1.02904856e-01, ...,\n",
       "         5.08568792e-06, 4.87196257e-06, 4.83904887e-06],\n",
       "        ...,\n",
       "        [9.34839129e-01, 8.76605153e-01, 7.68510103e-01, ...,\n",
       "         9.84208100e-07, 9.26498558e-07, 7.93223990e-07],\n",
       "        [9.99778390e-01, 9.93713856e-01, 9.93560851e-01, ...,\n",
       "         1.13438691e-05, 1.12647931e-05, 1.11375257e-05],\n",
       "        [9.92232680e-01, 9.90504146e-01, 9.86238599e-01, ...,\n",
       "         1.25050545e-04, 1.17887794e-04, 1.10795510e-04]], dtype=float32),\n",
       " array([[b'en:sausages', b'en:meats', b'en:meals', ..., b'en:cut',\n",
       "         b'en:pork-meals', b'en:groceries'],\n",
       "        [b'en:sauces', b'en:groceries', b'en:dips', ...,\n",
       "         b'en:culinary-plants', b'en:mayonnaises',\n",
       "         b'fr:condiments-a-tartiner'],\n",
       "        [b'en:snacks', b'en:groceries', b'en:crisps', ..., b'en:empty',\n",
       "         b'en:vegetables-based-foods', b'en:corn'],\n",
       "        ...,\n",
       "        [b'en:frozen-desserts', b'en:frozen-foods', b'en:desserts', ...,\n",
       "         b'en:yule-log', b'en:cocoa-and-its-products',\n",
       "         b'en:nougat-ice-cream-tubs'],\n",
       "        [b'en:meats', b'fr:andouillettes-de-troyes', b'fr:andouillettes',\n",
       "         ..., b'en:frozen-meats', b'en:frogs', b'en:cured-ham'],\n",
       "        [b'en:fermented-milk-products', b'en:fermented-foods',\n",
       "         b'en:cheeses', ..., b'en:half-cooked-pressed-cheeses',\n",
       "         b'en:frozen-foods', b'en:french-blue-veined-cheeses']],\n",
       "       dtype=object)]"
      ]
     },
     "execution_count": 23,
     "metadata": {},
     "output_type": "execute_result"
    }
   ],
   "source": [
    "%%time\n",
    "\n",
    "# FIXME: serving_model should work with batched AND non-batched inputs (currently only batched)\n",
    "serving_pred_test = serving_model.predict(ds_test.padded_batch(PREDICT_BATCH_SIZE))\n",
    "\n",
    "serving_pred_test"
   ]
  },
  {
   "cell_type": "code",
   "execution_count": 24,
   "id": "554e2998",
   "metadata": {},
   "outputs": [
    {
     "name": "stdout",
     "output_type": "stream",
     "text": [
      "CPU times: user 23.7 s, sys: 3.42 s, total: 27.1 s\n",
      "Wall time: 17.1 s\n"
     ]
    },
    {
     "data": {
      "text/html": [
       "<div>\n",
       "<style scoped>\n",
       "    .dataframe tbody tr th:only-of-type {\n",
       "        vertical-align: middle;\n",
       "    }\n",
       "\n",
       "    .dataframe tbody tr th {\n",
       "        vertical-align: top;\n",
       "    }\n",
       "\n",
       "    .dataframe thead th {\n",
       "        text-align: right;\n",
       "    }\n",
       "</style>\n",
       "<table border=\"1\" class=\"dataframe\">\n",
       "  <thead>\n",
       "    <tr style=\"text-align: right;\">\n",
       "      <th></th>\n",
       "      <th>code</th>\n",
       "      <th>product_name</th>\n",
       "      <th>0</th>\n",
       "      <th>1</th>\n",
       "      <th>2</th>\n",
       "      <th>3</th>\n",
       "    </tr>\n",
       "  </thead>\n",
       "  <tbody>\n",
       "    <tr>\n",
       "      <th>0</th>\n",
       "      <td>4014972150218</td>\n",
       "      <td>Bratwurst im Naturdarm</td>\n",
       "      <td>en:sausages: 54.19%</td>\n",
       "      <td>en:meats: 33.08%</td>\n",
       "      <td>en:meals: 27.09%</td>\n",
       "      <td>en:prepared-meats: 25.39%</td>\n",
       "    </tr>\n",
       "    <tr>\n",
       "      <th>1</th>\n",
       "      <td>0647293004720</td>\n",
       "      <td>Cajohns, Salsa, Hot</td>\n",
       "      <td>en:sauces: 99.66%</td>\n",
       "      <td>en:groceries: 99.33%</td>\n",
       "      <td>en:dips: 85.34%</td>\n",
       "      <td>en:hot-sauces: 1.1%</td>\n",
       "    </tr>\n",
       "    <tr>\n",
       "      <th>2</th>\n",
       "      <td>0028400144513</td>\n",
       "      <td>Doritos Ranch 2.125z</td>\n",
       "      <td>en:snacks: 98.27%</td>\n",
       "      <td>en:groceries: 18.95%</td>\n",
       "      <td>en:crisps: 10.29%</td>\n",
       "      <td>en:sauces: 7.17%</td>\n",
       "    </tr>\n",
       "    <tr>\n",
       "      <th>3</th>\n",
       "      <td>0812616020026</td>\n",
       "      <td>Beet It, Beet Juice</td>\n",
       "      <td>en:beverages: 99.69%</td>\n",
       "      <td>en:plant-based-beverages: 96.62%</td>\n",
       "      <td>en:plant-based-foods-and-beverages: 87.33%</td>\n",
       "      <td>en:juices-and-nectars: 24.05%</td>\n",
       "    </tr>\n",
       "    <tr>\n",
       "      <th>4</th>\n",
       "      <td>8436583952078</td>\n",
       "      <td>Cheddar</td>\n",
       "      <td>en:fermented-milk-products: 96.42%</td>\n",
       "      <td>en:fermented-foods: 95.79%</td>\n",
       "      <td>en:cheeses: 94.03%</td>\n",
       "      <td>en:dairies: 92.51%</td>\n",
       "    </tr>\n",
       "    <tr>\n",
       "      <th>...</th>\n",
       "      <td>...</td>\n",
       "      <td>...</td>\n",
       "      <td>...</td>\n",
       "      <td>...</td>\n",
       "      <td>...</td>\n",
       "      <td>...</td>\n",
       "    </tr>\n",
       "    <tr>\n",
       "      <th>87429</th>\n",
       "      <td>3700476830619</td>\n",
       "      <td>Zen Detox</td>\n",
       "      <td>en:beverages: 97.75%</td>\n",
       "      <td>en:plant-based-beverages: 65.82%</td>\n",
       "      <td>en:plant-based-foods-and-beverages: 52.8%</td>\n",
       "      <td>en:fruit-based-beverages: 17.9%</td>\n",
       "    </tr>\n",
       "    <tr>\n",
       "      <th>87430</th>\n",
       "      <td>3770012074012</td>\n",
       "      <td>Miel de fleurs d'été crémeux</td>\n",
       "      <td>en:bee-products: 99.93%</td>\n",
       "      <td>en:sweeteners: 99.87%</td>\n",
       "      <td>en:sweet-spreads: 99.87%</td>\n",
       "      <td>en:honeys: 99.85%</td>\n",
       "    </tr>\n",
       "    <tr>\n",
       "      <th>87431</th>\n",
       "      <td>0075209827376</td>\n",
       "      <td>Fine Ice Creams</td>\n",
       "      <td>en:frozen-desserts: 93.48%</td>\n",
       "      <td>en:frozen-foods: 87.66%</td>\n",
       "      <td>en:desserts: 76.85%</td>\n",
       "      <td>en:snacks: 7.36%</td>\n",
       "    </tr>\n",
       "    <tr>\n",
       "      <th>87432</th>\n",
       "      <td>2988761008405</td>\n",
       "      <td>Véritable andouillettes de troyes</td>\n",
       "      <td>en:meats: 99.98%</td>\n",
       "      <td>fr:andouillettes-de-troyes: 99.37%</td>\n",
       "      <td>fr:andouillettes: 99.36%</td>\n",
       "      <td>en:prepared-meats: 98.99%</td>\n",
       "    </tr>\n",
       "    <tr>\n",
       "      <th>87433</th>\n",
       "      <td>5054070607060</td>\n",
       "      <td>Extra Mature British Cheddar</td>\n",
       "      <td>en:fermented-milk-products: 99.22%</td>\n",
       "      <td>en:fermented-foods: 99.05%</td>\n",
       "      <td>en:cheeses: 98.62%</td>\n",
       "      <td>en:dairies: 98.5%</td>\n",
       "    </tr>\n",
       "  </tbody>\n",
       "</table>\n",
       "<p>87434 rows × 6 columns</p>\n",
       "</div>"
      ],
      "text/plain": [
       "                code                       product_name  \\\n",
       "0      4014972150218             Bratwurst im Naturdarm   \n",
       "1      0647293004720                Cajohns, Salsa, Hot   \n",
       "2      0028400144513               Doritos Ranch 2.125z   \n",
       "3      0812616020026                Beet It, Beet Juice   \n",
       "4      8436583952078                            Cheddar   \n",
       "...              ...                                ...   \n",
       "87429  3700476830619                          Zen Detox   \n",
       "87430  3770012074012       Miel de fleurs d'été crémeux   \n",
       "87431  0075209827376                    Fine Ice Creams   \n",
       "87432  2988761008405  Véritable andouillettes de troyes   \n",
       "87433  5054070607060       Extra Mature British Cheddar   \n",
       "\n",
       "                                        0                                   1  \\\n",
       "0                     en:sausages: 54.19%                    en:meats: 33.08%   \n",
       "1                       en:sauces: 99.66%                en:groceries: 99.33%   \n",
       "2                       en:snacks: 98.27%                en:groceries: 18.95%   \n",
       "3                    en:beverages: 99.69%    en:plant-based-beverages: 96.62%   \n",
       "4      en:fermented-milk-products: 96.42%          en:fermented-foods: 95.79%   \n",
       "...                                   ...                                 ...   \n",
       "87429                en:beverages: 97.75%    en:plant-based-beverages: 65.82%   \n",
       "87430             en:bee-products: 99.93%               en:sweeteners: 99.87%   \n",
       "87431          en:frozen-desserts: 93.48%             en:frozen-foods: 87.66%   \n",
       "87432                    en:meats: 99.98%  fr:andouillettes-de-troyes: 99.37%   \n",
       "87433  en:fermented-milk-products: 99.22%          en:fermented-foods: 99.05%   \n",
       "\n",
       "                                                2  \\\n",
       "0                                en:meals: 27.09%   \n",
       "1                                 en:dips: 85.34%   \n",
       "2                               en:crisps: 10.29%   \n",
       "3      en:plant-based-foods-and-beverages: 87.33%   \n",
       "4                              en:cheeses: 94.03%   \n",
       "...                                           ...   \n",
       "87429   en:plant-based-foods-and-beverages: 52.8%   \n",
       "87430                    en:sweet-spreads: 99.87%   \n",
       "87431                         en:desserts: 76.85%   \n",
       "87432                    fr:andouillettes: 99.36%   \n",
       "87433                          en:cheeses: 98.62%   \n",
       "\n",
       "                                     3  \n",
       "0            en:prepared-meats: 25.39%  \n",
       "1                  en:hot-sauces: 1.1%  \n",
       "2                     en:sauces: 7.17%  \n",
       "3        en:juices-and-nectars: 24.05%  \n",
       "4                   en:dairies: 92.51%  \n",
       "...                                ...  \n",
       "87429  en:fruit-based-beverages: 17.9%  \n",
       "87430                en:honeys: 99.85%  \n",
       "87431                 en:snacks: 7.36%  \n",
       "87432        en:prepared-meats: 98.99%  \n",
       "87433                en:dairies: 98.5%  \n",
       "\n",
       "[87434 rows x 6 columns]"
      ]
     },
     "execution_count": 24,
     "metadata": {},
     "output_type": "execute_result"
    }
   ],
   "source": [
    "%%time\n",
    "\n",
    "N_PRED_CATEGORIES = 4\n",
    "\n",
    "top_conf = pd.DataFrame(serving_pred_test[0]).iloc[:,:N_PRED_CATEGORIES].stack()\n",
    "top_cat = pd.DataFrame(serving_pred_test[1]).iloc[:,:N_PRED_CATEGORIES].stack()\n",
    "\n",
    "top_pred = (\n",
    "    pd.DataFrame.from_dict({\n",
    "        'category': top_cat.apply(lambda x: x.decode()),\n",
    "        'confidence': (top_conf * 100).round(2).astype(str) + '%'\n",
    "    })\n",
    "    .agg(lambda x: f\"{x['category']}: {x['confidence']}\", axis=1)\n",
    "    .unstack()\n",
    ")\n",
    "\n",
    "\n",
    "item = (\n",
    "    tfds.as_dataframe(get_features(ds_test, ['code', 'product_name']))\n",
    "    .applymap(lambda x: x.decode())\n",
    ")\n",
    "\n",
    "df_test_pred = pd.concat([item, top_pred], axis=1)\n",
    "\n",
    "del top_pred\n",
    "del item\n",
    "\n",
    "df_test_pred"
   ]
  }
 ],
 "metadata": {
  "kernelspec": {
   "display_name": "Python 3 (ipykernel)",
   "language": "python",
   "name": "python3"
  },
  "language_info": {
   "codemirror_mode": {
    "name": "ipython",
    "version": 3
   },
   "file_extension": ".py",
   "mimetype": "text/x-python",
   "name": "python",
   "nbconvert_exporter": "python",
   "pygments_lexer": "ipython3",
   "version": "3.8.12"
  }
 },
 "nbformat": 4,
 "nbformat_minor": 5
}
