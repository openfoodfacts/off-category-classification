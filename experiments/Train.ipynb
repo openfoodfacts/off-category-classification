{
 "cells": [
  {
   "cell_type": "markdown",
   "id": "064e2d60",
   "metadata": {},
   "source": [
    "# INDEX\n",
    "* [Imports and functions](#Imports-and-functions)\n",
    "* [Configuration](#Configuration)\n",
    "* [Prepare dataset](#Prepare-dataset)\n",
    "* [Build model](#Build-model)\n",
    "    * [Model inputs](#Model-inputs)\n",
    "    * [Model output](#Model-output)\n",
    "    * [Model](#Model)\n",
    "* [Train model](#Train-model)\n",
    "    * [Save model and resources](#Save-model-and-resources)\n",
    "    * [Training stats](#Training-stats)\n",
    "* [Test model](#Test-model)\n",
    "    * [Predict](#Predict)\n",
    "    * [Translate predictions](#Translate-predictions)"
   ]
  },
  {
   "cell_type": "markdown",
   "id": "d481d404",
   "metadata": {},
   "source": [
    "# Imports and functions"
   ]
  },
  {
   "cell_type": "code",
   "execution_count": 1,
   "id": "80c4f3c2",
   "metadata": {},
   "outputs": [],
   "source": [
    "import sys\n",
    "sys.path.append('../') #append a relative path to the top package to the search path"
   ]
  },
  {
   "cell_type": "code",
   "execution_count": 2,
   "id": "fda92a68",
   "metadata": {},
   "outputs": [
    {
     "name": "stderr",
     "output_type": "stream",
     "text": [
      "2022-05-16 18:43:49.304767: W tensorflow/stream_executor/platform/default/dso_loader.cc:64] Could not load dynamic library 'libcudart.so.11.0'; dlerror: libcudart.so.11.0: cannot open shared object file: No such file or directory\n",
      "2022-05-16 18:43:49.304787: I tensorflow/stream_executor/cuda/cudart_stub.cc:29] Ignore above cudart dlerror if you do not have a GPU set up on your machine.\n",
      "/home/gabriel/.pyenv/versions/3.8.13/envs/venv-off-tf28/lib/python3.8/site-packages/tqdm/auto.py:22: TqdmWarning: IProgress not found. Please update jupyter and ipywidgets. See https://ipywidgets.readthedocs.io/en/stable/user_install.html\n",
      "  from .autonotebook import tqdm as notebook_tqdm\n"
     ]
    }
   ],
   "source": [
    "from collections import Counter\n",
    "import dacite\n",
    "import itertools\n",
    "import json\n",
    "import pathlib\n",
    "import shutil\n",
    "\n",
    "import pandas as pd\n",
    "\n",
    "import tensorflow as tf\n",
    "from tensorflow.keras import callbacks, layers\n",
    "from tensorflow.python.ops import summary_ops_v2\n",
    "import tensorflow_datasets as tfds\n",
    "\n",
    "#import settings\n",
    "\n",
    "from category_classification.config import Config\n",
    "\n",
    "# TODO\n",
    "# from category_classification.models import (\n",
    "#     to_serving_model,\n",
    "# )\n",
    "\n",
    "# TODO\n",
    "# from utils.io import (\n",
    "#     copy_category_taxonomy,\n",
    "#     save_category_vocabulary,\n",
    "#     save_config,\n",
    "#     save_json,\n",
    "# )\n",
    "\n",
    "# TODO\n",
    "# from utils.metrics import evaluation_report\n",
    "\n",
    "\n",
    "# TODO: move to lib\n",
    "class TBCallback(callbacks.TensorBoard):\n",
    "    \"\"\"Get around a bug where you cannot use the TensorBoard callback with the StringLookup layers\n",
    "    - https://github.com/tensorflow/tensorboard/issues/4530#issuecomment-783318292\"\"\"\n",
    "\n",
    "    def _log_weights(self, epoch):\n",
    "        with self._train_writer.as_default():\n",
    "            with summary_ops_v2.always_record_summaries():\n",
    "                for layer in self.model.layers:\n",
    "                    for weight in layer.weights:\n",
    "                        if hasattr(weight, \"name\"):\n",
    "                            weight_name = weight.name.replace(\":\", \"_\")\n",
    "                            summary_ops_v2.histogram(weight_name, weight, step=epoch)\n",
    "                            if self.write_images:\n",
    "                                self._log_weight_as_image(weight, weight_name, epoch)\n",
    "                self._train_writer.flush()\n",
    "\n",
    "\n",
    "                \n",
    "# TODO: move to lib\n",
    "def batch_flatten(ds: tf.data.Dataset, batch_size: int):\n",
    "    \"\"\"\n",
    "    Flatten unbatched rank-2 string tensors into batches of rank-1 tensors.\n",
    "        \n",
    "    Parameters\n",
    "    ----------\n",
    "    ds : tf.data.Dataset\n",
    "        Single-feature dataset.\n",
    "    \n",
    "    batch_size : int\n",
    "        Batch size for the returned dataset.\n",
    "    \n",
    "    Returns\n",
    "    -------\n",
    "    tf.data.Dataset\n",
    "        Flattened, batched dataset.\n",
    "        \n",
    "    Examples\n",
    "    --------\n",
    "    t = [Tensor(['foo', 'bar']), Tensor(['baz']), Tensor(['qux'])]\n",
    "    -> [['foo', 'bar', 'baz'], ['qux']]\n",
    "\n",
    "    \"\"\"\n",
    "\n",
    "    return (\n",
    "        ds\n",
    "        .apply(tf.data.experimental.dense_to_ragged_batch(batch_size))\n",
    "        .map(lambda x: x.merge_dims(0, 1))\n",
    "    )\n",
    "\n",
    "\n",
    "def get_vocabulary(ds: tf.data.Dataset, min_freq: int = 1):\n",
    "    \"\"\"\n",
    "    Get the feature vocabulary.\n",
    "    \n",
    "    Parameters\n",
    "    ----------\n",
    "    ds : tf.data.Dataset\n",
    "        Single-feature dataset.\n",
    "    \n",
    "    min_freq : int\n",
    "        Minimum token frequency to be included in the vocabulary.\n",
    "        Tokens strictly below `min_freq` won't be listed.\n",
    "    \n",
    "    Returns\n",
    "    -------\n",
    "    list\n",
    "        List of tokens in the vocabulary\n",
    "    \"\"\"\n",
    "    counter = Counter()\n",
    "    for batch in ds:\n",
    "        counter.update(batch.numpy())\n",
    "    return [\n",
    "        x[0].decode()\n",
    "        for x in itertools.takewhile(lambda x: x[1] >= min_freq, counter.most_common())\n",
    "    ]\n",
    "\n",
    "\n",
    "def get_feature(ds: tf.data.Dataset, feature_name: str):\n",
    "    \"\"\"\n",
    "    Parameters\n",
    "    ----------\n",
    "    ds : tf.data.Dataset\n",
    "        Dataset. Nested features are not supported.\n",
    "    \n",
    "    feature_name : str\n",
    "        Name of the feature to select.\n",
    "\n",
    "    Returns\n",
    "    -------\n",
    "    tf.data.Dataset\n",
    "        Dataset containing only the feature `feature_name`.\n",
    "    \"\"\"\n",
    "    return ds.map(lambda x: x[feature_name])"
   ]
  },
  {
   "cell_type": "markdown",
   "id": "b1bfc7ed",
   "metadata": {},
   "source": [
    "# Configuration"
   ]
  },
  {
   "cell_type": "code",
   "execution_count": 3,
   "id": "a92c3dd7",
   "metadata": {
    "scrolled": true
   },
   "outputs": [],
   "source": [
    "with open('../config.json') as json_file:\n",
    "    json_config = json.load(json_file)\n",
    "    config = dacite.from_dict(Config, json_config)\n",
    "\n",
    "model_config = config.model_config\n",
    "train_config = config.train_config\n",
    "\n",
    "CACHE_DIR = pathlib.Path('../cache')\n",
    "CACHE_DIR.mkdir(parents=True, exist_ok=True)\n",
    "\n",
    "OUTPUT_DIR = pathlib.Path('../models')\n",
    "OUTPUT_DIR.mkdir(parents=True, exist_ok=True)\n",
    "\n",
    "PREPROC_BATCH_SIZE = 10_000  # some large value\n",
    "\n",
    "TRAIN_SPLIT = 'train'\n",
    "VAL_SPLIT = 'val'\n",
    "TEST_SPLIT = 'test'\n",
    "\n",
    "# ONLY FOR DEMO PURPOSE, so training goes faster\n",
    "#TRAIN_SPLIT = 'train[:10%]'\n",
    "#VAL_SPLIT = 'val[:10%]'\n",
    "#train_config.epochs = 2"
   ]
  },
  {
   "cell_type": "markdown",
   "id": "24785109",
   "metadata": {},
   "source": [
    "# Prepare dataset\n",
    "\n",
    "Run this once to fetch, build and cache the dataset.\n",
    "Further runs will be no-ops, unless you force operations (see TFDS doc).\n",
    "\n",
    "Once this is done, `tdfs.load('off_category', ...)` to access the dataset."
   ]
  },
  {
   "cell_type": "code",
   "execution_count": 4,
   "id": "cda1dad4",
   "metadata": {},
   "outputs": [],
   "source": [
    "import datasets.off_category\n",
    "\n",
    "builder = tfds.builder('off_category')\n",
    "builder.download_and_prepare()\n",
    "\n",
    "# Or run via command line (if `tfds` is in the path):\n",
    "# !cd ../datasets && tfds build off_category"
   ]
  },
  {
   "cell_type": "markdown",
   "id": "eb92b58e",
   "metadata": {},
   "source": [
    "# Build model"
   ]
  },
  {
   "cell_type": "code",
   "execution_count": 5,
   "id": "2ee58091",
   "metadata": {},
   "outputs": [],
   "source": [
    "tf.random.set_seed(42)"
   ]
  },
  {
   "cell_type": "markdown",
   "id": "993bb1d8",
   "metadata": {},
   "source": [
    "## Model inputs"
   ]
  },
  {
   "cell_type": "code",
   "execution_count": 6,
   "id": "531185de",
   "metadata": {},
   "outputs": [],
   "source": [
    "# we use dicts so rerunning individual model cells is idempotent\n",
    "inputs = {}\n",
    "input_graphs = {}"
   ]
  },
  {
   "cell_type": "code",
   "execution_count": 7,
   "id": "8353a5f1",
   "metadata": {},
   "outputs": [
    {
     "name": "stderr",
     "output_type": "stream",
     "text": [
      "2022-05-16 18:43:50.627701: W tensorflow/stream_executor/platform/default/dso_loader.cc:64] Could not load dynamic library 'libcuda.so.1'; dlerror: libcuda.so.1: cannot open shared object file: No such file or directory\n",
      "2022-05-16 18:43:50.627723: W tensorflow/stream_executor/cuda/cuda_driver.cc:269] failed call to cuInit: UNKNOWN ERROR (303)\n",
      "2022-05-16 18:43:50.627750: I tensorflow/stream_executor/cuda/cuda_diagnostics.cc:156] kernel driver does not appear to be running on this host (alba): /proc/driver/nvidia/version does not exist\n",
      "2022-05-16 18:43:50.627929: I tensorflow/core/platform/cpu_feature_guard.cc:151] This TensorFlow binary is optimized with oneAPI Deep Neural Network Library (oneDNN) to use the following CPU instructions in performance-critical operations:  AVX2 AVX512F FMA\n",
      "To enable them in other operations, rebuild TensorFlow with the appropriate compiler flags.\n"
     ]
    }
   ],
   "source": [
    "ds = tfds.load('off_category', split=TRAIN_SPLIT)"
   ]
  },
  {
   "cell_type": "code",
   "execution_count": 8,
   "id": "c61fec40",
   "metadata": {},
   "outputs": [
    {
     "name": "stdout",
     "output_type": "stream",
     "text": [
      "93000\n",
      "CPU times: user 29 s, sys: 14.1 s, total: 43.1 s\n",
      "Wall time: 8 s\n"
     ]
    }
   ],
   "source": [
    "%%time\n",
    "\n",
    "feature_name = 'product_name'\n",
    "\n",
    "product_name_input = tf.keras.Input(shape=(1,), dtype=tf.string, name=feature_name)\n",
    "\n",
    "product_name_vectorizer = layers.TextVectorization(\n",
    "    split = 'whitespace',\n",
    "    max_tokens = model_config.product_name_max_tokens,\n",
    "    output_sequence_length = model_config.product_name_max_length)\n",
    "\n",
    "product_name_vectorizer.adapt(\n",
    "    get_feature(ds, feature_name).batch(PREPROC_BATCH_SIZE))\n",
    "\n",
    "x = product_name_vectorizer(product_name_input)\n",
    "\n",
    "x = layers.Embedding(\n",
    "    input_dim = product_name_vectorizer.vocabulary_size(),\n",
    "    output_dim = model_config.product_name_embedding_size,\n",
    "    mask_zero = False)(x)\n",
    "\n",
    "product_name_graph = layers.Bidirectional(layers.LSTM(\n",
    "    units = model_config.product_name_lstm_units,\n",
    "    recurrent_dropout = model_config.product_name_lstm_recurrent_dropout,\n",
    "    dropout = model_config.product_name_lstm_dropout))(x)\n",
    "\n",
    "inputs[feature_name] = product_name_input\n",
    "input_graphs[feature_name] = product_name_graph\n",
    "\n",
    "# expected: 93000\n",
    "print(len(product_name_vectorizer.get_vocabulary()))"
   ]
  },
  {
   "cell_type": "code",
   "execution_count": 9,
   "id": "bdb0a17d",
   "metadata": {},
   "outputs": [
    {
     "name": "stdout",
     "output_type": "stream",
     "text": [
      "4222\n",
      "CPU times: user 58.7 s, sys: 29.1 s, total: 1min 27s\n",
      "Wall time: 14.1 s\n"
     ]
    }
   ],
   "source": [
    "%%time\n",
    "\n",
    "feature_name = 'ingredients_tags'\n",
    "\n",
    "ingredients_input = tf.keras.Input(shape=(None,), dtype=tf.string, name=feature_name)\n",
    "\n",
    "ingredients_vocab = get_vocabulary(\n",
    "    batch_flatten(get_feature(ds, feature_name), batch_size=PREPROC_BATCH_SIZE),\n",
    "    min_freq = model_config.ingredient_min_count)\n",
    "\n",
    "ingredients_graph = layers.StringLookup(\n",
    "    vocabulary = ingredients_vocab,\n",
    "    output_mode = 'multi_hot')(ingredients_input)\n",
    "\n",
    "inputs[feature_name] = ingredients_input\n",
    "input_graphs[feature_name] = ingredients_graph\n",
    "\n",
    "# expected: 4223\n",
    "print(len(ingredients_vocab))  # 4222 vs 4223 -> no b'' because no padded_batch"
   ]
  },
  {
   "cell_type": "markdown",
   "id": "db8a30f1",
   "metadata": {},
   "source": [
    "## Model output"
   ]
  },
  {
   "cell_type": "code",
   "execution_count": 10,
   "id": "1d3426e3",
   "metadata": {},
   "outputs": [
    {
     "name": "stdout",
     "output_type": "stream",
     "text": [
      "3969\n",
      "CPU times: user 57.1 s, sys: 28.8 s, total: 1min 25s\n",
      "Wall time: 14.2 s\n"
     ]
    }
   ],
   "source": [
    "%%time\n",
    "\n",
    "labels = 'categories_tags'\n",
    "\n",
    "categories_vocab = get_vocabulary(\n",
    "    batch_flatten(get_feature(ds, labels), batch_size=PREPROC_BATCH_SIZE),\n",
    "    min_freq = model_config.category_min_count)\n",
    "\n",
    "# StringLookup(output_mode='multi_hot') mode requires num_oov_indices >= 1.\n",
    "# We don't want OOVs in the categories_tags output layer, since it wouldn't make\n",
    "# sense to predict OOV. So we'll drop the OOV in _transform below.\n",
    "# Be careful when using StringLookup methods, some of them will return values\n",
    "# based on a vocabulary with OOV (e.g. vocabulary_size()). Keep this in mind when\n",
    "# mapping predictions back to the original vocabulary.\n",
    "categories_multihot = layers.StringLookup(\n",
    "    vocabulary = categories_vocab,\n",
    "    output_mode = 'multi_hot',\n",
    "    num_oov_indices = 1)  \n",
    "\n",
    "def categories_encode(ds: tf.data.Dataset):\n",
    "    @tf.function\n",
    "    @tf.autograph.experimental.do_not_convert\n",
    "    def _transform(x, y):\n",
    "        y = categories_multihot(y)\n",
    "        y = y[1:]  # drop OOV\n",
    "        return (x, y)\n",
    "\n",
    "    @tf.function\n",
    "    @tf.autograph.experimental.do_not_convert\n",
    "    def _not_empty(x, y):\n",
    "        return tf.math.reduce_max(y, 0) > 0\n",
    "\n",
    "    return (\n",
    "        ds\n",
    "        .map(_transform, num_parallel_calls=tf.data.AUTOTUNE, deterministic=True)\n",
    "        .filter(_not_empty)\n",
    "    )\n",
    "\n",
    "# expected: 3969\n",
    "print(len(categories_vocab))"
   ]
  },
  {
   "cell_type": "markdown",
   "id": "5d3c2786",
   "metadata": {},
   "source": [
    "## Model"
   ]
  },
  {
   "cell_type": "code",
   "execution_count": 11,
   "id": "8b498ee3",
   "metadata": {},
   "outputs": [],
   "source": [
    "# ensure final order is independent of cell execution/insertion order\n",
    "features = sorted(inputs.keys())\n",
    "\n",
    "x = layers.Concatenate()([input_graphs[k] for k in features])\n",
    "x = layers.Dropout(model_config.hidden_dropout)(x)\n",
    "x = layers.Dense(model_config.hidden_dim)(x)\n",
    "x = layers.Dropout(model_config.hidden_dropout)(x)\n",
    "x = layers.Activation('relu')(x)\n",
    "output = layers.Dense(len(categories_vocab), activation='sigmoid')(x)\n",
    "\n",
    "model = tf.keras.Model(inputs=[inputs[k] for k in features], outputs=[output])\n",
    "\n",
    "model.compile(\n",
    "    optimizer = tf.keras.optimizers.Adam(learning_rate=train_config.lr),\n",
    "    loss = tf.keras.losses.BinaryCrossentropy(label_smoothing=train_config.label_smoothing),\n",
    "    metrics = ['binary_accuracy', 'Precision', 'Recall']\n",
    ")"
   ]
  },
  {
   "cell_type": "code",
   "execution_count": 12,
   "id": "a5df8ca2",
   "metadata": {},
   "outputs": [
    {
     "name": "stdout",
     "output_type": "stream",
     "text": [
      "Model: \"model\"\n",
      "__________________________________________________________________________________________________\n",
      " Layer (type)                   Output Shape         Param #     Connected to                     \n",
      "==================================================================================================\n",
      " product_name (InputLayer)      [(None, 1)]          0           []                               \n",
      "                                                                                                  \n",
      " text_vectorization (TextVector  (None, 30)          0           ['product_name[0][0]']           \n",
      " ization)                                                                                         \n",
      "                                                                                                  \n",
      " ingredients_tags (InputLayer)  [(None, None)]       0           []                               \n",
      "                                                                                                  \n",
      " embedding (Embedding)          (None, 30, 64)       5952000     ['text_vectorization[0][0]']     \n",
      "                                                                                                  \n",
      " string_lookup_1 (StringLookup)  (None, 4223)        0           ['ingredients_tags[0][0]']       \n",
      "                                                                                                  \n",
      " bidirectional (Bidirectional)  (None, 128)          66048       ['embedding[0][0]']              \n",
      "                                                                                                  \n",
      " concatenate (Concatenate)      (None, 4351)         0           ['string_lookup_1[0][0]',        \n",
      "                                                                  'bidirectional[0][0]']          \n",
      "                                                                                                  \n",
      " dropout (Dropout)              (None, 4351)         0           ['concatenate[0][0]']            \n",
      "                                                                                                  \n",
      " dense (Dense)                  (None, 64)           278528      ['dropout[0][0]']                \n",
      "                                                                                                  \n",
      " dropout_1 (Dropout)            (None, 64)           0           ['dense[0][0]']                  \n",
      "                                                                                                  \n",
      " activation (Activation)        (None, 64)           0           ['dropout_1[0][0]']              \n",
      "                                                                                                  \n",
      " dense_1 (Dense)                (None, 3969)         257985      ['activation[0][0]']             \n",
      "                                                                                                  \n",
      "==================================================================================================\n",
      "Total params: 6,554,561\n",
      "Trainable params: 6,554,561\n",
      "Non-trainable params: 0\n",
      "__________________________________________________________________________________________________\n"
     ]
    }
   ],
   "source": [
    "model.summary()\n",
    "\n",
    "# Model: \"model\"\n",
    "# __________________________________________________________________________________________________\n",
    "#  Layer (type)                   Output Shape         Param #     Connected to                     \n",
    "# ==================================================================================================\n",
    "#  product_name (InputLayer)      [(None, 1)]          0           []                               \n",
    "                                                                                                  \n",
    "#  text_vectorization (TextVector  (None, 30)          0           ['product_name[0][0]']           \n",
    "#  ization)                                                                                         \n",
    "                                                                                                  \n",
    "#  ingredients_tags (InputLayer)  [(None, None)]       0           []                               \n",
    "                                                                                                  \n",
    "#  embedding (Embedding)          (None, 30, 64)       5952000     ['text_vectorization[0][0]']     \n",
    "                                                                                                  \n",
    "#  string_lookup_1 (StringLookup)  (None, 4223)        0           ['ingredients_tags[0][0]']       \n",
    "                                                                                                  \n",
    "#  bidirectional (Bidirectional)  (None, 128)          66048       ['embedding[0][0]']              \n",
    "                                                                                                  \n",
    "#  concatenate (Concatenate)      (None, 4351)         0           ['string_lookup_1[0][0]',        \n",
    "#                                                                   'bidirectional[0][0]']          \n",
    "                                                                                                  \n",
    "#  dropout (Dropout)              (None, 4351)         0           ['concatenate[0][0]']            \n",
    "                                                                                                  \n",
    "#  dense (Dense)                  (None, 64)           278528      ['dropout[0][0]']                \n",
    "                                                                                                  \n",
    "#  dropout_1 (Dropout)            (None, 64)           0           ['dense[0][0]']                  \n",
    "                                                                                                  \n",
    "#  activation (Activation)        (None, 64)           0           ['dropout_1[0][0]']              \n",
    "                                                                                                  \n",
    "#  dense_1 (Dense)                (None, 3969)         257985      ['activation[0][0]']             \n",
    "                                                                                                  \n",
    "# ==================================================================================================\n",
    "# Total params: 6,554,561\n",
    "# Trainable params: 6,554,561\n",
    "# Non-trainable params: 0"
   ]
  },
  {
   "cell_type": "markdown",
   "id": "8da62424",
   "metadata": {},
   "source": [
    "# Train model"
   ]
  },
  {
   "cell_type": "code",
   "execution_count": 13,
   "id": "53441242",
   "metadata": {},
   "outputs": [
    {
     "name": "stdout",
     "output_type": "stream",
     "text": [
      "Cache directory: ../cache\n",
      "Output directory: ../models\n",
      "Epoch 1/50\n"
     ]
    },
    {
     "name": "stderr",
     "output_type": "stream",
     "text": [
      "2022-05-16 18:44:29.333694: W tensorflow/core/kernels/data/cache_dataset_ops.cc:233] The calling iterator did not fully read the dataset being cached. In order to avoid unexpected truncation of the dataset, the partially cached contents of the dataset  will be discarded. This can happen if you have an input pipeline similar to `dataset.cache().take(k).repeat()`. You should use `dataset.take(k).cache().repeat()` instead.\n",
      "/home/gabriel/.pyenv/versions/3.8.13/envs/venv-off-tf28/lib/python3.8/site-packages/keras/engine/functional.py:559: UserWarning: Input dict contained keys ['code'] which did not match any model input. They will be ignored by the model.\n",
      "  inputs = self._flatten_to_reference_inputs(inputs)\n"
     ]
    },
    {
     "name": "stdout",
     "output_type": "stream",
     "text": [
      "   5465/Unknown - 435s 79ms/step - loss: 0.0081 - binary_accuracy: 0.9985 - precision: 0.2210 - recall: 0.0836"
     ]
    },
    {
     "name": "stderr",
     "output_type": "stream",
     "text": [
      "2022-05-16 18:51:44.633674: W tensorflow/core/kernels/data/cache_dataset_ops.cc:233] The calling iterator did not fully read the dataset being cached. In order to avoid unexpected truncation of the dataset, the partially cached contents of the dataset  will be discarded. This can happen if you have an input pipeline similar to `dataset.cache().take(k).repeat()`. You should use `dataset.take(k).cache().repeat()` instead.\n",
      "2022-05-16 18:52:00.288243: W tensorflow/core/kernels/data/cache_dataset_ops.cc:233] The calling iterator did not fully read the dataset being cached. In order to avoid unexpected truncation of the dataset, the partially cached contents of the dataset  will be discarded. This can happen if you have an input pipeline similar to `dataset.cache().take(k).repeat()`. You should use `dataset.take(k).cache().repeat()` instead.\n",
      "2022-05-16 18:52:02.365017: W tensorflow/python/util/util.cc:368] Sets are not currently considered sequences, but this may change in the future, so consider avoiding using them.\n"
     ]
    },
    {
     "name": "stdout",
     "output_type": "stream",
     "text": [
      "INFO:tensorflow:Assets written to: ../models/weights.01-0.0041/assets\n"
     ]
    },
    {
     "name": "stderr",
     "output_type": "stream",
     "text": [
      "INFO:tensorflow:Assets written to: ../models/weights.01-0.0041/assets\n",
      "WARNING:absl:<keras.layers.recurrent.LSTMCell object at 0x7fe896c209d0> has the same name 'LSTMCell' as a built-in Keras object. Consider renaming <class 'keras.layers.recurrent.LSTMCell'> to avoid naming conflicts when loading with `tf.keras.models.load_model`. If renaming is not possible, pass the object in the `custom_objects` parameter of the load function.\n",
      "WARNING:absl:<keras.layers.recurrent.LSTMCell object at 0x7fe896b1b640> has the same name 'LSTMCell' as a built-in Keras object. Consider renaming <class 'keras.layers.recurrent.LSTMCell'> to avoid naming conflicts when loading with `tf.keras.models.load_model`. If renaming is not possible, pass the object in the `custom_objects` parameter of the load function.\n"
     ]
    },
    {
     "name": "stdout",
     "output_type": "stream",
     "text": [
      "5465/5465 [==============================] - 456s 83ms/step - loss: 0.0081 - binary_accuracy: 0.9985 - precision: 0.2210 - recall: 0.0836 - val_loss: 0.0041 - val_binary_accuracy: 0.9990 - val_precision: 0.8468 - val_recall: 0.2567\n",
      "Epoch 2/50\n"
     ]
    },
    {
     "name": "stderr",
     "output_type": "stream",
     "text": [
      "2022-05-16 18:52:05.384785: W tensorflow/core/kernels/data/cache_dataset_ops.cc:233] The calling iterator did not fully read the dataset being cached. In order to avoid unexpected truncation of the dataset, the partially cached contents of the dataset  will be discarded. This can happen if you have an input pipeline similar to `dataset.cache().take(k).repeat()`. You should use `dataset.take(k).cache().repeat()` instead.\n"
     ]
    },
    {
     "name": "stdout",
     "output_type": "stream",
     "text": [
      "5465/5465 [==============================] - ETA: 0s - loss: 0.0033 - binary_accuracy: 0.9991 - precision: 0.8153 - recall: 0.4081INFO:tensorflow:Assets written to: ../models/weights.02-0.0023/assets\n"
     ]
    },
    {
     "name": "stderr",
     "output_type": "stream",
     "text": [
      "INFO:tensorflow:Assets written to: ../models/weights.02-0.0023/assets\n",
      "WARNING:absl:<keras.layers.recurrent.LSTMCell object at 0x7fe896c209d0> has the same name 'LSTMCell' as a built-in Keras object. Consider renaming <class 'keras.layers.recurrent.LSTMCell'> to avoid naming conflicts when loading with `tf.keras.models.load_model`. If renaming is not possible, pass the object in the `custom_objects` parameter of the load function.\n",
      "WARNING:absl:<keras.layers.recurrent.LSTMCell object at 0x7fe896b1b640> has the same name 'LSTMCell' as a built-in Keras object. Consider renaming <class 'keras.layers.recurrent.LSTMCell'> to avoid naming conflicts when loading with `tf.keras.models.load_model`. If renaming is not possible, pass the object in the `custom_objects` parameter of the load function.\n"
     ]
    },
    {
     "name": "stdout",
     "output_type": "stream",
     "text": [
      "5465/5465 [==============================] - 414s 76ms/step - loss: 0.0033 - binary_accuracy: 0.9991 - precision: 0.8153 - recall: 0.4081 - val_loss: 0.0023 - val_binary_accuracy: 0.9993 - val_precision: 0.8819 - val_recall: 0.5518\n",
      "Epoch 3/50\n",
      "5465/5465 [==============================] - ETA: 0s - loss: 0.0023 - binary_accuracy: 0.9994 - precision: 0.8452 - recall: 0.5910INFO:tensorflow:Assets written to: ../models/weights.03-0.0018/assets\n"
     ]
    },
    {
     "name": "stderr",
     "output_type": "stream",
     "text": [
      "INFO:tensorflow:Assets written to: ../models/weights.03-0.0018/assets\n",
      "WARNING:absl:<keras.layers.recurrent.LSTMCell object at 0x7fe896c209d0> has the same name 'LSTMCell' as a built-in Keras object. Consider renaming <class 'keras.layers.recurrent.LSTMCell'> to avoid naming conflicts when loading with `tf.keras.models.load_model`. If renaming is not possible, pass the object in the `custom_objects` parameter of the load function.\n",
      "WARNING:absl:<keras.layers.recurrent.LSTMCell object at 0x7fe896b1b640> has the same name 'LSTMCell' as a built-in Keras object. Consider renaming <class 'keras.layers.recurrent.LSTMCell'> to avoid naming conflicts when loading with `tf.keras.models.load_model`. If renaming is not possible, pass the object in the `custom_objects` parameter of the load function.\n"
     ]
    },
    {
     "name": "stdout",
     "output_type": "stream",
     "text": [
      "5465/5465 [==============================] - 398s 73ms/step - loss: 0.0023 - binary_accuracy: 0.9994 - precision: 0.8452 - recall: 0.5910 - val_loss: 0.0018 - val_binary_accuracy: 0.9995 - val_precision: 0.8897 - val_recall: 0.6672\n",
      "Epoch 4/50\n",
      "5465/5465 [==============================] - ETA: 0s - loss: 0.0019 - binary_accuracy: 0.9995 - precision: 0.8574 - recall: 0.6627INFO:tensorflow:Assets written to: ../models/weights.04-0.0016/assets\n"
     ]
    },
    {
     "name": "stderr",
     "output_type": "stream",
     "text": [
      "INFO:tensorflow:Assets written to: ../models/weights.04-0.0016/assets\n",
      "WARNING:absl:<keras.layers.recurrent.LSTMCell object at 0x7fe896c209d0> has the same name 'LSTMCell' as a built-in Keras object. Consider renaming <class 'keras.layers.recurrent.LSTMCell'> to avoid naming conflicts when loading with `tf.keras.models.load_model`. If renaming is not possible, pass the object in the `custom_objects` parameter of the load function.\n",
      "WARNING:absl:<keras.layers.recurrent.LSTMCell object at 0x7fe896b1b640> has the same name 'LSTMCell' as a built-in Keras object. Consider renaming <class 'keras.layers.recurrent.LSTMCell'> to avoid naming conflicts when loading with `tf.keras.models.load_model`. If renaming is not possible, pass the object in the `custom_objects` parameter of the load function.\n"
     ]
    },
    {
     "name": "stdout",
     "output_type": "stream",
     "text": [
      "5465/5465 [==============================] - 387s 71ms/step - loss: 0.0019 - binary_accuracy: 0.9995 - precision: 0.8574 - recall: 0.6627 - val_loss: 0.0016 - val_binary_accuracy: 0.9995 - val_precision: 0.8899 - val_recall: 0.7115\n",
      "Epoch 5/50\n",
      "5465/5465 [==============================] - ETA: 0s - loss: 0.0017 - binary_accuracy: 0.9995 - precision: 0.8647 - recall: 0.6978INFO:tensorflow:Assets written to: ../models/weights.05-0.0015/assets\n"
     ]
    },
    {
     "name": "stderr",
     "output_type": "stream",
     "text": [
      "INFO:tensorflow:Assets written to: ../models/weights.05-0.0015/assets\n",
      "WARNING:absl:<keras.layers.recurrent.LSTMCell object at 0x7fe896c209d0> has the same name 'LSTMCell' as a built-in Keras object. Consider renaming <class 'keras.layers.recurrent.LSTMCell'> to avoid naming conflicts when loading with `tf.keras.models.load_model`. If renaming is not possible, pass the object in the `custom_objects` parameter of the load function.\n",
      "WARNING:absl:<keras.layers.recurrent.LSTMCell object at 0x7fe896b1b640> has the same name 'LSTMCell' as a built-in Keras object. Consider renaming <class 'keras.layers.recurrent.LSTMCell'> to avoid naming conflicts when loading with `tf.keras.models.load_model`. If renaming is not possible, pass the object in the `custom_objects` parameter of the load function.\n"
     ]
    },
    {
     "name": "stdout",
     "output_type": "stream",
     "text": [
      "5465/5465 [==============================] - 383s 70ms/step - loss: 0.0017 - binary_accuracy: 0.9995 - precision: 0.8647 - recall: 0.6978 - val_loss: 0.0015 - val_binary_accuracy: 0.9996 - val_precision: 0.8887 - val_recall: 0.7353\n",
      "Epoch 6/50\n",
      "5465/5465 [==============================] - ETA: 0s - loss: 0.0016 - binary_accuracy: 0.9995 - precision: 0.8696 - recall: 0.7205INFO:tensorflow:Assets written to: ../models/weights.06-0.0015/assets\n"
     ]
    },
    {
     "name": "stderr",
     "output_type": "stream",
     "text": [
      "INFO:tensorflow:Assets written to: ../models/weights.06-0.0015/assets\n",
      "WARNING:absl:<keras.layers.recurrent.LSTMCell object at 0x7fe896c209d0> has the same name 'LSTMCell' as a built-in Keras object. Consider renaming <class 'keras.layers.recurrent.LSTMCell'> to avoid naming conflicts when loading with `tf.keras.models.load_model`. If renaming is not possible, pass the object in the `custom_objects` parameter of the load function.\n",
      "WARNING:absl:<keras.layers.recurrent.LSTMCell object at 0x7fe896b1b640> has the same name 'LSTMCell' as a built-in Keras object. Consider renaming <class 'keras.layers.recurrent.LSTMCell'> to avoid naming conflicts when loading with `tf.keras.models.load_model`. If renaming is not possible, pass the object in the `custom_objects` parameter of the load function.\n"
     ]
    },
    {
     "name": "stdout",
     "output_type": "stream",
     "text": [
      "5465/5465 [==============================] - 378s 69ms/step - loss: 0.0016 - binary_accuracy: 0.9995 - precision: 0.8696 - recall: 0.7205 - val_loss: 0.0015 - val_binary_accuracy: 0.9996 - val_precision: 0.8919 - val_recall: 0.7478\n",
      "Epoch 7/50\n",
      "5465/5465 [==============================] - ETA: 0s - loss: 0.0015 - binary_accuracy: 0.9995 - precision: 0.8733 - recall: 0.7362INFO:tensorflow:Assets written to: ../models/weights.07-0.0014/assets\n"
     ]
    },
    {
     "name": "stderr",
     "output_type": "stream",
     "text": [
      "INFO:tensorflow:Assets written to: ../models/weights.07-0.0014/assets\n",
      "WARNING:absl:<keras.layers.recurrent.LSTMCell object at 0x7fe896c209d0> has the same name 'LSTMCell' as a built-in Keras object. Consider renaming <class 'keras.layers.recurrent.LSTMCell'> to avoid naming conflicts when loading with `tf.keras.models.load_model`. If renaming is not possible, pass the object in the `custom_objects` parameter of the load function.\n",
      "WARNING:absl:<keras.layers.recurrent.LSTMCell object at 0x7fe896b1b640> has the same name 'LSTMCell' as a built-in Keras object. Consider renaming <class 'keras.layers.recurrent.LSTMCell'> to avoid naming conflicts when loading with `tf.keras.models.load_model`. If renaming is not possible, pass the object in the `custom_objects` parameter of the load function.\n"
     ]
    },
    {
     "name": "stdout",
     "output_type": "stream",
     "text": [
      "5465/5465 [==============================] - 378s 69ms/step - loss: 0.0015 - binary_accuracy: 0.9995 - precision: 0.8733 - recall: 0.7362 - val_loss: 0.0014 - val_binary_accuracy: 0.9996 - val_precision: 0.8908 - val_recall: 0.7590\n",
      "Epoch 8/50\n",
      "5465/5465 [==============================] - ETA: 0s - loss: 0.0014 - binary_accuracy: 0.9995 - precision: 0.8763 - recall: 0.7480INFO:tensorflow:Assets written to: ../models/weights.08-0.0014/assets\n"
     ]
    },
    {
     "name": "stderr",
     "output_type": "stream",
     "text": [
      "INFO:tensorflow:Assets written to: ../models/weights.08-0.0014/assets\n",
      "WARNING:absl:<keras.layers.recurrent.LSTMCell object at 0x7fe896c209d0> has the same name 'LSTMCell' as a built-in Keras object. Consider renaming <class 'keras.layers.recurrent.LSTMCell'> to avoid naming conflicts when loading with `tf.keras.models.load_model`. If renaming is not possible, pass the object in the `custom_objects` parameter of the load function.\n",
      "WARNING:absl:<keras.layers.recurrent.LSTMCell object at 0x7fe896b1b640> has the same name 'LSTMCell' as a built-in Keras object. Consider renaming <class 'keras.layers.recurrent.LSTMCell'> to avoid naming conflicts when loading with `tf.keras.models.load_model`. If renaming is not possible, pass the object in the `custom_objects` parameter of the load function.\n"
     ]
    },
    {
     "name": "stdout",
     "output_type": "stream",
     "text": [
      "5465/5465 [==============================] - 377s 69ms/step - loss: 0.0014 - binary_accuracy: 0.9995 - precision: 0.8763 - recall: 0.7480 - val_loss: 0.0014 - val_binary_accuracy: 0.9996 - val_precision: 0.8886 - val_recall: 0.7693\n",
      "Epoch 9/50\n",
      "5465/5465 [==============================] - ETA: 0s - loss: 0.0014 - binary_accuracy: 0.9995 - precision: 0.8783 - recall: 0.7570INFO:tensorflow:Assets written to: ../models/weights.09-0.0014/assets\n"
     ]
    },
    {
     "name": "stderr",
     "output_type": "stream",
     "text": [
      "INFO:tensorflow:Assets written to: ../models/weights.09-0.0014/assets\n",
      "WARNING:absl:<keras.layers.recurrent.LSTMCell object at 0x7fe896c209d0> has the same name 'LSTMCell' as a built-in Keras object. Consider renaming <class 'keras.layers.recurrent.LSTMCell'> to avoid naming conflicts when loading with `tf.keras.models.load_model`. If renaming is not possible, pass the object in the `custom_objects` parameter of the load function.\n",
      "WARNING:absl:<keras.layers.recurrent.LSTMCell object at 0x7fe896b1b640> has the same name 'LSTMCell' as a built-in Keras object. Consider renaming <class 'keras.layers.recurrent.LSTMCell'> to avoid naming conflicts when loading with `tf.keras.models.load_model`. If renaming is not possible, pass the object in the `custom_objects` parameter of the load function.\n"
     ]
    },
    {
     "name": "stdout",
     "output_type": "stream",
     "text": [
      "5465/5465 [==============================] - 375s 69ms/step - loss: 0.0014 - binary_accuracy: 0.9995 - precision: 0.8783 - recall: 0.7570 - val_loss: 0.0014 - val_binary_accuracy: 0.9996 - val_precision: 0.8892 - val_recall: 0.7721\n",
      "Epoch 10/50\n",
      "5464/5465 [============================>.] - ETA: 0s - loss: 0.0013 - binary_accuracy: 0.9995 - precision: 0.8803 - recall: 0.7648INFO:tensorflow:Assets written to: ../models/weights.10-0.0014/assets\n"
     ]
    },
    {
     "name": "stderr",
     "output_type": "stream",
     "text": [
      "INFO:tensorflow:Assets written to: ../models/weights.10-0.0014/assets\n",
      "WARNING:absl:<keras.layers.recurrent.LSTMCell object at 0x7fe896c209d0> has the same name 'LSTMCell' as a built-in Keras object. Consider renaming <class 'keras.layers.recurrent.LSTMCell'> to avoid naming conflicts when loading with `tf.keras.models.load_model`. If renaming is not possible, pass the object in the `custom_objects` parameter of the load function.\n",
      "WARNING:absl:<keras.layers.recurrent.LSTMCell object at 0x7fe896b1b640> has the same name 'LSTMCell' as a built-in Keras object. Consider renaming <class 'keras.layers.recurrent.LSTMCell'> to avoid naming conflicts when loading with `tf.keras.models.load_model`. If renaming is not possible, pass the object in the `custom_objects` parameter of the load function.\n"
     ]
    },
    {
     "name": "stdout",
     "output_type": "stream",
     "text": [
      "5465/5465 [==============================] - 376s 69ms/step - loss: 0.0013 - binary_accuracy: 0.9995 - precision: 0.8803 - recall: 0.7648 - val_loss: 0.0014 - val_binary_accuracy: 0.9996 - val_precision: 0.8885 - val_recall: 0.7775\n",
      "Epoch 11/50\n",
      "5465/5465 [==============================] - ETA: 0s - loss: 0.0013 - binary_accuracy: 0.9996 - precision: 0.8819 - recall: 0.7707INFO:tensorflow:Assets written to: ../models/weights.11-0.0014/assets\n"
     ]
    },
    {
     "name": "stderr",
     "output_type": "stream",
     "text": [
      "INFO:tensorflow:Assets written to: ../models/weights.11-0.0014/assets\n",
      "WARNING:absl:<keras.layers.recurrent.LSTMCell object at 0x7fe896c209d0> has the same name 'LSTMCell' as a built-in Keras object. Consider renaming <class 'keras.layers.recurrent.LSTMCell'> to avoid naming conflicts when loading with `tf.keras.models.load_model`. If renaming is not possible, pass the object in the `custom_objects` parameter of the load function.\n",
      "WARNING:absl:<keras.layers.recurrent.LSTMCell object at 0x7fe896b1b640> has the same name 'LSTMCell' as a built-in Keras object. Consider renaming <class 'keras.layers.recurrent.LSTMCell'> to avoid naming conflicts when loading with `tf.keras.models.load_model`. If renaming is not possible, pass the object in the `custom_objects` parameter of the load function.\n"
     ]
    },
    {
     "name": "stdout",
     "output_type": "stream",
     "text": [
      "5465/5465 [==============================] - 379s 69ms/step - loss: 0.0013 - binary_accuracy: 0.9996 - precision: 0.8819 - recall: 0.7707 - val_loss: 0.0014 - val_binary_accuracy: 0.9996 - val_precision: 0.8883 - val_recall: 0.7803\n",
      "Epoch 12/50\n",
      "5465/5465 [==============================] - ETA: 0s - loss: 0.0013 - binary_accuracy: 0.9996 - precision: 0.8831 - recall: 0.7759INFO:tensorflow:Assets written to: ../models/weights.12-0.0014/assets\n"
     ]
    },
    {
     "name": "stderr",
     "output_type": "stream",
     "text": [
      "INFO:tensorflow:Assets written to: ../models/weights.12-0.0014/assets\n",
      "WARNING:absl:<keras.layers.recurrent.LSTMCell object at 0x7fe896c209d0> has the same name 'LSTMCell' as a built-in Keras object. Consider renaming <class 'keras.layers.recurrent.LSTMCell'> to avoid naming conflicts when loading with `tf.keras.models.load_model`. If renaming is not possible, pass the object in the `custom_objects` parameter of the load function.\n",
      "WARNING:absl:<keras.layers.recurrent.LSTMCell object at 0x7fe896b1b640> has the same name 'LSTMCell' as a built-in Keras object. Consider renaming <class 'keras.layers.recurrent.LSTMCell'> to avoid naming conflicts when loading with `tf.keras.models.load_model`. If renaming is not possible, pass the object in the `custom_objects` parameter of the load function.\n"
     ]
    },
    {
     "name": "stdout",
     "output_type": "stream",
     "text": [
      "5465/5465 [==============================] - 378s 69ms/step - loss: 0.0013 - binary_accuracy: 0.9996 - precision: 0.8831 - recall: 0.7759 - val_loss: 0.0014 - val_binary_accuracy: 0.9996 - val_precision: 0.8894 - val_recall: 0.7819\n",
      "Epoch 13/50\n",
      "5465/5465 [==============================] - 371s 68ms/step - loss: 0.0013 - binary_accuracy: 0.9996 - precision: 0.8844 - recall: 0.7802 - val_loss: 0.0014 - val_binary_accuracy: 0.9996 - val_precision: 0.8900 - val_recall: 0.7840\n",
      "Epoch 14/50\n",
      "5465/5465 [==============================] - 378s 69ms/step - loss: 0.0012 - binary_accuracy: 0.9996 - precision: 0.8855 - recall: 0.7841 - val_loss: 0.0014 - val_binary_accuracy: 0.9996 - val_precision: 0.8904 - val_recall: 0.7852\n",
      "Epoch 15/50\n",
      "5465/5465 [==============================] - 389s 71ms/step - loss: 0.0012 - binary_accuracy: 0.9996 - precision: 0.8865 - recall: 0.7878 - val_loss: 0.0014 - val_binary_accuracy: 0.9996 - val_precision: 0.8892 - val_recall: 0.7881\n",
      "Epoch 16/50\n",
      "5465/5465 [==============================] - 390s 71ms/step - loss: 0.0012 - binary_accuracy: 0.9996 - precision: 0.8874 - recall: 0.7908 - val_loss: 0.0014 - val_binary_accuracy: 0.9996 - val_precision: 0.8898 - val_recall: 0.7892\n",
      "CPU times: user 9h 46min 59s, sys: 34min 35s, total: 10h 21min 34s\n",
      "Wall time: 1h 43min 28s\n"
     ]
    }
   ],
   "source": [
    "%%time\n",
    "\n",
    "# for now, clear cache on each call to fit(), to be safe\n",
    "shutil.rmtree(CACHE_DIR, ignore_errors=True)\n",
    "CACHE_DIR.mkdir()\n",
    "\n",
    "# FIXME: clean OUTPUT_DIR?\n",
    "\n",
    "print(f\"Cache directory: {CACHE_DIR}\")\n",
    "print(f\"Output directory: {OUTPUT_DIR}\")\n",
    "\n",
    "# FIXME: drop unused features (cause slower training?)\n",
    "\n",
    "ds_train = (\n",
    "    tfds.load('off_category', split=TRAIN_SPLIT, as_supervised=True)\n",
    "    .apply(categories_encode)\n",
    "    .padded_batch(train_config.batch_size)  # TODO: replace with ragged_batch?\n",
    "    .cache(str(CACHE_DIR / 'train'))\n",
    ")\n",
    "\n",
    "ds_val = (\n",
    "    tfds.load('off_category', split=VAL_SPLIT, as_supervised=True)\n",
    "    .apply(categories_encode)\n",
    "    .padded_batch(train_config.batch_size)\n",
    "    .cache(str(CACHE_DIR / 'val'))\n",
    ")\n",
    "\n",
    "history = model.fit(\n",
    "    ds_train,\n",
    "    epochs = train_config.epochs,\n",
    "    validation_data = ds_val,\n",
    "    callbacks = [\n",
    "        callbacks.TerminateOnNaN(),\n",
    "        callbacks.ModelCheckpoint(\n",
    "            filepath = str(OUTPUT_DIR / \"weights.{epoch:02d}-{val_loss:.4f}\"),\n",
    "            monitor = 'val_loss',\n",
    "            save_best_only = True,\n",
    "            save_format = 'tf',\n",
    "        ),\n",
    "        callbacks.EarlyStopping(monitor='val_loss', patience=4),\n",
    "        callbacks.CSVLogger(str(OUTPUT_DIR / 'training.log')),\n",
    "        callbacks.History()\n",
    "    ]\n",
    ")\n",
    "\n",
    "# Epoch 1/50\n",
    "# 5465/5465 [==============================] - 451s 82ms/step - loss: 0.0082 - binary_accuracy: 0.9985 - precision: 0.2248 - recall: 0.0864 - val_loss: 0.0041 - val_binary_accuracy: 0.9990 - val_precision: 0.8444 - val_recall: 0.2421\n",
    "# Epoch 18/50\n",
    "# 5465/5465 [==============================] - 390s 71ms/step - loss: 0.0012 - binary_accuracy: 0.9996 - precision: 0.8880 - recall: 0.7968 - val_loss: 0.0014 - val_binary_accuracy: 0.9996 - val_precision: 0.8886 - val_recall: 0.7911\n",
    "# Training ended\n",
    "# CPU times: user 10h 56min 3s, sys: 49min 56s, total: 11h 45min 59s\n",
    "# Wall time: 2h 3min 54s"
   ]
  },
  {
   "cell_type": "markdown",
   "id": "2d157d84",
   "metadata": {},
   "source": [
    "## Save model and resources"
   ]
  },
  {
   "cell_type": "code",
   "execution_count": null,
   "id": "3a2d6b89",
   "metadata": {},
   "outputs": [],
   "source": [
    "# TODO"
   ]
  },
  {
   "cell_type": "markdown",
   "id": "a1ccc27e",
   "metadata": {},
   "source": [
    "## Training stats"
   ]
  },
  {
   "cell_type": "code",
   "execution_count": 13,
   "id": "ab63d125",
   "metadata": {},
   "outputs": [
    {
     "data": {
      "text/html": [
       "<div>\n",
       "<style scoped>\n",
       "    .dataframe tbody tr th:only-of-type {\n",
       "        vertical-align: middle;\n",
       "    }\n",
       "\n",
       "    .dataframe tbody tr th {\n",
       "        vertical-align: top;\n",
       "    }\n",
       "\n",
       "    .dataframe thead th {\n",
       "        text-align: right;\n",
       "    }\n",
       "</style>\n",
       "<table border=\"1\" class=\"dataframe\">\n",
       "  <thead>\n",
       "    <tr style=\"text-align: right;\">\n",
       "      <th></th>\n",
       "      <th>epoch</th>\n",
       "      <th>binary_accuracy</th>\n",
       "      <th>loss</th>\n",
       "      <th>precision</th>\n",
       "      <th>recall</th>\n",
       "      <th>val_binary_accuracy</th>\n",
       "      <th>val_loss</th>\n",
       "      <th>val_precision</th>\n",
       "      <th>val_recall</th>\n",
       "    </tr>\n",
       "  </thead>\n",
       "  <tbody>\n",
       "    <tr>\n",
       "      <th>0</th>\n",
       "      <td>0</td>\n",
       "      <td>0.992336</td>\n",
       "      <td>0.037778</td>\n",
       "      <td>0.003145</td>\n",
       "      <td>0.005272</td>\n",
       "      <td>0.997149</td>\n",
       "      <td>0.013865</td>\n",
       "      <td>0.000000</td>\n",
       "      <td>0.000000</td>\n",
       "    </tr>\n",
       "    <tr>\n",
       "      <th>1</th>\n",
       "      <td>1</td>\n",
       "      <td>0.997129</td>\n",
       "      <td>0.013969</td>\n",
       "      <td>0.600210</td>\n",
       "      <td>0.005057</td>\n",
       "      <td>0.997161</td>\n",
       "      <td>0.013235</td>\n",
       "      <td>0.596629</td>\n",
       "      <td>0.012625</td>\n",
       "    </tr>\n",
       "  </tbody>\n",
       "</table>\n",
       "</div>"
      ],
      "text/plain": [
       "   epoch  binary_accuracy      loss  precision    recall  val_binary_accuracy  \\\n",
       "0      0         0.992336  0.037778   0.003145  0.005272             0.997149   \n",
       "1      1         0.997129  0.013969   0.600210  0.005057             0.997161   \n",
       "\n",
       "   val_loss  val_precision  val_recall  \n",
       "0  0.013865       0.000000    0.000000  \n",
       "1  0.013235       0.596629    0.012625  "
      ]
     },
     "execution_count": 13,
     "metadata": {},
     "output_type": "execute_result"
    }
   ],
   "source": [
    "log_data = pd.read_csv(OUTPUT_DIR / 'training.log')\n",
    "log_data"
   ]
  },
  {
   "cell_type": "code",
   "execution_count": 14,
   "id": "c6244c7a",
   "metadata": {},
   "outputs": [
    {
     "data": {
      "image/png": "[encoded data removed]",
      "text/plain": [
       "<Figure size 432x288 with 1 Axes>"
      ]
     },
     "metadata": {
      "needs_background": "light"
     },
     "output_type": "display_data"
    }
   ],
   "source": [
    "import matplotlib.pyplot as plt\n",
    "\n",
    "plt.plot(log_data['epoch'],log_data['loss'])\n",
    "plt.plot(log_data['epoch'],log_data['val_loss'])\n",
    "plt.title(f\"Model {labels}~{'+'.join(inputs.keys())}\")\n",
    "plt.ylabel('Loss')\n",
    "plt.xlabel('Epoch')\n",
    "plt.legend(['train' , 'validation'] , loc = 'upper right')\n",
    "plt.show()"
   ]
  },
  {
   "cell_type": "code",
   "execution_count": 15,
   "id": "351ba593",
   "metadata": {
    "scrolled": true
   },
   "outputs": [
    {
     "data": {
      "image/png": "[encoded data removed]",
      "text/plain": [
       "<Figure size 432x288 with 1 Axes>"
      ]
     },
     "metadata": {
      "needs_background": "light"
     },
     "output_type": "display_data"
    }
   ],
   "source": [
    "import matplotlib.pyplot as plt\n",
    "\n",
    "plt.plot(log_data['epoch'],log_data['binary_accuracy'])\n",
    "plt.plot(log_data['epoch'],log_data['val_binary_accuracy'])\n",
    "plt.title(f\"Model {labels}~{'+'.join(inputs.keys())}\")\n",
    "plt.ylabel('Binary Accuracy')\n",
    "plt.xlabel('Epoch')\n",
    "plt.legend(['train' , 'validation'] , loc = 'upper right')\n",
    "plt.show()"
   ]
  },
  {
   "cell_type": "markdown",
   "id": "38a29603",
   "metadata": {},
   "source": [
    "# Test model"
   ]
  },
  {
   "cell_type": "code",
   "execution_count": 8,
   "id": "cdba60dc",
   "metadata": {},
   "outputs": [],
   "source": [
    "model = tf.keras.models.load_model(OUTPUT_DIR / 'base/saved_model')"
   ]
  },
  {
   "cell_type": "code",
   "execution_count": 10,
   "id": "6702223e",
   "metadata": {},
   "outputs": [
    {
     "data": {
      "image/png": "[encoded data removed]",
      "text/plain": [
       "<IPython.core.display.Image object>"
      ]
     },
     "execution_count": 10,
     "metadata": {},
     "output_type": "execute_result"
    }
   ],
   "source": [
    "from tf.keras.utils.vis_utils import plot_model\n",
    "\n",
    "plot_model(model, show_shapes=True, show_layer_names=True)"
   ]
  },
  {
   "cell_type": "code",
   "execution_count": 11,
   "id": "cff4364b",
   "metadata": {},
   "outputs": [],
   "source": [
    "# create train, validation, test datasets\n",
    "category_vocab = keras_preprocess.category_vocab\n",
    "batch_size = config.train_config.batch_size\n",
    "\n",
    "# Train & validation Dataset => investigate on characteristics of the source\n",
    "valdata = create_tf_dataset(\"val\", category_vocab, batch_size)\n",
    "testdata = create_tf_dataset(\"test\", category_vocab, batch_size)"
   ]
  },
  {
   "cell_type": "code",
   "execution_count": 12,
   "id": "264c8b91",
   "metadata": {},
   "outputs": [
    {
     "data": {
      "text/plain": [
       "3969"
      ]
     },
     "execution_count": 12,
     "metadata": {},
     "output_type": "execute_result"
    }
   ],
   "source": [
    "# categories count\n",
    "len(category_vocab)"
   ]
  },
  {
   "cell_type": "markdown",
   "id": "7ee83647",
   "metadata": {},
   "source": [
    "## Predict"
   ]
  },
  {
   "cell_type": "code",
   "execution_count": 13,
   "id": "fcb0f069",
   "metadata": {},
   "outputs": [
    {
     "name": "stdout",
     "output_type": "stream",
     "text": [
      "CPU times: user 1min 33s, sys: 19.8 s, total: 1min 52s\n",
      "Wall time: 1min 19s\n"
     ]
    }
   ],
   "source": [
    "%%time\n",
    "y_pred_val = model.predict(valdata)"
   ]
  },
  {
   "cell_type": "code",
   "execution_count": 14,
   "id": "c76368ed",
   "metadata": {},
   "outputs": [
    {
     "name": "stdout",
     "output_type": "stream",
     "text": [
      "CPU times: user 1min 33s, sys: 17.2 s, total: 1min 50s\n",
      "Wall time: 1min 19s\n"
     ]
    }
   ],
   "source": [
    "%%time\n",
    "y_pred_test=model.predict(testdata)"
   ]
  },
  {
   "cell_type": "code",
   "execution_count": 15,
   "id": "2a90553a",
   "metadata": {
    "scrolled": false
   },
   "outputs": [
    {
     "data": {
      "text/plain": [
       "((87433, 3969), (87433, 3969))"
      ]
     },
     "execution_count": 15,
     "metadata": {},
     "output_type": "execute_result"
    }
   ],
   "source": [
    "y_pred_val.shape, y_pred_test.shape"
   ]
  },
  {
   "cell_type": "code",
   "execution_count": 16,
   "id": "78c7d888",
   "metadata": {
    "scrolled": false
   },
   "outputs": [
    {
     "data": {
      "text/plain": [
       "array([[1.2839634e-05, 2.3829339e-10, 1.6613468e-09, ..., 1.5564917e-11,\n",
       "        3.6129602e-10, 2.1100532e-12],\n",
       "       [1.0495579e-01, 2.0508166e-09, 2.3943665e-09, ..., 1.3911613e-08,\n",
       "        1.0217517e-08, 3.8321792e-07],\n",
       "       [1.9471225e-05, 6.9090309e-14, 3.4578873e-15, ..., 1.7461139e-10,\n",
       "        1.5341870e-09, 3.1657670e-11],\n",
       "       ...,\n",
       "       [3.8076937e-03, 1.6157297e-06, 6.6229441e-06, ..., 1.5495658e-06,\n",
       "        8.5407564e-06, 3.0552114e-06],\n",
       "       [1.3194382e-03, 1.6692168e-10, 3.1451508e-09, ..., 4.1883496e-14,\n",
       "        4.0008695e-17, 5.4479357e-14],\n",
       "       [1.3995171e-04, 4.6972501e-09, 6.7628605e-07, ..., 2.1551737e-16,\n",
       "        4.0634079e-10, 5.0259212e-15]], dtype=float32)"
      ]
     },
     "execution_count": 16,
     "metadata": {},
     "output_type": "execute_result"
    }
   ],
   "source": [
    "y_pred_val"
   ]
  },
  {
   "cell_type": "markdown",
   "id": "d0dffed5",
   "metadata": {},
   "source": [
    "## Translate predictions"
   ]
  },
  {
   "cell_type": "code",
   "execution_count": 17,
   "id": "3269450e",
   "metadata": {},
   "outputs": [],
   "source": [
    "import numpy as np\n",
    "\n",
    "data=y_pred_val\n",
    "NUMBER_OF_CATEGORIES = 4\n",
    "\n",
    "values=np.partition(data,-NUMBER_OF_CATEGORIES) #top n probability values for each row\n",
    "indices=np.argpartition(data,-NUMBER_OF_CATEGORIES) #top n probability values indices for each row"
   ]
  },
  {
   "cell_type": "code",
   "execution_count": 18,
   "id": "d8b2f658",
   "metadata": {},
   "outputs": [],
   "source": [
    "val=values[:,-NUMBER_OF_CATEGORIES:] # filter n first values for each row\n",
    "ind=indices[:,-NUMBER_OF_CATEGORIES:] # filter n first values indices for each row"
   ]
  },
  {
   "cell_type": "code",
   "execution_count": 19,
   "id": "46a7bea9",
   "metadata": {},
   "outputs": [],
   "source": [
    "dfPredictions=(pd.DataFrame(ind).applymap(lambda x:category_vocab[x])+\": \"+pd.DataFrame(np.round(val*100,2)).astype(str)+\" %\").reset_index()"
   ]
  },
  {
   "cell_type": "code",
   "execution_count": 20,
   "id": "90cd9496",
   "metadata": {},
   "outputs": [],
   "source": [
    "# make dictionary from validation dataframe to get code ande product_name\n",
    "dict_val=val_ds[['code','product_name']].to_dict()"
   ]
  },
  {
   "cell_type": "code",
   "execution_count": 21,
   "id": "0128801c",
   "metadata": {
    "scrolled": true
   },
   "outputs": [],
   "source": [
    "dfPredictions['product_name']=dfPredictions['index'].apply(lambda x:dict_val['product_name'][x])\n",
    "dfPredictions['code']=dfPredictions['index'].apply(lambda x:dict_val['code'][x])\n",
    "dfPredictions=dfPredictions.drop(columns=[\"index\"])"
   ]
  },
  {
   "cell_type": "code",
   "execution_count": 22,
   "id": "c603f80d",
   "metadata": {
    "scrolled": true
   },
   "outputs": [
    {
     "data": {
      "text/html": [
       "<div>\n",
       "<style scoped>\n",
       "    .dataframe tbody tr th:only-of-type {\n",
       "        vertical-align: middle;\n",
       "    }\n",
       "\n",
       "    .dataframe tbody tr th {\n",
       "        vertical-align: top;\n",
       "    }\n",
       "\n",
       "    .dataframe thead th {\n",
       "        text-align: right;\n",
       "    }\n",
       "</style>\n",
       "<table border=\"1\" class=\"dataframe\">\n",
       "  <thead>\n",
       "    <tr style=\"text-align: right;\">\n",
       "      <th></th>\n",
       "      <th>0</th>\n",
       "      <th>1</th>\n",
       "      <th>2</th>\n",
       "      <th>3</th>\n",
       "      <th>product_name</th>\n",
       "      <th>code</th>\n",
       "    </tr>\n",
       "  </thead>\n",
       "  <tbody>\n",
       "    <tr>\n",
       "      <th>0</th>\n",
       "      <td>en:groceries: 96.52 %</td>\n",
       "      <td>en:salts: 98.63 %</td>\n",
       "      <td>en:fleurs-de-sel: 97.92 %</td>\n",
       "      <td>en:unrefined-salts: 97.0 %</td>\n",
       "      <td>Fleur de sel</td>\n",
       "      <td>3183280018259</td>\n",
       "    </tr>\n",
       "    <tr>\n",
       "      <th>1</th>\n",
       "      <td>en:cereals-and-potatoes: 65.28 %</td>\n",
       "      <td>en:breakfast-cereals: 71.68 %</td>\n",
       "      <td>en:plant-based-foods: 85.16 %</td>\n",
       "      <td>en:plant-based-foods-and-beverages: 85.63 %</td>\n",
       "      <td>coco pops</td>\n",
       "      <td>8690504270591</td>\n",
       "    </tr>\n",
       "    <tr>\n",
       "      <th>2</th>\n",
       "      <td>en:plant-based-foods-and-beverages: 74.35 %</td>\n",
       "      <td>en:plant-based-beverages: 75.87 %</td>\n",
       "      <td>en:hot-beverages: 87.98 %</td>\n",
       "      <td>en:beverages: 97.96 %</td>\n",
       "      <td>Thé épicé Dreaming camomille, lavande &amp; valériane</td>\n",
       "      <td>8719179003652</td>\n",
       "    </tr>\n",
       "    <tr>\n",
       "      <th>3</th>\n",
       "      <td>en:plant-milks: 78.42 %</td>\n",
       "      <td>en:milk-substitute: 80.89 %</td>\n",
       "      <td>en:soy-milks: 86.2 %</td>\n",
       "      <td>en:legume-milks: 86.33 %</td>\n",
       "      <td>Soja Vanille Drink</td>\n",
       "      <td>4316268502504</td>\n",
       "    </tr>\n",
       "    <tr>\n",
       "      <th>4</th>\n",
       "      <td>en:confectioneries: 59.83 %</td>\n",
       "      <td>en:snacks: 94.23 %</td>\n",
       "      <td>en:sweet-snacks: 94.86 %</td>\n",
       "      <td>en:nougats: 97.1 %</td>\n",
       "      <td>Nougat au miel de Bretagne</td>\n",
       "      <td>3770011407224</td>\n",
       "    </tr>\n",
       "    <tr>\n",
       "      <th>...</th>\n",
       "      <td>...</td>\n",
       "      <td>...</td>\n",
       "      <td>...</td>\n",
       "      <td>...</td>\n",
       "      <td>...</td>\n",
       "      <td>...</td>\n",
       "    </tr>\n",
       "    <tr>\n",
       "      <th>87428</th>\n",
       "      <td>en:fermented-milk-products: 95.78 %</td>\n",
       "      <td>en:yogurts: 96.79 %</td>\n",
       "      <td>en:dairies: 98.91 %</td>\n",
       "      <td>en:fermented-foods: 97.39 %</td>\n",
       "      <td>Milk chocolate</td>\n",
       "      <td>0072431253607</td>\n",
       "    </tr>\n",
       "    <tr>\n",
       "      <th>87429</th>\n",
       "      <td>en:poultries: 91.34 %</td>\n",
       "      <td>en:duck-breasts: 95.89 %</td>\n",
       "      <td>en:ducks: 95.94 %</td>\n",
       "      <td>en:meats: 97.83 %</td>\n",
       "      <td>Yaourt framboise</td>\n",
       "      <td>3175241413616</td>\n",
       "    </tr>\n",
       "    <tr>\n",
       "      <th>87430</th>\n",
       "      <td>fr:charcuteries-diverses: 11.99 %</td>\n",
       "      <td>en:prepared-meats: 78.72 %</td>\n",
       "      <td>en:meats: 80.52 %</td>\n",
       "      <td>en:cured-sausages: 29.25 %</td>\n",
       "      <td>Magret de canard</td>\n",
       "      <td>2685323047758</td>\n",
       "    </tr>\n",
       "    <tr>\n",
       "      <th>87431</th>\n",
       "      <td>en:cheeses: 99.26 %</td>\n",
       "      <td>en:fermented-milk-products: 99.66 %</td>\n",
       "      <td>en:fermented-foods: 99.69 %</td>\n",
       "      <td>en:dairies: 99.88 %</td>\n",
       "      <td>La fine douce et équilibrée</td>\n",
       "      <td>3700133913709</td>\n",
       "    </tr>\n",
       "    <tr>\n",
       "      <th>87432</th>\n",
       "      <td>en:plant-based-foods-and-beverages: 95.01 %</td>\n",
       "      <td>en:peanuts: 95.5 %</td>\n",
       "      <td>en:nuts: 96.49 %</td>\n",
       "      <td>en:plant-based-foods: 97.94 %</td>\n",
       "      <td>Harzer Käse</td>\n",
       "      <td>4337256088275</td>\n",
       "    </tr>\n",
       "  </tbody>\n",
       "</table>\n",
       "<p>87433 rows × 6 columns</p>\n",
       "</div>"
      ],
      "text/plain": [
       "                                                 0  \\\n",
       "0                            en:groceries: 96.52 %   \n",
       "1                 en:cereals-and-potatoes: 65.28 %   \n",
       "2      en:plant-based-foods-and-beverages: 74.35 %   \n",
       "3                          en:plant-milks: 78.42 %   \n",
       "4                      en:confectioneries: 59.83 %   \n",
       "...                                            ...   \n",
       "87428          en:fermented-milk-products: 95.78 %   \n",
       "87429                        en:poultries: 91.34 %   \n",
       "87430            fr:charcuteries-diverses: 11.99 %   \n",
       "87431                          en:cheeses: 99.26 %   \n",
       "87432  en:plant-based-foods-and-beverages: 95.01 %   \n",
       "\n",
       "                                         1                              2  \\\n",
       "0                        en:salts: 98.63 %      en:fleurs-de-sel: 97.92 %   \n",
       "1            en:breakfast-cereals: 71.68 %  en:plant-based-foods: 85.16 %   \n",
       "2        en:plant-based-beverages: 75.87 %      en:hot-beverages: 87.98 %   \n",
       "3              en:milk-substitute: 80.89 %           en:soy-milks: 86.2 %   \n",
       "4                       en:snacks: 94.23 %       en:sweet-snacks: 94.86 %   \n",
       "...                                    ...                            ...   \n",
       "87428                  en:yogurts: 96.79 %            en:dairies: 98.91 %   \n",
       "87429             en:duck-breasts: 95.89 %              en:ducks: 95.94 %   \n",
       "87430           en:prepared-meats: 78.72 %              en:meats: 80.52 %   \n",
       "87431  en:fermented-milk-products: 99.66 %    en:fermented-foods: 99.69 %   \n",
       "87432                   en:peanuts: 95.5 %               en:nuts: 96.49 %   \n",
       "\n",
       "                                                 3  \\\n",
       "0                       en:unrefined-salts: 97.0 %   \n",
       "1      en:plant-based-foods-and-beverages: 85.63 %   \n",
       "2                            en:beverages: 97.96 %   \n",
       "3                         en:legume-milks: 86.33 %   \n",
       "4                               en:nougats: 97.1 %   \n",
       "...                                            ...   \n",
       "87428                  en:fermented-foods: 97.39 %   \n",
       "87429                            en:meats: 97.83 %   \n",
       "87430                   en:cured-sausages: 29.25 %   \n",
       "87431                          en:dairies: 99.88 %   \n",
       "87432                en:plant-based-foods: 97.94 %   \n",
       "\n",
       "                                            product_name           code  \n",
       "0                                           Fleur de sel  3183280018259  \n",
       "1                                              coco pops  8690504270591  \n",
       "2      Thé épicé Dreaming camomille, lavande & valériane  8719179003652  \n",
       "3                                     Soja Vanille Drink  4316268502504  \n",
       "4                             Nougat au miel de Bretagne  3770011407224  \n",
       "...                                                  ...            ...  \n",
       "87428                                     Milk chocolate  0072431253607  \n",
       "87429                                   Yaourt framboise  3175241413616  \n",
       "87430                                   Magret de canard  2685323047758  \n",
       "87431                        La fine douce et équilibrée  3700133913709  \n",
       "87432                                        Harzer Käse  4337256088275  \n",
       "\n",
       "[87433 rows x 6 columns]"
      ]
     },
     "execution_count": 22,
     "metadata": {},
     "output_type": "execute_result"
    }
   ],
   "source": [
    "dfPredictions"
   ]
  }
 ],
 "metadata": {
  "kernelspec": {
   "display_name": "Python 3 (ipykernel)",
   "language": "python",
   "name": "python3"
  },
  "language_info": {
   "codemirror_mode": {
    "name": "ipython",
    "version": 3
   },
   "file_extension": ".py",
   "mimetype": "text/x-python",
   "name": "python",
   "nbconvert_exporter": "python",
   "pygments_lexer": "ipython3",
   "version": "3.8.12"
  }
 },
 "nbformat": 4,
 "nbformat_minor": 5
}
