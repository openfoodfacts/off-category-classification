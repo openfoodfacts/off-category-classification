{
 "cells": [
  {
   "cell_type": "markdown",
   "id": "064e2d60",
   "metadata": {
    "id": "064e2d60"
   },
   "source": [
    "# INDEX\n",
    "* [Imports and functions](#Imports-and-functions)\n",
    "* [Configuration](#Configuration)\n",
    "* [Prepare dataset](#Prepare-dataset)\n",
    "* [Build model](#Build-model)\n",
    "    * [Model inputs](#Model-inputs)\n",
    "    * [Model output](#Model-output)\n",
    "    * [Model](#Model)\n",
    "* [Train model](#Train-model)\n",
    "    * [Save model and resources](#Save-model-and-resources)\n",
    "    * [Training stats](#Training-stats)\n",
    "* [Test model](#Test-model)\n",
    "    * [Predict with training model](#Predict-with-training-model)\n",
    "    * [Predict with serving model](#Predict-with-serving-model)"
   ]
  },
  {
   "cell_type": "code",
   "execution_count": 1,
   "id": "1010d9ca",
   "metadata": {
    "colab": {
     "base_uri": "https://localhost:8080/"
    },
    "id": "1010d9ca",
    "outputId": "04b785ef-7624-4e87-8823-39f74c3e4a25"
   },
   "outputs": [],
   "source": [
    "try:\n",
    "  import google.colab\n",
    "  IN_COLAB = True\n",
    "except:\n",
    "  IN_COLAB = False\n",
    "# eventual initialization for colab notebooks\n",
    "if IN_COLAB:\n",
    "  # we try hard to be re-entrant,\n",
    "  # that is to be able to rerun this without cloning repository more than once\n",
    "  COLAB_BRANCH = \"master\"\n",
    "  !curl https://raw.githubusercontent.com/openfoodfacts/off-category-classification/$COLAB_BRANCH/lib/colab.py --output /content/colab.py\n",
    "  !cd /content && python /content/colab.py $COLAB_BRANCH\n",
    "  %cd /content/off-category-classification/experiments"
   ]
  },
  {
   "cell_type": "code",
   "execution_count": 2,
   "id": "9bcfaa2d",
   "metadata": {
    "colab": {
     "base_uri": "https://localhost:8080/"
    },
    "id": "9bcfaa2d",
    "outputId": "1690c114-a942-48f6-8a42-1bfb75de6d92",
    "scrolled": true
   },
   "outputs": [
    {
     "name": "stderr",
     "output_type": "stream",
     "text": [
      "[codecarbon ERROR @ 21:08:47] Unable to read Intel RAPL files for CPU power, we will use a constant for your CPU power. Please view https://github.com/mlco2/codecarbon/issues/244 for workarounds : [Errno 13] Permission denied: '/sys/class/powercap/intel-rapl/intel-rapl:1/energy_uj'\n",
      "[codecarbon ERROR @ 21:08:47] Unable to read Intel RAPL files for CPU power, we will use a constant for your CPU power. Please view https://github.com/mlco2/codecarbon/issues/244 for workarounds : [Errno 13] Permission denied: '/sys/class/powercap/intel-rapl/intel-rapl:0/energy_uj'\n",
      "[codecarbon ERROR @ 21:08:48] Unable to read Intel RAPL files for CPU power, we will use a constant for your CPU power. Please view https://github.com/mlco2/codecarbon/issues/244 for workarounds : [Errno 13] Permission denied: '/sys/class/powercap/intel-rapl/intel-rapl:1/energy_uj'\n",
      "[codecarbon ERROR @ 21:08:48] Unable to read Intel RAPL files for CPU power, we will use a constant for your CPU power. Please view https://github.com/mlco2/codecarbon/issues/244 for workarounds : [Errno 13] Permission denied: '/sys/class/powercap/intel-rapl/intel-rapl:0/energy_uj'\n"
     ]
    }
   ],
   "source": [
    "# codecarbon - start tracking\n",
    "from codecarbon import EmissionsTracker\n",
    "\n",
    "tracker = EmissionsTracker(log_level = \"WARNING\", save_to_api = True, experiment_id = \"6d2c8401-afba-42de-9600-6e95bea5fd80\")\n",
    "tracker.start()"
   ]
  },
  {
   "cell_type": "markdown",
   "id": "d481d404",
   "metadata": {
    "id": "d481d404"
   },
   "source": [
    "# Imports"
   ]
  },
  {
   "cell_type": "code",
   "execution_count": 3,
   "id": "80c4f3c2",
   "metadata": {
    "id": "80c4f3c2"
   },
   "outputs": [],
   "source": [
    "import sys\n",
    "sys.path.append('../') #append a relative path to the top package to the search path"
   ]
  },
  {
   "cell_type": "code",
   "execution_count": 4,
   "id": "fda92a68",
   "metadata": {
    "id": "fda92a68"
   },
   "outputs": [],
   "source": [
    "import pathlib\n",
    "\n",
    "import matplotlib.pyplot as plt\n",
    "import pandas as pd\n",
    "import tensorflow as tf\n",
    "import tensorflow_addons as tfa\n",
    "import tensorflow_datasets as tfds\n",
    "from tensorflow.keras import callbacks, layers\n",
    "from tensorflow.keras.utils import plot_model\n",
    "\n",
    "from lib.dataset import *\n",
    "from lib.directories import init_cache_dir, init_model_dir\n",
    "from lib.io import load_model, save_model\n",
    "from lib.model import top_labeled_predictions, top_predictions_table\n",
    "from lib.plot import plot_training_stats"
   ]
  },
  {
   "cell_type": "markdown",
   "id": "b1bfc7ed",
   "metadata": {
    "id": "b1bfc7ed"
   },
   "source": [
    "# Configuration"
   ]
  },
  {
   "cell_type": "code",
   "execution_count": 5,
   "id": "a92c3dd7",
   "metadata": {
    "id": "a92c3dd7",
    "scrolled": true
   },
   "outputs": [],
   "source": [
    "MODEL_BASE_DIR = pathlib.Path('../model')\n",
    "CACHE_DIR = pathlib.Path('../tensorflow_cache')\n",
    "\n",
    "PREPROC_BATCH_SIZE = 10_000  # some large value, only affects execution time\n",
    "\n",
    "# splits are handled by `tfds.load`, see doc for more elaborate ways to sample\n",
    "TRAIN_SPLIT = 'train[0:80%]'\n",
    "VAL_SPLIT = 'train[80%:90%]'\n",
    "TEST_SPLIT = 'train[90%:]'\n",
    "MAX_EPOCHS = 50"
   ]
  },
  {
   "cell_type": "markdown",
   "id": "24785109",
   "metadata": {
    "id": "24785109"
   },
   "source": [
    "# Prepare dataset\n",
    "\n",
    "Run this once to fetch, build and cache the dataset.\n",
    "Further runs will be no-ops, unless you force operations (see TFDS doc).\n",
    "\n",
    "Once this is done, `load_dataset('off_categories', ...)` to access the dataset."
   ]
  },
  {
   "cell_type": "code",
   "execution_count": 6,
   "id": "cda1dad4",
   "metadata": {
    "id": "cda1dad4"
   },
   "outputs": [
    {
     "name": "stdout",
     "output_type": "stream",
     "text": [
      "\u001b[1mDownloading and preparing dataset Unknown size (download: Unknown size, generated: Unknown size, total: Unknown size) to /home/tf/tensorflow_datasets/off_categories/2.0.0...\u001b[0m\n"
     ]
    },
    {
     "data": {
      "application/vnd.jupyter.widget-view+json": {
       "model_id": "e65927ee17264e84b0709584a46fa0c8",
       "version_major": 2,
       "version_minor": 0
      },
      "text/plain": [
       "Dl Completed...: 0 url [00:00, ? url/s]"
      ]
     },
     "metadata": {},
     "output_type": "display_data"
    },
    {
     "data": {
      "application/vnd.jupyter.widget-view+json": {
       "model_id": "1b9c8dc5ea7a4b50b94352f361c8b656",
       "version_major": 2,
       "version_minor": 0
      },
      "text/plain": [
       "Dl Size...: 0 MiB [00:00, ? MiB/s]"
      ]
     },
     "metadata": {},
     "output_type": "display_data"
    },
    {
     "data": {
      "application/vnd.jupyter.widget-view+json": {
       "model_id": "",
       "version_major": 2,
       "version_minor": 0
      },
      "text/plain": [
       "Generating splits...:   0%|          | 0/1 [00:00<?, ? splits/s]"
      ]
     },
     "metadata": {},
     "output_type": "display_data"
    },
    {
     "data": {
      "application/vnd.jupyter.widget-view+json": {
       "model_id": "",
       "version_major": 2,
       "version_minor": 0
      },
      "text/plain": [
       "Generating train examples...: 0 examples [00:00, ? examples/s]"
      ]
     },
     "metadata": {},
     "output_type": "display_data"
    },
    {
     "data": {
      "application/vnd.jupyter.widget-view+json": {
       "model_id": "",
       "version_major": 2,
       "version_minor": 0
      },
      "text/plain": [
       "Shuffling /home/tf/tensorflow_datasets/off_categories/2.0.0.incompleteGZZB0F/off_categories-train.tfrecord*...…"
      ]
     },
     "metadata": {},
     "output_type": "display_data"
    },
    {
     "name": "stdout",
     "output_type": "stream",
     "text": [
      "\u001b[1mDataset off_categories downloaded and prepared to /home/tf/tensorflow_datasets/off_categories/2.0.0. Subsequent calls will reuse this data.\u001b[0m\n"
     ]
    }
   ],
   "source": [
    "import datasets.off_categories\n",
    "\n",
    "builder = tfds.builder('off_categories')\n",
    "builder.download_and_prepare()\n",
    "\n",
    "# Or run via command line (if `tfds` is in the path):\n",
    "# !cd ../datasets && tfds build off_categories"
   ]
  },
  {
   "cell_type": "markdown",
   "id": "eb92b58e",
   "metadata": {
    "id": "eb92b58e"
   },
   "source": [
    "# Build model"
   ]
  },
  {
   "cell_type": "code",
   "execution_count": 7,
   "id": "2ee58091",
   "metadata": {
    "id": "2ee58091"
   },
   "outputs": [],
   "source": [
    "tf.random.set_seed(42)"
   ]
  },
  {
   "cell_type": "markdown",
   "id": "0tuxWcGd9S4o",
   "metadata": {
    "id": "0tuxWcGd9S4o"
   },
   "source": [
    "# Taxonomy information"
   ]
  },
  {
   "cell_type": "code",
   "execution_count": 8,
   "id": "_xyNEEVDDROO",
   "metadata": {
    "colab": {
     "base_uri": "https://localhost:8080/"
    },
    "id": "_xyNEEVDDROO",
    "outputId": "11f97012-b462-402c-822e-bd7b1794e64b"
   },
   "outputs": [
    {
     "name": "stdout",
     "output_type": "stream",
     "text": [
      "category_taxonomy.json\r\n"
     ]
    }
   ],
   "source": [
    "import json\n",
    "from lib.taxonomy_mask import Taxonomy\n",
    "! ls category_taxonomy.json || wget https://github.com/openfoodfacts/robotoff-models/releases/download/keras-category-classifier-xx-2.0/category_taxonomy.json\n",
    "\n",
    "taxo = Taxonomy.from_data(json.load(open('category_taxonomy.json')))"
   ]
  },
  {
   "cell_type": "markdown",
   "id": "993bb1d8",
   "metadata": {
    "id": "993bb1d8"
   },
   "source": [
    "## Model inputs"
   ]
  },
  {
   "cell_type": "code",
   "execution_count": 9,
   "id": "531185de",
   "metadata": {
    "id": "531185de"
   },
   "outputs": [],
   "source": [
    "# we use dicts so rerunning individual model cells is idempotent\n",
    "inputs = {}\n",
    "input_graphs = {}"
   ]
  },
  {
   "cell_type": "code",
   "execution_count": 10,
   "id": "8353a5f1",
   "metadata": {
    "id": "8353a5f1"
   },
   "outputs": [],
   "source": [
    "ds = load_dataset('off_categories', split=TRAIN_SPLIT)"
   ]
  },
  {
   "cell_type": "code",
   "execution_count": 11,
   "id": "c61fec40",
   "metadata": {
    "colab": {
     "base_uri": "https://localhost:8080/"
    },
    "id": "c61fec40",
    "outputId": "d0abf2ee-a9ff-459b-9450-6c8682f2b187"
   },
   "outputs": [
    {
     "name": "stdout",
     "output_type": "stream",
     "text": [
      "CPU times: user 45.1 s, sys: 14.1 s, total: 59.2 s\n",
      "Wall time: 11 s\n"
     ]
    },
    {
     "data": {
      "text/plain": [
       "93000"
      ]
     },
     "execution_count": 11,
     "metadata": {},
     "output_type": "execute_result"
    }
   ],
   "source": [
    "%%time\n",
    "\n",
    "feature_name = 'product_name'\n",
    "\n",
    "product_name_input = tf.keras.Input(shape=(1,), dtype=tf.string, name=feature_name)\n",
    "\n",
    "product_name_vectorizer = layers.TextVectorization(\n",
    "    split = 'whitespace',\n",
    "    max_tokens = 93_000,\n",
    "    output_sequence_length = 30)\n",
    "\n",
    "product_name_vectorizer.adapt(\n",
    "    select_feature(ds, feature_name).batch(PREPROC_BATCH_SIZE))\n",
    "\n",
    "x = product_name_vectorizer(product_name_input)\n",
    "\n",
    "x = layers.Embedding(\n",
    "    input_dim = product_name_vectorizer.vocabulary_size(),\n",
    "    output_dim = 64,\n",
    "    mask_zero = False)(x)\n",
    "\n",
    "product_name_graph = layers.Bidirectional(layers.LSTM(\n",
    "    units = 64,\n",
    "    recurrent_dropout = 0.2,\n",
    "    dropout = 0.0))(x)\n",
    "\n",
    "inputs[feature_name] = product_name_input\n",
    "input_graphs[feature_name] = product_name_graph\n",
    "\n",
    "len(product_name_vectorizer.get_vocabulary())"
   ]
  },
  {
   "cell_type": "code",
   "execution_count": 12,
   "id": "bdb0a17d",
   "metadata": {
    "colab": {
     "base_uri": "https://localhost:8080/"
    },
    "id": "bdb0a17d",
    "outputId": "ef5a007d-9a62-44df-e9f6-4fd1a0ae8611"
   },
   "outputs": [
    {
     "name": "stdout",
     "output_type": "stream",
     "text": [
      "CPU times: user 1min 1s, sys: 19.3 s, total: 1min 20s\n",
      "Wall time: 12.9 s\n"
     ]
    },
    {
     "data": {
      "text/plain": [
       "5000"
      ]
     },
     "execution_count": 12,
     "metadata": {},
     "output_type": "execute_result"
    }
   ],
   "source": [
    "%%time\n",
    "\n",
    "feature_name = 'ingredients_tags'\n",
    "\n",
    "ingredients_input = tf.keras.Input(shape=(None,), dtype=tf.string, name=feature_name)\n",
    "\n",
    "ingredients_vocab = get_vocabulary(\n",
    "    flat_batch(select_feature(ds, feature_name), batch_size=PREPROC_BATCH_SIZE),\n",
    "    min_freq = 3,\n",
    "    max_tokens = 5_000)\n",
    "\n",
    "ingredients_graph = layers.StringLookup(\n",
    "    vocabulary = ingredients_vocab,\n",
    "    output_mode = 'multi_hot')(ingredients_input)\n",
    "\n",
    "inputs[feature_name] = ingredients_input\n",
    "input_graphs[feature_name] = ingredients_graph\n",
    "\n",
    "len(ingredients_vocab)"
   ]
  },
  {
   "cell_type": "markdown",
   "id": "db8a30f1",
   "metadata": {
    "id": "db8a30f1"
   },
   "source": [
    "## Model output"
   ]
  },
  {
   "cell_type": "code",
   "execution_count": 13,
   "id": "1d3426e3",
   "metadata": {
    "colab": {
     "base_uri": "https://localhost:8080/"
    },
    "id": "1d3426e3",
    "outputId": "44a812c9-7989-4e97-ab16-356a705098a6"
   },
   "outputs": [
    {
     "name": "stdout",
     "output_type": "stream",
     "text": [
      "CPU times: user 59.5 s, sys: 19.1 s, total: 1min 18s\n",
      "Wall time: 12.6 s\n"
     ]
    },
    {
     "data": {
      "text/plain": [
       "5205"
      ]
     },
     "execution_count": 13,
     "metadata": {},
     "output_type": "execute_result"
    }
   ],
   "source": [
    "%%time\n",
    "\n",
    "labels = 'categories_tags'\n",
    "\n",
    "categories_vocab = get_vocabulary(\n",
    "    flat_batch(select_feature(ds, labels), batch_size=PREPROC_BATCH_SIZE),\n",
    "    min_freq = 10)\n",
    "\n",
    "# StringLookup(output_mode='multi_hot') mode requires num_oov_indices >= 1.\n",
    "# We don't want OOVs in the categories_tags output layer, since it wouldn't make\n",
    "# sense to predict OOV. So we'll drop the OOV in _transform below.\n",
    "# Be careful when using StringLookup methods, some of them will return values\n",
    "# based on a vocabulary with OOV (e.g. vocabulary_size()). Keep this in mind when\n",
    "# mapping predictions back to the original vocabulary.\n",
    "categories_multihot = layers.StringLookup(\n",
    "    vocabulary = categories_vocab,\n",
    "    output_mode = 'multi_hot',\n",
    "    num_oov_indices = 1)\n",
    "\n",
    "len(categories_vocab)"
   ]
  },
  {
   "cell_type": "markdown",
   "id": "5d3c2786",
   "metadata": {
    "id": "5d3c2786"
   },
   "source": [
    "## Model"
   ]
  },
  {
   "cell_type": "code",
   "execution_count": 14,
   "id": "e4fbb129",
   "metadata": {},
   "outputs": [],
   "source": [
    "# a specific model that do not penalize on certain categories\n",
    "from lib.taxonomy_mask import MaskingModel"
   ]
  },
  {
   "cell_type": "code",
   "execution_count": 57,
   "id": "8b498ee3",
   "metadata": {
    "id": "8b498ee3"
   },
   "outputs": [],
   "source": [
    "# ensure final order is independent of cell execution/insertion order\n",
    "features = sorted(inputs.keys())\n",
    "\n",
    "x = layers.Concatenate()([input_graphs[k] for k in features])\n",
    "x = layers.Dropout(0.2)(x)\n",
    "x = layers.Dense(64)(x)\n",
    "x = layers.Dropout(0.2)(x)\n",
    "x = layers.Activation('relu')(x)\n",
    "output = layers.Dense(len(categories_vocab), activation='sigmoid')(x)\n",
    "\n",
    "model = MaskingModel(inputs=[inputs[k] for k in features], outputs=[output])\n",
    "\n",
    "threshold = 0.5\n",
    "num_labels = len(categories_vocab)\n",
    "\n",
    "model.compile(\n",
    "    optimizer=tf.keras.optimizers.Adam(learning_rate=0.001),\n",
    "    loss=tf.keras.losses.BinaryCrossentropy(label_smoothing=0.0),\n",
    "    metrics=[\n",
    "        tf.metrics.Precision(thresholds=threshold, name='precision'),\n",
    "        tf.metrics.Recall(thresholds=threshold, name='recall'),\n",
    "        tfa.metrics.F1Score(average='micro', threshold=threshold, num_classes=num_labels, name='f1_score_micro'),\n",
    "        tfa.metrics.F1Score(average='macro', threshold=threshold, num_classes=num_labels, name='f1_score_macro'),\n",
    "    ]\n",
    ")"
   ]
  },
  {
   "cell_type": "code",
   "execution_count": 58,
   "id": "a5df8ca2",
   "metadata": {
    "colab": {
     "base_uri": "https://localhost:8080/"
    },
    "id": "a5df8ca2",
    "outputId": "8a0ce0c4-b193-495f-a189-1b0e4c523f67"
   },
   "outputs": [
    {
     "name": "stdout",
     "output_type": "stream",
     "text": [
      "Model: \"masking_model_2\"\n",
      "__________________________________________________________________________________________________\n",
      " Layer (type)                   Output Shape         Param #     Connected to                     \n",
      "==================================================================================================\n",
      " product_name (InputLayer)      [(None, 1)]          0           []                               \n",
      "                                                                                                  \n",
      " text_vectorization (TextVector  (None, 30)          0           ['product_name[0][0]']           \n",
      " ization)                                                                                         \n",
      "                                                                                                  \n",
      " ingredients_tags (InputLayer)  [(None, None)]       0           []                               \n",
      "                                                                                                  \n",
      " embedding (Embedding)          (None, 30, 64)       5952000     ['text_vectorization[0][0]']     \n",
      "                                                                                                  \n",
      " string_lookup_1 (StringLookup)  (None, 5001)        0           ['ingredients_tags[0][0]']       \n",
      "                                                                                                  \n",
      " bidirectional (Bidirectional)  (None, 128)          66048       ['embedding[0][0]']              \n",
      "                                                                                                  \n",
      " concatenate_2 (Concatenate)    (None, 5129)         0           ['string_lookup_1[0][0]',        \n",
      "                                                                  'bidirectional[0][0]']          \n",
      "                                                                                                  \n",
      " dropout_4 (Dropout)            (None, 5129)         0           ['concatenate_2[0][0]']          \n",
      "                                                                                                  \n",
      " dense_4 (Dense)                (None, 64)           328320      ['dropout_4[0][0]']              \n",
      "                                                                                                  \n",
      " dropout_5 (Dropout)            (None, 64)           0           ['dense_4[0][0]']                \n",
      "                                                                                                  \n",
      " activation_2 (Activation)      (None, 64)           0           ['dropout_5[0][0]']              \n",
      "                                                                                                  \n",
      " dense_5 (Dense)                (None, 5205)         338325      ['activation_2[0][0]']           \n",
      "                                                                                                  \n",
      "==================================================================================================\n",
      "Total params: 6,684,693\n",
      "Trainable params: 6,684,693\n",
      "Non-trainable params: 0\n",
      "__________________________________________________________________________________________________\n"
     ]
    }
   ],
   "source": [
    "model.summary()"
   ]
  },
  {
   "cell_type": "code",
   "execution_count": 59,
   "id": "cec2d376",
   "metadata": {
    "colab": {
     "base_uri": "https://localhost:8080/",
     "height": 1000
    },
    "id": "cec2d376",
    "outputId": "70a6f648-0f87-4855-9f8d-fb2643e326cc"
   },
   "outputs": [
    {
     "name": "stdout",
     "output_type": "stream",
     "text": [
      "You must install pydot (`pip install pydot`) and install graphviz (see instructions at https://graphviz.gitlab.io/download/) for plot_model/model_to_dot to work.\n"
     ]
    }
   ],
   "source": [
    "plot_model(model, show_shapes=True, show_layer_names=True)"
   ]
  },
  {
   "cell_type": "markdown",
   "id": "1d3f44b0",
   "metadata": {
    "id": "1d3f44b0"
   },
   "source": [
    "# Train model"
   ]
  },
  {
   "cell_type": "code",
   "execution_count": 18,
   "id": "0eba1f99",
   "metadata": {},
   "outputs": [],
   "source": [
    "# helpers to add features and encode\n",
    "from lib.taxonomy_mask import TaxonomyTransformer, binarize_compat \n",
    "\n",
    "add_compatible_categories = TaxonomyTransformer(taxo).add_compatible_categories"
   ]
  },
  {
   "cell_type": "code",
   "execution_count": 19,
   "id": "3b5f1b67",
   "metadata": {},
   "outputs": [],
   "source": [
    "def categories_encode(ds: tf.data.Dataset):\n",
    "    \"\"\"encode categories\n",
    "\n",
    "    - as multi-hot for y\n",
    "    - as a mask for \"compat\" feature\n",
    "    \"\"\"\n",
    "    @tf.function\n",
    "    @tf.autograph.experimental.do_not_convert\n",
    "    def _transform(x, y):\n",
    "        y = categories_multihot(y)\n",
    "        y = y[1:]  # drop OOV\n",
    "        # we also binarize compatibility feature\n",
    "        x = binarize_compat(x, categories_multihot, \"compat\")\n",
    "        return (x, y)\n",
    "\n",
    "    # applies to non-batched dataset\n",
    "    return (\n",
    "        ds\n",
    "        .map(_transform, num_parallel_calls=tf.data.AUTOTUNE, deterministic=True)\n",
    "        .apply(filter_empty_labels)\n",
    "    )"
   ]
  },
  {
   "cell_type": "code",
   "execution_count": 20,
   "id": "329a9701",
   "metadata": {},
   "outputs": [
    {
     "name": "stdout",
     "output_type": "stream",
     "text": [
      "Model directory: ../model.20220826-211453\n",
      "Cache directory: ../tensorflow_cache\n"
     ]
    }
   ],
   "source": [
    "# Remember to clean obsolete dirs once in a while\n",
    "MODEL_DIR = init_model_dir(MODEL_BASE_DIR)\n",
    "CACHE_DIR = init_cache_dir(CACHE_DIR)\n",
    "\n",
    "batch_size = 128\n",
    "\n",
    "ds_train = (\n",
    "    load_dataset('off_categories', split=TRAIN_SPLIT, features=features, as_supervised=True)\n",
    "    .apply(add_compatible_categories)\n",
    "    .apply(categories_encode)\n",
    "    .padded_batch(batch_size)\n",
    "    .cache(str(CACHE_DIR / 'train'))\n",
    ")\n",
    "\n",
    "ds_val = (\n",
    "    load_dataset('off_categories', split=VAL_SPLIT, features=features, as_supervised=True)\n",
    "    .apply(add_compatible_categories)\n",
    "    .apply(categories_encode)\n",
    "    .padded_batch(batch_size)\n",
    "    .cache(str(CACHE_DIR / 'val'))\n",
    ")"
   ]
  },
  {
   "cell_type": "code",
   "execution_count": 60,
   "id": "53441242",
   "metadata": {
    "id": "53441242",
    "outputId": "d2b3fe88-e435-4ffd-bf39-e2235721d4ff"
   },
   "outputs": [
    {
     "name": "stdout",
     "output_type": "stream",
     "text": [
      "Epoch 1/50\n"
     ]
    },
    {
     "name": "stderr",
     "output_type": "stream",
     "text": [
      "/usr/local/lib/python3.8/dist-packages/keras/engine/functional.py:559: UserWarning: Input dict contained keys ['compat'] which did not match any model input. They will be ignored by the model.\n",
      "  inputs = self._flatten_to_reference_inputs(inputs)\n"
     ]
    },
    {
     "name": "stdout",
     "output_type": "stream",
     "text": [
      "   5250/Unknown - 689s 130ms/step - loss: 0.0072 - precision: 0.3446 - recall: 0.2476 - f1_score_micro: 0.2881 - f1_score_macro: 0.0090INFO:tensorflow:Assets written to: ../model.20220826-211453/weights.01-0.0018/assets\n"
     ]
    },
    {
     "name": "stderr",
     "output_type": "stream",
     "text": [
      "INFO:tensorflow:Assets written to: ../model.20220826-211453/weights.01-0.0018/assets\n",
      "WARNING:absl:<keras.layers.recurrent.LSTMCell object at 0x7f874f398b20> has the same name 'LSTMCell' as a built-in Keras object. Consider renaming <class 'keras.layers.recurrent.LSTMCell'> to avoid naming conflicts when loading with `tf.keras.models.load_model`. If renaming is not possible, pass the object in the `custom_objects` parameter of the load function.\n",
      "WARNING:absl:<keras.layers.recurrent.LSTMCell object at 0x7f874f3b8c10> has the same name 'LSTMCell' as a built-in Keras object. Consider renaming <class 'keras.layers.recurrent.LSTMCell'> to avoid naming conflicts when loading with `tf.keras.models.load_model`. If renaming is not possible, pass the object in the `custom_objects` parameter of the load function.\n"
     ]
    },
    {
     "name": "stdout",
     "output_type": "stream",
     "text": [
      "5250/5250 [==============================] - 717s 136ms/step - loss: 0.0072 - precision: 0.3446 - recall: 0.2476 - f1_score_micro: 0.2881 - f1_score_macro: 0.0090 - val_loss: 0.0018 - val_precision: 0.8529 - val_recall: 0.5619 - val_f1_score_micro: 0.6774 - val_f1_score_macro: 0.0275\n",
      "Epoch 2/50\n",
      "5250/5250 [==============================] - ETA: 0s - loss: 0.0015 - precision: 0.8188 - recall: 0.6585 - f1_score_micro: 0.7300 - f1_score_macro: 0.0802INFO:tensorflow:Assets written to: ../model.20220826-211453/weights.02-0.0013/assets\n"
     ]
    },
    {
     "name": "stderr",
     "output_type": "stream",
     "text": [
      "INFO:tensorflow:Assets written to: ../model.20220826-211453/weights.02-0.0013/assets\n",
      "WARNING:absl:<keras.layers.recurrent.LSTMCell object at 0x7f874f398b20> has the same name 'LSTMCell' as a built-in Keras object. Consider renaming <class 'keras.layers.recurrent.LSTMCell'> to avoid naming conflicts when loading with `tf.keras.models.load_model`. If renaming is not possible, pass the object in the `custom_objects` parameter of the load function.\n",
      "WARNING:absl:<keras.layers.recurrent.LSTMCell object at 0x7f874f3b8c10> has the same name 'LSTMCell' as a built-in Keras object. Consider renaming <class 'keras.layers.recurrent.LSTMCell'> to avoid naming conflicts when loading with `tf.keras.models.load_model`. If renaming is not possible, pass the object in the `custom_objects` parameter of the load function.\n"
     ]
    },
    {
     "name": "stdout",
     "output_type": "stream",
     "text": [
      "5250/5250 [==============================] - 680s 129ms/step - loss: 0.0015 - precision: 0.8188 - recall: 0.6585 - f1_score_micro: 0.7300 - f1_score_macro: 0.0802 - val_loss: 0.0013 - val_precision: 0.8236 - val_recall: 0.7192 - val_f1_score_micro: 0.7679 - val_f1_score_macro: 0.1245\n",
      "Epoch 3/50\n",
      "5250/5250 [==============================] - ETA: 0s - loss: 0.0012 - precision: 0.8125 - recall: 0.7336 - f1_score_micro: 0.7711 - f1_score_macro: 0.1579INFO:tensorflow:Assets written to: ../model.20220826-211453/weights.03-0.0012/assets\n"
     ]
    },
    {
     "name": "stderr",
     "output_type": "stream",
     "text": [
      "INFO:tensorflow:Assets written to: ../model.20220826-211453/weights.03-0.0012/assets\n",
      "WARNING:absl:<keras.layers.recurrent.LSTMCell object at 0x7f874f398b20> has the same name 'LSTMCell' as a built-in Keras object. Consider renaming <class 'keras.layers.recurrent.LSTMCell'> to avoid naming conflicts when loading with `tf.keras.models.load_model`. If renaming is not possible, pass the object in the `custom_objects` parameter of the load function.\n",
      "WARNING:absl:<keras.layers.recurrent.LSTMCell object at 0x7f874f3b8c10> has the same name 'LSTMCell' as a built-in Keras object. Consider renaming <class 'keras.layers.recurrent.LSTMCell'> to avoid naming conflicts when loading with `tf.keras.models.load_model`. If renaming is not possible, pass the object in the `custom_objects` parameter of the load function.\n"
     ]
    },
    {
     "name": "stdout",
     "output_type": "stream",
     "text": [
      "5250/5250 [==============================] - 677s 129ms/step - loss: 0.0012 - precision: 0.8125 - recall: 0.7336 - f1_score_micro: 0.7711 - f1_score_macro: 0.1579 - val_loss: 0.0012 - val_precision: 0.8173 - val_recall: 0.7463 - val_f1_score_micro: 0.7802 - val_f1_score_macro: 0.1950\n",
      "Epoch 4/50\n",
      "5250/5250 [==============================] - ETA: 0s - loss: 0.0011 - precision: 0.8104 - recall: 0.7540 - f1_score_micro: 0.7812 - f1_score_macro: 0.2050INFO:tensorflow:Assets written to: ../model.20220826-211453/weights.04-0.0011/assets\n"
     ]
    },
    {
     "name": "stderr",
     "output_type": "stream",
     "text": [
      "INFO:tensorflow:Assets written to: ../model.20220826-211453/weights.04-0.0011/assets\n",
      "WARNING:absl:<keras.layers.recurrent.LSTMCell object at 0x7f874f398b20> has the same name 'LSTMCell' as a built-in Keras object. Consider renaming <class 'keras.layers.recurrent.LSTMCell'> to avoid naming conflicts when loading with `tf.keras.models.load_model`. If renaming is not possible, pass the object in the `custom_objects` parameter of the load function.\n",
      "WARNING:absl:<keras.layers.recurrent.LSTMCell object at 0x7f874f3b8c10> has the same name 'LSTMCell' as a built-in Keras object. Consider renaming <class 'keras.layers.recurrent.LSTMCell'> to avoid naming conflicts when loading with `tf.keras.models.load_model`. If renaming is not possible, pass the object in the `custom_objects` parameter of the load function.\n"
     ]
    },
    {
     "name": "stdout",
     "output_type": "stream",
     "text": [
      "5250/5250 [==============================] - 668s 127ms/step - loss: 0.0011 - precision: 0.8104 - recall: 0.7540 - f1_score_micro: 0.7812 - f1_score_macro: 0.2050 - val_loss: 0.0011 - val_precision: 0.8104 - val_recall: 0.7613 - val_f1_score_micro: 0.7851 - val_f1_score_macro: 0.2344\n",
      "Epoch 5/50\n",
      "5250/5250 [==============================] - ETA: 0s - loss: 0.0010 - precision: 0.8100 - recall: 0.7650 - f1_score_micro: 0.7869 - f1_score_macro: 0.2334INFO:tensorflow:Assets written to: ../model.20220826-211453/weights.05-0.0011/assets\n"
     ]
    },
    {
     "name": "stderr",
     "output_type": "stream",
     "text": [
      "INFO:tensorflow:Assets written to: ../model.20220826-211453/weights.05-0.0011/assets\n",
      "WARNING:absl:<keras.layers.recurrent.LSTMCell object at 0x7f874f398b20> has the same name 'LSTMCell' as a built-in Keras object. Consider renaming <class 'keras.layers.recurrent.LSTMCell'> to avoid naming conflicts when loading with `tf.keras.models.load_model`. If renaming is not possible, pass the object in the `custom_objects` parameter of the load function.\n",
      "WARNING:absl:<keras.layers.recurrent.LSTMCell object at 0x7f874f3b8c10> has the same name 'LSTMCell' as a built-in Keras object. Consider renaming <class 'keras.layers.recurrent.LSTMCell'> to avoid naming conflicts when loading with `tf.keras.models.load_model`. If renaming is not possible, pass the object in the `custom_objects` parameter of the load function.\n"
     ]
    },
    {
     "name": "stdout",
     "output_type": "stream",
     "text": [
      "5250/5250 [==============================] - 873s 166ms/step - loss: 0.0010 - precision: 0.8100 - recall: 0.7650 - f1_score_micro: 0.7869 - f1_score_macro: 0.2334 - val_loss: 0.0011 - val_precision: 0.8130 - val_recall: 0.7631 - val_f1_score_micro: 0.7873 - val_f1_score_macro: 0.2584\n",
      "Epoch 6/50\n",
      "5250/5250 [==============================] - ETA: 0s - loss: 0.0010 - precision: 0.8097 - recall: 0.7715 - f1_score_micro: 0.7902 - f1_score_macro: 0.2554INFO:tensorflow:Assets written to: ../model.20220826-211453/weights.06-0.0011/assets\n"
     ]
    },
    {
     "name": "stderr",
     "output_type": "stream",
     "text": [
      "INFO:tensorflow:Assets written to: ../model.20220826-211453/weights.06-0.0011/assets\n",
      "WARNING:absl:<keras.layers.recurrent.LSTMCell object at 0x7f874f398b20> has the same name 'LSTMCell' as a built-in Keras object. Consider renaming <class 'keras.layers.recurrent.LSTMCell'> to avoid naming conflicts when loading with `tf.keras.models.load_model`. If renaming is not possible, pass the object in the `custom_objects` parameter of the load function.\n",
      "WARNING:absl:<keras.layers.recurrent.LSTMCell object at 0x7f874f3b8c10> has the same name 'LSTMCell' as a built-in Keras object. Consider renaming <class 'keras.layers.recurrent.LSTMCell'> to avoid naming conflicts when loading with `tf.keras.models.load_model`. If renaming is not possible, pass the object in the `custom_objects` parameter of the load function.\n"
     ]
    },
    {
     "name": "stdout",
     "output_type": "stream",
     "text": [
      "5250/5250 [==============================] - 26205s 5s/step - loss: 0.0010 - precision: 0.8097 - recall: 0.7715 - f1_score_micro: 0.7902 - f1_score_macro: 0.2554 - val_loss: 0.0011 - val_precision: 0.8117 - val_recall: 0.7694 - val_f1_score_micro: 0.7900 - val_f1_score_macro: 0.2736\n",
      "Epoch 7/50\n",
      "5250/5250 [==============================] - ETA: 0s - loss: 9.9267e-04 - precision: 0.8100 - recall: 0.7771 - f1_score_micro: 0.7932 - f1_score_macro: 0.2684INFO:tensorflow:Assets written to: ../model.20220826-211453/weights.07-0.0011/assets\n"
     ]
    },
    {
     "name": "stderr",
     "output_type": "stream",
     "text": [
      "INFO:tensorflow:Assets written to: ../model.20220826-211453/weights.07-0.0011/assets\n",
      "WARNING:absl:<keras.layers.recurrent.LSTMCell object at 0x7f874f398b20> has the same name 'LSTMCell' as a built-in Keras object. Consider renaming <class 'keras.layers.recurrent.LSTMCell'> to avoid naming conflicts when loading with `tf.keras.models.load_model`. If renaming is not possible, pass the object in the `custom_objects` parameter of the load function.\n",
      "WARNING:absl:<keras.layers.recurrent.LSTMCell object at 0x7f874f3b8c10> has the same name 'LSTMCell' as a built-in Keras object. Consider renaming <class 'keras.layers.recurrent.LSTMCell'> to avoid naming conflicts when loading with `tf.keras.models.load_model`. If renaming is not possible, pass the object in the `custom_objects` parameter of the load function.\n"
     ]
    },
    {
     "name": "stdout",
     "output_type": "stream",
     "text": [
      "5250/5250 [==============================] - 694s 132ms/step - loss: 9.9267e-04 - precision: 0.8100 - recall: 0.7771 - f1_score_micro: 0.7932 - f1_score_macro: 0.2684 - val_loss: 0.0011 - val_precision: 0.8103 - val_recall: 0.7723 - val_f1_score_micro: 0.7908 - val_f1_score_macro: 0.2889\n",
      "Epoch 8/50\n",
      "5250/5250 [==============================] - ETA: 0s - loss: 9.7441e-04 - precision: 0.8099 - recall: 0.7816 - f1_score_micro: 0.7955 - f1_score_macro: 0.2829INFO:tensorflow:Assets written to: ../model.20220826-211453/weights.08-0.0011/assets\n"
     ]
    },
    {
     "name": "stderr",
     "output_type": "stream",
     "text": [
      "INFO:tensorflow:Assets written to: ../model.20220826-211453/weights.08-0.0011/assets\n",
      "WARNING:absl:<keras.layers.recurrent.LSTMCell object at 0x7f874f398b20> has the same name 'LSTMCell' as a built-in Keras object. Consider renaming <class 'keras.layers.recurrent.LSTMCell'> to avoid naming conflicts when loading with `tf.keras.models.load_model`. If renaming is not possible, pass the object in the `custom_objects` parameter of the load function.\n",
      "WARNING:absl:<keras.layers.recurrent.LSTMCell object at 0x7f874f3b8c10> has the same name 'LSTMCell' as a built-in Keras object. Consider renaming <class 'keras.layers.recurrent.LSTMCell'> to avoid naming conflicts when loading with `tf.keras.models.load_model`. If renaming is not possible, pass the object in the `custom_objects` parameter of the load function.\n"
     ]
    },
    {
     "name": "stdout",
     "output_type": "stream",
     "text": [
      "5250/5250 [==============================] - 675s 129ms/step - loss: 9.7441e-04 - precision: 0.8099 - recall: 0.7816 - f1_score_micro: 0.7955 - f1_score_macro: 0.2829 - val_loss: 0.0011 - val_precision: 0.8109 - val_recall: 0.7740 - val_f1_score_micro: 0.7921 - val_f1_score_macro: 0.2979\n",
      "Epoch 9/50\n",
      "5250/5250 [==============================] - ETA: 0s - loss: 9.5997e-04 - precision: 0.8104 - recall: 0.7849 - f1_score_micro: 0.7974 - f1_score_macro: 0.2938INFO:tensorflow:Assets written to: ../model.20220826-211453/weights.09-0.0011/assets\n"
     ]
    },
    {
     "name": "stderr",
     "output_type": "stream",
     "text": [
      "INFO:tensorflow:Assets written to: ../model.20220826-211453/weights.09-0.0011/assets\n",
      "WARNING:absl:<keras.layers.recurrent.LSTMCell object at 0x7f874f398b20> has the same name 'LSTMCell' as a built-in Keras object. Consider renaming <class 'keras.layers.recurrent.LSTMCell'> to avoid naming conflicts when loading with `tf.keras.models.load_model`. If renaming is not possible, pass the object in the `custom_objects` parameter of the load function.\n",
      "WARNING:absl:<keras.layers.recurrent.LSTMCell object at 0x7f874f3b8c10> has the same name 'LSTMCell' as a built-in Keras object. Consider renaming <class 'keras.layers.recurrent.LSTMCell'> to avoid naming conflicts when loading with `tf.keras.models.load_model`. If renaming is not possible, pass the object in the `custom_objects` parameter of the load function.\n"
     ]
    },
    {
     "name": "stdout",
     "output_type": "stream",
     "text": [
      "5250/5250 [==============================] - 671s 128ms/step - loss: 9.5997e-04 - precision: 0.8104 - recall: 0.7849 - f1_score_micro: 0.7974 - f1_score_macro: 0.2938 - val_loss: 0.0011 - val_precision: 0.8094 - val_recall: 0.7778 - val_f1_score_micro: 0.7933 - val_f1_score_macro: 0.3088\n",
      "Epoch 10/50\n",
      "5250/5250 [==============================] - ETA: 0s - loss: 9.4543e-04 - precision: 0.8103 - recall: 0.7881 - f1_score_micro: 0.7990 - f1_score_macro: 0.3046INFO:tensorflow:Assets written to: ../model.20220826-211453/weights.10-0.0011/assets\n"
     ]
    },
    {
     "name": "stderr",
     "output_type": "stream",
     "text": [
      "INFO:tensorflow:Assets written to: ../model.20220826-211453/weights.10-0.0011/assets\n",
      "WARNING:absl:<keras.layers.recurrent.LSTMCell object at 0x7f874f398b20> has the same name 'LSTMCell' as a built-in Keras object. Consider renaming <class 'keras.layers.recurrent.LSTMCell'> to avoid naming conflicts when loading with `tf.keras.models.load_model`. If renaming is not possible, pass the object in the `custom_objects` parameter of the load function.\n",
      "WARNING:absl:<keras.layers.recurrent.LSTMCell object at 0x7f874f3b8c10> has the same name 'LSTMCell' as a built-in Keras object. Consider renaming <class 'keras.layers.recurrent.LSTMCell'> to avoid naming conflicts when loading with `tf.keras.models.load_model`. If renaming is not possible, pass the object in the `custom_objects` parameter of the load function.\n"
     ]
    },
    {
     "name": "stdout",
     "output_type": "stream",
     "text": [
      "5250/5250 [==============================] - 669s 127ms/step - loss: 9.4543e-04 - precision: 0.8103 - recall: 0.7881 - f1_score_micro: 0.7990 - f1_score_macro: 0.3046 - val_loss: 0.0011 - val_precision: 0.8083 - val_recall: 0.7789 - val_f1_score_micro: 0.7934 - val_f1_score_macro: 0.3165\n",
      "Epoch 11/50\n",
      "5250/5250 [==============================] - 670s 128ms/step - loss: 9.3719e-04 - precision: 0.8104 - recall: 0.7903 - f1_score_micro: 0.8002 - f1_score_macro: 0.3123 - val_loss: 0.0011 - val_precision: 0.8066 - val_recall: 0.7815 - val_f1_score_micro: 0.7938 - val_f1_score_macro: 0.3239\n",
      "Epoch 12/50\n",
      "5250/5250 [==============================] - ETA: 0s - loss: 9.2578e-04 - precision: 0.8106 - recall: 0.7933 - f1_score_micro: 0.8019 - f1_score_macro: 0.3204INFO:tensorflow:Assets written to: ../model.20220826-211453/weights.12-0.0011/assets\n"
     ]
    },
    {
     "name": "stderr",
     "output_type": "stream",
     "text": [
      "INFO:tensorflow:Assets written to: ../model.20220826-211453/weights.12-0.0011/assets\n",
      "WARNING:absl:<keras.layers.recurrent.LSTMCell object at 0x7f874f398b20> has the same name 'LSTMCell' as a built-in Keras object. Consider renaming <class 'keras.layers.recurrent.LSTMCell'> to avoid naming conflicts when loading with `tf.keras.models.load_model`. If renaming is not possible, pass the object in the `custom_objects` parameter of the load function.\n",
      "WARNING:absl:<keras.layers.recurrent.LSTMCell object at 0x7f874f3b8c10> has the same name 'LSTMCell' as a built-in Keras object. Consider renaming <class 'keras.layers.recurrent.LSTMCell'> to avoid naming conflicts when loading with `tf.keras.models.load_model`. If renaming is not possible, pass the object in the `custom_objects` parameter of the load function.\n"
     ]
    },
    {
     "name": "stdout",
     "output_type": "stream",
     "text": [
      "5250/5250 [==============================] - 672s 128ms/step - loss: 9.2578e-04 - precision: 0.8106 - recall: 0.7933 - f1_score_micro: 0.8019 - f1_score_macro: 0.3204 - val_loss: 0.0011 - val_precision: 0.8069 - val_recall: 0.7827 - val_f1_score_micro: 0.7946 - val_f1_score_macro: 0.3305\n",
      "Epoch 13/50\n",
      "5250/5250 [==============================] - 669s 127ms/step - loss: 9.1616e-04 - precision: 0.8108 - recall: 0.7952 - f1_score_micro: 0.8030 - f1_score_macro: 0.3274 - val_loss: 0.0011 - val_precision: 0.8097 - val_recall: 0.7813 - val_f1_score_micro: 0.7952 - val_f1_score_macro: 0.3350\n",
      "Epoch 14/50\n",
      "5250/5250 [==============================] - 669s 127ms/step - loss: 9.0826e-04 - precision: 0.8110 - recall: 0.7972 - f1_score_micro: 0.8040 - f1_score_macro: 0.3325 - val_loss: 0.0011 - val_precision: 0.8083 - val_recall: 0.7834 - val_f1_score_micro: 0.7956 - val_f1_score_macro: 0.3399\n",
      "Epoch 15/50\n",
      "5250/5250 [==============================] - 671s 128ms/step - loss: 8.9926e-04 - precision: 0.8114 - recall: 0.7994 - f1_score_micro: 0.8054 - f1_score_macro: 0.3382 - val_loss: 0.0011 - val_precision: 0.8054 - val_recall: 0.7861 - val_f1_score_micro: 0.7957 - val_f1_score_macro: 0.3486\n",
      "Epoch 16/50\n",
      " 289/5250 [>.............................] - ETA: 10:27 - loss: 9.0297e-04 - precision: 0.8115 - recall: 0.7978 - f1_score_micro: 0.8046 - f1_score_macro: 0.2886"
     ]
    },
    {
     "ename": "KeyboardInterrupt",
     "evalue": "",
     "output_type": "error",
     "traceback": [
      "\u001b[0;31m---------------------------------------------------------------------------\u001b[0m",
      "\u001b[0;31mKeyboardInterrupt\u001b[0m                         Traceback (most recent call last)",
      "File \u001b[0;32m<timed exec>:1\u001b[0m, in \u001b[0;36m<module>\u001b[0;34m\u001b[0m\n",
      "File \u001b[0;32m/usr/local/lib/python3.8/dist-packages/keras/utils/traceback_utils.py:64\u001b[0m, in \u001b[0;36mfilter_traceback.<locals>.error_handler\u001b[0;34m(*args, **kwargs)\u001b[0m\n\u001b[1;32m     62\u001b[0m filtered_tb \u001b[38;5;241m=\u001b[39m \u001b[38;5;28;01mNone\u001b[39;00m\n\u001b[1;32m     63\u001b[0m \u001b[38;5;28;01mtry\u001b[39;00m:\n\u001b[0;32m---> 64\u001b[0m   \u001b[38;5;28;01mreturn\u001b[39;00m \u001b[43mfn\u001b[49m\u001b[43m(\u001b[49m\u001b[38;5;241;43m*\u001b[39;49m\u001b[43margs\u001b[49m\u001b[43m,\u001b[49m\u001b[43m \u001b[49m\u001b[38;5;241;43m*\u001b[39;49m\u001b[38;5;241;43m*\u001b[39;49m\u001b[43mkwargs\u001b[49m\u001b[43m)\u001b[49m\n\u001b[1;32m     65\u001b[0m \u001b[38;5;28;01mexcept\u001b[39;00m \u001b[38;5;167;01mException\u001b[39;00m \u001b[38;5;28;01mas\u001b[39;00m e:  \u001b[38;5;66;03m# pylint: disable=broad-except\u001b[39;00m\n\u001b[1;32m     66\u001b[0m   filtered_tb \u001b[38;5;241m=\u001b[39m _process_traceback_frames(e\u001b[38;5;241m.\u001b[39m__traceback__)\n",
      "File \u001b[0;32m/usr/local/lib/python3.8/dist-packages/keras/engine/training.py:1384\u001b[0m, in \u001b[0;36mModel.fit\u001b[0;34m(self, x, y, batch_size, epochs, verbose, callbacks, validation_split, validation_data, shuffle, class_weight, sample_weight, initial_epoch, steps_per_epoch, validation_steps, validation_batch_size, validation_freq, max_queue_size, workers, use_multiprocessing)\u001b[0m\n\u001b[1;32m   1377\u001b[0m \u001b[38;5;28;01mwith\u001b[39;00m tf\u001b[38;5;241m.\u001b[39mprofiler\u001b[38;5;241m.\u001b[39mexperimental\u001b[38;5;241m.\u001b[39mTrace(\n\u001b[1;32m   1378\u001b[0m     \u001b[38;5;124m'\u001b[39m\u001b[38;5;124mtrain\u001b[39m\u001b[38;5;124m'\u001b[39m,\n\u001b[1;32m   1379\u001b[0m     epoch_num\u001b[38;5;241m=\u001b[39mepoch,\n\u001b[1;32m   1380\u001b[0m     step_num\u001b[38;5;241m=\u001b[39mstep,\n\u001b[1;32m   1381\u001b[0m     batch_size\u001b[38;5;241m=\u001b[39mbatch_size,\n\u001b[1;32m   1382\u001b[0m     _r\u001b[38;5;241m=\u001b[39m\u001b[38;5;241m1\u001b[39m):\n\u001b[1;32m   1383\u001b[0m   callbacks\u001b[38;5;241m.\u001b[39mon_train_batch_begin(step)\n\u001b[0;32m-> 1384\u001b[0m   tmp_logs \u001b[38;5;241m=\u001b[39m \u001b[38;5;28;43mself\u001b[39;49m\u001b[38;5;241;43m.\u001b[39;49m\u001b[43mtrain_function\u001b[49m\u001b[43m(\u001b[49m\u001b[43miterator\u001b[49m\u001b[43m)\u001b[49m\n\u001b[1;32m   1385\u001b[0m   \u001b[38;5;28;01mif\u001b[39;00m data_handler\u001b[38;5;241m.\u001b[39mshould_sync:\n\u001b[1;32m   1386\u001b[0m     context\u001b[38;5;241m.\u001b[39masync_wait()\n",
      "File \u001b[0;32m/usr/local/lib/python3.8/dist-packages/tensorflow/python/util/traceback_utils.py:150\u001b[0m, in \u001b[0;36mfilter_traceback.<locals>.error_handler\u001b[0;34m(*args, **kwargs)\u001b[0m\n\u001b[1;32m    148\u001b[0m filtered_tb \u001b[38;5;241m=\u001b[39m \u001b[38;5;28;01mNone\u001b[39;00m\n\u001b[1;32m    149\u001b[0m \u001b[38;5;28;01mtry\u001b[39;00m:\n\u001b[0;32m--> 150\u001b[0m   \u001b[38;5;28;01mreturn\u001b[39;00m \u001b[43mfn\u001b[49m\u001b[43m(\u001b[49m\u001b[38;5;241;43m*\u001b[39;49m\u001b[43margs\u001b[49m\u001b[43m,\u001b[49m\u001b[43m \u001b[49m\u001b[38;5;241;43m*\u001b[39;49m\u001b[38;5;241;43m*\u001b[39;49m\u001b[43mkwargs\u001b[49m\u001b[43m)\u001b[49m\n\u001b[1;32m    151\u001b[0m \u001b[38;5;28;01mexcept\u001b[39;00m \u001b[38;5;167;01mException\u001b[39;00m \u001b[38;5;28;01mas\u001b[39;00m e:\n\u001b[1;32m    152\u001b[0m   filtered_tb \u001b[38;5;241m=\u001b[39m _process_traceback_frames(e\u001b[38;5;241m.\u001b[39m__traceback__)\n",
      "File \u001b[0;32m/usr/local/lib/python3.8/dist-packages/tensorflow/python/eager/def_function.py:915\u001b[0m, in \u001b[0;36mFunction.__call__\u001b[0;34m(self, *args, **kwds)\u001b[0m\n\u001b[1;32m    912\u001b[0m compiler \u001b[38;5;241m=\u001b[39m \u001b[38;5;124m\"\u001b[39m\u001b[38;5;124mxla\u001b[39m\u001b[38;5;124m\"\u001b[39m \u001b[38;5;28;01mif\u001b[39;00m \u001b[38;5;28mself\u001b[39m\u001b[38;5;241m.\u001b[39m_jit_compile \u001b[38;5;28;01melse\u001b[39;00m \u001b[38;5;124m\"\u001b[39m\u001b[38;5;124mnonXla\u001b[39m\u001b[38;5;124m\"\u001b[39m\n\u001b[1;32m    914\u001b[0m \u001b[38;5;28;01mwith\u001b[39;00m OptionalXlaContext(\u001b[38;5;28mself\u001b[39m\u001b[38;5;241m.\u001b[39m_jit_compile):\n\u001b[0;32m--> 915\u001b[0m   result \u001b[38;5;241m=\u001b[39m \u001b[38;5;28;43mself\u001b[39;49m\u001b[38;5;241;43m.\u001b[39;49m\u001b[43m_call\u001b[49m\u001b[43m(\u001b[49m\u001b[38;5;241;43m*\u001b[39;49m\u001b[43margs\u001b[49m\u001b[43m,\u001b[49m\u001b[43m \u001b[49m\u001b[38;5;241;43m*\u001b[39;49m\u001b[38;5;241;43m*\u001b[39;49m\u001b[43mkwds\u001b[49m\u001b[43m)\u001b[49m\n\u001b[1;32m    917\u001b[0m new_tracing_count \u001b[38;5;241m=\u001b[39m \u001b[38;5;28mself\u001b[39m\u001b[38;5;241m.\u001b[39mexperimental_get_tracing_count()\n\u001b[1;32m    918\u001b[0m without_tracing \u001b[38;5;241m=\u001b[39m (tracing_count \u001b[38;5;241m==\u001b[39m new_tracing_count)\n",
      "File \u001b[0;32m/usr/local/lib/python3.8/dist-packages/tensorflow/python/eager/def_function.py:947\u001b[0m, in \u001b[0;36mFunction._call\u001b[0;34m(self, *args, **kwds)\u001b[0m\n\u001b[1;32m    944\u001b[0m   \u001b[38;5;28mself\u001b[39m\u001b[38;5;241m.\u001b[39m_lock\u001b[38;5;241m.\u001b[39mrelease()\n\u001b[1;32m    945\u001b[0m   \u001b[38;5;66;03m# In this case we have created variables on the first call, so we run the\u001b[39;00m\n\u001b[1;32m    946\u001b[0m   \u001b[38;5;66;03m# defunned version which is guaranteed to never create variables.\u001b[39;00m\n\u001b[0;32m--> 947\u001b[0m   \u001b[38;5;28;01mreturn\u001b[39;00m \u001b[38;5;28;43mself\u001b[39;49m\u001b[38;5;241;43m.\u001b[39;49m\u001b[43m_stateless_fn\u001b[49m\u001b[43m(\u001b[49m\u001b[38;5;241;43m*\u001b[39;49m\u001b[43margs\u001b[49m\u001b[43m,\u001b[49m\u001b[43m \u001b[49m\u001b[38;5;241;43m*\u001b[39;49m\u001b[38;5;241;43m*\u001b[39;49m\u001b[43mkwds\u001b[49m\u001b[43m)\u001b[49m  \u001b[38;5;66;03m# pylint: disable=not-callable\u001b[39;00m\n\u001b[1;32m    948\u001b[0m \u001b[38;5;28;01melif\u001b[39;00m \u001b[38;5;28mself\u001b[39m\u001b[38;5;241m.\u001b[39m_stateful_fn \u001b[38;5;129;01mis\u001b[39;00m \u001b[38;5;129;01mnot\u001b[39;00m \u001b[38;5;28;01mNone\u001b[39;00m:\n\u001b[1;32m    949\u001b[0m   \u001b[38;5;66;03m# Release the lock early so that multiple threads can perform the call\u001b[39;00m\n\u001b[1;32m    950\u001b[0m   \u001b[38;5;66;03m# in parallel.\u001b[39;00m\n\u001b[1;32m    951\u001b[0m   \u001b[38;5;28mself\u001b[39m\u001b[38;5;241m.\u001b[39m_lock\u001b[38;5;241m.\u001b[39mrelease()\n",
      "File \u001b[0;32m/usr/local/lib/python3.8/dist-packages/tensorflow/python/eager/function.py:2956\u001b[0m, in \u001b[0;36mFunction.__call__\u001b[0;34m(self, *args, **kwargs)\u001b[0m\n\u001b[1;32m   2953\u001b[0m \u001b[38;5;28;01mwith\u001b[39;00m \u001b[38;5;28mself\u001b[39m\u001b[38;5;241m.\u001b[39m_lock:\n\u001b[1;32m   2954\u001b[0m   (graph_function,\n\u001b[1;32m   2955\u001b[0m    filtered_flat_args) \u001b[38;5;241m=\u001b[39m \u001b[38;5;28mself\u001b[39m\u001b[38;5;241m.\u001b[39m_maybe_define_function(args, kwargs)\n\u001b[0;32m-> 2956\u001b[0m \u001b[38;5;28;01mreturn\u001b[39;00m \u001b[43mgraph_function\u001b[49m\u001b[38;5;241;43m.\u001b[39;49m\u001b[43m_call_flat\u001b[49m\u001b[43m(\u001b[49m\n\u001b[1;32m   2957\u001b[0m \u001b[43m    \u001b[49m\u001b[43mfiltered_flat_args\u001b[49m\u001b[43m,\u001b[49m\u001b[43m \u001b[49m\u001b[43mcaptured_inputs\u001b[49m\u001b[38;5;241;43m=\u001b[39;49m\u001b[43mgraph_function\u001b[49m\u001b[38;5;241;43m.\u001b[39;49m\u001b[43mcaptured_inputs\u001b[49m\u001b[43m)\u001b[49m\n",
      "File \u001b[0;32m/usr/local/lib/python3.8/dist-packages/tensorflow/python/eager/function.py:1853\u001b[0m, in \u001b[0;36mConcreteFunction._call_flat\u001b[0;34m(self, args, captured_inputs, cancellation_manager)\u001b[0m\n\u001b[1;32m   1849\u001b[0m possible_gradient_type \u001b[38;5;241m=\u001b[39m gradients_util\u001b[38;5;241m.\u001b[39mPossibleTapeGradientTypes(args)\n\u001b[1;32m   1850\u001b[0m \u001b[38;5;28;01mif\u001b[39;00m (possible_gradient_type \u001b[38;5;241m==\u001b[39m gradients_util\u001b[38;5;241m.\u001b[39mPOSSIBLE_GRADIENT_TYPES_NONE\n\u001b[1;32m   1851\u001b[0m     \u001b[38;5;129;01mand\u001b[39;00m executing_eagerly):\n\u001b[1;32m   1852\u001b[0m   \u001b[38;5;66;03m# No tape is watching; skip to running the function.\u001b[39;00m\n\u001b[0;32m-> 1853\u001b[0m   \u001b[38;5;28;01mreturn\u001b[39;00m \u001b[38;5;28mself\u001b[39m\u001b[38;5;241m.\u001b[39m_build_call_outputs(\u001b[38;5;28;43mself\u001b[39;49m\u001b[38;5;241;43m.\u001b[39;49m\u001b[43m_inference_function\u001b[49m\u001b[38;5;241;43m.\u001b[39;49m\u001b[43mcall\u001b[49m\u001b[43m(\u001b[49m\n\u001b[1;32m   1854\u001b[0m \u001b[43m      \u001b[49m\u001b[43mctx\u001b[49m\u001b[43m,\u001b[49m\u001b[43m \u001b[49m\u001b[43margs\u001b[49m\u001b[43m,\u001b[49m\u001b[43m \u001b[49m\u001b[43mcancellation_manager\u001b[49m\u001b[38;5;241;43m=\u001b[39;49m\u001b[43mcancellation_manager\u001b[49m\u001b[43m)\u001b[49m)\n\u001b[1;32m   1855\u001b[0m forward_backward \u001b[38;5;241m=\u001b[39m \u001b[38;5;28mself\u001b[39m\u001b[38;5;241m.\u001b[39m_select_forward_and_backward_functions(\n\u001b[1;32m   1856\u001b[0m     args,\n\u001b[1;32m   1857\u001b[0m     possible_gradient_type,\n\u001b[1;32m   1858\u001b[0m     executing_eagerly)\n\u001b[1;32m   1859\u001b[0m forward_function, args_with_tangents \u001b[38;5;241m=\u001b[39m forward_backward\u001b[38;5;241m.\u001b[39mforward()\n",
      "File \u001b[0;32m/usr/local/lib/python3.8/dist-packages/tensorflow/python/eager/function.py:499\u001b[0m, in \u001b[0;36m_EagerDefinedFunction.call\u001b[0;34m(self, ctx, args, cancellation_manager)\u001b[0m\n\u001b[1;32m    497\u001b[0m \u001b[38;5;28;01mwith\u001b[39;00m _InterpolateFunctionError(\u001b[38;5;28mself\u001b[39m):\n\u001b[1;32m    498\u001b[0m   \u001b[38;5;28;01mif\u001b[39;00m cancellation_manager \u001b[38;5;129;01mis\u001b[39;00m \u001b[38;5;28;01mNone\u001b[39;00m:\n\u001b[0;32m--> 499\u001b[0m     outputs \u001b[38;5;241m=\u001b[39m \u001b[43mexecute\u001b[49m\u001b[38;5;241;43m.\u001b[39;49m\u001b[43mexecute\u001b[49m\u001b[43m(\u001b[49m\n\u001b[1;32m    500\u001b[0m \u001b[43m        \u001b[49m\u001b[38;5;28;43mstr\u001b[39;49m\u001b[43m(\u001b[49m\u001b[38;5;28;43mself\u001b[39;49m\u001b[38;5;241;43m.\u001b[39;49m\u001b[43msignature\u001b[49m\u001b[38;5;241;43m.\u001b[39;49m\u001b[43mname\u001b[49m\u001b[43m)\u001b[49m\u001b[43m,\u001b[49m\n\u001b[1;32m    501\u001b[0m \u001b[43m        \u001b[49m\u001b[43mnum_outputs\u001b[49m\u001b[38;5;241;43m=\u001b[39;49m\u001b[38;5;28;43mself\u001b[39;49m\u001b[38;5;241;43m.\u001b[39;49m\u001b[43m_num_outputs\u001b[49m\u001b[43m,\u001b[49m\n\u001b[1;32m    502\u001b[0m \u001b[43m        \u001b[49m\u001b[43minputs\u001b[49m\u001b[38;5;241;43m=\u001b[39;49m\u001b[43margs\u001b[49m\u001b[43m,\u001b[49m\n\u001b[1;32m    503\u001b[0m \u001b[43m        \u001b[49m\u001b[43mattrs\u001b[49m\u001b[38;5;241;43m=\u001b[39;49m\u001b[43mattrs\u001b[49m\u001b[43m,\u001b[49m\n\u001b[1;32m    504\u001b[0m \u001b[43m        \u001b[49m\u001b[43mctx\u001b[49m\u001b[38;5;241;43m=\u001b[39;49m\u001b[43mctx\u001b[49m\u001b[43m)\u001b[49m\n\u001b[1;32m    505\u001b[0m   \u001b[38;5;28;01melse\u001b[39;00m:\n\u001b[1;32m    506\u001b[0m     outputs \u001b[38;5;241m=\u001b[39m execute\u001b[38;5;241m.\u001b[39mexecute_with_cancellation(\n\u001b[1;32m    507\u001b[0m         \u001b[38;5;28mstr\u001b[39m(\u001b[38;5;28mself\u001b[39m\u001b[38;5;241m.\u001b[39msignature\u001b[38;5;241m.\u001b[39mname),\n\u001b[1;32m    508\u001b[0m         num_outputs\u001b[38;5;241m=\u001b[39m\u001b[38;5;28mself\u001b[39m\u001b[38;5;241m.\u001b[39m_num_outputs,\n\u001b[0;32m   (...)\u001b[0m\n\u001b[1;32m    511\u001b[0m         ctx\u001b[38;5;241m=\u001b[39mctx,\n\u001b[1;32m    512\u001b[0m         cancellation_manager\u001b[38;5;241m=\u001b[39mcancellation_manager)\n",
      "File \u001b[0;32m/usr/local/lib/python3.8/dist-packages/tensorflow/python/eager/execute.py:54\u001b[0m, in \u001b[0;36mquick_execute\u001b[0;34m(op_name, num_outputs, inputs, attrs, ctx, name)\u001b[0m\n\u001b[1;32m     52\u001b[0m \u001b[38;5;28;01mtry\u001b[39;00m:\n\u001b[1;32m     53\u001b[0m   ctx\u001b[38;5;241m.\u001b[39mensure_initialized()\n\u001b[0;32m---> 54\u001b[0m   tensors \u001b[38;5;241m=\u001b[39m \u001b[43mpywrap_tfe\u001b[49m\u001b[38;5;241;43m.\u001b[39;49m\u001b[43mTFE_Py_Execute\u001b[49m\u001b[43m(\u001b[49m\u001b[43mctx\u001b[49m\u001b[38;5;241;43m.\u001b[39;49m\u001b[43m_handle\u001b[49m\u001b[43m,\u001b[49m\u001b[43m \u001b[49m\u001b[43mdevice_name\u001b[49m\u001b[43m,\u001b[49m\u001b[43m \u001b[49m\u001b[43mop_name\u001b[49m\u001b[43m,\u001b[49m\n\u001b[1;32m     55\u001b[0m \u001b[43m                                      \u001b[49m\u001b[43minputs\u001b[49m\u001b[43m,\u001b[49m\u001b[43m \u001b[49m\u001b[43mattrs\u001b[49m\u001b[43m,\u001b[49m\u001b[43m \u001b[49m\u001b[43mnum_outputs\u001b[49m\u001b[43m)\u001b[49m\n\u001b[1;32m     56\u001b[0m \u001b[38;5;28;01mexcept\u001b[39;00m core\u001b[38;5;241m.\u001b[39m_NotOkStatusException \u001b[38;5;28;01mas\u001b[39;00m e:\n\u001b[1;32m     57\u001b[0m   \u001b[38;5;28;01mif\u001b[39;00m name \u001b[38;5;129;01mis\u001b[39;00m \u001b[38;5;129;01mnot\u001b[39;00m \u001b[38;5;28;01mNone\u001b[39;00m:\n",
      "\u001b[0;31mKeyboardInterrupt\u001b[0m: "
     ]
    }
   ],
   "source": [
    "%%time\n",
    "\n",
    "history = model.fit(\n",
    "    ds_train,\n",
    "    epochs = MAX_EPOCHS,\n",
    "    validation_data = ds_val,\n",
    "    callbacks = [\n",
    "        callbacks.TerminateOnNaN(),\n",
    "        callbacks.ModelCheckpoint(\n",
    "            filepath = str(MODEL_DIR / \"weights.{epoch:02d}-{val_loss:.4f}\"),\n",
    "            monitor = 'val_loss',\n",
    "            save_best_only = True,\n",
    "            save_format = 'tf',\n",
    "        ),\n",
    "        # callbacks.EarlyStopping(monitor='f1_score_macro', patience=4),\n",
    "        callbacks.CSVLogger(str(MODEL_DIR / 'training.log')),\n",
    "        callbacks.History()\n",
    "    ]\n",
    ")"
   ]
  },
  {
   "cell_type": "markdown",
   "id": "6ebb0214",
   "metadata": {
    "id": "6ebb0214"
   },
   "source": [
    "## Training stats"
   ]
  },
  {
   "cell_type": "code",
   "execution_count": 61,
   "id": "ab63d125",
   "metadata": {
    "id": "ab63d125",
    "outputId": "f1c25c2a-3f81-4627-8822-eeedf6655ea3"
   },
   "outputs": [
    {
     "data": {
      "text/html": [
       "<div>\n",
       "<style scoped>\n",
       "    .dataframe tbody tr th:only-of-type {\n",
       "        vertical-align: middle;\n",
       "    }\n",
       "\n",
       "    .dataframe tbody tr th {\n",
       "        vertical-align: top;\n",
       "    }\n",
       "\n",
       "    .dataframe thead th {\n",
       "        text-align: right;\n",
       "    }\n",
       "</style>\n",
       "<table border=\"1\" class=\"dataframe\">\n",
       "  <thead>\n",
       "    <tr style=\"text-align: right;\">\n",
       "      <th></th>\n",
       "      <th>epoch</th>\n",
       "      <th>f1_score_macro</th>\n",
       "      <th>f1_score_micro</th>\n",
       "      <th>loss</th>\n",
       "      <th>precision</th>\n",
       "      <th>recall</th>\n",
       "      <th>val_f1_score_macro</th>\n",
       "      <th>val_f1_score_micro</th>\n",
       "      <th>val_loss</th>\n",
       "      <th>val_precision</th>\n",
       "      <th>val_recall</th>\n",
       "    </tr>\n",
       "  </thead>\n",
       "  <tbody>\n",
       "    <tr>\n",
       "      <th>0</th>\n",
       "      <td>0</td>\n",
       "      <td>0.009018</td>\n",
       "      <td>0.288130</td>\n",
       "      <td>0.007227</td>\n",
       "      <td>0.344551</td>\n",
       "      <td>0.247587</td>\n",
       "      <td>0.027497</td>\n",
       "      <td>0.677433</td>\n",
       "      <td>0.001835</td>\n",
       "      <td>0.852888</td>\n",
       "      <td>0.561850</td>\n",
       "    </tr>\n",
       "    <tr>\n",
       "      <th>1</th>\n",
       "      <td>1</td>\n",
       "      <td>0.080203</td>\n",
       "      <td>0.729987</td>\n",
       "      <td>0.001476</td>\n",
       "      <td>0.818812</td>\n",
       "      <td>0.658547</td>\n",
       "      <td>0.124505</td>\n",
       "      <td>0.767866</td>\n",
       "      <td>0.001264</td>\n",
       "      <td>0.823636</td>\n",
       "      <td>0.719170</td>\n",
       "    </tr>\n",
       "    <tr>\n",
       "      <th>2</th>\n",
       "      <td>2</td>\n",
       "      <td>0.157941</td>\n",
       "      <td>0.771051</td>\n",
       "      <td>0.001167</td>\n",
       "      <td>0.812533</td>\n",
       "      <td>0.733599</td>\n",
       "      <td>0.194974</td>\n",
       "      <td>0.780180</td>\n",
       "      <td>0.001175</td>\n",
       "      <td>0.817319</td>\n",
       "      <td>0.746270</td>\n",
       "    </tr>\n",
       "    <tr>\n",
       "      <th>3</th>\n",
       "      <td>3</td>\n",
       "      <td>0.205017</td>\n",
       "      <td>0.781168</td>\n",
       "      <td>0.001087</td>\n",
       "      <td>0.810402</td>\n",
       "      <td>0.753969</td>\n",
       "      <td>0.234414</td>\n",
       "      <td>0.785106</td>\n",
       "      <td>0.001142</td>\n",
       "      <td>0.810430</td>\n",
       "      <td>0.761316</td>\n",
       "    </tr>\n",
       "    <tr>\n",
       "      <th>4</th>\n",
       "      <td>4</td>\n",
       "      <td>0.233389</td>\n",
       "      <td>0.786850</td>\n",
       "      <td>0.001043</td>\n",
       "      <td>0.809991</td>\n",
       "      <td>0.764995</td>\n",
       "      <td>0.258450</td>\n",
       "      <td>0.787256</td>\n",
       "      <td>0.001128</td>\n",
       "      <td>0.812977</td>\n",
       "      <td>0.763113</td>\n",
       "    </tr>\n",
       "    <tr>\n",
       "      <th>5</th>\n",
       "      <td>5</td>\n",
       "      <td>0.255355</td>\n",
       "      <td>0.790161</td>\n",
       "      <td>0.001014</td>\n",
       "      <td>0.809705</td>\n",
       "      <td>0.771537</td>\n",
       "      <td>0.273646</td>\n",
       "      <td>0.789981</td>\n",
       "      <td>0.001116</td>\n",
       "      <td>0.811690</td>\n",
       "      <td>0.769402</td>\n",
       "    </tr>\n",
       "    <tr>\n",
       "      <th>6</th>\n",
       "      <td>6</td>\n",
       "      <td>0.268418</td>\n",
       "      <td>0.793203</td>\n",
       "      <td>0.000993</td>\n",
       "      <td>0.810041</td>\n",
       "      <td>0.777051</td>\n",
       "      <td>0.288911</td>\n",
       "      <td>0.790828</td>\n",
       "      <td>0.001112</td>\n",
       "      <td>0.810278</td>\n",
       "      <td>0.772290</td>\n",
       "    </tr>\n",
       "    <tr>\n",
       "      <th>7</th>\n",
       "      <td>7</td>\n",
       "      <td>0.282894</td>\n",
       "      <td>0.795505</td>\n",
       "      <td>0.000974</td>\n",
       "      <td>0.809926</td>\n",
       "      <td>0.781590</td>\n",
       "      <td>0.297905</td>\n",
       "      <td>0.792057</td>\n",
       "      <td>0.001105</td>\n",
       "      <td>0.810921</td>\n",
       "      <td>0.774050</td>\n",
       "    </tr>\n",
       "    <tr>\n",
       "      <th>8</th>\n",
       "      <td>8</td>\n",
       "      <td>0.293830</td>\n",
       "      <td>0.797406</td>\n",
       "      <td>0.000960</td>\n",
       "      <td>0.810358</td>\n",
       "      <td>0.784861</td>\n",
       "      <td>0.308753</td>\n",
       "      <td>0.793283</td>\n",
       "      <td>0.001104</td>\n",
       "      <td>0.809413</td>\n",
       "      <td>0.777783</td>\n",
       "    </tr>\n",
       "    <tr>\n",
       "      <th>9</th>\n",
       "      <td>9</td>\n",
       "      <td>0.304611</td>\n",
       "      <td>0.799046</td>\n",
       "      <td>0.000945</td>\n",
       "      <td>0.810298</td>\n",
       "      <td>0.788102</td>\n",
       "      <td>0.316510</td>\n",
       "      <td>0.793352</td>\n",
       "      <td>0.001099</td>\n",
       "      <td>0.808330</td>\n",
       "      <td>0.778920</td>\n",
       "    </tr>\n",
       "    <tr>\n",
       "      <th>10</th>\n",
       "      <td>10</td>\n",
       "      <td>0.312301</td>\n",
       "      <td>0.800243</td>\n",
       "      <td>0.000937</td>\n",
       "      <td>0.810434</td>\n",
       "      <td>0.790305</td>\n",
       "      <td>0.323934</td>\n",
       "      <td>0.793834</td>\n",
       "      <td>0.001100</td>\n",
       "      <td>0.806586</td>\n",
       "      <td>0.781479</td>\n",
       "    </tr>\n",
       "    <tr>\n",
       "      <th>11</th>\n",
       "      <td>11</td>\n",
       "      <td>0.320396</td>\n",
       "      <td>0.801852</td>\n",
       "      <td>0.000926</td>\n",
       "      <td>0.810574</td>\n",
       "      <td>0.793315</td>\n",
       "      <td>0.330534</td>\n",
       "      <td>0.794573</td>\n",
       "      <td>0.001095</td>\n",
       "      <td>0.806854</td>\n",
       "      <td>0.782661</td>\n",
       "    </tr>\n",
       "    <tr>\n",
       "      <th>12</th>\n",
       "      <td>12</td>\n",
       "      <td>0.327393</td>\n",
       "      <td>0.802959</td>\n",
       "      <td>0.000916</td>\n",
       "      <td>0.810847</td>\n",
       "      <td>0.795223</td>\n",
       "      <td>0.334968</td>\n",
       "      <td>0.795241</td>\n",
       "      <td>0.001095</td>\n",
       "      <td>0.809687</td>\n",
       "      <td>0.781301</td>\n",
       "    </tr>\n",
       "    <tr>\n",
       "      <th>13</th>\n",
       "      <td>13</td>\n",
       "      <td>0.332538</td>\n",
       "      <td>0.804029</td>\n",
       "      <td>0.000908</td>\n",
       "      <td>0.810983</td>\n",
       "      <td>0.797194</td>\n",
       "      <td>0.339902</td>\n",
       "      <td>0.795648</td>\n",
       "      <td>0.001096</td>\n",
       "      <td>0.808296</td>\n",
       "      <td>0.783390</td>\n",
       "    </tr>\n",
       "    <tr>\n",
       "      <th>14</th>\n",
       "      <td>14</td>\n",
       "      <td>0.338224</td>\n",
       "      <td>0.805364</td>\n",
       "      <td>0.000899</td>\n",
       "      <td>0.811390</td>\n",
       "      <td>0.799427</td>\n",
       "      <td>0.348552</td>\n",
       "      <td>0.795667</td>\n",
       "      <td>0.001099</td>\n",
       "      <td>0.805435</td>\n",
       "      <td>0.786134</td>\n",
       "    </tr>\n",
       "  </tbody>\n",
       "</table>\n",
       "</div>"
      ],
      "text/plain": [
       "    epoch  f1_score_macro  f1_score_micro      loss  precision    recall  \\\n",
       "0       0        0.009018        0.288130  0.007227   0.344551  0.247587   \n",
       "1       1        0.080203        0.729987  0.001476   0.818812  0.658547   \n",
       "2       2        0.157941        0.771051  0.001167   0.812533  0.733599   \n",
       "3       3        0.205017        0.781168  0.001087   0.810402  0.753969   \n",
       "4       4        0.233389        0.786850  0.001043   0.809991  0.764995   \n",
       "5       5        0.255355        0.790161  0.001014   0.809705  0.771537   \n",
       "6       6        0.268418        0.793203  0.000993   0.810041  0.777051   \n",
       "7       7        0.282894        0.795505  0.000974   0.809926  0.781590   \n",
       "8       8        0.293830        0.797406  0.000960   0.810358  0.784861   \n",
       "9       9        0.304611        0.799046  0.000945   0.810298  0.788102   \n",
       "10     10        0.312301        0.800243  0.000937   0.810434  0.790305   \n",
       "11     11        0.320396        0.801852  0.000926   0.810574  0.793315   \n",
       "12     12        0.327393        0.802959  0.000916   0.810847  0.795223   \n",
       "13     13        0.332538        0.804029  0.000908   0.810983  0.797194   \n",
       "14     14        0.338224        0.805364  0.000899   0.811390  0.799427   \n",
       "\n",
       "    val_f1_score_macro  val_f1_score_micro  val_loss  val_precision  \\\n",
       "0             0.027497            0.677433  0.001835       0.852888   \n",
       "1             0.124505            0.767866  0.001264       0.823636   \n",
       "2             0.194974            0.780180  0.001175       0.817319   \n",
       "3             0.234414            0.785106  0.001142       0.810430   \n",
       "4             0.258450            0.787256  0.001128       0.812977   \n",
       "5             0.273646            0.789981  0.001116       0.811690   \n",
       "6             0.288911            0.790828  0.001112       0.810278   \n",
       "7             0.297905            0.792057  0.001105       0.810921   \n",
       "8             0.308753            0.793283  0.001104       0.809413   \n",
       "9             0.316510            0.793352  0.001099       0.808330   \n",
       "10            0.323934            0.793834  0.001100       0.806586   \n",
       "11            0.330534            0.794573  0.001095       0.806854   \n",
       "12            0.334968            0.795241  0.001095       0.809687   \n",
       "13            0.339902            0.795648  0.001096       0.808296   \n",
       "14            0.348552            0.795667  0.001099       0.805435   \n",
       "\n",
       "    val_recall  \n",
       "0     0.561850  \n",
       "1     0.719170  \n",
       "2     0.746270  \n",
       "3     0.761316  \n",
       "4     0.763113  \n",
       "5     0.769402  \n",
       "6     0.772290  \n",
       "7     0.774050  \n",
       "8     0.777783  \n",
       "9     0.778920  \n",
       "10    0.781479  \n",
       "11    0.782661  \n",
       "12    0.781301  \n",
       "13    0.783390  \n",
       "14    0.786134  "
      ]
     },
     "execution_count": 61,
     "metadata": {},
     "output_type": "execute_result"
    }
   ],
   "source": [
    "stats = pd.read_csv(MODEL_DIR / 'training.log')\n",
    "stats"
   ]
  },
  {
   "cell_type": "code",
   "execution_count": 74,
   "metadata": {},
   "outputs": [],
   "source": [
    "%matplotlib inline"
   ]
  },
  {
   "cell_type": "code",
   "execution_count": 75,
   "id": "c6244c7a",
   "metadata": {
    "id": "c6244c7a",
    "outputId": "53ff4773-40b5-47c9-818e-31cdeba29469"
   },
   "outputs": [
    {
     "data": {
      "image/png": "[encoded data removed]",
      "text/plain": [
       "<Figure size 864x864 with 6 Axes>"
      ]
     },
     "metadata": {
      "needs_background": "light"
     },
     "output_type": "display_data"
    }
   ],
   "source": [
    "plot_training_stats(stats)"
   ]
  },
  {
   "cell_type": "markdown",
   "id": "2d157d84",
   "metadata": {
    "id": "2d157d84"
   },
   "source": [
    "## Save model and resources"
   ]
  },
  {
   "cell_type": "code",
   "execution_count": 63,
   "id": "57749e9c",
   "metadata": {
    "id": "57749e9c",
    "outputId": "9836a8e1-40d7-4488-de28-f3ead5351d74"
   },
   "outputs": [
    {
     "name": "stdout",
     "output_type": "stream",
     "text": [
      "INFO:tensorflow:Assets written to: ../model.20220826-211453/saved_model/assets\n"
     ]
    },
    {
     "name": "stderr",
     "output_type": "stream",
     "text": [
      "INFO:tensorflow:Assets written to: ../model.20220826-211453/saved_model/assets\n",
      "WARNING:absl:<keras.layers.recurrent.LSTMCell object at 0x7f874f398b20> has the same name 'LSTMCell' as a built-in Keras object. Consider renaming <class 'keras.layers.recurrent.LSTMCell'> to avoid naming conflicts when loading with `tf.keras.models.load_model`. If renaming is not possible, pass the object in the `custom_objects` parameter of the load function.\n",
      "WARNING:absl:<keras.layers.recurrent.LSTMCell object at 0x7f874f3b8c10> has the same name 'LSTMCell' as a built-in Keras object. Consider renaming <class 'keras.layers.recurrent.LSTMCell'> to avoid naming conflicts when loading with `tf.keras.models.load_model`. If renaming is not possible, pass the object in the `custom_objects` parameter of the load function.\n"
     ]
    }
   ],
   "source": [
    "SAVED_MODEL_DIR = MODEL_DIR / 'saved_model'\n",
    "\n",
    "@tf.function\n",
    "def serving_func(*args, **kwargs):\n",
    "    preds = model(*args, **kwargs)\n",
    "    return top_labeled_predictions(preds, categories_vocab, k=50)\n",
    "\n",
    "save_model(SAVED_MODEL_DIR, model, categories_vocab, serving_func)"
   ]
  },
  {
   "cell_type": "markdown",
   "id": "38a29603",
   "metadata": {
    "id": "38a29603"
   },
   "source": [
    "# Test model"
   ]
  },
  {
   "cell_type": "code",
   "execution_count": 64,
   "id": "cdba60dc",
   "metadata": {
    "id": "cdba60dc",
    "outputId": "cf567e4a-129c-4853-beda-1d80153b3aff"
   },
   "outputs": [],
   "source": [
    "m, labels = load_model(SAVED_MODEL_DIR)"
   ]
  },
  {
   "cell_type": "code",
   "execution_count": 65,
   "id": "cff4364b",
   "metadata": {
    "id": "cff4364b"
   },
   "outputs": [],
   "source": [
    "ds_test = load_dataset('off_categories', split=TEST_SPLIT)"
   ]
  },
  {
   "cell_type": "markdown",
   "id": "061aa1a7",
   "metadata": {
    "id": "061aa1a7"
   },
   "source": [
    "## Predict with serving model"
   ]
  },
  {
   "cell_type": "code",
   "execution_count": 66,
   "id": "c0f5fdd0",
   "metadata": {},
   "outputs": [
    {
     "name": "stderr",
     "output_type": "stream",
     "text": [
      "/usr/local/lib/python3.8/dist-packages/keras/engine/functional.py:559: UserWarning: Input dict contained keys ['categories_tags', 'code'] which did not match any model input. They will be ignored by the model.\n",
      "  inputs = self._flatten_to_reference_inputs(inputs)\n"
     ]
    },
    {
     "name": "stdout",
     "output_type": "stream",
     "text": [
      "CPU times: user 54.9 s, sys: 7.7 s, total: 1min 2s\n",
      "Wall time: 13.4 s\n"
     ]
    },
    {
     "data": {
      "text/plain": [
       "array([[9.91491795e-01, 9.85237837e-01, 1.04595601e-04, ...,\n",
       "        3.64533750e-12, 1.14021141e-12, 2.51396792e-10],\n",
       "       [8.87269735e-01, 9.07223523e-01, 1.07419074e-01, ...,\n",
       "        1.32634306e-10, 8.56369127e-08, 2.84168475e-08],\n",
       "       [9.37152505e-01, 9.67690229e-01, 3.24915418e-05, ...,\n",
       "        1.34166398e-12, 9.89221118e-12, 1.26886054e-11],\n",
       "       ...,\n",
       "       [2.92406738e-01, 3.03041816e-01, 1.83186263e-01, ...,\n",
       "        8.62483867e-05, 1.11770714e-04, 7.36787115e-05],\n",
       "       [1.31514668e-03, 3.91662121e-04, 1.28244653e-06, ...,\n",
       "        2.46298620e-12, 1.87303688e-12, 7.77159471e-07],\n",
       "       [3.56311580e-06, 1.76458695e-06, 8.46677125e-01, ...,\n",
       "        1.52342361e-10, 1.80566631e-10, 2.79441489e-14]], dtype=float32)"
      ]
     },
     "execution_count": 66,
     "metadata": {},
     "output_type": "execute_result"
    }
   ],
   "source": [
    "%%time\n",
    "\n",
    "preds_test = m.predict(ds_test.padded_batch(128))\n",
    "preds_test"
   ]
  },
  {
   "cell_type": "code",
   "execution_count": 67,
   "id": "713391d5",
   "metadata": {},
   "outputs": [
    {
     "data": {
      "text/plain": [
       "(<tf.Tensor: shape=(85760, 7), dtype=float32, numpy=\n",
       " array([[0.9935262 , 0.9914918 , 0.9880535 , ..., 0.98526764, 0.98523784,\n",
       "         0.97942305],\n",
       "        [0.96432817, 0.9306847 , 0.92193973, ..., 0.90680903, 0.88726974,\n",
       "         0.876057  ],\n",
       "        [0.9676902 , 0.9587946 , 0.950534  , ..., 0.8960466 , 0.80532694,\n",
       "         0.7355396 ],\n",
       "        ...,\n",
       "        [0.30304182, 0.29240674, 0.18318626, ..., 0.1045565 , 0.07459134,\n",
       "         0.06976151],\n",
       "        [0.98434806, 0.97563154, 0.97442585, ..., 0.971689  , 0.97000384,\n",
       "         0.96071184],\n",
       "        [0.96264684, 0.9192923 , 0.8466771 , ..., 0.31030446, 0.27608925,\n",
       "         0.11581901]], dtype=float32)>,\n",
       " <tf.Tensor: shape=(85760, 7), dtype=string, numpy=\n",
       " array([[b'en:breakfasts', b'en:plant-based-foods-and-beverages',\n",
       "         b'en:spreads', ..., b'en:plant-based-spreads',\n",
       "         b'en:plant-based-foods', b'en:fruit-and-vegetable-preserves'],\n",
       "        [b'en:compotes', b'en:fruits-and-vegetables-based-foods',\n",
       "         b'en:desserts', ..., b'en:apple-compotes',\n",
       "         b'en:plant-based-foods-and-beverages', b'en:fruits-based-foods'],\n",
       "        [b'en:plant-based-foods', b'en:leaf-vegetables',\n",
       "         b'en:fruits-and-vegetables-based-foods', ...,\n",
       "         b'en:vegetables-based-foods', b'en:frozen-vegetables',\n",
       "         b'en:frozen-cauliflower-florets'],\n",
       "        ...,\n",
       "        [b'en:plant-based-foods', b'en:plant-based-foods-and-beverages',\n",
       "         b'en:snacks', ..., b'en:cereals-and-potatoes',\n",
       "         b'en:sweet-snacks', b'en:cereals-and-their-products'],\n",
       "        [b'en:fermented-milk-products', b'en:fermented-foods',\n",
       "         b'en:stretched-curd-cheeses', ..., b'en:dairies',\n",
       "         b'en:italian-cheeses', b'en:mozzarella'],\n",
       "        [b'en:cocoa-and-its-products', b'en:sweet-snacks', b'en:snacks',\n",
       "         ..., b'en:confectioneries', b'en:chocolate-candies',\n",
       "         b'en:bonbons']], dtype=object)>)"
      ]
     },
     "execution_count": 67,
     "metadata": {},
     "output_type": "execute_result"
    }
   ],
   "source": [
    "# This is the function exported as the default serving function in our saved model\n",
    "top_preds_test = top_labeled_predictions(preds_test, labels, k=7)\n",
    "top_preds_test"
   ]
  },
  {
   "cell_type": "code",
   "execution_count": 68,
   "id": "2df9fcc3",
   "metadata": {
    "id": "2df9fcc3",
    "outputId": "ae0b7652-98b7-44df-d2f2-6367e21a1743"
   },
   "outputs": [
    {
     "name": "stdout",
     "output_type": "stream",
     "text": [
      "CPU times: user 27.9 s, sys: 3.52 s, total: 31.4 s\n",
      "Wall time: 17.4 s\n"
     ]
    },
    {
     "data": {
      "text/html": [
       "<div>\n",
       "<style scoped>\n",
       "    .dataframe tbody tr th:only-of-type {\n",
       "        vertical-align: middle;\n",
       "    }\n",
       "\n",
       "    .dataframe tbody tr th {\n",
       "        vertical-align: top;\n",
       "    }\n",
       "\n",
       "    .dataframe thead th {\n",
       "        text-align: right;\n",
       "    }\n",
       "</style>\n",
       "<table border=\"1\" class=\"dataframe\">\n",
       "  <thead>\n",
       "    <tr style=\"text-align: right;\">\n",
       "      <th></th>\n",
       "      <th>code</th>\n",
       "      <th>product_name</th>\n",
       "      <th>top prediction 1</th>\n",
       "      <th>top prediction 2</th>\n",
       "      <th>top prediction 3</th>\n",
       "      <th>top prediction 4</th>\n",
       "      <th>top prediction 5</th>\n",
       "      <th>top prediction 6</th>\n",
       "      <th>top prediction 7</th>\n",
       "    </tr>\n",
       "  </thead>\n",
       "  <tbody>\n",
       "    <tr>\n",
       "      <th>0</th>\n",
       "      <td>0637793029422</td>\n",
       "      <td>Blueberry preserve</td>\n",
       "      <td>en:breakfasts: 99.35%</td>\n",
       "      <td>en:plant-based-foods-and-beverages: 99.15%</td>\n",
       "      <td>en:spreads: 98.81%</td>\n",
       "      <td>en:sweet-spreads: 98.66%</td>\n",
       "      <td>en:plant-based-spreads: 98.53%</td>\n",
       "      <td>en:plant-based-foods: 98.52%</td>\n",
       "      <td>en:fruit-and-vegetable-preserves: 97.94%</td>\n",
       "    </tr>\n",
       "    <tr>\n",
       "      <th>1</th>\n",
       "      <td>5400141381191</td>\n",
       "      <td>Mousseline de pommes</td>\n",
       "      <td>en:compotes: 96.43%</td>\n",
       "      <td>en:fruits-and-vegetables-based-foods: 93.07%</td>\n",
       "      <td>en:desserts: 92.19%</td>\n",
       "      <td>en:plant-based-foods: 90.72%</td>\n",
       "      <td>en:apple-compotes: 90.68%</td>\n",
       "      <td>en:plant-based-foods-and-beverages: 88.73%</td>\n",
       "      <td>en:fruits-based-foods: 87.61%</td>\n",
       "    </tr>\n",
       "    <tr>\n",
       "      <th>2</th>\n",
       "      <td>3250392084080</td>\n",
       "      <td>Choux-Fleurs Bio</td>\n",
       "      <td>en:plant-based-foods: 96.77%</td>\n",
       "      <td>en:leaf-vegetables: 95.88%</td>\n",
       "      <td>en:fruits-and-vegetables-based-foods: 95.05%</td>\n",
       "      <td>en:plant-based-foods-and-beverages: 93.72%</td>\n",
       "      <td>en:vegetables-based-foods: 89.60%</td>\n",
       "      <td>en:frozen-vegetables: 80.53%</td>\n",
       "      <td>en:frozen-cauliflower-florets: 73.55%</td>\n",
       "    </tr>\n",
       "    <tr>\n",
       "      <th>3</th>\n",
       "      <td>8425275510085</td>\n",
       "      <td>Aceite de oliva virgen extra</td>\n",
       "      <td>en:vegetable-oils: 99.99%</td>\n",
       "      <td>en:vegetable-fats: 99.98%</td>\n",
       "      <td>en:olive-oils: 99.98%</td>\n",
       "      <td>en:fats: 99.97%</td>\n",
       "      <td>en:virgin-olive-oils: 99.96%</td>\n",
       "      <td>en:extra-virgin-olive-oils: 99.96%</td>\n",
       "      <td>en:plant-based-foods-and-beverages: 99.89%</td>\n",
       "    </tr>\n",
       "    <tr>\n",
       "      <th>4</th>\n",
       "      <td>4260193516047</td>\n",
       "      <td>Yörem Ayran</td>\n",
       "      <td>en:dairies: 99.55%</td>\n",
       "      <td>en:beverages: 96.00%</td>\n",
       "      <td>en:fermented-milk-products: 95.77%</td>\n",
       "      <td>en:fermented-foods: 93.69%</td>\n",
       "      <td>en:dairy-drinks: 91.52%</td>\n",
       "      <td>en:fermented-milk-drinks: 90.12%</td>\n",
       "      <td>en:fermented-drinks: 86.42%</td>\n",
       "    </tr>\n",
       "    <tr>\n",
       "      <th>...</th>\n",
       "      <td>...</td>\n",
       "      <td>...</td>\n",
       "      <td>...</td>\n",
       "      <td>...</td>\n",
       "      <td>...</td>\n",
       "      <td>...</td>\n",
       "      <td>...</td>\n",
       "      <td>...</td>\n",
       "      <td>...</td>\n",
       "    </tr>\n",
       "    <tr>\n",
       "      <th>85755</th>\n",
       "      <td>8410500021757</td>\n",
       "      <td>Oikos tentaciones tarta de arándanos</td>\n",
       "      <td>en:dairies: 96.64%</td>\n",
       "      <td>en:yogurts: 96.20%</td>\n",
       "      <td>en:fermented-milk-products: 95.97%</td>\n",
       "      <td>en:fermented-foods: 94.73%</td>\n",
       "      <td>en:greek-style-yogurts: 59.09%</td>\n",
       "      <td>en:desserts: 25.89%</td>\n",
       "      <td>en:biscuits-and-cakes: 10.73%</td>\n",
       "    </tr>\n",
       "    <tr>\n",
       "      <th>85756</th>\n",
       "      <td>0810176020524</td>\n",
       "      <td>Beef jerky</td>\n",
       "      <td>en:snacks: 75.20%</td>\n",
       "      <td>en:dried-meats: 50.71%</td>\n",
       "      <td>en:beef-jerkies: 33.52%</td>\n",
       "      <td>en:meats: 26.49%</td>\n",
       "      <td>en:frozen-foods: 0.89%</td>\n",
       "      <td>en:meals: 0.52%</td>\n",
       "      <td>en:prepared-meats: 0.29%</td>\n",
       "    </tr>\n",
       "    <tr>\n",
       "      <th>85757</th>\n",
       "      <td>4820003487471</td>\n",
       "      <td>ідеаль немолоко вівсяне</td>\n",
       "      <td>en:plant-based-foods: 30.30%</td>\n",
       "      <td>en:plant-based-foods-and-beverages: 29.24%</td>\n",
       "      <td>en:snacks: 18.32%</td>\n",
       "      <td>en:beverages: 11.30%</td>\n",
       "      <td>en:cereals-and-potatoes: 10.46%</td>\n",
       "      <td>en:sweet-snacks: 7.46%</td>\n",
       "      <td>en:cereals-and-their-products: 6.98%</td>\n",
       "    </tr>\n",
       "    <tr>\n",
       "      <th>85758</th>\n",
       "      <td>7613269520931</td>\n",
       "      <td>Mozzarella</td>\n",
       "      <td>en:fermented-milk-products: 98.43%</td>\n",
       "      <td>en:fermented-foods: 97.56%</td>\n",
       "      <td>en:stretched-curd-cheeses: 97.44%</td>\n",
       "      <td>en:cheeses: 97.26%</td>\n",
       "      <td>en:dairies: 97.17%</td>\n",
       "      <td>en:italian-cheeses: 97.00%</td>\n",
       "      <td>en:mozzarella: 96.07%</td>\n",
       "    </tr>\n",
       "    <tr>\n",
       "      <th>85759</th>\n",
       "      <td>3770012174200</td>\n",
       "      <td>Coffret Verres en Chocolat</td>\n",
       "      <td>en:cocoa-and-its-products: 96.26%</td>\n",
       "      <td>en:sweet-snacks: 91.93%</td>\n",
       "      <td>en:snacks: 84.67%</td>\n",
       "      <td>en:chocolates: 51.16%</td>\n",
       "      <td>en:confectioneries: 31.03%</td>\n",
       "      <td>en:chocolate-candies: 27.61%</td>\n",
       "      <td>en:bonbons: 11.58%</td>\n",
       "    </tr>\n",
       "  </tbody>\n",
       "</table>\n",
       "<p>85760 rows × 9 columns</p>\n",
       "</div>"
      ],
      "text/plain": [
       "                code                          product_name  \\\n",
       "0      0637793029422                    Blueberry preserve   \n",
       "1      5400141381191                  Mousseline de pommes   \n",
       "2      3250392084080                      Choux-Fleurs Bio   \n",
       "3      8425275510085          Aceite de oliva virgen extra   \n",
       "4      4260193516047                           Yörem Ayran   \n",
       "...              ...                                   ...   \n",
       "85755  8410500021757  Oikos tentaciones tarta de arándanos   \n",
       "85756  0810176020524                            Beef jerky   \n",
       "85757  4820003487471               ідеаль немолоко вівсяне   \n",
       "85758  7613269520931                            Mozzarella   \n",
       "85759  3770012174200            Coffret Verres en Chocolat   \n",
       "\n",
       "                         top prediction 1  \\\n",
       "0                   en:breakfasts: 99.35%   \n",
       "1                     en:compotes: 96.43%   \n",
       "2            en:plant-based-foods: 96.77%   \n",
       "3               en:vegetable-oils: 99.99%   \n",
       "4                      en:dairies: 99.55%   \n",
       "...                                   ...   \n",
       "85755                  en:dairies: 96.64%   \n",
       "85756                   en:snacks: 75.20%   \n",
       "85757        en:plant-based-foods: 30.30%   \n",
       "85758  en:fermented-milk-products: 98.43%   \n",
       "85759   en:cocoa-and-its-products: 96.26%   \n",
       "\n",
       "                                   top prediction 2  \\\n",
       "0        en:plant-based-foods-and-beverages: 99.15%   \n",
       "1      en:fruits-and-vegetables-based-foods: 93.07%   \n",
       "2                        en:leaf-vegetables: 95.88%   \n",
       "3                         en:vegetable-fats: 99.98%   \n",
       "4                              en:beverages: 96.00%   \n",
       "...                                             ...   \n",
       "85755                            en:yogurts: 96.20%   \n",
       "85756                        en:dried-meats: 50.71%   \n",
       "85757    en:plant-based-foods-and-beverages: 29.24%   \n",
       "85758                    en:fermented-foods: 97.56%   \n",
       "85759                       en:sweet-snacks: 91.93%   \n",
       "\n",
       "                                   top prediction 3  \\\n",
       "0                                en:spreads: 98.81%   \n",
       "1                               en:desserts: 92.19%   \n",
       "2      en:fruits-and-vegetables-based-foods: 95.05%   \n",
       "3                             en:olive-oils: 99.98%   \n",
       "4                en:fermented-milk-products: 95.77%   \n",
       "...                                             ...   \n",
       "85755            en:fermented-milk-products: 95.97%   \n",
       "85756                       en:beef-jerkies: 33.52%   \n",
       "85757                             en:snacks: 18.32%   \n",
       "85758             en:stretched-curd-cheeses: 97.44%   \n",
       "85759                             en:snacks: 84.67%   \n",
       "\n",
       "                                 top prediction 4  \\\n",
       "0                        en:sweet-spreads: 98.66%   \n",
       "1                    en:plant-based-foods: 90.72%   \n",
       "2      en:plant-based-foods-and-beverages: 93.72%   \n",
       "3                                 en:fats: 99.97%   \n",
       "4                      en:fermented-foods: 93.69%   \n",
       "...                                           ...   \n",
       "85755                  en:fermented-foods: 94.73%   \n",
       "85756                            en:meats: 26.49%   \n",
       "85757                        en:beverages: 11.30%   \n",
       "85758                          en:cheeses: 97.26%   \n",
       "85759                       en:chocolates: 51.16%   \n",
       "\n",
       "                        top prediction 5  \\\n",
       "0         en:plant-based-spreads: 98.53%   \n",
       "1              en:apple-compotes: 90.68%   \n",
       "2      en:vegetables-based-foods: 89.60%   \n",
       "3           en:virgin-olive-oils: 99.96%   \n",
       "4                en:dairy-drinks: 91.52%   \n",
       "...                                  ...   \n",
       "85755     en:greek-style-yogurts: 59.09%   \n",
       "85756             en:frozen-foods: 0.89%   \n",
       "85757    en:cereals-and-potatoes: 10.46%   \n",
       "85758                 en:dairies: 97.17%   \n",
       "85759         en:confectioneries: 31.03%   \n",
       "\n",
       "                                 top prediction 6  \\\n",
       "0                    en:plant-based-foods: 98.52%   \n",
       "1      en:plant-based-foods-and-beverages: 88.73%   \n",
       "2                    en:frozen-vegetables: 80.53%   \n",
       "3              en:extra-virgin-olive-oils: 99.96%   \n",
       "4                en:fermented-milk-drinks: 90.12%   \n",
       "...                                           ...   \n",
       "85755                         en:desserts: 25.89%   \n",
       "85756                             en:meals: 0.52%   \n",
       "85757                      en:sweet-snacks: 7.46%   \n",
       "85758                  en:italian-cheeses: 97.00%   \n",
       "85759                en:chocolate-candies: 27.61%   \n",
       "\n",
       "                                 top prediction 7  \n",
       "0        en:fruit-and-vegetable-preserves: 97.94%  \n",
       "1                   en:fruits-based-foods: 87.61%  \n",
       "2           en:frozen-cauliflower-florets: 73.55%  \n",
       "3      en:plant-based-foods-and-beverages: 99.89%  \n",
       "4                     en:fermented-drinks: 86.42%  \n",
       "...                                           ...  \n",
       "85755               en:biscuits-and-cakes: 10.73%  \n",
       "85756                    en:prepared-meats: 0.29%  \n",
       "85757        en:cereals-and-their-products: 6.98%  \n",
       "85758                       en:mozzarella: 96.07%  \n",
       "85759                          en:bonbons: 11.58%  \n",
       "\n",
       "[85760 rows x 9 columns]"
      ]
     },
     "execution_count": 68,
     "metadata": {},
     "output_type": "execute_result"
    }
   ],
   "source": [
    "%%time\n",
    "\n",
    "# Same data, but pretty\n",
    "pred_table_test = top_predictions_table(top_preds_test)\n",
    "\n",
    "# Add some interpretable features to the final table\n",
    "# Table must be row-aligned with predictions above (= taken from same data sample)\n",
    "extra_cols_test = as_dataframe(select_features(ds_test, ['code', 'product_name']))\n",
    "\n",
    "pd.concat([extra_cols_test, pred_table_test], axis=1)"
   ]
  },
  {
   "cell_type": "code",
   "execution_count": 69,
   "id": "fb2d9a2d",
   "metadata": {
    "id": "fb2d9a2d",
    "outputId": "90dbfeb2-dcbb-4459-83fd-4da37ee23f1a"
   },
   "outputs": [
    {
     "name": "stderr",
     "output_type": "stream",
     "text": [
      "[codecarbon WARNING @ 07:34:16] Background scheduler didn't run for a long period (167135s), results might be inaccurate\n"
     ]
    },
    {
     "data": {
      "text/plain": [
       "0.029735942818707534"
      ]
     },
     "execution_count": 69,
     "metadata": {},
     "output_type": "execute_result"
    }
   ],
   "source": [
    "# codecarbon - stop tracking\n",
    "tracker.stop()"
   ]
  },
  {
   "cell_type": "code",
   "execution_count": null,
   "metadata": {},
   "outputs": [],
   "source": []
  }
 ],
 "metadata": {
  "colab": {
   "collapsed_sections": [],
   "name": "Copy of Train.ipynb",
   "provenance": []
  },
  "kernelspec": {
   "display_name": "Python 3",
   "language": "python",
   "name": "python3"
  },
  "language_info": {
   "codemirror_mode": {
    "name": "ipython",
    "version": 3
   },
   "file_extension": ".py",
   "mimetype": "text/x-python",
   "name": "python",
   "nbconvert_exporter": "python",
   "pygments_lexer": "ipython3",
   "version": "3.8.10"
  },
  "toc": {
   "base_numbering": 1,
   "nav_menu": {},
   "number_sections": false,
   "sideBar": true,
   "skip_h1_title": false,
   "title_cell": "Table of Contents",
   "title_sidebar": "Contents",
   "toc_cell": false,
   "toc_position": {},
   "toc_section_display": true,
   "toc_window_display": true
  }
 },
 "nbformat": 4,
 "nbformat_minor": 5
}
