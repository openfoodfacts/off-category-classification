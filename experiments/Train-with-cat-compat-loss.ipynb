{
 "cells": [
  {
   "cell_type": "markdown",
   "id": "064e2d60",
   "metadata": {
    "id": "064e2d60"
   },
   "source": [
    "# INDEX\n",
    "* [Imports and functions](#Imports-and-functions)\n",
    "* [Configuration](#Configuration)\n",
    "* [Prepare dataset](#Prepare-dataset)\n",
    "* [Build model](#Build-model)\n",
    "    * [Model inputs](#Model-inputs)\n",
    "    * [Model output](#Model-output)\n",
    "    * [Model](#Model)\n",
    "* [Train model](#Train-model)\n",
    "    * [Save model and resources](#Save-model-and-resources)\n",
    "    * [Training stats](#Training-stats)\n",
    "* [Test model](#Test-model)\n",
    "    * [Predict with training model](#Predict-with-training-model)\n",
    "    * [Predict with serving model](#Predict-with-serving-model)"
   ]
  },
  {
   "cell_type": "code",
   "execution_count": 1,
   "id": "1010d9ca",
   "metadata": {
    "colab": {
     "base_uri": "https://localhost:8080/"
    },
    "id": "1010d9ca",
    "outputId": "04b785ef-7624-4e87-8823-39f74c3e4a25"
   },
   "outputs": [],
   "source": [
    "try:\n",
    "  import google.colab\n",
    "  IN_COLAB = True\n",
    "except:\n",
    "  IN_COLAB = False\n",
    "# eventual initialization for collab notebooks\n",
    "if IN_COLAB:\n",
    "  # we try hard to be re-entrant,\n",
    "  # that is to be able to rerun this without cloning repository more than once\n",
    "  COLAB_BRANCH = \"master\"\n",
    "  !curl https://raw.githubusercontent.com/openfoodfacts/off-category-classification/$COLAB_BRANCH/lib/colab.py --output /content/colab.py\n",
    "  !cd /content && python /content/colab.py $COLAB_BRANCH\n",
    "  %cd /content/off-category-classification/experiments"
   ]
  },
  {
   "cell_type": "code",
   "execution_count": 2,
   "id": "9bcfaa2d",
   "metadata": {
    "colab": {
     "base_uri": "https://localhost:8080/"
    },
    "id": "9bcfaa2d",
    "outputId": "1690c114-a942-48f6-8a42-1bfb75de6d92",
    "scrolled": true
   },
   "outputs": [
    {
     "name": "stderr",
     "output_type": "stream",
     "text": [
      "[codecarbon ERROR @ 10:07:12] Unable to read Intel RAPL files for CPU power, we will use a constant for your CPU power. Please view https://github.com/mlco2/codecarbon/issues/244 for workarounds : [Errno 13] Permission denied: '/sys/class/powercap/intel-rapl/intel-rapl:1/energy_uj'\n",
      "[codecarbon ERROR @ 10:07:12] Unable to read Intel RAPL files for CPU power, we will use a constant for your CPU power. Please view https://github.com/mlco2/codecarbon/issues/244 for workarounds : [Errno 13] Permission denied: '/sys/class/powercap/intel-rapl/intel-rapl:0/energy_uj'\n",
      "[codecarbon ERROR @ 10:07:13] Unable to read Intel RAPL files for CPU power, we will use a constant for your CPU power. Please view https://github.com/mlco2/codecarbon/issues/244 for workarounds : [Errno 13] Permission denied: '/sys/class/powercap/intel-rapl/intel-rapl:1/energy_uj'\n",
      "[codecarbon ERROR @ 10:07:13] Unable to read Intel RAPL files for CPU power, we will use a constant for your CPU power. Please view https://github.com/mlco2/codecarbon/issues/244 for workarounds : [Errno 13] Permission denied: '/sys/class/powercap/intel-rapl/intel-rapl:0/energy_uj'\n"
     ]
    }
   ],
   "source": [
    "# codecarbon - start tracking\n",
    "from codecarbon import EmissionsTracker\n",
    "\n",
    "tracker = EmissionsTracker(log_level = \"WARNING\", save_to_api = True, experiment_id = \"6d2c8401-afba-42de-9600-6e95bea5fd80\")\n",
    "tracker.start()"
   ]
  },
  {
   "cell_type": "markdown",
   "id": "d481d404",
   "metadata": {
    "id": "d481d404"
   },
   "source": [
    "# Imports"
   ]
  },
  {
   "cell_type": "code",
   "execution_count": 3,
   "id": "80c4f3c2",
   "metadata": {
    "id": "80c4f3c2"
   },
   "outputs": [],
   "source": [
    "import sys\n",
    "sys.path.append('../') # append a relative path to the top package to the search path"
   ]
  },
  {
   "cell_type": "code",
   "execution_count": 4,
   "id": "fda92a68",
   "metadata": {
    "id": "fda92a68"
   },
   "outputs": [
    {
     "name": "stderr",
     "output_type": "stream",
     "text": [
      "2022-06-09 10:07:17.090737: W tensorflow/stream_executor/platform/default/dso_loader.cc:64] Could not load dynamic library 'libcudart.so.11.0'; dlerror: libcudart.so.11.0: cannot open shared object file: No such file or directory\n",
      "2022-06-09 10:07:17.090756: I tensorflow/stream_executor/cuda/cudart_stub.cc:29] Ignore above cudart dlerror if you do not have a GPU set up on your machine.\n",
      "/home/alex/docker/off-category-classification/.venv/lib/python3.9/site-packages/tqdm/auto.py:22: TqdmWarning: IProgress not found. Please update jupyter and ipywidgets. See https://ipywidgets.readthedocs.io/en/stable/user_install.html\n",
      "  from .autonotebook import tqdm as notebook_tqdm\n"
     ]
    }
   ],
   "source": [
    "import pathlib\n",
    "\n",
    "import matplotlib.pyplot as plt\n",
    "import pandas as pd\n",
    "import tensorflow as tf\n",
    "import tensorflow_datasets as tfds\n",
    "from tensorflow.keras import callbacks, layers\n",
    "from tensorflow.keras.utils import plot_model\n",
    "\n",
    "from lib.dataset import *\n",
    "from lib.directories import init_cache_dir, init_model_dir\n",
    "from lib.eval import top_predictions\n",
    "from lib.io import load_training_model, load_serving_model, save_model_bundle\n",
    "from lib.plot import plot_training_stat"
   ]
  },
  {
   "cell_type": "markdown",
   "id": "b1bfc7ed",
   "metadata": {
    "id": "b1bfc7ed"
   },
   "source": [
    "# Configuration"
   ]
  },
  {
   "cell_type": "code",
   "execution_count": 5,
   "id": "a92c3dd7",
   "metadata": {
    "id": "a92c3dd7",
    "scrolled": true
   },
   "outputs": [],
   "source": [
    "MODEL_BASE_DIR = pathlib.Path('../model')\n",
    "CACHE_DIR = pathlib.Path('../tensorflow_cache')\n",
    "\n",
    "PREPROC_BATCH_SIZE = 10_000  # some large value, only affects execution time\n",
    "\n",
    "# splits are handled by `tfds.load`, see doc for more elaborate ways to sample\n",
    "TRAIN_SPLIT = 'train[:5%]'\n",
    "VAL_SPLIT = 'train[6%:8%]'\n",
    "TEST_SPLIT = 'train[8%:10%]'"
   ]
  },
  {
   "cell_type": "markdown",
   "id": "24785109",
   "metadata": {
    "id": "24785109"
   },
   "source": [
    "# Prepare dataset\n",
    "\n",
    "Run this once to fetch, build and cache the dataset.\n",
    "Further runs will be no-ops, unless you force operations (see TFDS doc).\n",
    "\n",
    "Once this is done, `load_dataset('off_categories', ...)` to access the dataset."
   ]
  },
  {
   "cell_type": "code",
   "execution_count": 6,
   "id": "cda1dad4",
   "metadata": {
    "id": "cda1dad4"
   },
   "outputs": [],
   "source": [
    "import datasets.off_categories\n",
    "\n",
    "builder = tfds.builder('off_categories')\n",
    "builder.download_and_prepare()\n",
    "\n",
    "# Or run via command line (if `tfds` is in the path):\n",
    "# !cd ../datasets && tfds build off_categories"
   ]
  },
  {
   "cell_type": "markdown",
   "id": "eb92b58e",
   "metadata": {
    "id": "eb92b58e"
   },
   "source": [
    "# Build model"
   ]
  },
  {
   "cell_type": "code",
   "execution_count": 7,
   "id": "2ee58091",
   "metadata": {
    "id": "2ee58091"
   },
   "outputs": [],
   "source": [
    "tf.random.set_seed(42)"
   ]
  },
  {
   "cell_type": "markdown",
   "id": "0tuxWcGd9S4o",
   "metadata": {
    "id": "0tuxWcGd9S4o"
   },
   "source": [
    "# Taxonomy information"
   ]
  },
  {
   "cell_type": "code",
   "execution_count": 8,
   "id": "n3X2mBfABrPg",
   "metadata": {
    "id": "n3X2mBfABrPg"
   },
   "outputs": [],
   "source": [
    "import networkx as nx\n",
    "\n",
    "class Taxonomy:\n",
    "\n",
    "  def __init__(self, graph):\n",
    "    self.graph = graph\n",
    "\n",
    "  @classmethod\n",
    "  def from_data(cls, data):\n",
    "    graph = nx.DiGraph()    \n",
    "    nodes = []\n",
    "    edges = []\n",
    "    for elem in data:\n",
    "        nodes.append(elem)\n",
    "        # we prefer to have child relation, so we put parent first\n",
    "        edges.extend((parent, elem) for parent in data[elem]['parents'])\n",
    "    graph.add_nodes_from(nodes)\n",
    "    graph.add_edges_from(edges)\n",
    "    return cls(graph)\n",
    "\n",
    "  def ancestors(self, cat):\n",
    "    return nx.ancestors(self.graph, cat)\n",
    "\n",
    "  def descendants(self, cat):\n",
    "    return nx.descendants(self.graph, cat)\n",
    "\n",
    "  def cats_compat(self, cats):\n",
    "    \"\"\"Define the compatible and incompatible categories for a list of categories\n",
    "\n",
    "    The idea is that we don't want to penalize categories that are found by the model,\n",
    "    because it goes deeper than the \n",
    "    \"\"\"\n",
    "    # we have two types of categories, the one that have no children in the set\n",
    "    # they are leaf\n",
    "    scats = frozenset(cats)\n",
    "    leafs = frozenset(c for c in cats if not (frozenset(self.descendants(c)) & scats))\n",
    "    # and the one that have children in the set\n",
    "    parents = frozenset(c for c in cats if c not in leafs)\n",
    "    # A category not in the set is compatible \n",
    "    # if it is descendant of one of the leaf\n",
    "    compatibles = frozenset(descendant for c in leafs for descendant in self.descendants(c))\n",
    "    # compatibles = frozenset(c for c in self.graph if frozenset(self.ancestors(c)) & leafs)\n",
    "    return compatibles\n",
    "\n",
    "  def cats_filter(self, categories_vocab):\n",
    "    \"\"\"intersect categories vocabulary with taxonomy known categories\"\"\"\n",
    "    return [c for c in categories_vocab if c in self.graph]"
   ]
  },
  {
   "cell_type": "code",
   "execution_count": 9,
   "id": "_xyNEEVDDROO",
   "metadata": {
    "colab": {
     "base_uri": "https://localhost:8080/"
    },
    "id": "_xyNEEVDDROO",
    "outputId": "11f97012-b462-402c-822e-bd7b1794e64b"
   },
   "outputs": [
    {
     "name": "stdout",
     "output_type": "stream",
     "text": [
      "category_taxonomy.json\r\n"
     ]
    }
   ],
   "source": [
    "import json\n",
    "! ls category_taxonomy.json || wget https://github.com/openfoodfacts/robotoff-models/releases/download/keras-category-classifier-xx-2.0/category_taxonomy.json\n",
    "\n",
    "taxo = Taxonomy.from_data(json.load(open('category_taxonomy.json')))"
   ]
  },
  {
   "cell_type": "markdown",
   "id": "993bb1d8",
   "metadata": {
    "id": "993bb1d8"
   },
   "source": [
    "## Model inputs"
   ]
  },
  {
   "cell_type": "code",
   "execution_count": 10,
   "id": "531185de",
   "metadata": {
    "id": "531185de"
   },
   "outputs": [],
   "source": [
    "# we use dicts so rerunning individual model cells is idempotent\n",
    "inputs = {}\n",
    "input_graphs = {}"
   ]
  },
  {
   "cell_type": "code",
   "execution_count": 11,
   "id": "8353a5f1",
   "metadata": {
    "id": "8353a5f1"
   },
   "outputs": [
    {
     "name": "stderr",
     "output_type": "stream",
     "text": [
      "2022-06-09 10:07:18.840082: W tensorflow/stream_executor/platform/default/dso_loader.cc:64] Could not load dynamic library 'libcuda.so.1'; dlerror: libcuda.so.1: cannot open shared object file: No such file or directory\n",
      "2022-06-09 10:07:18.840103: W tensorflow/stream_executor/cuda/cuda_driver.cc:269] failed call to cuInit: UNKNOWN ERROR (303)\n",
      "2022-06-09 10:07:18.840125: I tensorflow/stream_executor/cuda/cuda_diagnostics.cc:156] kernel driver does not appear to be running on this host (tignasse): /proc/driver/nvidia/version does not exist\n",
      "2022-06-09 10:07:18.840426: I tensorflow/core/platform/cpu_feature_guard.cc:142] This TensorFlow binary is optimized with oneAPI Deep Neural Network Library (oneDNN) to use the following CPU instructions in performance-critical operations:  AVX2 FMA\n",
      "To enable them in other operations, rebuild TensorFlow with the appropriate compiler flags.\n"
     ]
    }
   ],
   "source": [
    "ds = load_dataset('off_categories', split=TRAIN_SPLIT)"
   ]
  },
  {
   "cell_type": "code",
   "execution_count": 12,
   "id": "c61fec40",
   "metadata": {
    "colab": {
     "base_uri": "https://localhost:8080/"
    },
    "id": "c61fec40",
    "outputId": "d0abf2ee-a9ff-459b-9450-6c8682f2b187"
   },
   "outputs": [
    {
     "name": "stderr",
     "output_type": "stream",
     "text": [
      "2022-06-09 10:07:19.104028: I tensorflow/compiler/mlir/mlir_graph_optimization_pass.cc:185] None of the MLIR Optimization Passes are enabled (registered 2)\n"
     ]
    },
    {
     "name": "stdout",
     "output_type": "stream",
     "text": [
      "CPU times: user 3.36 s, sys: 913 ms, total: 4.27 s\n",
      "Wall time: 1.22 s\n"
     ]
    },
    {
     "data": {
      "text/plain": [
       "21947"
      ]
     },
     "execution_count": 12,
     "metadata": {},
     "output_type": "execute_result"
    }
   ],
   "source": [
    "%%time\n",
    "\n",
    "feature_name = 'product_name'\n",
    "\n",
    "product_name_input = tf.keras.Input(shape=(1,), dtype=tf.string, name=feature_name)\n",
    "\n",
    "product_name_vectorizer = layers.TextVectorization(\n",
    "    split = 'whitespace',\n",
    "    max_tokens = 93_000,\n",
    "    output_sequence_length = 30)\n",
    "\n",
    "product_name_vectorizer.adapt(\n",
    "    select_feature(ds, feature_name).batch(PREPROC_BATCH_SIZE))\n",
    "\n",
    "x = product_name_vectorizer(product_name_input)\n",
    "\n",
    "x = layers.Embedding(\n",
    "    input_dim = product_name_vectorizer.vocabulary_size(),\n",
    "    output_dim = 64,\n",
    "    mask_zero = False)(x)\n",
    "\n",
    "product_name_graph = layers.Bidirectional(layers.LSTM(\n",
    "    units = 64,\n",
    "    recurrent_dropout = 0.2,\n",
    "    dropout = 0.0))(x)\n",
    "\n",
    "inputs[feature_name] = product_name_input\n",
    "input_graphs[feature_name] = product_name_graph\n",
    "\n",
    "len(product_name_vectorizer.get_vocabulary())"
   ]
  },
  {
   "cell_type": "code",
   "execution_count": 13,
   "id": "bdb0a17d",
   "metadata": {
    "colab": {
     "base_uri": "https://localhost:8080/"
    },
    "id": "bdb0a17d",
    "outputId": "ef5a007d-9a62-44df-e9f6-4fd1a0ae8611"
   },
   "outputs": [
    {
     "name": "stdout",
     "output_type": "stream",
     "text": [
      "CPU times: user 4.11 s, sys: 1.35 s, total: 5.47 s\n",
      "Wall time: 1.07 s\n"
     ]
    },
    {
     "data": {
      "text/plain": [
       "5000"
      ]
     },
     "execution_count": 13,
     "metadata": {},
     "output_type": "execute_result"
    }
   ],
   "source": [
    "%%time\n",
    "\n",
    "feature_name = 'ingredients_tags'\n",
    "\n",
    "ingredients_input = tf.keras.Input(shape=(None,), dtype=tf.string, name=feature_name)\n",
    "\n",
    "ingredients_vocab = get_vocabulary(\n",
    "    flat_batch(select_feature(ds, feature_name), batch_size=PREPROC_BATCH_SIZE),\n",
    "    min_freq = 3,\n",
    "    max_tokens = 5_000)\n",
    "\n",
    "ingredients_graph = layers.StringLookup(\n",
    "    vocabulary = ingredients_vocab,\n",
    "    output_mode = 'multi_hot')(ingredients_input)\n",
    "\n",
    "inputs[feature_name] = ingredients_input\n",
    "input_graphs[feature_name] = ingredients_graph\n",
    "\n",
    "len(ingredients_vocab)"
   ]
  },
  {
   "cell_type": "markdown",
   "id": "db8a30f1",
   "metadata": {
    "id": "db8a30f1"
   },
   "source": [
    "## Model output"
   ]
  },
  {
   "cell_type": "code",
   "execution_count": 14,
   "id": "1d3426e3",
   "metadata": {
    "colab": {
     "base_uri": "https://localhost:8080/"
    },
    "id": "1d3426e3",
    "outputId": "44a812c9-7989-4e97-ab16-356a705098a6"
   },
   "outputs": [
    {
     "name": "stdout",
     "output_type": "stream",
     "text": [
      "CPU times: user 3.94 s, sys: 1.29 s, total: 5.23 s\n",
      "Wall time: 977 ms\n"
     ]
    },
    {
     "data": {
      "text/plain": [
       "1201"
      ]
     },
     "execution_count": 14,
     "metadata": {},
     "output_type": "execute_result"
    }
   ],
   "source": [
    "%%time\n",
    "\n",
    "from lib.dataset import filter_empty_labels, get_vocabulary, flat_batch, select_feature\n",
    "\n",
    "labels = 'categories_tags'\n",
    "\n",
    "categories_vocab = get_vocabulary(\n",
    "    flat_batch(select_feature(ds, labels), batch_size=PREPROC_BATCH_SIZE),\n",
    "    min_freq = 10)\n",
    "\n",
    "# intersect with taxonomy vocab\n",
    "categories_vocab = taxo.cats_filter(categories_vocab)\n",
    "\n",
    "\n",
    "# StringLookup(output_mode='multi_hot') mode requires num_oov_indices >= 1.\n",
    "# We don't want OOVs in the categories_tags output layer, since it wouldn't make\n",
    "# sense to predict OOV. So we'll drop the OOV in _transform below.\n",
    "# Be careful when using StringLookup methods, some of them will return values\n",
    "# based on a vocabulary with OOV (e.g. vocabulary_size()). Keep this in mind when\n",
    "# mapping predictions back to the original vocabulary.\n",
    "categories_multihot = layers.StringLookup(\n",
    "    vocabulary = categories_vocab,\n",
    "    output_mode = 'multi_hot',\n",
    "    num_oov_indices = 1)\n",
    "\n",
    "\n",
    "\n",
    "len(categories_vocab)"
   ]
  },
  {
   "cell_type": "code",
   "execution_count": 15,
   "id": "oHGH13kljdia",
   "metadata": {
    "id": "oHGH13kljdia"
   },
   "outputs": [],
   "source": [
    "def add_compatible_categories(ds: tf.data.Dataset):\n",
    "\n",
    "    def get_compat(cats):\n",
    "      cats_list = [c.decode(\"utf-8\") for c in cats.numpy()]\n",
    "      result = list(taxo.cats_compat(taxo.cats_filter(cats_list)))\n",
    "      return tf.constant(result, dtype=tf.string)\n",
    "\n",
    "    def _transform(x, y):\n",
    "        x[\"compat\"] = tf.py_function(func=get_compat, inp=[y], Tout=tf.string)\n",
    "        # make shape clear to avoid failing at compile time on next steps\n",
    "        x[\"compat\"] = tf.reshape(x[\"compat\"], [-1])\n",
    "        return (x, y)\n",
    "    # apply to dataset\n",
    "    return (\n",
    "        ds\n",
    "        .map(_transform, num_parallel_calls=tf.data.AUTOTUNE, deterministic=True)\n",
    "    )"
   ]
  },
  {
   "cell_type": "code",
   "execution_count": 16,
   "id": "uxJNyoNk0Yv3",
   "metadata": {
    "id": "uxJNyoNk0Yv3"
   },
   "outputs": [],
   "source": [
    "def categories_encode(ds: tf.data.Dataset):\n",
    "    \"\"\"encode categories\n",
    "    \n",
    "    - as multi-hot for y\n",
    "    - as a mask for \"compat\" feature\n",
    "    \"\"\"\n",
    "\n",
    "    @tf.function\n",
    "    @tf.autograph.experimental.do_not_convert\n",
    "    def _transform(x, y):\n",
    "        y = categories_multihot(y)\n",
    "        y = y[1:]  # drop OOV\n",
    "        if \"compat\" in x:\n",
    "          # vector where compat categories are 1\n",
    "          binarized = categories_multihot(x[\"compat\"])\n",
    "          binarized = binarized[1:]  # drop OOV\n",
    "          # make it a mask where compatibles are 0, the rest one\n",
    "          binarized = tf.ones(binarized.shape, dtype=tf.float32) - binarized\n",
    "          # make a new ds (we can't modify current x)\n",
    "          x = dict(\n",
    "            x,\n",
    "            compat=binarized,\n",
    "          )\n",
    "        return (x, y)\n",
    "\n",
    "    # applies to non-batched dataset\n",
    "    return (\n",
    "        ds\n",
    "        .map(_transform, num_parallel_calls=tf.data.AUTOTUNE, deterministic=True)\n",
    "        .apply(filter_empty_labels)\n",
    "    )\n"
   ]
  },
  {
   "cell_type": "markdown",
   "id": "5d3c2786",
   "metadata": {
    "id": "5d3c2786"
   },
   "source": [
    "## Model"
   ]
  },
  {
   "cell_type": "code",
   "execution_count": 17,
   "id": "2c01763d",
   "metadata": {},
   "outputs": [],
   "source": [
    "class MaskingModel(tf.keras.Model):\n",
    "  \"\"\"A model that applies a mask taken \n",
    "  from features to y_pred before computing loss\n",
    "  \"\"\"\n",
    "\n",
    "  def __init__(self, *args, mask_feature=\"compat\", **kwargs):\n",
    "    super().__init__(*args, **kwargs)\n",
    "    self.mask_feature = mask_feature\n",
    "\n",
    "  def compute_loss(self, x=None, y=None, y_pred=None, sample_weight=None):\n",
    "    # first mask categories we do not want using the compat feature\n",
    "    mask = x[self.mask_feature]\n",
    "    # zeros mask_feature in y_pred, as we know they are not in y_pred\n",
    "    y_pred *= mask\n",
    "    return super().compute_loss(x, y, y_pred, sample_weight)"
   ]
  },
  {
   "cell_type": "code",
   "execution_count": 18,
   "id": "8b498ee3",
   "metadata": {
    "id": "8b498ee3"
   },
   "outputs": [],
   "source": [
    "# ensure final order is independent of cell execution/insertion order\n",
    "features = sorted(inputs.keys())\n",
    "\n",
    "x = layers.Concatenate()([input_graphs[k] for k in features])\n",
    "x = layers.Dropout(0.2)(x)\n",
    "x = layers.Dense(64)(x)\n",
    "x = layers.Dropout(0.2)(x)\n",
    "x = layers.Activation('relu')(x)\n",
    "output = layers.Dense(len(categories_vocab), activation='sigmoid')(x)\n",
    "\n",
    "model = MaskingModel(inputs=[inputs[k] for k in features], outputs=[output])\n",
    "\n",
    "model.compile(\n",
    "    optimizer = tf.keras.optimizers.Adam(learning_rate=0.001),\n",
    "    loss = tf.keras.losses.BinaryCrossentropy(label_smoothing=0.0),\n",
    "    metrics = ['binary_accuracy', 'Precision', 'Recall']\n",
    ")"
   ]
  },
  {
   "cell_type": "code",
   "execution_count": 19,
   "id": "a5df8ca2",
   "metadata": {
    "colab": {
     "base_uri": "https://localhost:8080/"
    },
    "id": "a5df8ca2",
    "outputId": "8a0ce0c4-b193-495f-a189-1b0e4c523f67"
   },
   "outputs": [
    {
     "name": "stdout",
     "output_type": "stream",
     "text": [
      "Model: \"masking_model\"\n",
      "__________________________________________________________________________________________________\n",
      "Layer (type)                    Output Shape         Param #     Connected to                     \n",
      "==================================================================================================\n",
      "product_name (InputLayer)       [(None, 1)]          0                                            \n",
      "__________________________________________________________________________________________________\n",
      "text_vectorization (TextVectori (None, 30)           0           product_name[0][0]               \n",
      "__________________________________________________________________________________________________\n",
      "ingredients_tags (InputLayer)   [(None, None)]       0                                            \n",
      "__________________________________________________________________________________________________\n",
      "embedding (Embedding)           (None, 30, 64)       1404608     text_vectorization[0][0]         \n",
      "__________________________________________________________________________________________________\n",
      "string_lookup_1 (StringLookup)  (None, 5001)         0           ingredients_tags[0][0]           \n",
      "__________________________________________________________________________________________________\n",
      "bidirectional (Bidirectional)   (None, 128)          66048       embedding[0][0]                  \n",
      "__________________________________________________________________________________________________\n",
      "concatenate (Concatenate)       (None, 5129)         0           string_lookup_1[0][0]            \n",
      "                                                                 bidirectional[0][0]              \n",
      "__________________________________________________________________________________________________\n",
      "dropout (Dropout)               (None, 5129)         0           concatenate[0][0]                \n",
      "__________________________________________________________________________________________________\n",
      "dense (Dense)                   (None, 64)           328320      dropout[0][0]                    \n",
      "__________________________________________________________________________________________________\n",
      "dropout_1 (Dropout)             (None, 64)           0           dense[0][0]                      \n",
      "__________________________________________________________________________________________________\n",
      "activation (Activation)         (None, 64)           0           dropout_1[0][0]                  \n",
      "__________________________________________________________________________________________________\n",
      "dense_1 (Dense)                 (None, 1201)         78065       activation[0][0]                 \n",
      "==================================================================================================\n",
      "Total params: 1,877,041\n",
      "Trainable params: 1,877,041\n",
      "Non-trainable params: 0\n",
      "__________________________________________________________________________________________________\n"
     ]
    }
   ],
   "source": [
    "model.summary()"
   ]
  },
  {
   "cell_type": "code",
   "execution_count": 20,
   "id": "cec2d376",
   "metadata": {
    "colab": {
     "base_uri": "https://localhost:8080/",
     "height": 1000
    },
    "id": "cec2d376",
    "outputId": "70a6f648-0f87-4855-9f8d-fb2643e326cc"
   },
   "outputs": [
    {
     "data": {
      "image/png": "[encoded data removed]",
      "text/plain": [
       "<IPython.core.display.Image object>"
      ]
     },
     "execution_count": 20,
     "metadata": {},
     "output_type": "execute_result"
    }
   ],
   "source": [
    "plot_model(model, show_shapes=True, show_layer_names=True)"
   ]
  },
  {
   "cell_type": "markdown",
   "id": "1d3f44b0",
   "metadata": {
    "id": "1d3f44b0"
   },
   "source": [
    "# Train model"
   ]
  },
  {
   "cell_type": "code",
   "execution_count": 21,
   "id": "53441242",
   "metadata": {
    "id": "53441242",
    "outputId": "d2b3fe88-e435-4ffd-bf39-e2235721d4ff"
   },
   "outputs": [
    {
     "name": "stdout",
     "output_type": "stream",
     "text": [
      "Model directory: ../model.20220609-100722\n",
      "Cache directory: ../tensorflow_cache\n"
     ]
    },
    {
     "name": "stderr",
     "output_type": "stream",
     "text": [
      "2022-06-09 10:07:23.024752: W tensorflow/core/kernels/data/cache_dataset_ops.cc:233] The calling iterator did not fully read the dataset being cached. In order to avoid unexpected truncation of the dataset, the partially cached contents of the dataset  will be discarded. This can happen if you have an input pipeline similar to `dataset.cache().take(k).repeat()`. You should use `dataset.take(k).cache().repeat()` instead.\n",
      "/home/alex/docker/off-category-classification/.venv/lib/python3.9/site-packages/keras/engine/functional.py:582: UserWarning: Input dict contained keys ['compat'] which did not match any model input. They will be ignored by the model.\n",
      "  warnings.warn(\n"
     ]
    },
    {
     "name": "stdout",
     "output_type": "stream",
     "text": [
      "Epoch 1/50\n",
      "    320/Unknown - 249s 768ms/step - loss: 0.0620 - binary_accuracy: 0.9883 - precision: 0.0059 - recall: 0.0121"
     ]
    },
    {
     "name": "stderr",
     "output_type": "stream",
     "text": [
      "2022-06-09 10:11:32.629698: W tensorflow/core/kernels/data/cache_dataset_ops.cc:233] The calling iterator did not fully read the dataset being cached. In order to avoid unexpected truncation of the dataset, the partially cached contents of the dataset  will be discarded. This can happen if you have an input pipeline similar to `dataset.cache().take(k).repeat()`. You should use `dataset.take(k).cache().repeat()` instead.\n"
     ]
    },
    {
     "name": "stdout",
     "output_type": "stream",
     "text": [
      "\b\b\b\b\b\b\b\b\b\b\b\b\b\b\b\b\b\b\b\b\b\b\b\b\b\b\b\b\b\b\b\b\b\b\b\b\b\b\b\b\b\b\b\b\b\b\b\b\b\b\b\b\b\b\b\b\b\b\b\b\b\b\b\b\b\b\b\b\b\b\b\b\b\b\b\b\b\b\b\b\b\b\b\b\b\b\b\b\b\b\b\b\b\b\b\b\b\b\b\b\b\b\b\b\b\b\b\b\b\b\b\r",
      "321/321 [==============================] - 345s 1s/step - loss: 0.0620 - binary_accuracy: 0.9883 - precision: 0.0059 - recall: 0.0121 - val_loss: 0.0182 - val_binary_accuracy: 0.9961 - val_precision: 0.0000e+00 - val_recall: 0.0000e+00\n"
     ]
    },
    {
     "name": "stderr",
     "output_type": "stream",
     "text": [
      "2022-06-09 10:13:08.067103: W tensorflow/core/kernels/data/cache_dataset_ops.cc:233] The calling iterator did not fully read the dataset being cached. In order to avoid unexpected truncation of the dataset, the partially cached contents of the dataset  will be discarded. This can happen if you have an input pipeline similar to `dataset.cache().take(k).repeat()`. You should use `dataset.take(k).cache().repeat()` instead.\n",
      "2022-06-09 10:13:10.631525: W tensorflow/python/util/util.cc:348] Sets are not currently considered sequences, but this may change in the future, so consider avoiding using them.\n"
     ]
    },
    {
     "name": "stdout",
     "output_type": "stream",
     "text": [
      "INFO:tensorflow:Assets written to: ../model.20220609-100722/weights.01-0.0182/assets\n"
     ]
    },
    {
     "name": "stderr",
     "output_type": "stream",
     "text": [
      "INFO:tensorflow:Assets written to: ../model.20220609-100722/weights.01-0.0182/assets\n"
     ]
    },
    {
     "name": "stdout",
     "output_type": "stream",
     "text": [
      "Epoch 2/50\n",
      "  2/321 [..............................] - ETA: 22s - loss: 0.0183 - binary_accuracy: 0.9962 - precision: 0.5000 - recall: 0.0026"
     ]
    },
    {
     "name": "stderr",
     "output_type": "stream",
     "text": [
      "2022-06-09 10:13:15.318963: W tensorflow/core/kernels/data/cache_dataset_ops.cc:233] The calling iterator did not fully read the dataset being cached. In order to avoid unexpected truncation of the dataset, the partially cached contents of the dataset  will be discarded. This can happen if you have an input pipeline similar to `dataset.cache().take(k).repeat()`. You should use `dataset.take(k).cache().repeat()` instead.\n"
     ]
    },
    {
     "name": "stdout",
     "output_type": "stream",
     "text": [
      "321/321 [==============================] - 25s 79ms/step - loss: 0.0185 - binary_accuracy: 0.9961 - precision: 0.4234 - recall: 0.0012 - val_loss: 0.0178 - val_binary_accuracy: 0.9961 - val_precision: 0.6847 - val_recall: 0.0020\n",
      "INFO:tensorflow:Assets written to: ../model.20220609-100722/weights.02-0.0178/assets\n"
     ]
    },
    {
     "name": "stderr",
     "output_type": "stream",
     "text": [
      "INFO:tensorflow:Assets written to: ../model.20220609-100722/weights.02-0.0178/assets\n"
     ]
    },
    {
     "name": "stdout",
     "output_type": "stream",
     "text": [
      "Epoch 3/50\n",
      "321/321 [==============================] - 26s 82ms/step - loss: 0.0180 - binary_accuracy: 0.9962 - precision: 0.6678 - recall: 0.0095 - val_loss: 0.0172 - val_binary_accuracy: 0.9962 - val_precision: 0.7022 - val_recall: 0.0178\n",
      "INFO:tensorflow:Assets written to: ../model.20220609-100722/weights.03-0.0172/assets\n"
     ]
    },
    {
     "name": "stderr",
     "output_type": "stream",
     "text": [
      "INFO:tensorflow:Assets written to: ../model.20220609-100722/weights.03-0.0172/assets\n"
     ]
    },
    {
     "name": "stdout",
     "output_type": "stream",
     "text": [
      "Epoch 4/50\n",
      "321/321 [==============================] - 24s 76ms/step - loss: 0.0173 - binary_accuracy: 0.9962 - precision: 0.7163 - recall: 0.0345 - val_loss: 0.0165 - val_binary_accuracy: 0.9963 - val_precision: 0.8079 - val_recall: 0.0452\n",
      "INFO:tensorflow:Assets written to: ../model.20220609-100722/weights.04-0.0165/assets\n"
     ]
    },
    {
     "name": "stderr",
     "output_type": "stream",
     "text": [
      "INFO:tensorflow:Assets written to: ../model.20220609-100722/weights.04-0.0165/assets\n"
     ]
    },
    {
     "name": "stdout",
     "output_type": "stream",
     "text": [
      "Epoch 5/50\n",
      "321/321 [==============================] - 24s 74ms/step - loss: 0.0167 - binary_accuracy: 0.9963 - precision: 0.7244 - recall: 0.0666 - val_loss: 0.0159 - val_binary_accuracy: 0.9963 - val_precision: 0.8228 - val_recall: 0.0732\n",
      "INFO:tensorflow:Assets written to: ../model.20220609-100722/weights.05-0.0159/assets\n"
     ]
    },
    {
     "name": "stderr",
     "output_type": "stream",
     "text": [
      "INFO:tensorflow:Assets written to: ../model.20220609-100722/weights.05-0.0159/assets\n"
     ]
    },
    {
     "name": "stdout",
     "output_type": "stream",
     "text": [
      "Epoch 6/50\n",
      "321/321 [==============================] - 25s 79ms/step - loss: 0.0160 - binary_accuracy: 0.9964 - precision: 0.7203 - recall: 0.1081 - val_loss: 0.0151 - val_binary_accuracy: 0.9965 - val_precision: 0.7794 - val_recall: 0.1222\n",
      "INFO:tensorflow:Assets written to: ../model.20220609-100722/weights.06-0.0151/assets\n"
     ]
    },
    {
     "name": "stderr",
     "output_type": "stream",
     "text": [
      "INFO:tensorflow:Assets written to: ../model.20220609-100722/weights.06-0.0151/assets\n"
     ]
    },
    {
     "name": "stdout",
     "output_type": "stream",
     "text": [
      "Epoch 7/50\n",
      "321/321 [==============================] - 24s 74ms/step - loss: 0.0152 - binary_accuracy: 0.9965 - precision: 0.7245 - recall: 0.1485 - val_loss: 0.0145 - val_binary_accuracy: 0.9966 - val_precision: 0.7832 - val_recall: 0.1585\n",
      "INFO:tensorflow:Assets written to: ../model.20220609-100722/weights.07-0.0145/assets\n"
     ]
    },
    {
     "name": "stderr",
     "output_type": "stream",
     "text": [
      "INFO:tensorflow:Assets written to: ../model.20220609-100722/weights.07-0.0145/assets\n"
     ]
    },
    {
     "name": "stdout",
     "output_type": "stream",
     "text": [
      "Epoch 8/50\n",
      "321/321 [==============================] - 24s 75ms/step - loss: 0.0145 - binary_accuracy: 0.9966 - precision: 0.7389 - recall: 0.1792 - val_loss: 0.0140 - val_binary_accuracy: 0.9966 - val_precision: 0.7902 - val_recall: 0.1829\n",
      "INFO:tensorflow:Assets written to: ../model.20220609-100722/weights.08-0.0140/assets\n"
     ]
    },
    {
     "name": "stderr",
     "output_type": "stream",
     "text": [
      "INFO:tensorflow:Assets written to: ../model.20220609-100722/weights.08-0.0140/assets\n"
     ]
    },
    {
     "name": "stdout",
     "output_type": "stream",
     "text": [
      "Epoch 9/50\n",
      "321/321 [==============================] - 24s 75ms/step - loss: 0.0139 - binary_accuracy: 0.9967 - precision: 0.7501 - recall: 0.2062 - val_loss: 0.0135 - val_binary_accuracy: 0.9967 - val_precision: 0.7968 - val_recall: 0.2015\n",
      "INFO:tensorflow:Assets written to: ../model.20220609-100722/weights.09-0.0135/assets\n"
     ]
    },
    {
     "name": "stderr",
     "output_type": "stream",
     "text": [
      "INFO:tensorflow:Assets written to: ../model.20220609-100722/weights.09-0.0135/assets\n"
     ]
    },
    {
     "name": "stdout",
     "output_type": "stream",
     "text": [
      "Epoch 10/50\n",
      "321/321 [==============================] - 24s 74ms/step - loss: 0.0133 - binary_accuracy: 0.9967 - precision: 0.7572 - recall: 0.2279 - val_loss: 0.0129 - val_binary_accuracy: 0.9968 - val_precision: 0.8021 - val_recall: 0.2213\n",
      "INFO:tensorflow:Assets written to: ../model.20220609-100722/weights.10-0.0129/assets\n"
     ]
    },
    {
     "name": "stderr",
     "output_type": "stream",
     "text": [
      "INFO:tensorflow:Assets written to: ../model.20220609-100722/weights.10-0.0129/assets\n"
     ]
    },
    {
     "name": "stdout",
     "output_type": "stream",
     "text": [
      "Epoch 11/50\n",
      "321/321 [==============================] - 24s 74ms/step - loss: 0.0126 - binary_accuracy: 0.9969 - precision: 0.7815 - recall: 0.2594 - val_loss: 0.0122 - val_binary_accuracy: 0.9969 - val_precision: 0.8334 - val_recall: 0.2574\n",
      "INFO:tensorflow:Assets written to: ../model.20220609-100722/weights.11-0.0122/assets\n"
     ]
    },
    {
     "name": "stderr",
     "output_type": "stream",
     "text": [
      "INFO:tensorflow:Assets written to: ../model.20220609-100722/weights.11-0.0122/assets\n"
     ]
    },
    {
     "name": "stdout",
     "output_type": "stream",
     "text": [
      "Epoch 12/50\n",
      "321/321 [==============================] - 24s 76ms/step - loss: 0.0117 - binary_accuracy: 0.9970 - precision: 0.8039 - recall: 0.3046 - val_loss: 0.0115 - val_binary_accuracy: 0.9970 - val_precision: 0.8477 - val_recall: 0.2900\n",
      "INFO:tensorflow:Assets written to: ../model.20220609-100722/weights.12-0.0115/assets\n"
     ]
    },
    {
     "name": "stderr",
     "output_type": "stream",
     "text": [
      "INFO:tensorflow:Assets written to: ../model.20220609-100722/weights.12-0.0115/assets\n"
     ]
    },
    {
     "name": "stdout",
     "output_type": "stream",
     "text": [
      "Epoch 13/50\n",
      "321/321 [==============================] - 24s 74ms/step - loss: 0.0108 - binary_accuracy: 0.9972 - precision: 0.8149 - recall: 0.3471 - val_loss: 0.0110 - val_binary_accuracy: 0.9972 - val_precision: 0.8470 - val_recall: 0.3308\n",
      "INFO:tensorflow:Assets written to: ../model.20220609-100722/weights.13-0.0110/assets\n"
     ]
    },
    {
     "name": "stderr",
     "output_type": "stream",
     "text": [
      "INFO:tensorflow:Assets written to: ../model.20220609-100722/weights.13-0.0110/assets\n"
     ]
    },
    {
     "name": "stdout",
     "output_type": "stream",
     "text": [
      "Epoch 14/50\n",
      "321/321 [==============================] - 24s 74ms/step - loss: 0.0101 - binary_accuracy: 0.9973 - precision: 0.8264 - recall: 0.3889 - val_loss: 0.0105 - val_binary_accuracy: 0.9973 - val_precision: 0.8533 - val_recall: 0.3580\n",
      "INFO:tensorflow:Assets written to: ../model.20220609-100722/weights.14-0.0105/assets\n"
     ]
    },
    {
     "name": "stderr",
     "output_type": "stream",
     "text": [
      "INFO:tensorflow:Assets written to: ../model.20220609-100722/weights.14-0.0105/assets\n"
     ]
    },
    {
     "name": "stdout",
     "output_type": "stream",
     "text": [
      "Epoch 15/50\n",
      "321/321 [==============================] - 24s 74ms/step - loss: 0.0094 - binary_accuracy: 0.9974 - precision: 0.8342 - recall: 0.4217 - val_loss: 0.0102 - val_binary_accuracy: 0.9974 - val_precision: 0.8508 - val_recall: 0.3866\n",
      "INFO:tensorflow:Assets written to: ../model.20220609-100722/weights.15-0.0102/assets\n"
     ]
    },
    {
     "name": "stderr",
     "output_type": "stream",
     "text": [
      "INFO:tensorflow:Assets written to: ../model.20220609-100722/weights.15-0.0102/assets\n"
     ]
    },
    {
     "name": "stdout",
     "output_type": "stream",
     "text": [
      "Epoch 16/50\n",
      "321/321 [==============================] - 24s 74ms/step - loss: 0.0089 - binary_accuracy: 0.9975 - precision: 0.8386 - recall: 0.4504 - val_loss: 0.0099 - val_binary_accuracy: 0.9974 - val_precision: 0.8457 - val_recall: 0.4133\n",
      "INFO:tensorflow:Assets written to: ../model.20220609-100722/weights.16-0.0099/assets\n"
     ]
    },
    {
     "name": "stderr",
     "output_type": "stream",
     "text": [
      "INFO:tensorflow:Assets written to: ../model.20220609-100722/weights.16-0.0099/assets\n"
     ]
    },
    {
     "name": "stdout",
     "output_type": "stream",
     "text": [
      "Epoch 17/50\n",
      "321/321 [==============================] - 24s 74ms/step - loss: 0.0084 - binary_accuracy: 0.9976 - precision: 0.8453 - recall: 0.4753 - val_loss: 0.0096 - val_binary_accuracy: 0.9975 - val_precision: 0.8442 - val_recall: 0.4342\n",
      "INFO:tensorflow:Assets written to: ../model.20220609-100722/weights.17-0.0096/assets\n"
     ]
    },
    {
     "name": "stderr",
     "output_type": "stream",
     "text": [
      "INFO:tensorflow:Assets written to: ../model.20220609-100722/weights.17-0.0096/assets\n"
     ]
    },
    {
     "name": "stdout",
     "output_type": "stream",
     "text": [
      "Epoch 18/50\n",
      "321/321 [==============================] - 24s 74ms/step - loss: 0.0080 - binary_accuracy: 0.9977 - precision: 0.8460 - recall: 0.4984 - val_loss: 0.0095 - val_binary_accuracy: 0.9976 - val_precision: 0.8460 - val_recall: 0.4509\n",
      "INFO:tensorflow:Assets written to: ../model.20220609-100722/weights.18-0.0095/assets\n"
     ]
    },
    {
     "name": "stderr",
     "output_type": "stream",
     "text": [
      "INFO:tensorflow:Assets written to: ../model.20220609-100722/weights.18-0.0095/assets\n"
     ]
    },
    {
     "name": "stdout",
     "output_type": "stream",
     "text": [
      "Epoch 19/50\n",
      "321/321 [==============================] - 24s 74ms/step - loss: 0.0076 - binary_accuracy: 0.9978 - precision: 0.8508 - recall: 0.5207 - val_loss: 0.0094 - val_binary_accuracy: 0.9976 - val_precision: 0.8405 - val_recall: 0.4646\n",
      "INFO:tensorflow:Assets written to: ../model.20220609-100722/weights.19-0.0094/assets\n"
     ]
    },
    {
     "name": "stderr",
     "output_type": "stream",
     "text": [
      "INFO:tensorflow:Assets written to: ../model.20220609-100722/weights.19-0.0094/assets\n"
     ]
    },
    {
     "name": "stdout",
     "output_type": "stream",
     "text": [
      "Epoch 20/50\n",
      "321/321 [==============================] - 24s 76ms/step - loss: 0.0073 - binary_accuracy: 0.9979 - precision: 0.8551 - recall: 0.5417 - val_loss: 0.0092 - val_binary_accuracy: 0.9976 - val_precision: 0.8478 - val_recall: 0.4766\n",
      "INFO:tensorflow:Assets written to: ../model.20220609-100722/weights.20-0.0092/assets\n"
     ]
    },
    {
     "name": "stderr",
     "output_type": "stream",
     "text": [
      "INFO:tensorflow:Assets written to: ../model.20220609-100722/weights.20-0.0092/assets\n"
     ]
    },
    {
     "name": "stdout",
     "output_type": "stream",
     "text": [
      "Epoch 21/50\n",
      "321/321 [==============================] - 25s 79ms/step - loss: 0.0069 - binary_accuracy: 0.9979 - precision: 0.8579 - recall: 0.5607 - val_loss: 0.0090 - val_binary_accuracy: 0.9977 - val_precision: 0.8465 - val_recall: 0.4916\n",
      "INFO:tensorflow:Assets written to: ../model.20220609-100722/weights.21-0.0090/assets\n"
     ]
    },
    {
     "name": "stderr",
     "output_type": "stream",
     "text": [
      "INFO:tensorflow:Assets written to: ../model.20220609-100722/weights.21-0.0090/assets\n"
     ]
    },
    {
     "name": "stdout",
     "output_type": "stream",
     "text": [
      "Epoch 22/50\n",
      "321/321 [==============================] - 26s 79ms/step - loss: 0.0066 - binary_accuracy: 0.9980 - precision: 0.8602 - recall: 0.5791 - val_loss: 0.0089 - val_binary_accuracy: 0.9977 - val_precision: 0.8374 - val_recall: 0.5115\n",
      "INFO:tensorflow:Assets written to: ../model.20220609-100722/weights.22-0.0089/assets\n"
     ]
    },
    {
     "name": "stderr",
     "output_type": "stream",
     "text": [
      "INFO:tensorflow:Assets written to: ../model.20220609-100722/weights.22-0.0089/assets\n"
     ]
    },
    {
     "name": "stdout",
     "output_type": "stream",
     "text": [
      "Epoch 23/50\n",
      "321/321 [==============================] - 26s 80ms/step - loss: 0.0064 - binary_accuracy: 0.9981 - precision: 0.8628 - recall: 0.5963 - val_loss: 0.0089 - val_binary_accuracy: 0.9978 - val_precision: 0.8369 - val_recall: 0.5274\n",
      "INFO:tensorflow:Assets written to: ../model.20220609-100722/weights.23-0.0089/assets\n"
     ]
    },
    {
     "name": "stderr",
     "output_type": "stream",
     "text": [
      "INFO:tensorflow:Assets written to: ../model.20220609-100722/weights.23-0.0089/assets\n"
     ]
    },
    {
     "name": "stdout",
     "output_type": "stream",
     "text": [
      "Epoch 24/50\n",
      "321/321 [==============================] - 24s 75ms/step - loss: 0.0061 - binary_accuracy: 0.9981 - precision: 0.8640 - recall: 0.6129 - val_loss: 0.0088 - val_binary_accuracy: 0.9978 - val_precision: 0.8355 - val_recall: 0.5402\n",
      "INFO:tensorflow:Assets written to: ../model.20220609-100722/weights.24-0.0088/assets\n"
     ]
    },
    {
     "name": "stderr",
     "output_type": "stream",
     "text": [
      "INFO:tensorflow:Assets written to: ../model.20220609-100722/weights.24-0.0088/assets\n"
     ]
    },
    {
     "name": "stdout",
     "output_type": "stream",
     "text": [
      "Epoch 25/50\n",
      "321/321 [==============================] - 24s 76ms/step - loss: 0.0059 - binary_accuracy: 0.9982 - precision: 0.8678 - recall: 0.6275 - val_loss: 0.0087 - val_binary_accuracy: 0.9978 - val_precision: 0.8314 - val_recall: 0.5509\n",
      "INFO:tensorflow:Assets written to: ../model.20220609-100722/weights.25-0.0087/assets\n"
     ]
    },
    {
     "name": "stderr",
     "output_type": "stream",
     "text": [
      "INFO:tensorflow:Assets written to: ../model.20220609-100722/weights.25-0.0087/assets\n"
     ]
    },
    {
     "name": "stdout",
     "output_type": "stream",
     "text": [
      "Epoch 26/50\n",
      "321/321 [==============================] - 25s 77ms/step - loss: 0.0057 - binary_accuracy: 0.9982 - precision: 0.8693 - recall: 0.6407 - val_loss: 0.0088 - val_binary_accuracy: 0.9978 - val_precision: 0.8327 - val_recall: 0.5543\n",
      "Epoch 27/50\n",
      "321/321 [==============================] - 25s 79ms/step - loss: 0.0055 - binary_accuracy: 0.9983 - precision: 0.8708 - recall: 0.6513 - val_loss: 0.0087 - val_binary_accuracy: 0.9979 - val_precision: 0.8324 - val_recall: 0.5609\n",
      "Epoch 28/50\n",
      "321/321 [==============================] - 24s 76ms/step - loss: 0.0053 - binary_accuracy: 0.9983 - precision: 0.8730 - recall: 0.6616 - val_loss: 0.0088 - val_binary_accuracy: 0.9979 - val_precision: 0.8354 - val_recall: 0.5642\n",
      "Epoch 29/50\n",
      "321/321 [==============================] - 26s 82ms/step - loss: 0.0052 - binary_accuracy: 0.9984 - precision: 0.8758 - recall: 0.6737 - val_loss: 0.0088 - val_binary_accuracy: 0.9979 - val_precision: 0.8377 - val_recall: 0.5676\n",
      "CPU times: user 1h 8min 41s, sys: 4min 13s, total: 1h 12min 55s\n",
      "Wall time: 19min 58s\n"
     ]
    }
   ],
   "source": [
    "%%time\n",
    "\n",
    "# Remember to clean obsolete dirs once in a while\n",
    "MODEL_DIR = init_model_dir(MODEL_BASE_DIR)\n",
    "CACHE_DIR = init_cache_dir(CACHE_DIR)\n",
    "\n",
    "batch_size = 128\n",
    "\n",
    "ds_train = (\n",
    "    load_dataset('off_categories', split=TRAIN_SPLIT, features=features, as_supervised=True)\n",
    "    .apply(add_compatible_categories)\n",
    "    .apply(categories_encode)\n",
    "    .padded_batch(batch_size)\n",
    "    .cache(str(CACHE_DIR / 'train'))\n",
    ")\n",
    "\n",
    "ds_val = (\n",
    "    load_dataset('off_categories', split=VAL_SPLIT, features=features, as_supervised=True)\n",
    "    .apply(add_compatible_categories)\n",
    "    .apply(categories_encode)\n",
    "    .padded_batch(batch_size)\n",
    "    .cache(str(CACHE_DIR / 'val'))\n",
    ")\n",
    "\n",
    "history = model.fit(\n",
    "    ds_train,\n",
    "    epochs = 50,\n",
    "    validation_data = ds_val,\n",
    "    callbacks = [\n",
    "        callbacks.TerminateOnNaN(),\n",
    "        callbacks.ModelCheckpoint(\n",
    "            filepath = str(MODEL_DIR / \"weights.{epoch:02d}-{val_loss:.4f}\"),\n",
    "            monitor = 'val_loss',\n",
    "            save_best_only = True,\n",
    "            save_format = 'tf',\n",
    "        ),\n",
    "        callbacks.EarlyStopping(monitor='val_loss', patience=4),\n",
    "        callbacks.CSVLogger(str(MODEL_DIR / 'training.log')),\n",
    "        callbacks.History()\n",
    "    ]\n",
    ")"
   ]
  },
  {
   "cell_type": "markdown",
   "id": "2d157d84",
   "metadata": {
    "id": "2d157d84"
   },
   "source": [
    "## Save model and resources"
   ]
  },
  {
   "cell_type": "code",
   "execution_count": 22,
   "id": "57749e9c",
   "metadata": {
    "id": "57749e9c",
    "outputId": "9836a8e1-40d7-4488-de28-f3ead5351d74"
   },
   "outputs": [
    {
     "name": "stdout",
     "output_type": "stream",
     "text": [
      "INFO:tensorflow:Assets written to: ../model.20220609-100722/training_model/assets\n"
     ]
    },
    {
     "name": "stderr",
     "output_type": "stream",
     "text": [
      "INFO:tensorflow:Assets written to: ../model.20220609-100722/training_model/assets\n"
     ]
    },
    {
     "name": "stdout",
     "output_type": "stream",
     "text": [
      "WARNING:tensorflow:Compiled the loaded model, but the compiled metrics have yet to be built. `model.compile_metrics` will be empty until you train or evaluate the model.\n"
     ]
    },
    {
     "name": "stderr",
     "output_type": "stream",
     "text": [
      "WARNING:tensorflow:Compiled the loaded model, but the compiled metrics have yet to be built. `model.compile_metrics` will be empty until you train or evaluate the model.\n"
     ]
    },
    {
     "name": "stdout",
     "output_type": "stream",
     "text": [
      "INFO:tensorflow:Assets written to: ../model.20220609-100722/serving_model/assets\n"
     ]
    },
    {
     "name": "stderr",
     "output_type": "stream",
     "text": [
      "INFO:tensorflow:Assets written to: ../model.20220609-100722/serving_model/assets\n"
     ]
    }
   ],
   "source": [
    "save_model_bundle(MODEL_DIR, model, categories_vocab)"
   ]
  },
  {
   "cell_type": "markdown",
   "id": "6ebb0214",
   "metadata": {
    "id": "6ebb0214"
   },
   "source": [
    "## Training stats"
   ]
  },
  {
   "cell_type": "code",
   "execution_count": 23,
   "id": "ab63d125",
   "metadata": {
    "id": "ab63d125",
    "outputId": "f1c25c2a-3f81-4627-8822-eeedf6655ea3"
   },
   "outputs": [
    {
     "data": {
      "text/html": [
       "<div>\n",
       "<style scoped>\n",
       "    .dataframe tbody tr th:only-of-type {\n",
       "        vertical-align: middle;\n",
       "    }\n",
       "\n",
       "    .dataframe tbody tr th {\n",
       "        vertical-align: top;\n",
       "    }\n",
       "\n",
       "    .dataframe thead th {\n",
       "        text-align: right;\n",
       "    }\n",
       "</style>\n",
       "<table border=\"1\" class=\"dataframe\">\n",
       "  <thead>\n",
       "    <tr style=\"text-align: right;\">\n",
       "      <th></th>\n",
       "      <th>epoch</th>\n",
       "      <th>binary_accuracy</th>\n",
       "      <th>loss</th>\n",
       "      <th>precision</th>\n",
       "      <th>recall</th>\n",
       "      <th>val_binary_accuracy</th>\n",
       "      <th>val_loss</th>\n",
       "      <th>val_precision</th>\n",
       "      <th>val_recall</th>\n",
       "    </tr>\n",
       "  </thead>\n",
       "  <tbody>\n",
       "    <tr>\n",
       "      <th>0</th>\n",
       "      <td>0</td>\n",
       "      <td>0.988261</td>\n",
       "      <td>0.062008</td>\n",
       "      <td>0.005882</td>\n",
       "      <td>0.012109</td>\n",
       "      <td>0.996119</td>\n",
       "      <td>0.018187</td>\n",
       "      <td>0.000000</td>\n",
       "      <td>0.000000</td>\n",
       "    </tr>\n",
       "    <tr>\n",
       "      <th>1</th>\n",
       "      <td>1</td>\n",
       "      <td>0.996130</td>\n",
       "      <td>0.018488</td>\n",
       "      <td>0.423440</td>\n",
       "      <td>0.001177</td>\n",
       "      <td>0.996123</td>\n",
       "      <td>0.017760</td>\n",
       "      <td>0.684685</td>\n",
       "      <td>0.001985</td>\n",
       "    </tr>\n",
       "    <tr>\n",
       "      <th>2</th>\n",
       "      <td>2</td>\n",
       "      <td>0.996150</td>\n",
       "      <td>0.017965</td>\n",
       "      <td>0.667774</td>\n",
       "      <td>0.009504</td>\n",
       "      <td>0.996158</td>\n",
       "      <td>0.017160</td>\n",
       "      <td>0.702215</td>\n",
       "      <td>0.017799</td>\n",
       "    </tr>\n",
       "    <tr>\n",
       "      <th>3</th>\n",
       "      <td>3</td>\n",
       "      <td>0.996212</td>\n",
       "      <td>0.017276</td>\n",
       "      <td>0.716294</td>\n",
       "      <td>0.034526</td>\n",
       "      <td>0.996252</td>\n",
       "      <td>0.016478</td>\n",
       "      <td>0.807935</td>\n",
       "      <td>0.045209</td>\n",
       "    </tr>\n",
       "    <tr>\n",
       "      <th>4</th>\n",
       "      <td>4</td>\n",
       "      <td>0.996291</td>\n",
       "      <td>0.016651</td>\n",
       "      <td>0.724360</td>\n",
       "      <td>0.066641</td>\n",
       "      <td>0.996342</td>\n",
       "      <td>0.015850</td>\n",
       "      <td>0.822796</td>\n",
       "      <td>0.073247</td>\n",
       "    </tr>\n",
       "    <tr>\n",
       "      <th>5</th>\n",
       "      <td>5</td>\n",
       "      <td>0.996388</td>\n",
       "      <td>0.015962</td>\n",
       "      <td>0.720270</td>\n",
       "      <td>0.108123</td>\n",
       "      <td>0.996458</td>\n",
       "      <td>0.015144</td>\n",
       "      <td>0.779435</td>\n",
       "      <td>0.122152</td>\n",
       "    </tr>\n",
       "    <tr>\n",
       "      <th>6</th>\n",
       "      <td>6</td>\n",
       "      <td>0.996488</td>\n",
       "      <td>0.015244</td>\n",
       "      <td>0.724468</td>\n",
       "      <td>0.148507</td>\n",
       "      <td>0.996563</td>\n",
       "      <td>0.014533</td>\n",
       "      <td>0.783175</td>\n",
       "      <td>0.158533</td>\n",
       "    </tr>\n",
       "    <tr>\n",
       "      <th>7</th>\n",
       "      <td>7</td>\n",
       "      <td>0.996580</td>\n",
       "      <td>0.014546</td>\n",
       "      <td>0.738853</td>\n",
       "      <td>0.179240</td>\n",
       "      <td>0.996640</td>\n",
       "      <td>0.013981</td>\n",
       "      <td>0.790160</td>\n",
       "      <td>0.182875</td>\n",
       "    </tr>\n",
       "    <tr>\n",
       "      <th>8</th>\n",
       "      <td>8</td>\n",
       "      <td>0.996663</td>\n",
       "      <td>0.013857</td>\n",
       "      <td>0.750105</td>\n",
       "      <td>0.206249</td>\n",
       "      <td>0.996701</td>\n",
       "      <td>0.013459</td>\n",
       "      <td>0.796809</td>\n",
       "      <td>0.201510</td>\n",
       "    </tr>\n",
       "    <tr>\n",
       "      <th>9</th>\n",
       "      <td>9</td>\n",
       "      <td>0.996731</td>\n",
       "      <td>0.013272</td>\n",
       "      <td>0.757194</td>\n",
       "      <td>0.227940</td>\n",
       "      <td>0.996766</td>\n",
       "      <td>0.012947</td>\n",
       "      <td>0.802073</td>\n",
       "      <td>0.221307</td>\n",
       "    </tr>\n",
       "    <tr>\n",
       "      <th>10</th>\n",
       "      <td>10</td>\n",
       "      <td>0.996854</td>\n",
       "      <td>0.012557</td>\n",
       "      <td>0.781479</td>\n",
       "      <td>0.259441</td>\n",
       "      <td>0.996918</td>\n",
       "      <td>0.012213</td>\n",
       "      <td>0.833390</td>\n",
       "      <td>0.257427</td>\n",
       "    </tr>\n",
       "    <tr>\n",
       "      <th>11</th>\n",
       "      <td>11</td>\n",
       "      <td>0.997023</td>\n",
       "      <td>0.011663</td>\n",
       "      <td>0.803879</td>\n",
       "      <td>0.304616</td>\n",
       "      <td>0.997042</td>\n",
       "      <td>0.011523</td>\n",
       "      <td>0.847740</td>\n",
       "      <td>0.289957</td>\n",
       "    </tr>\n",
       "    <tr>\n",
       "      <th>12</th>\n",
       "      <td>12</td>\n",
       "      <td>0.997169</td>\n",
       "      <td>0.010811</td>\n",
       "      <td>0.814946</td>\n",
       "      <td>0.347059</td>\n",
       "      <td>0.997171</td>\n",
       "      <td>0.010987</td>\n",
       "      <td>0.846951</td>\n",
       "      <td>0.330830</td>\n",
       "    </tr>\n",
       "    <tr>\n",
       "      <th>13</th>\n",
       "      <td>13</td>\n",
       "      <td>0.997321</td>\n",
       "      <td>0.010056</td>\n",
       "      <td>0.826429</td>\n",
       "      <td>0.388940</td>\n",
       "      <td>0.997269</td>\n",
       "      <td>0.010529</td>\n",
       "      <td>0.853306</td>\n",
       "      <td>0.358006</td>\n",
       "    </tr>\n",
       "    <tr>\n",
       "      <th>14</th>\n",
       "      <td>14</td>\n",
       "      <td>0.997439</td>\n",
       "      <td>0.009424</td>\n",
       "      <td>0.834179</td>\n",
       "      <td>0.421743</td>\n",
       "      <td>0.997356</td>\n",
       "      <td>0.010218</td>\n",
       "      <td>0.850820</td>\n",
       "      <td>0.386617</td>\n",
       "    </tr>\n",
       "    <tr>\n",
       "      <th>15</th>\n",
       "      <td>15</td>\n",
       "      <td>0.997538</td>\n",
       "      <td>0.008907</td>\n",
       "      <td>0.838591</td>\n",
       "      <td>0.450359</td>\n",
       "      <td>0.997430</td>\n",
       "      <td>0.009890</td>\n",
       "      <td>0.845743</td>\n",
       "      <td>0.413257</td>\n",
       "    </tr>\n",
       "    <tr>\n",
       "      <th>16</th>\n",
       "      <td>16</td>\n",
       "      <td>0.997634</td>\n",
       "      <td>0.008433</td>\n",
       "      <td>0.845344</td>\n",
       "      <td>0.475329</td>\n",
       "      <td>0.997493</td>\n",
       "      <td>0.009640</td>\n",
       "      <td>0.844201</td>\n",
       "      <td>0.434177</td>\n",
       "    </tr>\n",
       "    <tr>\n",
       "      <th>17</th>\n",
       "      <td>17</td>\n",
       "      <td>0.997709</td>\n",
       "      <td>0.008023</td>\n",
       "      <td>0.846023</td>\n",
       "      <td>0.498392</td>\n",
       "      <td>0.997550</td>\n",
       "      <td>0.009460</td>\n",
       "      <td>0.845980</td>\n",
       "      <td>0.450880</td>\n",
       "    </tr>\n",
       "    <tr>\n",
       "      <th>18</th>\n",
       "      <td>18</td>\n",
       "      <td>0.997793</td>\n",
       "      <td>0.007646</td>\n",
       "      <td>0.850760</td>\n",
       "      <td>0.520715</td>\n",
       "      <td>0.997580</td>\n",
       "      <td>0.009389</td>\n",
       "      <td>0.840511</td>\n",
       "      <td>0.464604</td>\n",
       "    </tr>\n",
       "    <tr>\n",
       "      <th>19</th>\n",
       "      <td>19</td>\n",
       "      <td>0.997872</td>\n",
       "      <td>0.007276</td>\n",
       "      <td>0.855145</td>\n",
       "      <td>0.541724</td>\n",
       "      <td>0.997637</td>\n",
       "      <td>0.009186</td>\n",
       "      <td>0.847753</td>\n",
       "      <td>0.476644</td>\n",
       "    </tr>\n",
       "    <tr>\n",
       "      <th>20</th>\n",
       "      <td>20</td>\n",
       "      <td>0.997941</td>\n",
       "      <td>0.006948</td>\n",
       "      <td>0.857944</td>\n",
       "      <td>0.560710</td>\n",
       "      <td>0.997681</td>\n",
       "      <td>0.009037</td>\n",
       "      <td>0.846472</td>\n",
       "      <td>0.491610</td>\n",
       "    </tr>\n",
       "    <tr>\n",
       "      <th>21</th>\n",
       "      <td>21</td>\n",
       "      <td>0.998008</td>\n",
       "      <td>0.006635</td>\n",
       "      <td>0.860185</td>\n",
       "      <td>0.579102</td>\n",
       "      <td>0.997718</td>\n",
       "      <td>0.008870</td>\n",
       "      <td>0.837399</td>\n",
       "      <td>0.511459</td>\n",
       "    </tr>\n",
       "    <tr>\n",
       "      <th>22</th>\n",
       "      <td>22</td>\n",
       "      <td>0.998071</td>\n",
       "      <td>0.006351</td>\n",
       "      <td>0.862819</td>\n",
       "      <td>0.596292</td>\n",
       "      <td>0.997767</td>\n",
       "      <td>0.008858</td>\n",
       "      <td>0.836915</td>\n",
       "      <td>0.527404</td>\n",
       "    </tr>\n",
       "    <tr>\n",
       "      <th>23</th>\n",
       "      <td>23</td>\n",
       "      <td>0.998129</td>\n",
       "      <td>0.006100</td>\n",
       "      <td>0.863980</td>\n",
       "      <td>0.612867</td>\n",
       "      <td>0.997803</td>\n",
       "      <td>0.008755</td>\n",
       "      <td>0.835538</td>\n",
       "      <td>0.540175</td>\n",
       "    </tr>\n",
       "    <tr>\n",
       "      <th>24</th>\n",
       "      <td>24</td>\n",
       "      <td>0.998190</td>\n",
       "      <td>0.005865</td>\n",
       "      <td>0.867836</td>\n",
       "      <td>0.627493</td>\n",
       "      <td>0.997823</td>\n",
       "      <td>0.008738</td>\n",
       "      <td>0.831363</td>\n",
       "      <td>0.550883</td>\n",
       "    </tr>\n",
       "    <tr>\n",
       "      <th>25</th>\n",
       "      <td>25</td>\n",
       "      <td>0.998238</td>\n",
       "      <td>0.005669</td>\n",
       "      <td>0.869320</td>\n",
       "      <td>0.640737</td>\n",
       "      <td>0.997837</td>\n",
       "      <td>0.008814</td>\n",
       "      <td>0.832663</td>\n",
       "      <td>0.554279</td>\n",
       "    </tr>\n",
       "    <tr>\n",
       "      <th>26</th>\n",
       "      <td>26</td>\n",
       "      <td>0.998277</td>\n",
       "      <td>0.005503</td>\n",
       "      <td>0.870763</td>\n",
       "      <td>0.651302</td>\n",
       "      <td>0.997857</td>\n",
       "      <td>0.008745</td>\n",
       "      <td>0.832364</td>\n",
       "      <td>0.560939</td>\n",
       "    </tr>\n",
       "    <tr>\n",
       "      <th>27</th>\n",
       "      <td>27</td>\n",
       "      <td>0.998319</td>\n",
       "      <td>0.005326</td>\n",
       "      <td>0.872951</td>\n",
       "      <td>0.661620</td>\n",
       "      <td>0.997877</td>\n",
       "      <td>0.008774</td>\n",
       "      <td>0.835419</td>\n",
       "      <td>0.564164</td>\n",
       "    </tr>\n",
       "    <tr>\n",
       "      <th>28</th>\n",
       "      <td>28</td>\n",
       "      <td>0.998368</td>\n",
       "      <td>0.005156</td>\n",
       "      <td>0.875816</td>\n",
       "      <td>0.673734</td>\n",
       "      <td>0.997895</td>\n",
       "      <td>0.008841</td>\n",
       "      <td>0.837676</td>\n",
       "      <td>0.567559</td>\n",
       "    </tr>\n",
       "  </tbody>\n",
       "</table>\n",
       "</div>"
      ],
      "text/plain": [
       "    epoch  binary_accuracy      loss  precision    recall  \\\n",
       "0       0         0.988261  0.062008   0.005882  0.012109   \n",
       "1       1         0.996130  0.018488   0.423440  0.001177   \n",
       "2       2         0.996150  0.017965   0.667774  0.009504   \n",
       "3       3         0.996212  0.017276   0.716294  0.034526   \n",
       "4       4         0.996291  0.016651   0.724360  0.066641   \n",
       "5       5         0.996388  0.015962   0.720270  0.108123   \n",
       "6       6         0.996488  0.015244   0.724468  0.148507   \n",
       "7       7         0.996580  0.014546   0.738853  0.179240   \n",
       "8       8         0.996663  0.013857   0.750105  0.206249   \n",
       "9       9         0.996731  0.013272   0.757194  0.227940   \n",
       "10     10         0.996854  0.012557   0.781479  0.259441   \n",
       "11     11         0.997023  0.011663   0.803879  0.304616   \n",
       "12     12         0.997169  0.010811   0.814946  0.347059   \n",
       "13     13         0.997321  0.010056   0.826429  0.388940   \n",
       "14     14         0.997439  0.009424   0.834179  0.421743   \n",
       "15     15         0.997538  0.008907   0.838591  0.450359   \n",
       "16     16         0.997634  0.008433   0.845344  0.475329   \n",
       "17     17         0.997709  0.008023   0.846023  0.498392   \n",
       "18     18         0.997793  0.007646   0.850760  0.520715   \n",
       "19     19         0.997872  0.007276   0.855145  0.541724   \n",
       "20     20         0.997941  0.006948   0.857944  0.560710   \n",
       "21     21         0.998008  0.006635   0.860185  0.579102   \n",
       "22     22         0.998071  0.006351   0.862819  0.596292   \n",
       "23     23         0.998129  0.006100   0.863980  0.612867   \n",
       "24     24         0.998190  0.005865   0.867836  0.627493   \n",
       "25     25         0.998238  0.005669   0.869320  0.640737   \n",
       "26     26         0.998277  0.005503   0.870763  0.651302   \n",
       "27     27         0.998319  0.005326   0.872951  0.661620   \n",
       "28     28         0.998368  0.005156   0.875816  0.673734   \n",
       "\n",
       "    val_binary_accuracy  val_loss  val_precision  val_recall  \n",
       "0              0.996119  0.018187       0.000000    0.000000  \n",
       "1              0.996123  0.017760       0.684685    0.001985  \n",
       "2              0.996158  0.017160       0.702215    0.017799  \n",
       "3              0.996252  0.016478       0.807935    0.045209  \n",
       "4              0.996342  0.015850       0.822796    0.073247  \n",
       "5              0.996458  0.015144       0.779435    0.122152  \n",
       "6              0.996563  0.014533       0.783175    0.158533  \n",
       "7              0.996640  0.013981       0.790160    0.182875  \n",
       "8              0.996701  0.013459       0.796809    0.201510  \n",
       "9              0.996766  0.012947       0.802073    0.221307  \n",
       "10             0.996918  0.012213       0.833390    0.257427  \n",
       "11             0.997042  0.011523       0.847740    0.289957  \n",
       "12             0.997171  0.010987       0.846951    0.330830  \n",
       "13             0.997269  0.010529       0.853306    0.358006  \n",
       "14             0.997356  0.010218       0.850820    0.386617  \n",
       "15             0.997430  0.009890       0.845743    0.413257  \n",
       "16             0.997493  0.009640       0.844201    0.434177  \n",
       "17             0.997550  0.009460       0.845980    0.450880  \n",
       "18             0.997580  0.009389       0.840511    0.464604  \n",
       "19             0.997637  0.009186       0.847753    0.476644  \n",
       "20             0.997681  0.009037       0.846472    0.491610  \n",
       "21             0.997718  0.008870       0.837399    0.511459  \n",
       "22             0.997767  0.008858       0.836915    0.527404  \n",
       "23             0.997803  0.008755       0.835538    0.540175  \n",
       "24             0.997823  0.008738       0.831363    0.550883  \n",
       "25             0.997837  0.008814       0.832663    0.554279  \n",
       "26             0.997857  0.008745       0.832364    0.560939  \n",
       "27             0.997877  0.008774       0.835419    0.564164  \n",
       "28             0.997895  0.008841       0.837676    0.567559  "
      ]
     },
     "execution_count": 23,
     "metadata": {},
     "output_type": "execute_result"
    }
   ],
   "source": [
    "stats = pd.read_csv(MODEL_DIR / 'training.log')\n",
    "stats"
   ]
  },
  {
   "cell_type": "code",
   "execution_count": 24,
   "id": "c6244c7a",
   "metadata": {
    "id": "c6244c7a",
    "outputId": "53ff4773-40b5-47c9-818e-31cdeba29469"
   },
   "outputs": [
    {
     "data": {
      "image/png": "[encoded data removed]",
      "text/plain": [
       "<Figure size 936x288 with 2 Axes>"
      ]
     },
     "metadata": {
      "needs_background": "light"
     },
     "output_type": "display_data"
    }
   ],
   "source": [
    "_, (ax1, ax2) = plt.subplots(1, 2, figsize=(13,4))\n",
    "\n",
    "plot_training_stat(stats, 'loss', ax1)\n",
    "plot_training_stat(stats, 'binary_accuracy', ax2)"
   ]
  },
  {
   "cell_type": "markdown",
   "id": "38a29603",
   "metadata": {
    "id": "38a29603"
   },
   "source": [
    "# Test model"
   ]
  },
  {
   "cell_type": "code",
   "execution_count": 25,
   "id": "cdba60dc",
   "metadata": {
    "id": "cdba60dc",
    "outputId": "cf567e4a-129c-4853-beda-1d80153b3aff"
   },
   "outputs": [
    {
     "name": "stdout",
     "output_type": "stream",
     "text": [
      "WARNING:tensorflow:No training configuration found in save file, so the model was *not* compiled. Compile it manually.\n"
     ]
    },
    {
     "name": "stderr",
     "output_type": "stream",
     "text": [
      "WARNING:tensorflow:No training configuration found in save file, so the model was *not* compiled. Compile it manually.\n"
     ]
    }
   ],
   "source": [
    "training_model = load_training_model(MODEL_DIR)\n",
    "serving_model = load_serving_model(MODEL_DIR)"
   ]
  },
  {
   "cell_type": "code",
   "execution_count": 26,
   "id": "cff4364b",
   "metadata": {
    "id": "cff4364b"
   },
   "outputs": [],
   "source": [
    "ds_test = load_dataset('off_categories', split=TEST_SPLIT)"
   ]
  },
  {
   "cell_type": "markdown",
   "id": "7ee83647",
   "metadata": {
    "id": "7ee83647"
   },
   "source": [
    "## Predict with training model"
   ]
  },
  {
   "cell_type": "code",
   "execution_count": 27,
   "id": "fcb0f069",
   "metadata": {
    "id": "fcb0f069",
    "outputId": "18cca2bd-3af2-4244-9c70-63b4989443c7"
   },
   "outputs": [
    {
     "name": "stderr",
     "output_type": "stream",
     "text": [
      "/home/alex/docker/off-category-classification/.venv/lib/python3.9/site-packages/keras/engine/functional.py:582: UserWarning: Input dict contained keys ['categories_tags', 'code'] which did not match any model input. They will be ignored by the model.\n",
      "  warnings.warn(\n"
     ]
    },
    {
     "name": "stdout",
     "output_type": "stream",
     "text": [
      "(17152, 1201)\n",
      "CPU times: user 7.05 s, sys: 721 ms, total: 7.77 s\n",
      "Wall time: 2.13 s\n"
     ]
    },
    {
     "data": {
      "text/plain": [
       "array([[7.56065130e-01, 6.95605278e-01, 6.39450550e-03, ...,\n",
       "        2.48295637e-05, 2.75597811e-01, 7.90536404e-04],\n",
       "       [1.87312040e-07, 2.00313099e-08, 9.70547438e-01, ...,\n",
       "        1.07684850e-09, 3.33820254e-12, 3.63423936e-07],\n",
       "       [7.78834999e-01, 8.39387357e-01, 1.74510479e-02, ...,\n",
       "        1.40361581e-05, 9.49663263e-06, 4.14192677e-04],\n",
       "       ...,\n",
       "       [6.13453627e-01, 6.32865906e-01, 5.71286082e-02, ...,\n",
       "        5.91233075e-02, 9.31432247e-02, 5.39991260e-02],\n",
       "       [1.01649165e-02, 5.85269928e-03, 6.26027584e-04, ...,\n",
       "        2.48351615e-08, 1.20069701e-04, 8.54031654e-08],\n",
       "       [2.32073665e-03, 5.44816256e-04, 2.72466004e-01, ...,\n",
       "        7.23749399e-04, 8.23007383e-07, 3.85403073e-05]], dtype=float32)"
      ]
     },
     "execution_count": 27,
     "metadata": {},
     "output_type": "execute_result"
    }
   ],
   "source": [
    "%%time\n",
    "\n",
    "training_pred_test = training_model.predict(ds_test.padded_batch(128))\n",
    "\n",
    "print(training_pred_test.shape)\n",
    "training_pred_test"
   ]
  },
  {
   "cell_type": "markdown",
   "id": "061aa1a7",
   "metadata": {
    "id": "061aa1a7"
   },
   "source": [
    "## Predict with serving model"
   ]
  },
  {
   "cell_type": "code",
   "execution_count": 28,
   "id": "2df9fcc3",
   "metadata": {
    "id": "2df9fcc3",
    "outputId": "ae0b7652-98b7-44df-d2f2-6367e21a1743"
   },
   "outputs": [
    {
     "name": "stdout",
     "output_type": "stream",
     "text": [
      "CPU times: user 9.13 s, sys: 651 ms, total: 9.79 s\n",
      "Wall time: 2.57 s\n"
     ]
    },
    {
     "data": {
      "text/plain": [
       "(array([[0.75606513, 0.7490587 , 0.700078  , ..., 0.08164254, 0.08117294,\n",
       "         0.08030871],\n",
       "        [0.98467934, 0.97054744, 0.9174305 , ..., 0.00139612, 0.0013538 ,\n",
       "         0.00110024],\n",
       "        [0.83938736, 0.778835  , 0.619499  , ..., 0.01363865, 0.01304293,\n",
       "         0.01280984],\n",
       "        ...,\n",
       "        [0.6328659 , 0.6134536 , 0.49289724, ..., 0.2693065 , 0.26644152,\n",
       "         0.26588106],\n",
       "        [0.9661112 , 0.8412583 , 0.22926542, ..., 0.00188026, 0.00179434,\n",
       "         0.00168979],\n",
       "        [0.31938526, 0.3026191 , 0.2856507 , ..., 0.02002802, 0.01874837,\n",
       "         0.01870233]], dtype=float32),\n",
       " array([[b'en:plant-based-foods-and-beverages',\n",
       "         b'en:fruits-and-vegetables-based-foods', b'en:groceries', ...,\n",
       "         b'en:vegetable-based-beverages', b'en:vanilla',\n",
       "         b'en:dehydrated-broths'],\n",
       "        [b'en:sweet-snacks', b'en:snacks', b'en:confectioneries', ...,\n",
       "         b'en:honey-candies', b'en:christmas-sweets', b'en:waffles'],\n",
       "        [b'en:plant-based-foods', b'en:plant-based-foods-and-beverages',\n",
       "         b'en:cereals-and-potatoes', ..., b'en:coffee-beans',\n",
       "         b'en:instant-noodles', b'en:cooking-helpers'],\n",
       "        ...,\n",
       "        [b'en:plant-based-foods', b'en:plant-based-foods-and-beverages',\n",
       "         b'en:meals', ..., b'en:fresh-plant-based-foods', b'en:quinoa',\n",
       "         b'en:sauces'],\n",
       "        [b'en:groceries', b'en:sauces', b'en:condiments', ...,\n",
       "         b'en:tomatoes-and-their-products', b'en:mustards', b'en:dairies'],\n",
       "        [b'en:desserts', b'en:sweet-snacks', b'en:jelly-desserts', ...,\n",
       "         b'en:ice-cream-bars', b'en:filled-cakes',\n",
       "         b'en:filled-chocolates']], dtype=object))"
      ]
     },
     "execution_count": 28,
     "metadata": {},
     "output_type": "execute_result"
    }
   ],
   "source": [
    "%%time\n",
    "\n",
    "serving_pred_test = serving_model.predict(ds_test.padded_batch(128))\n",
    "\n",
    "serving_pred_test"
   ]
  },
  {
   "cell_type": "code",
   "execution_count": 29,
   "id": "554e2998",
   "metadata": {
    "id": "554e2998",
    "outputId": "e59ae90d-f414-4768-e5b5-6c51887ba42e"
   },
   "outputs": [
    {
     "name": "stdout",
     "output_type": "stream",
     "text": [
      "CPU times: user 6.88 s, sys: 741 ms, total: 7.63 s\n",
      "Wall time: 5.11 s\n"
     ]
    },
    {
     "data": {
      "text/html": [
       "<div>\n",
       "<style scoped>\n",
       "    .dataframe tbody tr th:only-of-type {\n",
       "        vertical-align: middle;\n",
       "    }\n",
       "\n",
       "    .dataframe tbody tr th {\n",
       "        vertical-align: top;\n",
       "    }\n",
       "\n",
       "    .dataframe thead th {\n",
       "        text-align: right;\n",
       "    }\n",
       "</style>\n",
       "<table border=\"1\" class=\"dataframe\">\n",
       "  <thead>\n",
       "    <tr style=\"text-align: right;\">\n",
       "      <th></th>\n",
       "      <th>code</th>\n",
       "      <th>product_name</th>\n",
       "      <th>0</th>\n",
       "      <th>1</th>\n",
       "      <th>2</th>\n",
       "      <th>3</th>\n",
       "    </tr>\n",
       "  </thead>\n",
       "  <tbody>\n",
       "    <tr>\n",
       "      <th>0</th>\n",
       "      <td>13251212512000081095</td>\n",
       "      <td>Ciboulette Botte 20g</td>\n",
       "      <td>en:plant-based-foods-and-beverages: 75.61%</td>\n",
       "      <td>en:fruits-and-vegetables-based-foods: 74.91%</td>\n",
       "      <td>en:groceries: 70.01%</td>\n",
       "      <td>en:plant-based-foods: 69.56%</td>\n",
       "    </tr>\n",
       "    <tr>\n",
       "      <th>1</th>\n",
       "      <td>0688569000565</td>\n",
       "      <td>Hollow milk chocolate bunny, milk chocolate</td>\n",
       "      <td>en:sweet-snacks: 98.47%</td>\n",
       "      <td>en:snacks: 97.05%</td>\n",
       "      <td>en:confectioneries: 91.74%</td>\n",
       "      <td>en:cocoa-and-its-products: 71.21%</td>\n",
       "    </tr>\n",
       "    <tr>\n",
       "      <th>2</th>\n",
       "      <td>3700442602509</td>\n",
       "      <td>Boule aux graines tranchee</td>\n",
       "      <td>en:plant-based-foods: 83.94%</td>\n",
       "      <td>en:plant-based-foods-and-beverages: 77.88%</td>\n",
       "      <td>en:cereals-and-potatoes: 61.95%</td>\n",
       "      <td>en:breads: 54.34%</td>\n",
       "    </tr>\n",
       "    <tr>\n",
       "      <th>3</th>\n",
       "      <td>10263426</td>\n",
       "      <td>Turrón imperial con almendras Hacendado 0% sin...</td>\n",
       "      <td>en:snacks: 98.21%</td>\n",
       "      <td>en:sweet-snacks: 98.18%</td>\n",
       "      <td>en:turron: 93.78%</td>\n",
       "      <td>en:christmas-sweets: 93.12%</td>\n",
       "    </tr>\n",
       "    <tr>\n",
       "      <th>4</th>\n",
       "      <td>8431876265798</td>\n",
       "      <td>Pimienta negra molida</td>\n",
       "      <td>en:groceries: 73.76%</td>\n",
       "      <td>en:plant-based-foods-and-beverages: 67.14%</td>\n",
       "      <td>en:plant-based-foods: 66.66%</td>\n",
       "      <td>en:condiments: 63.83%</td>\n",
       "    </tr>\n",
       "    <tr>\n",
       "      <th>...</th>\n",
       "      <td>...</td>\n",
       "      <td>...</td>\n",
       "      <td>...</td>\n",
       "      <td>...</td>\n",
       "      <td>...</td>\n",
       "      <td>...</td>\n",
       "    </tr>\n",
       "    <tr>\n",
       "      <th>17147</th>\n",
       "      <td>5054269266207</td>\n",
       "      <td>White Bread</td>\n",
       "      <td>en:plant-based-foods-and-beverages: 96.68%</td>\n",
       "      <td>en:plant-based-foods: 94.59%</td>\n",
       "      <td>en:breads: 93.98%</td>\n",
       "      <td>en:cereals-and-potatoes: 80.08%</td>\n",
       "    </tr>\n",
       "    <tr>\n",
       "      <th>17148</th>\n",
       "      <td>5601029000085</td>\n",
       "      <td>Sardines à l'huile picante</td>\n",
       "      <td>en:seafood: 85.81%</td>\n",
       "      <td>en:fishes: 84.76%</td>\n",
       "      <td>en:canned-fishes: 56.04%</td>\n",
       "      <td>en:canned-foods: 54.71%</td>\n",
       "    </tr>\n",
       "    <tr>\n",
       "      <th>17149</th>\n",
       "      <td>3760002456041</td>\n",
       "      <td>Velouté d'asperges</td>\n",
       "      <td>en:plant-based-foods: 63.29%</td>\n",
       "      <td>en:plant-based-foods-and-beverages: 61.35%</td>\n",
       "      <td>en:meals: 49.29%</td>\n",
       "      <td>en:soups: 42.25%</td>\n",
       "    </tr>\n",
       "    <tr>\n",
       "      <th>17150</th>\n",
       "      <td>0052100063850</td>\n",
       "      <td>Vegetable dip seasoning mix</td>\n",
       "      <td>en:groceries: 96.61%</td>\n",
       "      <td>en:sauces: 84.13%</td>\n",
       "      <td>en:condiments: 22.93%</td>\n",
       "      <td>en:broths: 18.7%</td>\n",
       "    </tr>\n",
       "    <tr>\n",
       "      <th>17151</th>\n",
       "      <td>7622210479839</td>\n",
       "      <td>Gelatina sabor limón</td>\n",
       "      <td>en:desserts: 31.94%</td>\n",
       "      <td>en:sweet-snacks: 30.26%</td>\n",
       "      <td>en:jelly-desserts: 28.57%</td>\n",
       "      <td>en:snacks: 27.25%</td>\n",
       "    </tr>\n",
       "  </tbody>\n",
       "</table>\n",
       "<p>17152 rows × 6 columns</p>\n",
       "</div>"
      ],
      "text/plain": [
       "                       code  \\\n",
       "0      13251212512000081095   \n",
       "1             0688569000565   \n",
       "2             3700442602509   \n",
       "3                  10263426   \n",
       "4             8431876265798   \n",
       "...                     ...   \n",
       "17147         5054269266207   \n",
       "17148         5601029000085   \n",
       "17149         3760002456041   \n",
       "17150         0052100063850   \n",
       "17151         7622210479839   \n",
       "\n",
       "                                            product_name  \\\n",
       "0                                   Ciboulette Botte 20g   \n",
       "1            Hollow milk chocolate bunny, milk chocolate   \n",
       "2                             Boule aux graines tranchee   \n",
       "3      Turrón imperial con almendras Hacendado 0% sin...   \n",
       "4                                  Pimienta negra molida   \n",
       "...                                                  ...   \n",
       "17147                                        White Bread   \n",
       "17148                         Sardines à l'huile picante   \n",
       "17149                                 Velouté d'asperges   \n",
       "17150                        Vegetable dip seasoning mix   \n",
       "17151                               Gelatina sabor limón   \n",
       "\n",
       "                                                0  \\\n",
       "0      en:plant-based-foods-and-beverages: 75.61%   \n",
       "1                         en:sweet-snacks: 98.47%   \n",
       "2                    en:plant-based-foods: 83.94%   \n",
       "3                               en:snacks: 98.21%   \n",
       "4                            en:groceries: 73.76%   \n",
       "...                                           ...   \n",
       "17147  en:plant-based-foods-and-beverages: 96.68%   \n",
       "17148                          en:seafood: 85.81%   \n",
       "17149                en:plant-based-foods: 63.29%   \n",
       "17150                        en:groceries: 96.61%   \n",
       "17151                         en:desserts: 31.94%   \n",
       "\n",
       "                                                  1  \\\n",
       "0      en:fruits-and-vegetables-based-foods: 74.91%   \n",
       "1                                 en:snacks: 97.05%   \n",
       "2        en:plant-based-foods-and-beverages: 77.88%   \n",
       "3                           en:sweet-snacks: 98.18%   \n",
       "4        en:plant-based-foods-and-beverages: 67.14%   \n",
       "...                                             ...   \n",
       "17147                  en:plant-based-foods: 94.59%   \n",
       "17148                             en:fishes: 84.76%   \n",
       "17149    en:plant-based-foods-and-beverages: 61.35%   \n",
       "17150                             en:sauces: 84.13%   \n",
       "17151                       en:sweet-snacks: 30.26%   \n",
       "\n",
       "                                     2                                  3  \n",
       "0                 en:groceries: 70.01%       en:plant-based-foods: 69.56%  \n",
       "1           en:confectioneries: 91.74%  en:cocoa-and-its-products: 71.21%  \n",
       "2      en:cereals-and-potatoes: 61.95%                  en:breads: 54.34%  \n",
       "3                    en:turron: 93.78%        en:christmas-sweets: 93.12%  \n",
       "4         en:plant-based-foods: 66.66%              en:condiments: 63.83%  \n",
       "...                                ...                                ...  \n",
       "17147                en:breads: 93.98%    en:cereals-and-potatoes: 80.08%  \n",
       "17148         en:canned-fishes: 56.04%            en:canned-foods: 54.71%  \n",
       "17149                 en:meals: 49.29%                   en:soups: 42.25%  \n",
       "17150            en:condiments: 22.93%                   en:broths: 18.7%  \n",
       "17151        en:jelly-desserts: 28.57%                  en:snacks: 27.25%  \n",
       "\n",
       "[17152 rows x 6 columns]"
      ]
     },
     "execution_count": 29,
     "metadata": {},
     "output_type": "execute_result"
    }
   ],
   "source": [
    "%%time\n",
    "\n",
    "top_predictions(ds_test, serving_pred_test, 4)"
   ]
  },
  {
   "cell_type": "code",
   "execution_count": 30,
   "id": "fb2d9a2d",
   "metadata": {
    "id": "fb2d9a2d",
    "outputId": "90dbfeb2-dcbb-4459-83fd-4da37ee23f1a"
   },
   "outputs": [
    {
     "data": {
      "text/plain": [
       "6.175909715363913e-06"
      ]
     },
     "execution_count": 30,
     "metadata": {},
     "output_type": "execute_result"
    }
   ],
   "source": [
    "# codecarbon - stop tracking\n",
    "tracker.stop()"
   ]
  }
 ],
 "metadata": {
  "colab": {
   "collapsed_sections": [],
   "name": "Copy of Train.ipynb",
   "provenance": []
  },
  "kernelspec": {
   "display_name": "Python 3 (ipykernel)",
   "language": "python",
   "name": "python3"
  },
  "language_info": {
   "codemirror_mode": {
    "name": "ipython",
    "version": 3
   },
   "file_extension": ".py",
   "mimetype": "text/x-python",
   "name": "python",
   "nbconvert_exporter": "python",
   "pygments_lexer": "ipython3",
   "version": "3.9.7"
  },
  "toc": {
   "base_numbering": 1,
   "nav_menu": {},
   "number_sections": false,
   "sideBar": true,
   "skip_h1_title": false,
   "title_cell": "Table of Contents",
   "title_sidebar": "Contents",
   "toc_cell": false,
   "toc_position": {},
   "toc_section_display": true,
   "toc_window_display": true
  }
 },
 "nbformat": 4,
 "nbformat_minor": 5
}
