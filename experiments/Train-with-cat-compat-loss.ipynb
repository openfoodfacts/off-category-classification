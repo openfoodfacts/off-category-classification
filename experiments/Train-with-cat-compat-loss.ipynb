{
 "cells": [
  {
   "cell_type": "markdown",
   "id": "064e2d60",
   "metadata": {
    "id": "064e2d60"
   },
   "source": [
    "# INDEX\n",
    "* [Imports and functions](#Imports-and-functions)\n",
    "* [Configuration](#Configuration)\n",
    "* [Prepare dataset](#Prepare-dataset)\n",
    "* [Build model](#Build-model)\n",
    "    * [Model inputs](#Model-inputs)\n",
    "    * [Model output](#Model-output)\n",
    "    * [Model](#Model)\n",
    "* [Train model](#Train-model)\n",
    "    * [Save model and resources](#Save-model-and-resources)\n",
    "    * [Training stats](#Training-stats)\n",
    "* [Test model](#Test-model)\n",
    "    * [Predict with training model](#Predict-with-training-model)\n",
    "    * [Predict with serving model](#Predict-with-serving-model)"
   ]
  },
  {
   "cell_type": "code",
   "execution_count": 1,
   "id": "1010d9ca",
   "metadata": {
    "colab": {
     "base_uri": "https://localhost:8080/"
    },
    "id": "1010d9ca",
    "outputId": "04b785ef-7624-4e87-8823-39f74c3e4a25"
   },
   "outputs": [],
   "source": [
    "try:\n",
    "  import google.colab\n",
    "  IN_COLAB = True\n",
    "except:\n",
    "  IN_COLAB = False\n",
    "# eventual initialization for collab notebooks\n",
    "if IN_COLAB:\n",
    "  # we try hard to be re-entrant,\n",
    "  # that is to be able to rerun this without cloning repository more than once\n",
    "  COLAB_BRANCH = \"master\"\n",
    "  !curl https://raw.githubusercontent.com/openfoodfacts/off-category-classification/$COLAB_BRANCH/lib/colab.py --output /content/colab.py\n",
    "  !cd /content && python /content/colab.py $COLAB_BRANCH\n",
    "  %cd /content/off-category-classification/experiments"
   ]
  },
  {
   "cell_type": "code",
   "execution_count": 2,
   "id": "9bcfaa2d",
   "metadata": {
    "colab": {
     "base_uri": "https://localhost:8080/"
    },
    "id": "9bcfaa2d",
    "outputId": "1690c114-a942-48f6-8a42-1bfb75de6d92",
    "scrolled": true
   },
   "outputs": [
    {
     "name": "stderr",
     "output_type": "stream",
     "text": [
      "[codecarbon ERROR @ 09:39:24] Unable to read Intel RAPL files for CPU power, we will use a constant for your CPU power. Please view https://github.com/mlco2/codecarbon/issues/244 for workarounds : [Errno 13] Permission denied: '/sys/class/powercap/intel-rapl/intel-rapl:1/energy_uj'\n",
      "[codecarbon ERROR @ 09:39:24] Unable to read Intel RAPL files for CPU power, we will use a constant for your CPU power. Please view https://github.com/mlco2/codecarbon/issues/244 for workarounds : [Errno 13] Permission denied: '/sys/class/powercap/intel-rapl/intel-rapl:0/energy_uj'\n",
      "[codecarbon ERROR @ 09:39:25] Unable to read Intel RAPL files for CPU power, we will use a constant for your CPU power. Please view https://github.com/mlco2/codecarbon/issues/244 for workarounds : [Errno 13] Permission denied: '/sys/class/powercap/intel-rapl/intel-rapl:1/energy_uj'\n",
      "[codecarbon ERROR @ 09:39:25] Unable to read Intel RAPL files for CPU power, we will use a constant for your CPU power. Please view https://github.com/mlco2/codecarbon/issues/244 for workarounds : [Errno 13] Permission denied: '/sys/class/powercap/intel-rapl/intel-rapl:0/energy_uj'\n"
     ]
    }
   ],
   "source": [
    "# codecarbon - start tracking\n",
    "from codecarbon import EmissionsTracker\n",
    "\n",
    "tracker = EmissionsTracker(log_level = \"WARNING\", save_to_api = True, experiment_id = \"6d2c8401-afba-42de-9600-6e95bea5fd80\")\n",
    "tracker.start()"
   ]
  },
  {
   "cell_type": "markdown",
   "id": "d481d404",
   "metadata": {
    "id": "d481d404"
   },
   "source": [
    "# Imports"
   ]
  },
  {
   "cell_type": "code",
   "execution_count": 3,
   "id": "80c4f3c2",
   "metadata": {
    "id": "80c4f3c2"
   },
   "outputs": [],
   "source": [
    "import sys\n",
    "sys.path.append('../') # append a relative path to the top package to the search path"
   ]
  },
  {
   "cell_type": "code",
   "execution_count": 4,
   "id": "fda92a68",
   "metadata": {
    "id": "fda92a68"
   },
   "outputs": [
    {
     "name": "stderr",
     "output_type": "stream",
     "text": [
      "2022-06-11 09:39:29.066530: W tensorflow/stream_executor/platform/default/dso_loader.cc:64] Could not load dynamic library 'libcudart.so.11.0'; dlerror: libcudart.so.11.0: cannot open shared object file: No such file or directory\n",
      "2022-06-11 09:39:29.066549: I tensorflow/stream_executor/cuda/cudart_stub.cc:29] Ignore above cudart dlerror if you do not have a GPU set up on your machine.\n",
      "/home/alex/docker/off-category-classification/.venv/lib/python3.9/site-packages/tqdm/auto.py:22: TqdmWarning: IProgress not found. Please update jupyter and ipywidgets. See https://ipywidgets.readthedocs.io/en/stable/user_install.html\n",
      "  from .autonotebook import tqdm as notebook_tqdm\n"
     ]
    }
   ],
   "source": [
    "import pathlib\n",
    "\n",
    "import matplotlib.pyplot as plt\n",
    "import pandas as pd\n",
    "import tensorflow as tf\n",
    "import tensorflow_datasets as tfds\n",
    "from tensorflow.keras import callbacks, layers\n",
    "from tensorflow.keras.utils import plot_model\n",
    "\n",
    "from lib.dataset import *\n",
    "from lib.directories import init_cache_dir, init_model_dir\n",
    "from lib.eval import top_predictions\n",
    "from lib.io import load_training_model, load_serving_model, save_model_bundle\n",
    "from lib.plot import plot_training_stat"
   ]
  },
  {
   "cell_type": "markdown",
   "id": "b1bfc7ed",
   "metadata": {
    "id": "b1bfc7ed"
   },
   "source": [
    "# Configuration"
   ]
  },
  {
   "cell_type": "code",
   "execution_count": 5,
   "id": "a92c3dd7",
   "metadata": {
    "id": "a92c3dd7",
    "scrolled": true
   },
   "outputs": [],
   "source": [
    "MODEL_BASE_DIR = pathlib.Path('../model')\n",
    "CACHE_DIR = pathlib.Path('../tensorflow_cache')\n",
    "\n",
    "PREPROC_BATCH_SIZE = 10_000  # some large value, only affects execution time\n",
    "\n",
    "# splits are handled by `tfds.load`, see doc for more elaborate ways to sample\n",
    "TRAIN_SPLIT = 'train[:80%]'\n",
    "VAL_SPLIT = 'train[80%:90%]'\n",
    "TEST_SPLIT = 'train[90%:]'"
   ]
  },
  {
   "cell_type": "markdown",
   "id": "24785109",
   "metadata": {
    "id": "24785109"
   },
   "source": [
    "# Prepare dataset\n",
    "\n",
    "Run this once to fetch, build and cache the dataset.\n",
    "Further runs will be no-ops, unless you force operations (see TFDS doc).\n",
    "\n",
    "Once this is done, `load_dataset('off_categories', ...)` to access the dataset."
   ]
  },
  {
   "cell_type": "code",
   "execution_count": 6,
   "id": "cda1dad4",
   "metadata": {
    "id": "cda1dad4"
   },
   "outputs": [],
   "source": [
    "import datasets.off_categories\n",
    "\n",
    "builder = tfds.builder('off_categories')\n",
    "builder.download_and_prepare()\n",
    "\n",
    "# Or run via command line (if `tfds` is in the path):\n",
    "# !cd ../datasets && tfds build off_categories"
   ]
  },
  {
   "cell_type": "markdown",
   "id": "eb92b58e",
   "metadata": {
    "id": "eb92b58e"
   },
   "source": [
    "# Build model"
   ]
  },
  {
   "cell_type": "code",
   "execution_count": 7,
   "id": "2ee58091",
   "metadata": {
    "id": "2ee58091"
   },
   "outputs": [],
   "source": [
    "tf.random.set_seed(42)"
   ]
  },
  {
   "cell_type": "markdown",
   "id": "0tuxWcGd9S4o",
   "metadata": {
    "id": "0tuxWcGd9S4o"
   },
   "source": [
    "# Taxonomy information"
   ]
  },
  {
   "cell_type": "code",
   "execution_count": 9,
   "id": "_xyNEEVDDROO",
   "metadata": {
    "colab": {
     "base_uri": "https://localhost:8080/"
    },
    "id": "_xyNEEVDDROO",
    "outputId": "11f97012-b462-402c-822e-bd7b1794e64b"
   },
   "outputs": [
    {
     "name": "stdout",
     "output_type": "stream",
     "text": [
      "category_taxonomy.json\r\n"
     ]
    }
   ],
   "source": [
    "import json\n",
    "from lib.taxonomy import Taxonomy\n",
    "! ls category_taxonomy.json || wget https://github.com/openfoodfacts/robotoff-models/releases/download/keras-category-classifier-xx-2.0/category_taxonomy.json\n",
    "\n",
    "taxo = Taxonomy.from_data(json.load(open('category_taxonomy.json')))"
   ]
  },
  {
   "cell_type": "markdown",
   "id": "993bb1d8",
   "metadata": {
    "id": "993bb1d8"
   },
   "source": [
    "## Model inputs"
   ]
  },
  {
   "cell_type": "code",
   "execution_count": 10,
   "id": "531185de",
   "metadata": {
    "id": "531185de"
   },
   "outputs": [],
   "source": [
    "# we use dicts so rerunning individual model cells is idempotent\n",
    "inputs = {}\n",
    "input_graphs = {}"
   ]
  },
  {
   "cell_type": "code",
   "execution_count": 11,
   "id": "8353a5f1",
   "metadata": {
    "id": "8353a5f1"
   },
   "outputs": [
    {
     "name": "stderr",
     "output_type": "stream",
     "text": [
      "2022-06-11 09:39:57.572175: W tensorflow/stream_executor/platform/default/dso_loader.cc:64] Could not load dynamic library 'libcuda.so.1'; dlerror: libcuda.so.1: cannot open shared object file: No such file or directory\n",
      "2022-06-11 09:39:57.572205: W tensorflow/stream_executor/cuda/cuda_driver.cc:269] failed call to cuInit: UNKNOWN ERROR (303)\n",
      "2022-06-11 09:39:57.572236: I tensorflow/stream_executor/cuda/cuda_diagnostics.cc:156] kernel driver does not appear to be running on this host (tignasse): /proc/driver/nvidia/version does not exist\n",
      "2022-06-11 09:39:57.572594: I tensorflow/core/platform/cpu_feature_guard.cc:142] This TensorFlow binary is optimized with oneAPI Deep Neural Network Library (oneDNN) to use the following CPU instructions in performance-critical operations:  AVX2 FMA\n",
      "To enable them in other operations, rebuild TensorFlow with the appropriate compiler flags.\n"
     ]
    }
   ],
   "source": [
    "ds = load_dataset('off_categories', split=TRAIN_SPLIT)"
   ]
  },
  {
   "cell_type": "code",
   "execution_count": 12,
   "id": "c61fec40",
   "metadata": {
    "colab": {
     "base_uri": "https://localhost:8080/"
    },
    "id": "c61fec40",
    "outputId": "d0abf2ee-a9ff-459b-9450-6c8682f2b187"
   },
   "outputs": [
    {
     "name": "stderr",
     "output_type": "stream",
     "text": [
      "2022-06-11 09:39:57.799351: I tensorflow/compiler/mlir/mlir_graph_optimization_pass.cc:185] None of the MLIR Optimization Passes are enabled (registered 2)\n"
     ]
    },
    {
     "name": "stdout",
     "output_type": "stream",
     "text": [
      "CPU times: user 43.4 s, sys: 13.8 s, total: 57.2 s\n",
      "Wall time: 10.7 s\n"
     ]
    },
    {
     "data": {
      "text/plain": [
       "93000"
      ]
     },
     "execution_count": 12,
     "metadata": {},
     "output_type": "execute_result"
    }
   ],
   "source": [
    "%%time\n",
    "\n",
    "feature_name = 'product_name'\n",
    "\n",
    "product_name_input = tf.keras.Input(shape=(1,), dtype=tf.string, name=feature_name)\n",
    "\n",
    "product_name_vectorizer = layers.TextVectorization(\n",
    "    split = 'whitespace',\n",
    "    max_tokens = 93_000,\n",
    "    output_sequence_length = 30)\n",
    "\n",
    "product_name_vectorizer.adapt(\n",
    "    select_feature(ds, feature_name).batch(PREPROC_BATCH_SIZE))\n",
    "\n",
    "x = product_name_vectorizer(product_name_input)\n",
    "\n",
    "x = layers.Embedding(\n",
    "    input_dim = product_name_vectorizer.vocabulary_size(),\n",
    "    output_dim = 64,\n",
    "    mask_zero = False)(x)\n",
    "\n",
    "product_name_graph = layers.Bidirectional(layers.LSTM(\n",
    "    units = 64,\n",
    "    recurrent_dropout = 0.2,\n",
    "    dropout = 0.0))(x)\n",
    "\n",
    "inputs[feature_name] = product_name_input\n",
    "input_graphs[feature_name] = product_name_graph\n",
    "\n",
    "len(product_name_vectorizer.get_vocabulary())"
   ]
  },
  {
   "cell_type": "code",
   "execution_count": 13,
   "id": "bdb0a17d",
   "metadata": {
    "colab": {
     "base_uri": "https://localhost:8080/"
    },
    "id": "bdb0a17d",
    "outputId": "ef5a007d-9a62-44df-e9f6-4fd1a0ae8611"
   },
   "outputs": [
    {
     "name": "stdout",
     "output_type": "stream",
     "text": [
      "CPU times: user 59.6 s, sys: 18.3 s, total: 1min 17s\n",
      "Wall time: 12.8 s\n"
     ]
    },
    {
     "data": {
      "text/plain": [
       "5000"
      ]
     },
     "execution_count": 13,
     "metadata": {},
     "output_type": "execute_result"
    }
   ],
   "source": [
    "%%time\n",
    "\n",
    "feature_name = 'ingredients_tags'\n",
    "\n",
    "ingredients_input = tf.keras.Input(shape=(None,), dtype=tf.string, name=feature_name)\n",
    "\n",
    "ingredients_vocab = get_vocabulary(\n",
    "    flat_batch(select_feature(ds, feature_name), batch_size=PREPROC_BATCH_SIZE),\n",
    "    min_freq = 3,\n",
    "    max_tokens = 5_000)\n",
    "\n",
    "ingredients_graph = layers.StringLookup(\n",
    "    vocabulary = ingredients_vocab,\n",
    "    output_mode = 'multi_hot')(ingredients_input)\n",
    "\n",
    "inputs[feature_name] = ingredients_input\n",
    "input_graphs[feature_name] = ingredients_graph\n",
    "\n",
    "len(ingredients_vocab)"
   ]
  },
  {
   "cell_type": "markdown",
   "id": "db8a30f1",
   "metadata": {
    "id": "db8a30f1"
   },
   "source": [
    "## Model output"
   ]
  },
  {
   "cell_type": "code",
   "execution_count": 14,
   "id": "1d3426e3",
   "metadata": {
    "colab": {
     "base_uri": "https://localhost:8080/"
    },
    "id": "1d3426e3",
    "outputId": "44a812c9-7989-4e97-ab16-356a705098a6"
   },
   "outputs": [
    {
     "name": "stdout",
     "output_type": "stream",
     "text": [
      "CPU times: user 57.9 s, sys: 18.9 s, total: 1min 16s\n",
      "Wall time: 12.6 s\n"
     ]
    },
    {
     "data": {
      "text/plain": [
       "4023"
      ]
     },
     "execution_count": 14,
     "metadata": {},
     "output_type": "execute_result"
    }
   ],
   "source": [
    "%%time\n",
    "\n",
    "from lib.dataset import filter_empty_labels, get_vocabulary, flat_batch, select_feature\n",
    "\n",
    "labels = 'categories_tags'\n",
    "\n",
    "categories_vocab = get_vocabulary(\n",
    "    flat_batch(select_feature(ds, labels), batch_size=PREPROC_BATCH_SIZE),\n",
    "    min_freq = 10)\n",
    "\n",
    "# intersect with taxonomy vocab\n",
    "categories_vocab = taxo.cats_filter(categories_vocab)\n",
    "\n",
    "\n",
    "# StringLookup(output_mode='multi_hot') mode requires num_oov_indices >= 1.\n",
    "# We don't want OOVs in the categories_tags output layer, since it wouldn't make\n",
    "# sense to predict OOV. So we'll drop the OOV in _transform below.\n",
    "# Be careful when using StringLookup methods, some of them will return values\n",
    "# based on a vocabulary with OOV (e.g. vocabulary_size()). Keep this in mind when\n",
    "# mapping predictions back to the original vocabulary.\n",
    "categories_multihot = layers.StringLookup(\n",
    "    vocabulary = categories_vocab,\n",
    "    output_mode = 'multi_hot',\n",
    "    num_oov_indices = 1)\n",
    "\n",
    "\n",
    "\n",
    "len(categories_vocab)"
   ]
  },
  {
   "cell_type": "code",
   "execution_count": 15,
   "id": "3fa0cee6",
   "metadata": {},
   "outputs": [],
   "source": [
    "def add_ancestors(ds: tf.data.Dataset):\n",
    "    \"\"\"Add ancestors to y to be sure to have coherent data\"\"\"\n",
    "\n",
    "    def get_ancestors(cats):\n",
    "      cats_list = [c.decode(\"utf-8\") for c in cats.numpy()]\n",
    "      result = list(taxo.cats_complete(taxo.cats_filter(cats_list)))\n",
    "      return tf.constant(result, dtype=tf.string)\n",
    "\n",
    "    def _transform(x, y):\n",
    "        y = tf.py_function(func=get_ancestors, inp=[y], Tout=tf.string)\n",
    "        # make shape clear to avoid failing at compile time on next steps\n",
    "        y = tf.reshape(y, [-1])\n",
    "        return (x, y)\n",
    "    # apply to dataset\n",
    "    return (\n",
    "        ds\n",
    "        .map(_transform, num_parallel_calls=tf.data.AUTOTUNE, deterministic=True)\n",
    "    )"
   ]
  },
  {
   "cell_type": "code",
   "execution_count": 16,
   "id": "oHGH13kljdia",
   "metadata": {
    "id": "oHGH13kljdia"
   },
   "outputs": [],
   "source": [
    "def add_compatible_categories(ds: tf.data.Dataset):\n",
    "    \"\"\"Add a specific feature with compatible categories\"\"\"\n",
    "\n",
    "    def get_compat(cats):\n",
    "      cats_list = [c.decode(\"utf-8\") for c in cats.numpy()]\n",
    "      result = list(taxo.cats_compat(taxo.cats_filter(cats_list)))\n",
    "      return tf.constant(result, dtype=tf.string)\n",
    "\n",
    "    def _transform(x, y):\n",
    "        x[\"compat\"] = tf.py_function(func=get_compat, inp=[y], Tout=tf.string)\n",
    "        # make shape clear to avoid failing at compile time on next steps\n",
    "        x[\"compat\"] = tf.reshape(x[\"compat\"], [-1])\n",
    "        return (x, y)\n",
    "    # apply to dataset\n",
    "    return (\n",
    "        ds\n",
    "        .map(_transform, num_parallel_calls=tf.data.AUTOTUNE, deterministic=True)\n",
    "    )"
   ]
  },
  {
   "cell_type": "code",
   "execution_count": 17,
   "id": "uxJNyoNk0Yv3",
   "metadata": {
    "id": "uxJNyoNk0Yv3"
   },
   "outputs": [],
   "source": [
    "def categories_encode(ds: tf.data.Dataset):\n",
    "    \"\"\"encode categories\n",
    "    \n",
    "    - as multi-hot for y\n",
    "    - as a mask for \"compat\" feature\n",
    "    \"\"\"\n",
    "\n",
    "    @tf.function\n",
    "    @tf.autograph.experimental.do_not_convert\n",
    "    def _transform(x, y):\n",
    "        y = categories_multihot(y)\n",
    "        y = y[1:]  # drop OOV\n",
    "        if \"compat\" in x:\n",
    "          # vector where compat categories are 1\n",
    "          binarized = categories_multihot(x[\"compat\"])\n",
    "          binarized = binarized[1:]  # drop OOV\n",
    "          # make it a mask where compatibles are 0, the rest one\n",
    "          binarized = tf.ones(binarized.shape, dtype=tf.float32) - binarized\n",
    "          # make a new ds (we can't modify current x)\n",
    "          x = dict(\n",
    "            x,\n",
    "            compat=binarized,\n",
    "          )\n",
    "        return (x, y)\n",
    "\n",
    "    # applies to non-batched dataset\n",
    "    return (\n",
    "        ds\n",
    "        .map(_transform, num_parallel_calls=tf.data.AUTOTUNE, deterministic=True)\n",
    "        .apply(filter_empty_labels)\n",
    "    )\n"
   ]
  },
  {
   "cell_type": "markdown",
   "id": "5d3c2786",
   "metadata": {
    "id": "5d3c2786"
   },
   "source": [
    "## Model"
   ]
  },
  {
   "cell_type": "code",
   "execution_count": 18,
   "id": "f2d2187c",
   "metadata": {},
   "outputs": [],
   "source": [
    "class MaskingModel(tf.keras.Model):\n",
    "  \"\"\"A model that applies a mask taken \n",
    "  from features to y_pred before computing loss\n",
    "  \"\"\"\n",
    "\n",
    "  def __init__(self, *args, mask_feature=\"compat\", **kwargs):\n",
    "    super().__init__(*args, **kwargs)\n",
    "    self.mask_feature = mask_feature\n",
    "\n",
    "  def compute_loss(self, x=None, y=None, y_pred=None, sample_weight=None):\n",
    "    # first mask categories we do not want using the compat feature\n",
    "    mask = x[self.mask_feature]\n",
    "    # zeros mask_feature in y_pred, as we know they are not in y_pred\n",
    "    y_pred *= mask\n",
    "    return super().compute_loss(x, y, y_pred, sample_weight)"
   ]
  },
  {
   "cell_type": "code",
   "execution_count": 26,
   "id": "f14d6250",
   "metadata": {},
   "outputs": [
    {
     "name": "stdout",
     "output_type": "stream",
     "text": [
      "CPU times: user 3.03 ms, sys: 0 ns, total: 3.03 ms\n",
      "Wall time: 3.05 ms\n"
     ]
    }
   ],
   "source": [
    "%%time\n",
    "# mask input \n",
    "\n",
    "feature_name = 'compat'\n",
    "\n",
    "mask_input = tf.keras.Input(shape=(len(categories_vocab),), dtype=tf.float32, name=feature_name)"
   ]
  },
  {
   "cell_type": "code",
   "execution_count": 32,
   "id": "8b498ee3",
   "metadata": {
    "id": "8b498ee3"
   },
   "outputs": [],
   "source": [
    "# ensure final order is independent of cell execution/insertion order\n",
    "features = sorted(inputs.keys())\n",
    "\n",
    "x = layers.Concatenate()([input_graphs[k] for k in features])\n",
    "x = layers.Dropout(0.2)(x)\n",
    "x = layers.Dense(64)(x)\n",
    "x = layers.Dropout(0.2)(x)\n",
    "x = layers.Activation('relu')(x)\n",
    "output = layers.Dense(len(categories_vocab), activation='sigmoid')(x)\n",
    "# apply mask\n",
    "output = layers.Multiply()((output, mask_input))\n",
    "\n",
    "model = tf.keras.Model(inputs=[inputs[k] for k in features] + [mask_input], outputs=[output])\n",
    "\n",
    "model.compile(\n",
    "    optimizer = tf.keras.optimizers.Adam(learning_rate=0.001),\n",
    "    loss = tf.keras.losses.BinaryCrossentropy(label_smoothing=0.0),\n",
    "    metrics = ['binary_accuracy', 'Precision', 'Recall']\n",
    ")"
   ]
  },
  {
   "cell_type": "code",
   "execution_count": 33,
   "id": "a5df8ca2",
   "metadata": {
    "colab": {
     "base_uri": "https://localhost:8080/"
    },
    "id": "a5df8ca2",
    "outputId": "8a0ce0c4-b193-495f-a189-1b0e4c523f67"
   },
   "outputs": [
    {
     "name": "stdout",
     "output_type": "stream",
     "text": [
      "Model: \"model_1\"\n",
      "__________________________________________________________________________________________________\n",
      "Layer (type)                    Output Shape         Param #     Connected to                     \n",
      "==================================================================================================\n",
      "product_name (InputLayer)       [(None, 1)]          0                                            \n",
      "__________________________________________________________________________________________________\n",
      "text_vectorization (TextVectori (None, 30)           0           product_name[0][0]               \n",
      "__________________________________________________________________________________________________\n",
      "ingredients_tags (InputLayer)   [(None, None)]       0                                            \n",
      "__________________________________________________________________________________________________\n",
      "embedding (Embedding)           (None, 30, 64)       5952000     text_vectorization[0][0]         \n",
      "__________________________________________________________________________________________________\n",
      "string_lookup_1 (StringLookup)  (None, 5001)         0           ingredients_tags[0][0]           \n",
      "__________________________________________________________________________________________________\n",
      "bidirectional (Bidirectional)   (None, 128)          66048       embedding[0][0]                  \n",
      "__________________________________________________________________________________________________\n",
      "concatenate_7 (Concatenate)     (None, 5129)         0           string_lookup_1[0][0]            \n",
      "                                                                 bidirectional[0][0]              \n",
      "__________________________________________________________________________________________________\n",
      "dropout_14 (Dropout)            (None, 5129)         0           concatenate_7[0][0]              \n",
      "__________________________________________________________________________________________________\n",
      "dense_14 (Dense)                (None, 64)           328320      dropout_14[0][0]                 \n",
      "__________________________________________________________________________________________________\n",
      "dropout_15 (Dropout)            (None, 64)           0           dense_14[0][0]                   \n",
      "__________________________________________________________________________________________________\n",
      "activation_7 (Activation)       (None, 64)           0           dropout_15[0][0]                 \n",
      "__________________________________________________________________________________________________\n",
      "dense_15 (Dense)                (None, 4023)         261495      activation_7[0][0]               \n",
      "__________________________________________________________________________________________________\n",
      "compat (InputLayer)             [(None, 4023)]       0                                            \n",
      "__________________________________________________________________________________________________\n",
      "multiply (Multiply)             (None, 4023)         0           dense_15[0][0]                   \n",
      "                                                                 compat[0][0]                     \n",
      "==================================================================================================\n",
      "Total params: 6,607,863\n",
      "Trainable params: 6,607,863\n",
      "Non-trainable params: 0\n",
      "__________________________________________________________________________________________________\n"
     ]
    }
   ],
   "source": [
    "model.summary()"
   ]
  },
  {
   "cell_type": "code",
   "execution_count": 34,
   "id": "cec2d376",
   "metadata": {
    "colab": {
     "base_uri": "https://localhost:8080/",
     "height": 1000
    },
    "id": "cec2d376",
    "outputId": "70a6f648-0f87-4855-9f8d-fb2643e326cc"
   },
   "outputs": [
    {
     "data": {
      "image/png": "[encoded data removed]",
      "text/plain": [
       "<IPython.core.display.Image object>"
      ]
     },
     "execution_count": 34,
     "metadata": {},
     "output_type": "execute_result"
    }
   ],
   "source": [
    "plot_model(model, show_shapes=True, show_layer_names=True)"
   ]
  },
  {
   "cell_type": "markdown",
   "id": "1d3f44b0",
   "metadata": {
    "id": "1d3f44b0"
   },
   "source": [
    "# Train model"
   ]
  },
  {
   "cell_type": "code",
   "execution_count": 35,
   "id": "329a9701",
   "metadata": {},
   "outputs": [
    {
     "name": "stdout",
     "output_type": "stream",
     "text": [
      "Model directory: ../model.20220611-094845\n",
      "Cache directory: ../tensorflow_cache\n"
     ]
    }
   ],
   "source": [
    "# Remember to clean obsolete dirs once in a while\n",
    "MODEL_DIR = init_model_dir(MODEL_BASE_DIR)\n",
    "CACHE_DIR = init_cache_dir(CACHE_DIR)\n",
    "\n",
    "batch_size = 128\n",
    "\n",
    "ds_train = (\n",
    "    load_dataset('off_categories', split=TRAIN_SPLIT, features=features, as_supervised=True)\n",
    "    .apply(add_compatible_categories)\n",
    "    .apply(categories_encode)\n",
    "    .padded_batch(batch_size)\n",
    "    .cache(str(CACHE_DIR / 'train'))\n",
    ")\n",
    "\n",
    "ds_val = (\n",
    "    load_dataset('off_categories', split=VAL_SPLIT, features=features, as_supervised=True)\n",
    "    .apply(add_compatible_categories)\n",
    "    .apply(categories_encode)\n",
    "    .padded_batch(batch_size)\n",
    "    .cache(str(CACHE_DIR / 'val'))\n",
    ")"
   ]
  },
  {
   "cell_type": "code",
   "execution_count": null,
   "id": "53441242",
   "metadata": {
    "id": "53441242",
    "outputId": "d2b3fe88-e435-4ffd-bf39-e2235721d4ff"
   },
   "outputs": [
    {
     "name": "stderr",
     "output_type": "stream",
     "text": [
      "2022-06-11 09:48:49.245250: W tensorflow/core/kernels/data/cache_dataset_ops.cc:233] The calling iterator did not fully read the dataset being cached. In order to avoid unexpected truncation of the dataset, the partially cached contents of the dataset  will be discarded. This can happen if you have an input pipeline similar to `dataset.cache().take(k).repeat()`. You should use `dataset.take(k).cache().repeat()` instead.\n"
     ]
    },
    {
     "name": "stdout",
     "output_type": "stream",
     "text": [
      "Epoch 1/50\n",
      "   4808/Unknown - 4486s 932ms/step - loss: 0.0084 - binary_accuracy: 0.9985 - precision: 0.1597 - recall: 0.0607"
     ]
    }
   ],
   "source": [
    "%%time\n",
    "\n",
    "history = model.fit(\n",
    "    ds_train,\n",
    "    epochs = 50,\n",
    "    validation_data = ds_val,\n",
    "    callbacks = [\n",
    "        callbacks.TerminateOnNaN(),\n",
    "        callbacks.ModelCheckpoint(\n",
    "            filepath = str(MODEL_DIR / \"weights.{epoch:02d}-{val_loss:.4f}\"),\n",
    "            monitor = 'val_loss',\n",
    "            save_best_only = True,\n",
    "            save_format = 'tf',\n",
    "        ),\n",
    "        callbacks.EarlyStopping(monitor='val_loss', patience=4),\n",
    "        callbacks.CSVLogger(str(MODEL_DIR / 'training.log')),\n",
    "        callbacks.History()\n",
    "    ]\n",
    ")"
   ]
  },
  {
   "cell_type": "markdown",
   "id": "2d157d84",
   "metadata": {
    "id": "2d157d84"
   },
   "source": [
    "## Save model and resources"
   ]
  },
  {
   "cell_type": "code",
   "execution_count": null,
   "id": "57749e9c",
   "metadata": {
    "id": "57749e9c",
    "outputId": "9836a8e1-40d7-4488-de28-f3ead5351d74"
   },
   "outputs": [],
   "source": [
    "save_model_bundle(MODEL_DIR, model, categories_vocab)"
   ]
  },
  {
   "cell_type": "markdown",
   "id": "6ebb0214",
   "metadata": {
    "id": "6ebb0214"
   },
   "source": [
    "## Training stats"
   ]
  },
  {
   "cell_type": "code",
   "execution_count": null,
   "id": "7d6742be",
   "metadata": {},
   "outputs": [],
   "source": [
    "from pathlib import Path\n",
    "MODEL_DIR =  Path(\"../model.20220610-094814\")"
   ]
  },
  {
   "cell_type": "code",
   "execution_count": null,
   "id": "ab63d125",
   "metadata": {
    "id": "ab63d125",
    "outputId": "f1c25c2a-3f81-4627-8822-eeedf6655ea3"
   },
   "outputs": [],
   "source": [
    "stats = pd.read_csv(MODEL_DIR / 'training.log')\n",
    "stats"
   ]
  },
  {
   "cell_type": "code",
   "execution_count": null,
   "id": "c6244c7a",
   "metadata": {
    "id": "c6244c7a",
    "outputId": "53ff4773-40b5-47c9-818e-31cdeba29469"
   },
   "outputs": [],
   "source": [
    "_, (ax1, ax2) = plt.subplots(1, 2, figsize=(13,4))\n",
    "\n",
    "plot_training_stat(stats, 'loss', ax1)\n",
    "plot_training_stat(stats, 'binary_accuracy', ax2)"
   ]
  },
  {
   "cell_type": "markdown",
   "id": "38a29603",
   "metadata": {
    "id": "38a29603"
   },
   "source": [
    "# Test model"
   ]
  },
  {
   "cell_type": "code",
   "execution_count": null,
   "id": "cdba60dc",
   "metadata": {
    "id": "cdba60dc",
    "outputId": "cf567e4a-129c-4853-beda-1d80153b3aff"
   },
   "outputs": [],
   "source": [
    "training_model = load_training_model(MODEL_DIR)\n",
    "serving_model = load_serving_model(MODEL_DIR)"
   ]
  },
  {
   "cell_type": "code",
   "execution_count": null,
   "id": "cff4364b",
   "metadata": {
    "id": "cff4364b"
   },
   "outputs": [],
   "source": [
    "ds_test = load_dataset('off_categories', split=TEST_SPLIT)"
   ]
  },
  {
   "cell_type": "markdown",
   "id": "7ee83647",
   "metadata": {
    "id": "7ee83647"
   },
   "source": [
    "## Predict with training model"
   ]
  },
  {
   "cell_type": "code",
   "execution_count": null,
   "id": "fcb0f069",
   "metadata": {
    "id": "fcb0f069",
    "outputId": "18cca2bd-3af2-4244-9c70-63b4989443c7"
   },
   "outputs": [],
   "source": [
    "%%time\n",
    "\n",
    "training_pred_test = training_model.predict(ds_test.padded_batch(128))\n",
    "\n",
    "print(training_pred_test.shape)\n",
    "training_pred_test"
   ]
  },
  {
   "cell_type": "markdown",
   "id": "061aa1a7",
   "metadata": {
    "id": "061aa1a7"
   },
   "source": [
    "## Predict with serving model"
   ]
  },
  {
   "cell_type": "code",
   "execution_count": null,
   "id": "2df9fcc3",
   "metadata": {
    "id": "2df9fcc3",
    "outputId": "ae0b7652-98b7-44df-d2f2-6367e21a1743"
   },
   "outputs": [],
   "source": [
    "%%time\n",
    "\n",
    "serving_pred_test = serving_model.predict(ds_test.padded_batch(128))\n",
    "\n",
    "serving_pred_test"
   ]
  },
  {
   "cell_type": "code",
   "execution_count": null,
   "id": "554e2998",
   "metadata": {
    "id": "554e2998",
    "outputId": "e59ae90d-f414-4768-e5b5-6c51887ba42e"
   },
   "outputs": [],
   "source": [
    "%%time\n",
    "\n",
    "test_top_predictions = top_predictions(ds_test, serving_pred_test, 4)"
   ]
  },
  {
   "cell_type": "code",
   "execution_count": null,
   "id": "fb2d9a2d",
   "metadata": {
    "id": "fb2d9a2d",
    "outputId": "90dbfeb2-dcbb-4459-83fd-4da37ee23f1a"
   },
   "outputs": [],
   "source": [
    "# codecarbon - stop tracking\n",
    "tracker.stop()"
   ]
  }
 ],
 "metadata": {
  "colab": {
   "collapsed_sections": [],
   "name": "Copy of Train.ipynb",
   "provenance": []
  },
  "kernelspec": {
   "display_name": "Python 3 (ipykernel)",
   "language": "python",
   "name": "python3"
  },
  "language_info": {
   "codemirror_mode": {
    "name": "ipython",
    "version": 3
   },
   "file_extension": ".py",
   "mimetype": "text/x-python",
   "name": "python",
   "nbconvert_exporter": "python",
   "pygments_lexer": "ipython3",
   "version": "3.9.7"
  },
  "toc": {
   "base_numbering": 1,
   "nav_menu": {},
   "number_sections": false,
   "sideBar": true,
   "skip_h1_title": false,
   "title_cell": "Table of Contents",
   "title_sidebar": "Contents",
   "toc_cell": false,
   "toc_position": {},
   "toc_section_display": true,
   "toc_window_display": true
  }
 },
 "nbformat": 4,
 "nbformat_minor": 5
}
