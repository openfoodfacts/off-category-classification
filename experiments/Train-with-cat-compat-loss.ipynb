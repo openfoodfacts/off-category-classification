{
 "cells": [
  {
   "cell_type": "markdown",
   "id": "064e2d60",
   "metadata": {
    "id": "064e2d60"
   },
   "source": [
    "# INDEX\n",
    "* [Imports and functions](#Imports-and-functions)\n",
    "* [Configuration](#Configuration)\n",
    "* [Prepare dataset](#Prepare-dataset)\n",
    "* [Build model](#Build-model)\n",
    "    * [Model inputs](#Model-inputs)\n",
    "    * [Model output](#Model-output)\n",
    "    * [Model](#Model)\n",
    "* [Train model](#Train-model)\n",
    "    * [Save model and resources](#Save-model-and-resources)\n",
    "    * [Training stats](#Training-stats)\n",
    "* [Test model](#Test-model)\n",
    "    * [Predict with training model](#Predict-with-training-model)\n",
    "    * [Predict with serving model](#Predict-with-serving-model)"
   ]
  },
  {
   "cell_type": "code",
   "execution_count": 1,
   "id": "1010d9ca",
   "metadata": {
    "colab": {
     "base_uri": "https://localhost:8080/"
    },
    "id": "1010d9ca",
    "outputId": "04b785ef-7624-4e87-8823-39f74c3e4a25"
   },
   "outputs": [],
   "source": [
    "try:\n",
    "  import google.colab\n",
    "  IN_COLAB = True\n",
    "except:\n",
    "  IN_COLAB = False\n",
    "# eventual initialization for colab notebooks\n",
    "if IN_COLAB:\n",
    "  # we try hard to be re-entrant,\n",
    "  # that is to be able to rerun this without cloning repository more than once\n",
    "  COLAB_BRANCH = \"master\"\n",
    "  !curl https://raw.githubusercontent.com/openfoodfacts/off-category-classification/$COLAB_BRANCH/lib/colab.py --output /content/colab.py\n",
    "  !cd /content && python /content/colab.py $COLAB_BRANCH\n",
    "  %cd /content/off-category-classification/experiments"
   ]
  },
  {
   "cell_type": "code",
   "execution_count": 2,
   "id": "9bcfaa2d",
   "metadata": {
    "colab": {
     "base_uri": "https://localhost:8080/"
    },
    "id": "9bcfaa2d",
    "outputId": "1690c114-a942-48f6-8a42-1bfb75de6d92",
    "scrolled": true
   },
   "outputs": [
    {
     "name": "stderr",
     "output_type": "stream",
     "text": [
      "[codecarbon ERROR @ 20:26:33] Unable to read Intel RAPL files for CPU power, we will use a constant for your CPU power. Please view https://github.com/mlco2/codecarbon/issues/244 for workarounds : [Errno 13] Permission denied: '/sys/class/powercap/intel-rapl/intel-rapl:1/energy_uj'\n",
      "[codecarbon ERROR @ 20:26:33] Unable to read Intel RAPL files for CPU power, we will use a constant for your CPU power. Please view https://github.com/mlco2/codecarbon/issues/244 for workarounds : [Errno 13] Permission denied: '/sys/class/powercap/intel-rapl/intel-rapl:0/energy_uj'\n",
      "[codecarbon ERROR @ 20:26:34] Unable to read Intel RAPL files for CPU power, we will use a constant for your CPU power. Please view https://github.com/mlco2/codecarbon/issues/244 for workarounds : [Errno 13] Permission denied: '/sys/class/powercap/intel-rapl/intel-rapl:1/energy_uj'\n",
      "[codecarbon ERROR @ 20:26:34] Unable to read Intel RAPL files for CPU power, we will use a constant for your CPU power. Please view https://github.com/mlco2/codecarbon/issues/244 for workarounds : [Errno 13] Permission denied: '/sys/class/powercap/intel-rapl/intel-rapl:0/energy_uj'\n"
     ]
    }
   ],
   "source": [
    "# codecarbon - start tracking\n",
    "from codecarbon import EmissionsTracker\n",
    "\n",
    "tracker = EmissionsTracker(log_level = \"WARNING\", save_to_api = True, experiment_id = \"6d2c8401-afba-42de-9600-6e95bea5fd80\")\n",
    "tracker.start()"
   ]
  },
  {
   "cell_type": "markdown",
   "id": "d481d404",
   "metadata": {
    "id": "d481d404"
   },
   "source": [
    "# Imports"
   ]
  },
  {
   "cell_type": "code",
   "execution_count": 3,
   "id": "80c4f3c2",
   "metadata": {
    "id": "80c4f3c2"
   },
   "outputs": [],
   "source": [
    "import sys\n",
    "sys.path.append('../') #append a relative path to the top package to the search path"
   ]
  },
  {
   "cell_type": "code",
   "execution_count": 4,
   "id": "fda92a68",
   "metadata": {
    "id": "fda92a68"
   },
   "outputs": [],
   "source": [
    "import pathlib\n",
    "\n",
    "import matplotlib.pyplot as plt\n",
    "import pandas as pd\n",
    "import tensorflow as tf\n",
    "import tensorflow_addons as tfa\n",
    "import tensorflow_datasets as tfds\n",
    "from tensorflow.keras import callbacks, layers\n",
    "from tensorflow.keras.utils import plot_model\n",
    "\n",
    "from lib.dataset import *\n",
    "from lib.directories import init_cache_dir, init_model_dir\n",
    "from lib.io import load_model, save_model\n",
    "from lib.model import top_labeled_predictions, top_predictions_table\n",
    "from lib.plot import plot_training_stats"
   ]
  },
  {
   "cell_type": "markdown",
   "id": "b1bfc7ed",
   "metadata": {
    "id": "b1bfc7ed"
   },
   "source": [
    "# Configuration"
   ]
  },
  {
   "cell_type": "code",
   "execution_count": 5,
   "id": "a92c3dd7",
   "metadata": {
    "id": "a92c3dd7",
    "scrolled": true
   },
   "outputs": [],
   "source": [
    "MODEL_BASE_DIR = pathlib.Path('../model')\n",
    "CACHE_DIR = pathlib.Path('../tensorflow_cache')\n",
    "\n",
    "PREPROC_BATCH_SIZE = 10_000  # some large value, only affects execution time\n",
    "\n",
    "# splits are handled by `tfds.load`, see doc for more elaborate ways to sample\n",
    "TRAIN_SPLIT = 'train[70:75%]'\n",
    "VAL_SPLIT = 'train[80%:85%]'\n",
    "TEST_SPLIT = 'train[90%:95%]'\n",
    "MAX_EPOCHS = 5"
   ]
  },
  {
   "cell_type": "markdown",
   "id": "24785109",
   "metadata": {
    "id": "24785109"
   },
   "source": [
    "# Prepare dataset\n",
    "\n",
    "Run this once to fetch, build and cache the dataset.\n",
    "Further runs will be no-ops, unless you force operations (see TFDS doc).\n",
    "\n",
    "Once this is done, `load_dataset('off_categories', ...)` to access the dataset."
   ]
  },
  {
   "cell_type": "code",
   "execution_count": 6,
   "id": "cda1dad4",
   "metadata": {
    "id": "cda1dad4"
   },
   "outputs": [],
   "source": [
    "import datasets.off_categories\n",
    "\n",
    "builder = tfds.builder('off_categories')\n",
    "builder.download_and_prepare()\n",
    "\n",
    "# Or run via command line (if `tfds` is in the path):\n",
    "# !cd ../datasets && tfds build off_categories"
   ]
  },
  {
   "cell_type": "markdown",
   "id": "eb92b58e",
   "metadata": {
    "id": "eb92b58e"
   },
   "source": [
    "# Build model"
   ]
  },
  {
   "cell_type": "code",
   "execution_count": 7,
   "id": "2ee58091",
   "metadata": {
    "id": "2ee58091"
   },
   "outputs": [],
   "source": [
    "tf.random.set_seed(42)"
   ]
  },
  {
   "cell_type": "markdown",
   "id": "0tuxWcGd9S4o",
   "metadata": {
    "id": "0tuxWcGd9S4o"
   },
   "source": [
    "# Taxonomy information"
   ]
  },
  {
   "cell_type": "code",
   "execution_count": 8,
   "id": "_xyNEEVDDROO",
   "metadata": {
    "colab": {
     "base_uri": "https://localhost:8080/"
    },
    "id": "_xyNEEVDDROO",
    "outputId": "11f97012-b462-402c-822e-bd7b1794e64b"
   },
   "outputs": [
    {
     "name": "stdout",
     "output_type": "stream",
     "text": [
      "category_taxonomy.json\r\n"
     ]
    }
   ],
   "source": [
    "import json\n",
    "from lib.taxonomy import Taxonomy\n",
    "! ls category_taxonomy.json || wget https://github.com/openfoodfacts/robotoff-models/releases/download/keras-category-classifier-xx-2.0/category_taxonomy.json\n",
    "\n",
    "taxo = Taxonomy.from_data(json.load(open('category_taxonomy.json')))"
   ]
  },
  {
   "cell_type": "markdown",
   "id": "993bb1d8",
   "metadata": {
    "id": "993bb1d8"
   },
   "source": [
    "## Model inputs"
   ]
  },
  {
   "cell_type": "code",
   "execution_count": 9,
   "id": "531185de",
   "metadata": {
    "id": "531185de"
   },
   "outputs": [],
   "source": [
    "# we use dicts so rerunning individual model cells is idempotent\n",
    "inputs = {}\n",
    "input_graphs = {}"
   ]
  },
  {
   "cell_type": "code",
   "execution_count": 10,
   "id": "8353a5f1",
   "metadata": {
    "id": "8353a5f1"
   },
   "outputs": [],
   "source": [
    "ds = load_dataset('off_categories', split=TRAIN_SPLIT)"
   ]
  },
  {
   "cell_type": "code",
   "execution_count": 11,
   "id": "c61fec40",
   "metadata": {
    "colab": {
     "base_uri": "https://localhost:8080/"
    },
    "id": "c61fec40",
    "outputId": "d0abf2ee-a9ff-459b-9450-6c8682f2b187"
   },
   "outputs": [
    {
     "name": "stdout",
     "output_type": "stream",
     "text": [
      "CPU times: user 3.51 s, sys: 1.14 s, total: 4.65 s\n",
      "Wall time: 1.32 s\n"
     ]
    },
    {
     "data": {
      "text/plain": [
       "22002"
      ]
     },
     "execution_count": 11,
     "metadata": {},
     "output_type": "execute_result"
    }
   ],
   "source": [
    "%%time\n",
    "\n",
    "feature_name = 'product_name'\n",
    "\n",
    "product_name_input = tf.keras.Input(shape=(1,), dtype=tf.string, name=feature_name)\n",
    "\n",
    "product_name_vectorizer = layers.TextVectorization(\n",
    "    split = 'whitespace',\n",
    "    max_tokens = 93_000,\n",
    "    output_sequence_length = 30)\n",
    "\n",
    "product_name_vectorizer.adapt(\n",
    "    select_feature(ds, feature_name).batch(PREPROC_BATCH_SIZE))\n",
    "\n",
    "x = product_name_vectorizer(product_name_input)\n",
    "\n",
    "x = layers.Embedding(\n",
    "    input_dim = product_name_vectorizer.vocabulary_size(),\n",
    "    output_dim = 64,\n",
    "    mask_zero = False)(x)\n",
    "\n",
    "product_name_graph = layers.Bidirectional(layers.LSTM(\n",
    "    units = 64,\n",
    "    recurrent_dropout = 0.2,\n",
    "    dropout = 0.0))(x)\n",
    "\n",
    "inputs[feature_name] = product_name_input\n",
    "input_graphs[feature_name] = product_name_graph\n",
    "\n",
    "len(product_name_vectorizer.get_vocabulary())"
   ]
  },
  {
   "cell_type": "code",
   "execution_count": 12,
   "id": "bdb0a17d",
   "metadata": {
    "colab": {
     "base_uri": "https://localhost:8080/"
    },
    "id": "bdb0a17d",
    "outputId": "ef5a007d-9a62-44df-e9f6-4fd1a0ae8611"
   },
   "outputs": [
    {
     "name": "stdout",
     "output_type": "stream",
     "text": [
      "CPU times: user 4.36 s, sys: 1.59 s, total: 5.96 s\n",
      "Wall time: 1.18 s\n"
     ]
    },
    {
     "data": {
      "text/plain": [
       "5000"
      ]
     },
     "execution_count": 12,
     "metadata": {},
     "output_type": "execute_result"
    }
   ],
   "source": [
    "%%time\n",
    "\n",
    "feature_name = 'ingredients_tags'\n",
    "\n",
    "ingredients_input = tf.keras.Input(shape=(None,), dtype=tf.string, name=feature_name)\n",
    "\n",
    "ingredients_vocab = get_vocabulary(\n",
    "    flat_batch(select_feature(ds, feature_name), batch_size=PREPROC_BATCH_SIZE),\n",
    "    min_freq = 3,\n",
    "    max_tokens = 5_000)\n",
    "\n",
    "ingredients_graph = layers.StringLookup(\n",
    "    vocabulary = ingredients_vocab,\n",
    "    output_mode = 'multi_hot')(ingredients_input)\n",
    "\n",
    "inputs[feature_name] = ingredients_input\n",
    "input_graphs[feature_name] = ingredients_graph\n",
    "\n",
    "len(ingredients_vocab)"
   ]
  },
  {
   "cell_type": "markdown",
   "id": "db8a30f1",
   "metadata": {
    "id": "db8a30f1"
   },
   "source": [
    "## Model output"
   ]
  },
  {
   "cell_type": "code",
   "execution_count": 15,
   "id": "1d3426e3",
   "metadata": {
    "colab": {
     "base_uri": "https://localhost:8080/"
    },
    "id": "1d3426e3",
    "outputId": "44a812c9-7989-4e97-ab16-356a705098a6"
   },
   "outputs": [
    {
     "name": "stdout",
     "output_type": "stream",
     "text": [
      "CPU times: user 4.42 s, sys: 1.8 s, total: 6.23 s\n",
      "Wall time: 1.26 s\n"
     ]
    },
    {
     "data": {
      "text/plain": [
       "1241"
      ]
     },
     "execution_count": 15,
     "metadata": {},
     "output_type": "execute_result"
    }
   ],
   "source": [
    "%%time\n",
    "\n",
    "labels = 'categories_tags'\n",
    "\n",
    "categories_vocab = get_vocabulary(\n",
    "    flat_batch(select_feature(ds, labels), batch_size=PREPROC_BATCH_SIZE),\n",
    "    min_freq = 10)\n",
    "\n",
    "# StringLookup(output_mode='multi_hot') mode requires num_oov_indices >= 1.\n",
    "# We don't want OOVs in the categories_tags output layer, since it wouldn't make\n",
    "# sense to predict OOV. So we'll drop the OOV in _transform below.\n",
    "# Be careful when using StringLookup methods, some of them will return values\n",
    "# based on a vocabulary with OOV (e.g. vocabulary_size()). Keep this in mind when\n",
    "# mapping predictions back to the original vocabulary.\n",
    "categories_multihot = layers.StringLookup(\n",
    "    vocabulary = categories_vocab,\n",
    "    output_mode = 'multi_hot',\n",
    "    num_oov_indices = 1)\n",
    "\n",
    "len(categories_vocab)"
   ]
  },
  {
   "cell_type": "markdown",
   "id": "5d3c2786",
   "metadata": {
    "id": "5d3c2786"
   },
   "source": [
    "## Model"
   ]
  },
  {
   "cell_type": "code",
   "execution_count": 18,
   "metadata": {},
   "outputs": [],
   "source": [
    "# a specific model that do not penalize on certain categories\n",
    "from lib.taxonomy_mask import MaskingModel"
   ]
  },
  {
   "cell_type": "code",
   "execution_count": 19,
   "id": "8b498ee3",
   "metadata": {
    "id": "8b498ee3"
   },
   "outputs": [],
   "source": [
    "# ensure final order is independent of cell execution/insertion order\n",
    "features = sorted(inputs.keys())\n",
    "\n",
    "x = layers.Concatenate()([input_graphs[k] for k in features])\n",
    "x = layers.Dropout(0.2)(x)\n",
    "x = layers.Dense(64)(x)\n",
    "x = layers.Dropout(0.2)(x)\n",
    "x = layers.Activation('relu')(x)\n",
    "output = layers.Dense(len(categories_vocab), activation='sigmoid')(x)\n",
    "\n",
    "model = MaskingModel(inputs=[inputs[k] for k in features], outputs=[output])\n",
    "\n",
    "threshold = 0.5\n",
    "num_labels = len(categories_vocab)\n",
    "\n",
    "model.compile(\n",
    "    optimizer=tf.keras.optimizers.Adam(learning_rate=0.001),\n",
    "    loss=tf.keras.losses.BinaryCrossentropy(label_smoothing=0.0),\n",
    "    metrics=[\n",
    "        tf.metrics.Precision(thresholds=threshold, name='precision'),\n",
    "        tf.metrics.Recall(thresholds=threshold, name='recall'),\n",
    "        tfa.metrics.F1Score(average='micro', threshold=threshold, num_classes=num_labels, name='f1_score_micro'),\n",
    "        tfa.metrics.F1Score(average='macro', threshold=threshold, num_classes=num_labels, name='f1_score_macro'),\n",
    "    ]\n",
    ")"
   ]
  },
  {
   "cell_type": "code",
   "execution_count": 20,
   "id": "a5df8ca2",
   "metadata": {
    "colab": {
     "base_uri": "https://localhost:8080/"
    },
    "id": "a5df8ca2",
    "outputId": "8a0ce0c4-b193-495f-a189-1b0e4c523f67"
   },
   "outputs": [
    {
     "name": "stdout",
     "output_type": "stream",
     "text": [
      "Model: \"masking_model\"\n",
      "__________________________________________________________________________________________________\n",
      " Layer (type)                   Output Shape         Param #     Connected to                     \n",
      "==================================================================================================\n",
      " product_name (InputLayer)      [(None, 1)]          0           []                               \n",
      "                                                                                                  \n",
      " text_vectorization (TextVector  (None, 30)          0           ['product_name[0][0]']           \n",
      " ization)                                                                                         \n",
      "                                                                                                  \n",
      " ingredients_tags (InputLayer)  [(None, None)]       0           []                               \n",
      "                                                                                                  \n",
      " embedding (Embedding)          (None, 30, 64)       1408128     ['text_vectorization[0][0]']     \n",
      "                                                                                                  \n",
      " string_lookup_1 (StringLookup)  (None, 5001)        0           ['ingredients_tags[0][0]']       \n",
      "                                                                                                  \n",
      " bidirectional (Bidirectional)  (None, 128)          66048       ['embedding[0][0]']              \n",
      "                                                                                                  \n",
      " concatenate (Concatenate)      (None, 5129)         0           ['string_lookup_1[0][0]',        \n",
      "                                                                  'bidirectional[0][0]']          \n",
      "                                                                                                  \n",
      " dropout (Dropout)              (None, 5129)         0           ['concatenate[0][0]']            \n",
      "                                                                                                  \n",
      " dense (Dense)                  (None, 64)           328320      ['dropout[0][0]']                \n",
      "                                                                                                  \n",
      " dropout_1 (Dropout)            (None, 64)           0           ['dense[0][0]']                  \n",
      "                                                                                                  \n",
      " activation (Activation)        (None, 64)           0           ['dropout_1[0][0]']              \n",
      "                                                                                                  \n",
      " dense_1 (Dense)                (None, 1241)         80665       ['activation[0][0]']             \n",
      "                                                                                                  \n",
      "==================================================================================================\n",
      "Total params: 1,883,161\n",
      "Trainable params: 1,883,161\n",
      "Non-trainable params: 0\n",
      "__________________________________________________________________________________________________\n"
     ]
    }
   ],
   "source": [
    "model.summary()"
   ]
  },
  {
   "cell_type": "code",
   "execution_count": 21,
   "id": "cec2d376",
   "metadata": {
    "colab": {
     "base_uri": "https://localhost:8080/",
     "height": 1000
    },
    "id": "cec2d376",
    "outputId": "70a6f648-0f87-4855-9f8d-fb2643e326cc"
   },
   "outputs": [
    {
     "name": "stdout",
     "output_type": "stream",
     "text": [
      "You must install pydot (`pip install pydot`) and install graphviz (see instructions at https://graphviz.gitlab.io/download/) for plot_model/model_to_dot to work.\n"
     ]
    }
   ],
   "source": [
    "plot_model(model, show_shapes=True, show_layer_names=True)"
   ]
  },
  {
   "cell_type": "markdown",
   "id": "1d3f44b0",
   "metadata": {
    "id": "1d3f44b0"
   },
   "source": [
    "# Train model"
   ]
  },
  {
   "cell_type": "code",
   "execution_count": 22,
   "metadata": {},
   "outputs": [],
   "source": [
    "# helpers to add features and encode\n",
    "from lib.taxonomy_mask import TaxonomyTransformer, binarize_compat \n",
    "\n",
    "add_compatible_categories = TaxonomyTransformer(taxo).add_compatible_categories"
   ]
  },
  {
   "cell_type": "code",
   "execution_count": 23,
   "metadata": {},
   "outputs": [],
   "source": [
    "def categories_encode(ds: tf.data.Dataset):\n",
    "    \"\"\"encode categories\n",
    "\n",
    "    - as multi-hot for y\n",
    "    - as a mask for \"compat\" feature\n",
    "    \"\"\"\n",
    "    @tf.function\n",
    "    @tf.autograph.experimental.do_not_convert\n",
    "    def _transform(x, y):\n",
    "        y = categories_multihot(y)\n",
    "        y = y[1:]  # drop OOV\n",
    "        # we also binarize compatibility feature\n",
    "        x = binarize_compat(x, categories_multihot, \"compat\")\n",
    "        return (x, y)\n",
    "\n",
    "    # applies to non-batched dataset\n",
    "    return (\n",
    "        ds\n",
    "        .map(_transform, num_parallel_calls=tf.data.AUTOTUNE, deterministic=True)\n",
    "        .apply(filter_empty_labels)\n",
    "    )"
   ]
  },
  {
   "cell_type": "code",
   "execution_count": 24,
   "id": "329a9701",
   "metadata": {},
   "outputs": [
    {
     "name": "stdout",
     "output_type": "stream",
     "text": [
      "Model directory: ../model.20220824-205334\n",
      "Cache directory: ../tensorflow_cache\n"
     ]
    }
   ],
   "source": [
    "# Remember to clean obsolete dirs once in a while\n",
    "MODEL_DIR = init_model_dir(MODEL_BASE_DIR)\n",
    "CACHE_DIR = init_cache_dir(CACHE_DIR)\n",
    "\n",
    "batch_size = 128\n",
    "\n",
    "ds_train = (\n",
    "    load_dataset('off_categories', split=TRAIN_SPLIT, features=features, as_supervised=True)\n",
    "    .apply(add_compatible_categories)\n",
    "    .apply(categories_encode)\n",
    "    .padded_batch(batch_size)\n",
    "    .cache(str(CACHE_DIR / 'train'))\n",
    ")\n",
    "\n",
    "ds_val = (\n",
    "    load_dataset('off_categories', split=VAL_SPLIT, features=features, as_supervised=True)\n",
    "    .apply(add_compatible_categories)\n",
    "    .apply(categories_encode)\n",
    "    .padded_batch(batch_size)\n",
    "    .cache(str(CACHE_DIR / 'val'))\n",
    ")"
   ]
  },
  {
   "cell_type": "code",
   "execution_count": 25,
   "id": "53441242",
   "metadata": {
    "id": "53441242",
    "outputId": "d2b3fe88-e435-4ffd-bf39-e2235721d4ff"
   },
   "outputs": [
    {
     "name": "stdout",
     "output_type": "stream",
     "text": [
      "Epoch 1/5\n"
     ]
    },
    {
     "name": "stderr",
     "output_type": "stream",
     "text": [
      "/usr/local/lib/python3.8/dist-packages/keras/engine/functional.py:559: UserWarning: Input dict contained keys ['compat'] which did not match any model input. They will be ignored by the model.\n",
      "  inputs = self._flatten_to_reference_inputs(inputs)\n"
     ]
    },
    {
     "name": "stdout",
     "output_type": "stream",
     "text": [
      "    326/Unknown - 335s 1s/step - loss: 0.0603 - binary_accuracy: 0.9885 - precision: 0.0049 - recall: 0.0102INFO:tensorflow:Assets written to: ../model.20220824-205334/weights.01-0.0178/assets\n"
     ]
    },
    {
     "name": "stderr",
     "output_type": "stream",
     "text": [
      "INFO:tensorflow:Assets written to: ../model.20220824-205334/weights.01-0.0178/assets\n",
      "WARNING:absl:<keras.layers.recurrent.LSTMCell object at 0x7fe9b8282490> has the same name 'LSTMCell' as a built-in Keras object. Consider renaming <class 'keras.layers.recurrent.LSTMCell'> to avoid naming conflicts when loading with `tf.keras.models.load_model`. If renaming is not possible, pass the object in the `custom_objects` parameter of the load function.\n",
      "WARNING:absl:<keras.layers.recurrent.LSTMCell object at 0x7fe9b8631730> has the same name 'LSTMCell' as a built-in Keras object. Consider renaming <class 'keras.layers.recurrent.LSTMCell'> to avoid naming conflicts when loading with `tf.keras.models.load_model`. If renaming is not possible, pass the object in the `custom_objects` parameter of the load function.\n"
     ]
    },
    {
     "name": "stdout",
     "output_type": "stream",
     "text": [
      "326/326 [==============================] - 638s 2s/step - loss: 0.0603 - binary_accuracy: 0.9885 - precision: 0.0049 - recall: 0.0102 - val_loss: 0.0178 - val_binary_accuracy: 0.9963 - val_precision: 0.0000e+00 - val_recall: 0.0000e+00\n",
      "Epoch 2/5\n",
      "325/326 [============================>.] - ETA: 0s - loss: 0.0181 - binary_accuracy: 0.9963 - precision: 0.5838 - recall: 0.0017INFO:tensorflow:Assets written to: ../model.20220824-205334/weights.02-0.0172/assets\n"
     ]
    },
    {
     "name": "stderr",
     "output_type": "stream",
     "text": [
      "INFO:tensorflow:Assets written to: ../model.20220824-205334/weights.02-0.0172/assets\n",
      "WARNING:absl:<keras.layers.recurrent.LSTMCell object at 0x7fe9b8282490> has the same name 'LSTMCell' as a built-in Keras object. Consider renaming <class 'keras.layers.recurrent.LSTMCell'> to avoid naming conflicts when loading with `tf.keras.models.load_model`. If renaming is not possible, pass the object in the `custom_objects` parameter of the load function.\n",
      "WARNING:absl:<keras.layers.recurrent.LSTMCell object at 0x7fe9b8631730> has the same name 'LSTMCell' as a built-in Keras object. Consider renaming <class 'keras.layers.recurrent.LSTMCell'> to avoid naming conflicts when loading with `tf.keras.models.load_model`. If renaming is not possible, pass the object in the `custom_objects` parameter of the load function.\n"
     ]
    },
    {
     "name": "stdout",
     "output_type": "stream",
     "text": [
      "326/326 [==============================] - 44s 136ms/step - loss: 0.0181 - binary_accuracy: 0.9963 - precision: 0.5838 - recall: 0.0017 - val_loss: 0.0172 - val_binary_accuracy: 0.9963 - val_precision: 0.6254 - val_recall: 0.0028\n",
      "Epoch 3/5\n",
      "325/326 [============================>.] - ETA: 0s - loss: 0.0175 - binary_accuracy: 0.9963 - precision: 0.6264 - recall: 0.0124INFO:tensorflow:Assets written to: ../model.20220824-205334/weights.03-0.0167/assets\n"
     ]
    },
    {
     "name": "stderr",
     "output_type": "stream",
     "text": [
      "INFO:tensorflow:Assets written to: ../model.20220824-205334/weights.03-0.0167/assets\n",
      "WARNING:absl:<keras.layers.recurrent.LSTMCell object at 0x7fe9b8282490> has the same name 'LSTMCell' as a built-in Keras object. Consider renaming <class 'keras.layers.recurrent.LSTMCell'> to avoid naming conflicts when loading with `tf.keras.models.load_model`. If renaming is not possible, pass the object in the `custom_objects` parameter of the load function.\n",
      "WARNING:absl:<keras.layers.recurrent.LSTMCell object at 0x7fe9b8631730> has the same name 'LSTMCell' as a built-in Keras object. Consider renaming <class 'keras.layers.recurrent.LSTMCell'> to avoid naming conflicts when loading with `tf.keras.models.load_model`. If renaming is not possible, pass the object in the `custom_objects` parameter of the load function.\n"
     ]
    },
    {
     "name": "stdout",
     "output_type": "stream",
     "text": [
      "326/326 [==============================] - 46s 143ms/step - loss: 0.0175 - binary_accuracy: 0.9963 - precision: 0.6264 - recall: 0.0124 - val_loss: 0.0167 - val_binary_accuracy: 0.9963 - val_precision: 0.7115 - val_recall: 0.0158\n",
      "Epoch 4/5\n",
      "326/326 [==============================] - ETA: 0s - loss: 0.0169 - binary_accuracy: 0.9963 - precision: 0.6966 - recall: 0.0306INFO:tensorflow:Assets written to: ../model.20220824-205334/weights.04-0.0160/assets\n"
     ]
    },
    {
     "name": "stderr",
     "output_type": "stream",
     "text": [
      "INFO:tensorflow:Assets written to: ../model.20220824-205334/weights.04-0.0160/assets\n",
      "WARNING:absl:<keras.layers.recurrent.LSTMCell object at 0x7fe9b8282490> has the same name 'LSTMCell' as a built-in Keras object. Consider renaming <class 'keras.layers.recurrent.LSTMCell'> to avoid naming conflicts when loading with `tf.keras.models.load_model`. If renaming is not possible, pass the object in the `custom_objects` parameter of the load function.\n",
      "WARNING:absl:<keras.layers.recurrent.LSTMCell object at 0x7fe9b8631730> has the same name 'LSTMCell' as a built-in Keras object. Consider renaming <class 'keras.layers.recurrent.LSTMCell'> to avoid naming conflicts when loading with `tf.keras.models.load_model`. If renaming is not possible, pass the object in the `custom_objects` parameter of the load function.\n"
     ]
    },
    {
     "name": "stdout",
     "output_type": "stream",
     "text": [
      "326/326 [==============================] - 39s 119ms/step - loss: 0.0169 - binary_accuracy: 0.9963 - precision: 0.6966 - recall: 0.0306 - val_loss: 0.0160 - val_binary_accuracy: 0.9964 - val_precision: 0.7971 - val_recall: 0.0365\n",
      "Epoch 5/5\n",
      "325/326 [============================>.] - ETA: 0s - loss: 0.0163 - binary_accuracy: 0.9964 - precision: 0.7048 - recall: 0.0595INFO:tensorflow:Assets written to: ../model.20220824-205334/weights.05-0.0154/assets\n"
     ]
    },
    {
     "name": "stderr",
     "output_type": "stream",
     "text": [
      "INFO:tensorflow:Assets written to: ../model.20220824-205334/weights.05-0.0154/assets\n",
      "WARNING:absl:<keras.layers.recurrent.LSTMCell object at 0x7fe9b8282490> has the same name 'LSTMCell' as a built-in Keras object. Consider renaming <class 'keras.layers.recurrent.LSTMCell'> to avoid naming conflicts when loading with `tf.keras.models.load_model`. If renaming is not possible, pass the object in the `custom_objects` parameter of the load function.\n",
      "WARNING:absl:<keras.layers.recurrent.LSTMCell object at 0x7fe9b8631730> has the same name 'LSTMCell' as a built-in Keras object. Consider renaming <class 'keras.layers.recurrent.LSTMCell'> to avoid naming conflicts when loading with `tf.keras.models.load_model`. If renaming is not possible, pass the object in the `custom_objects` parameter of the load function.\n"
     ]
    },
    {
     "name": "stdout",
     "output_type": "stream",
     "text": [
      "326/326 [==============================] - 40s 123ms/step - loss: 0.0163 - binary_accuracy: 0.9964 - precision: 0.7049 - recall: 0.0596 - val_loss: 0.0154 - val_binary_accuracy: 0.9964 - val_precision: 0.8092 - val_recall: 0.0573\n",
      "CPU times: user 25min 56s, sys: 1min 16s, total: 27min 13s\n",
      "Wall time: 13min 27s\n"
     ]
    }
   ],
   "source": [
    "%%time\n",
    "\n",
    "history = model.fit(\n",
    "    ds_train,\n",
    "    epochs = MAX_EPOCHS,\n",
    "    validation_data = ds_val,\n",
    "    callbacks = [\n",
    "        callbacks.TerminateOnNaN(),\n",
    "        callbacks.ModelCheckpoint(\n",
    "            filepath = str(MODEL_DIR / \"weights.{epoch:02d}-{val_loss:.4f}\"),\n",
    "            monitor = 'val_loss',\n",
    "            save_best_only = True,\n",
    "            save_format = 'tf',\n",
    "        ),\n",
    "        callbacks.EarlyStopping(monitor='val_loss', patience=4),\n",
    "        callbacks.CSVLogger(str(MODEL_DIR / 'training.log')),\n",
    "        callbacks.History()\n",
    "    ]\n",
    ")"
   ]
  },
  {
   "cell_type": "markdown",
   "id": "6ebb0214",
   "metadata": {
    "id": "6ebb0214"
   },
   "source": [
    "## Training stats"
   ]
  },
  {
   "cell_type": "code",
   "execution_count": 26,
   "id": "ab63d125",
   "metadata": {
    "id": "ab63d125",
    "outputId": "f1c25c2a-3f81-4627-8822-eeedf6655ea3"
   },
   "outputs": [
    {
     "data": {
      "text/html": [
       "<div>\n",
       "<style scoped>\n",
       "    .dataframe tbody tr th:only-of-type {\n",
       "        vertical-align: middle;\n",
       "    }\n",
       "\n",
       "    .dataframe tbody tr th {\n",
       "        vertical-align: top;\n",
       "    }\n",
       "\n",
       "    .dataframe thead th {\n",
       "        text-align: right;\n",
       "    }\n",
       "</style>\n",
       "<table border=\"1\" class=\"dataframe\">\n",
       "  <thead>\n",
       "    <tr style=\"text-align: right;\">\n",
       "      <th></th>\n",
       "      <th>epoch</th>\n",
       "      <th>binary_accuracy</th>\n",
       "      <th>loss</th>\n",
       "      <th>precision</th>\n",
       "      <th>recall</th>\n",
       "      <th>val_binary_accuracy</th>\n",
       "      <th>val_loss</th>\n",
       "      <th>val_precision</th>\n",
       "      <th>val_recall</th>\n",
       "    </tr>\n",
       "  </thead>\n",
       "  <tbody>\n",
       "    <tr>\n",
       "      <th>0</th>\n",
       "      <td>0</td>\n",
       "      <td>0.988514</td>\n",
       "      <td>0.060309</td>\n",
       "      <td>0.004866</td>\n",
       "      <td>0.010168</td>\n",
       "      <td>0.996270</td>\n",
       "      <td>0.017836</td>\n",
       "      <td>0.000000</td>\n",
       "      <td>0.000000</td>\n",
       "    </tr>\n",
       "    <tr>\n",
       "      <th>1</th>\n",
       "      <td>1</td>\n",
       "      <td>0.996260</td>\n",
       "      <td>0.018097</td>\n",
       "      <td>0.583765</td>\n",
       "      <td>0.001749</td>\n",
       "      <td>0.996275</td>\n",
       "      <td>0.017249</td>\n",
       "      <td>0.625438</td>\n",
       "      <td>0.002792</td>\n",
       "    </tr>\n",
       "    <tr>\n",
       "      <th>2</th>\n",
       "      <td>2</td>\n",
       "      <td>0.996277</td>\n",
       "      <td>0.017504</td>\n",
       "      <td>0.626408</td>\n",
       "      <td>0.012372</td>\n",
       "      <td>0.996305</td>\n",
       "      <td>0.016658</td>\n",
       "      <td>0.711507</td>\n",
       "      <td>0.015816</td>\n",
       "    </tr>\n",
       "    <tr>\n",
       "      <th>3</th>\n",
       "      <td>3</td>\n",
       "      <td>0.996322</td>\n",
       "      <td>0.016878</td>\n",
       "      <td>0.696620</td>\n",
       "      <td>0.030607</td>\n",
       "      <td>0.996372</td>\n",
       "      <td>0.016045</td>\n",
       "      <td>0.797069</td>\n",
       "      <td>0.036546</td>\n",
       "    </tr>\n",
       "    <tr>\n",
       "      <th>4</th>\n",
       "      <td>4</td>\n",
       "      <td>0.996387</td>\n",
       "      <td>0.016280</td>\n",
       "      <td>0.704906</td>\n",
       "      <td>0.059554</td>\n",
       "      <td>0.996434</td>\n",
       "      <td>0.015445</td>\n",
       "      <td>0.809166</td>\n",
       "      <td>0.057301</td>\n",
       "    </tr>\n",
       "  </tbody>\n",
       "</table>\n",
       "</div>"
      ],
      "text/plain": [
       "   epoch  binary_accuracy      loss  precision    recall  val_binary_accuracy  \\\n",
       "0      0         0.988514  0.060309   0.004866  0.010168             0.996270   \n",
       "1      1         0.996260  0.018097   0.583765  0.001749             0.996275   \n",
       "2      2         0.996277  0.017504   0.626408  0.012372             0.996305   \n",
       "3      3         0.996322  0.016878   0.696620  0.030607             0.996372   \n",
       "4      4         0.996387  0.016280   0.704906  0.059554             0.996434   \n",
       "\n",
       "   val_loss  val_precision  val_recall  \n",
       "0  0.017836       0.000000    0.000000  \n",
       "1  0.017249       0.625438    0.002792  \n",
       "2  0.016658       0.711507    0.015816  \n",
       "3  0.016045       0.797069    0.036546  \n",
       "4  0.015445       0.809166    0.057301  "
      ]
     },
     "execution_count": 26,
     "metadata": {},
     "output_type": "execute_result"
    }
   ],
   "source": [
    "stats = pd.read_csv(MODEL_DIR / 'training.log')\n",
    "stats"
   ]
  },
  {
   "cell_type": "code",
   "execution_count": 27,
   "id": "c6244c7a",
   "metadata": {
    "id": "c6244c7a",
    "outputId": "53ff4773-40b5-47c9-818e-31cdeba29469"
   },
   "outputs": [],
   "source": [
    "plot_training_stats(stats)"
   ]
  },
  {
   "cell_type": "markdown",
   "id": "2d157d84",
   "metadata": {
    "id": "2d157d84"
   },
   "source": [
    "## Save model and resources"
   ]
  },
  {
   "cell_type": "code",
   "execution_count": 28,
   "id": "57749e9c",
   "metadata": {
    "id": "57749e9c",
    "outputId": "9836a8e1-40d7-4488-de28-f3ead5351d74"
   },
   "outputs": [
    {
     "name": "stdout",
     "output_type": "stream",
     "text": [
      "INFO:tensorflow:Assets written to: ../model.20220824-205334/saved_model/assets\n"
     ]
    },
    {
     "name": "stderr",
     "output_type": "stream",
     "text": [
      "INFO:tensorflow:Assets written to: ../model.20220824-205334/saved_model/assets\n",
      "WARNING:absl:<keras.layers.recurrent.LSTMCell object at 0x7fe9b8282490> has the same name 'LSTMCell' as a built-in Keras object. Consider renaming <class 'keras.layers.recurrent.LSTMCell'> to avoid naming conflicts when loading with `tf.keras.models.load_model`. If renaming is not possible, pass the object in the `custom_objects` parameter of the load function.\n",
      "WARNING:absl:<keras.layers.recurrent.LSTMCell object at 0x7fe9b8631730> has the same name 'LSTMCell' as a built-in Keras object. Consider renaming <class 'keras.layers.recurrent.LSTMCell'> to avoid naming conflicts when loading with `tf.keras.models.load_model`. If renaming is not possible, pass the object in the `custom_objects` parameter of the load function.\n"
     ]
    }
   ],
   "source": [
    "SAVED_MODEL_DIR = MODEL_DIR / 'saved_model'\n",
    "\n",
    "@tf.function\n",
    "def serving_func(*args, **kwargs):\n",
    "    preds = model(*args, **kwargs)\n",
    "    return top_labeled_predictions(preds, categories_vocab, k=50)\n",
    "\n",
    "save_model(SAVED_MODEL_DIR, model, categories_vocab, serving_func)"
   ]
  },
  {
   "cell_type": "markdown",
   "id": "38a29603",
   "metadata": {
    "id": "38a29603"
   },
   "source": [
    "# Test model"
   ]
  },
  {
   "cell_type": "code",
   "execution_count": 29,
   "id": "cdba60dc",
   "metadata": {
    "id": "cdba60dc",
    "outputId": "cf567e4a-129c-4853-beda-1d80153b3aff"
   },
   "outputs": [],
   "source": [
    "m, labels = load_model(SAVED_MODEL_DIR)"
   ]
  },
  {
   "cell_type": "code",
   "execution_count": 30,
   "id": "cff4364b",
   "metadata": {
    "id": "cff4364b"
   },
   "outputs": [],
   "source": [
    "ds_test = load_dataset('off_categories', split=TEST_SPLIT)"
   ]
  },
  {
   "cell_type": "markdown",
   "id": "061aa1a7",
   "metadata": {
    "id": "061aa1a7"
   },
   "source": [
    "## Predict with serving model"
   ]
  },
  {
   "cell_type": "code",
   "execution_count": 31,
   "metadata": {},
   "outputs": [
    {
     "name": "stderr",
     "output_type": "stream",
     "text": [
      "/usr/local/lib/python3.8/dist-packages/keras/engine/functional.py:559: UserWarning: Input dict contained keys ['categories_tags', 'code'] which did not match any model input. They will be ignored by the model.\n",
      "  inputs = self._flatten_to_reference_inputs(inputs)\n"
     ]
    },
    {
     "name": "stdout",
     "output_type": "stream",
     "text": [
      "CPU times: user 24.6 s, sys: 1.83 s, total: 26.5 s\n",
      "Wall time: 5.41 s\n"
     ]
    },
    {
     "data": {
      "text/plain": [
       "array([[2.47663021e-01, 2.17880249e-01, 1.16226524e-01, ...,\n",
       "        1.43647194e-04, 1.61200762e-04, 1.63912773e-04],\n",
       "       [3.13569546e-01, 2.74577320e-01, 8.84172618e-02, ...,\n",
       "        3.95774841e-04, 4.25547361e-04, 4.45872545e-04],\n",
       "       [3.36490154e-01, 3.01163048e-01, 6.55404329e-02, ...,\n",
       "        3.38256359e-04, 4.05877829e-04, 4.16815281e-04],\n",
       "       ...,\n",
       "       [2.86023498e-01, 2.50528723e-01, 9.69553292e-02, ...,\n",
       "        2.57015228e-04, 2.80886889e-04, 2.90870667e-04],\n",
       "       [3.50041270e-01, 3.05147827e-01, 7.35341907e-02, ...,\n",
       "        5.99324703e-04, 6.28679991e-04, 6.70313835e-04],\n",
       "       [2.58788496e-01, 2.27135181e-01, 1.09421253e-01, ...,\n",
       "        1.69306993e-04, 1.88469887e-04, 1.92373991e-04]], dtype=float32)"
      ]
     },
     "execution_count": 31,
     "metadata": {},
     "output_type": "execute_result"
    }
   ],
   "source": [
    "%%time\n",
    "\n",
    "preds_test = m.predict(ds_test.padded_batch(128))\n",
    "preds_test"
   ]
  },
  {
   "cell_type": "code",
   "execution_count": 32,
   "metadata": {},
   "outputs": [
    {
     "data": {
      "text/plain": [
       "(<tf.Tensor: shape=(42880, 3), dtype=float32, numpy=\n",
       " array([[0.24766302, 0.21788025, 0.11622652],\n",
       "        [0.31356955, 0.27457732, 0.13280305],\n",
       "        [0.33649015, 0.30116305, 0.1177021 ],\n",
       "        ...,\n",
       "        [0.2860235 , 0.25052872, 0.11411557],\n",
       "        [0.35004127, 0.30514783, 0.15778136],\n",
       "        [0.2587885 , 0.22713518, 0.10942125]], dtype=float32)>,\n",
       " <tf.Tensor: shape=(42880, 3), dtype=string, numpy=\n",
       " array([[b'en:plant-based-foods-and-beverages', b'en:plant-based-foods',\n",
       "         b'en:snacks'],\n",
       "        [b'en:plant-based-foods-and-beverages', b'en:plant-based-foods',\n",
       "         b'en:beverages'],\n",
       "        [b'en:plant-based-foods-and-beverages', b'en:plant-based-foods',\n",
       "         b'en:meats'],\n",
       "        ...,\n",
       "        [b'en:plant-based-foods-and-beverages', b'en:plant-based-foods',\n",
       "         b'en:beverages'],\n",
       "        [b'en:plant-based-foods-and-beverages', b'en:plant-based-foods',\n",
       "         b'en:beverages'],\n",
       "        [b'en:plant-based-foods-and-beverages', b'en:plant-based-foods',\n",
       "         b'en:snacks']], dtype=object)>)"
      ]
     },
     "execution_count": 32,
     "metadata": {},
     "output_type": "execute_result"
    }
   ],
   "source": [
    "# This is the function exported as the default serving function in our saved model\n",
    "top_preds_test = top_labeled_predictions(preds_test, labels, k=3)\n",
    "top_preds_test"
   ]
  },
  {
   "cell_type": "code",
   "execution_count": 33,
   "id": "2df9fcc3",
   "metadata": {
    "id": "2df9fcc3",
    "outputId": "ae0b7652-98b7-44df-d2f2-6367e21a1743"
   },
   "outputs": [
    {
     "name": "stdout",
     "output_type": "stream",
     "text": [
      "CPU times: user 14.6 s, sys: 1.87 s, total: 16.5 s\n",
      "Wall time: 9.09 s\n"
     ]
    },
    {
     "data": {
      "text/html": [
       "<div>\n",
       "<style scoped>\n",
       "    .dataframe tbody tr th:only-of-type {\n",
       "        vertical-align: middle;\n",
       "    }\n",
       "\n",
       "    .dataframe tbody tr th {\n",
       "        vertical-align: top;\n",
       "    }\n",
       "\n",
       "    .dataframe thead th {\n",
       "        text-align: right;\n",
       "    }\n",
       "</style>\n",
       "<table border=\"1\" class=\"dataframe\">\n",
       "  <thead>\n",
       "    <tr style=\"text-align: right;\">\n",
       "      <th></th>\n",
       "      <th>code</th>\n",
       "      <th>product_name</th>\n",
       "      <th>top prediction 1</th>\n",
       "      <th>top prediction 2</th>\n",
       "      <th>top prediction 3</th>\n",
       "    </tr>\n",
       "  </thead>\n",
       "  <tbody>\n",
       "    <tr>\n",
       "      <th>0</th>\n",
       "      <td>0637793029422</td>\n",
       "      <td>Blueberry preserve</td>\n",
       "      <td>en:plant-based-foods-and-beverages: 24.77%</td>\n",
       "      <td>en:plant-based-foods: 21.79%</td>\n",
       "      <td>en:snacks: 11.62%</td>\n",
       "    </tr>\n",
       "    <tr>\n",
       "      <th>1</th>\n",
       "      <td>5400141381191</td>\n",
       "      <td>Mousseline de pommes</td>\n",
       "      <td>en:plant-based-foods-and-beverages: 31.36%</td>\n",
       "      <td>en:plant-based-foods: 27.46%</td>\n",
       "      <td>en:beverages: 13.28%</td>\n",
       "    </tr>\n",
       "    <tr>\n",
       "      <th>2</th>\n",
       "      <td>3250392084080</td>\n",
       "      <td>Choux-Fleurs Bio</td>\n",
       "      <td>en:plant-based-foods-and-beverages: 33.65%</td>\n",
       "      <td>en:plant-based-foods: 30.12%</td>\n",
       "      <td>en:meats: 11.77%</td>\n",
       "    </tr>\n",
       "    <tr>\n",
       "      <th>3</th>\n",
       "      <td>8425275510085</td>\n",
       "      <td>Aceite de oliva virgen extra</td>\n",
       "      <td>en:plant-based-foods-and-beverages: 36.90%</td>\n",
       "      <td>en:plant-based-foods: 32.29%</td>\n",
       "      <td>en:beverages: 17.45%</td>\n",
       "    </tr>\n",
       "    <tr>\n",
       "      <th>4</th>\n",
       "      <td>4260193516047</td>\n",
       "      <td>Yörem Ayran</td>\n",
       "      <td>en:plant-based-foods-and-beverages: 30.26%</td>\n",
       "      <td>en:plant-based-foods: 26.39%</td>\n",
       "      <td>en:beverages: 12.39%</td>\n",
       "    </tr>\n",
       "    <tr>\n",
       "      <th>...</th>\n",
       "      <td>...</td>\n",
       "      <td>...</td>\n",
       "      <td>...</td>\n",
       "      <td>...</td>\n",
       "      <td>...</td>\n",
       "    </tr>\n",
       "    <tr>\n",
       "      <th>42875</th>\n",
       "      <td>2325616003473</td>\n",
       "      <td>Muslo de pato en confit</td>\n",
       "      <td>en:plant-based-foods-and-beverages: 27.41%</td>\n",
       "      <td>en:plant-based-foods: 24.06%</td>\n",
       "      <td>en:beverages: 10.70%</td>\n",
       "    </tr>\n",
       "    <tr>\n",
       "      <th>42876</th>\n",
       "      <td>8711542001906</td>\n",
       "      <td>Drop</td>\n",
       "      <td>en:snacks: 27.84%</td>\n",
       "      <td>en:sweet-snacks: 22.86%</td>\n",
       "      <td>en:plant-based-foods-and-beverages: 21.36%</td>\n",
       "    </tr>\n",
       "    <tr>\n",
       "      <th>42877</th>\n",
       "      <td>0754527010720</td>\n",
       "      <td>Xperimental IPA</td>\n",
       "      <td>en:plant-based-foods-and-beverages: 28.60%</td>\n",
       "      <td>en:plant-based-foods: 25.05%</td>\n",
       "      <td>en:beverages: 11.41%</td>\n",
       "    </tr>\n",
       "    <tr>\n",
       "      <th>42878</th>\n",
       "      <td>3596710347087</td>\n",
       "      <td>Fleur de sel de l'île de Ré recoltée à la main</td>\n",
       "      <td>en:plant-based-foods-and-beverages: 35.00%</td>\n",
       "      <td>en:plant-based-foods: 30.51%</td>\n",
       "      <td>en:beverages: 15.78%</td>\n",
       "    </tr>\n",
       "    <tr>\n",
       "      <th>42879</th>\n",
       "      <td>4006127000523</td>\n",
       "      <td></td>\n",
       "      <td>en:plant-based-foods-and-beverages: 25.88%</td>\n",
       "      <td>en:plant-based-foods: 22.71%</td>\n",
       "      <td>en:snacks: 10.94%</td>\n",
       "    </tr>\n",
       "  </tbody>\n",
       "</table>\n",
       "<p>42880 rows × 5 columns</p>\n",
       "</div>"
      ],
      "text/plain": [
       "                code                                    product_name  \\\n",
       "0      0637793029422                              Blueberry preserve   \n",
       "1      5400141381191                            Mousseline de pommes   \n",
       "2      3250392084080                                Choux-Fleurs Bio   \n",
       "3      8425275510085                    Aceite de oliva virgen extra   \n",
       "4      4260193516047                                     Yörem Ayran   \n",
       "...              ...                                             ...   \n",
       "42875  2325616003473                         Muslo de pato en confit   \n",
       "42876  8711542001906                                            Drop   \n",
       "42877  0754527010720                                 Xperimental IPA   \n",
       "42878  3596710347087  Fleur de sel de l'île de Ré recoltée à la main   \n",
       "42879  4006127000523                                                   \n",
       "\n",
       "                                 top prediction 1  \\\n",
       "0      en:plant-based-foods-and-beverages: 24.77%   \n",
       "1      en:plant-based-foods-and-beverages: 31.36%   \n",
       "2      en:plant-based-foods-and-beverages: 33.65%   \n",
       "3      en:plant-based-foods-and-beverages: 36.90%   \n",
       "4      en:plant-based-foods-and-beverages: 30.26%   \n",
       "...                                           ...   \n",
       "42875  en:plant-based-foods-and-beverages: 27.41%   \n",
       "42876                           en:snacks: 27.84%   \n",
       "42877  en:plant-based-foods-and-beverages: 28.60%   \n",
       "42878  en:plant-based-foods-and-beverages: 35.00%   \n",
       "42879  en:plant-based-foods-and-beverages: 25.88%   \n",
       "\n",
       "                   top prediction 2  \\\n",
       "0      en:plant-based-foods: 21.79%   \n",
       "1      en:plant-based-foods: 27.46%   \n",
       "2      en:plant-based-foods: 30.12%   \n",
       "3      en:plant-based-foods: 32.29%   \n",
       "4      en:plant-based-foods: 26.39%   \n",
       "...                             ...   \n",
       "42875  en:plant-based-foods: 24.06%   \n",
       "42876       en:sweet-snacks: 22.86%   \n",
       "42877  en:plant-based-foods: 25.05%   \n",
       "42878  en:plant-based-foods: 30.51%   \n",
       "42879  en:plant-based-foods: 22.71%   \n",
       "\n",
       "                                 top prediction 3  \n",
       "0                               en:snacks: 11.62%  \n",
       "1                            en:beverages: 13.28%  \n",
       "2                                en:meats: 11.77%  \n",
       "3                            en:beverages: 17.45%  \n",
       "4                            en:beverages: 12.39%  \n",
       "...                                           ...  \n",
       "42875                        en:beverages: 10.70%  \n",
       "42876  en:plant-based-foods-and-beverages: 21.36%  \n",
       "42877                        en:beverages: 11.41%  \n",
       "42878                        en:beverages: 15.78%  \n",
       "42879                           en:snacks: 10.94%  \n",
       "\n",
       "[42880 rows x 5 columns]"
      ]
     },
     "execution_count": 33,
     "metadata": {},
     "output_type": "execute_result"
    }
   ],
   "source": [
    "%%time\n",
    "\n",
    "# Same data, but pretty\n",
    "pred_table_test = top_predictions_table(top_preds_test)\n",
    "\n",
    "# Add some interpretable features to the final table\n",
    "# Table must be row-aligned with predictions above (= taken from same data sample)\n",
    "extra_cols_test = as_dataframe(select_features(ds_test, ['code', 'product_name']))\n",
    "\n",
    "pd.concat([extra_cols_test, pred_table_test], axis=1)"
   ]
  },
  {
   "cell_type": "code",
   "execution_count": 34,
   "id": "fb2d9a2d",
   "metadata": {
    "id": "fb2d9a2d",
    "outputId": "90dbfeb2-dcbb-4459-83fd-4da37ee23f1a"
   },
   "outputs": [
    {
     "data": {
      "text/plain": [
       "9.896983892725066e-06"
      ]
     },
     "execution_count": 34,
     "metadata": {},
     "output_type": "execute_result"
    }
   ],
   "source": [
    "# codecarbon - stop tracking\n",
    "tracker.stop()"
   ]
  }
 ],
 "metadata": {
  "colab": {
   "collapsed_sections": [],
   "name": "Copy of Train.ipynb",
   "provenance": []
  },
  "kernelspec": {
   "display_name": "Python 3",
   "language": "python",
   "name": "python3"
  },
  "language_info": {
   "codemirror_mode": {
    "name": "ipython",
    "version": 3
   },
   "file_extension": ".py",
   "mimetype": "text/x-python",
   "name": "python",
   "nbconvert_exporter": "python",
   "pygments_lexer": "ipython3",
   "version": "3.8.10"
  },
  "toc": {
   "base_numbering": 1,
   "nav_menu": {},
   "number_sections": false,
   "sideBar": true,
   "skip_h1_title": false,
   "title_cell": "Table of Contents",
   "title_sidebar": "Contents",
   "toc_cell": false,
   "toc_position": {},
   "toc_section_display": true,
   "toc_window_display": true
  }
 },
 "nbformat": 4,
 "nbformat_minor": 5
}
